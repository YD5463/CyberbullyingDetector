{
 "cells": [
  {
   "cell_type": "code",
   "execution_count": 8,
   "id": "1072034c",
   "metadata": {
    "ExecuteTime": {
     "end_time": "2021-12-26T15:37:04.919147Z",
     "start_time": "2021-12-26T15:36:59.963364Z"
    }
   },
   "outputs": [],
   "source": [
    "import pandas as pd\n",
    "import numpy as np\n",
    "import matplotlib.pyplot as plt\n",
    "import swifter\n",
    "from sklearn.model_selection import train_test_split\n",
    "import re\n",
    "import nltk\n",
    "from gensim.test.utils import common_texts\n",
    "from gensim.models.doc2vec import Doc2Vec, TaggedDocument\n",
    "import tensorflow as tf"
   ]
  },
  {
   "cell_type": "markdown",
   "id": "0be71440",
   "metadata": {},
   "source": [
    "## Word2Vec with CNN\n",
    "Each word will tranform by pretrained model to vector in size 300 so each instance is atually a matrix"
   ]
  },
  {
   "cell_type": "code",
   "execution_count": 9,
   "id": "a02e7920",
   "metadata": {
    "ExecuteTime": {
     "end_time": "2021-12-26T15:37:04.981162Z",
     "start_time": "2021-12-26T15:37:04.969146Z"
    }
   },
   "outputs": [],
   "source": [
    "import pandas as pd\n",
    "import numpy as np\n",
    "import matplotlib.pyplot as plt\n",
    "import swifter\n",
    "from sklearn.model_selection import train_test_split\n",
    "import re\n",
    "import nltk\n",
    "from gensim.test.utils import common_texts\n",
    "from gensim.models.doc2vec import Doc2Vec, TaggedDocument\n",
    "import tensorflow as tfa"
   ]
  },
  {
   "cell_type": "code",
   "execution_count": 10,
   "id": "52ce76f8",
   "metadata": {
    "ExecuteTime": {
     "end_time": "2021-12-26T15:37:05.044308Z",
     "start_time": "2021-12-26T15:37:05.032259Z"
    }
   },
   "outputs": [],
   "source": [
    "NUM_WORKERS = 8\n",
    "TEST_SIZE = 0.3\n",
    "LABEL_COLUMN_NAME = \"oh_label\"\n",
    "TEXT_COLUMN_NAME = \"Text\"\n",
    "DATASET_PATH = \"../Data/ver1.csv\""
   ]
  },
  {
   "cell_type": "code",
   "execution_count": 11,
   "id": "d73e000b",
   "metadata": {
    "ExecuteTime": {
     "end_time": "2021-12-26T15:37:06.136635Z",
     "start_time": "2021-12-26T15:37:05.094340Z"
    }
   },
   "outputs": [],
   "source": [
    "df= pd.read_csv(DATASET_PATH, index_col=False)\n",
    "df = df.dropna()\n",
    "df.drop([\"Unnamed: 0\", \"index\"],axis=1, inplace = True)"
   ]
  },
  {
   "cell_type": "code",
   "execution_count": 12,
   "id": "9a8f25f6",
   "metadata": {
    "ExecuteTime": {
     "end_time": "2021-12-26T15:37:06.639420Z",
     "start_time": "2021-12-26T15:37:06.202608Z"
    }
   },
   "outputs": [
    {
     "name": "stdout",
     "output_type": "stream",
     "text": [
      "['fasttext-wiki-news-subwords-300', 'conceptnet-numberbatch-17-06-300', 'word2vec-ruscorpora-300', 'word2vec-google-news-300', 'glove-wiki-gigaword-50', 'glove-wiki-gigaword-100', 'glove-wiki-gigaword-200', 'glove-wiki-gigaword-300', 'glove-twitter-25', 'glove-twitter-50', 'glove-twitter-100', 'glove-twitter-200', '__testing_word2vec-matrix-synopsis']\n"
     ]
    }
   ],
   "source": [
    "import gensim.downloader\n",
    "print(list(gensim.downloader.info()['models'].keys()))"
   ]
  },
  {
   "cell_type": "code",
   "execution_count": 2,
   "id": "cab4c078",
   "metadata": {
    "ExecuteTime": {
     "end_time": "2021-12-26T15:29:19.296046Z",
     "start_time": "2021-12-26T15:26:16.323090Z"
    }
   },
   "outputs": [
    {
     "name": "stdout",
     "output_type": "stream",
     "text": [
      "[==================================================] 100.0% 199.5/199.5MB downloaded\n"
     ]
    }
   ],
   "source": [
    "import gensim.downloader\n",
    "#glove-twitter-200\n",
    "glove_vectors = gensim.downloader.load('glove-twitter-50')"
   ]
  },
  {
   "cell_type": "code",
   "execution_count": 3,
   "id": "1f1bad68",
   "metadata": {
    "ExecuteTime": {
     "end_time": "2021-12-26T15:35:27.274356Z",
     "start_time": "2021-12-26T15:35:23.012868Z"
    }
   },
   "outputs": [],
   "source": [
    "import swifter\n",
    "import re\n",
    "import nltk\n",
    "MAX_NUMBER_OF_WORDS = 50\n",
    "ENCODE_SIZE = 50\n",
    "\n",
    "def get_vector(word):\n",
    "    try:\n",
    "        return glove.get_vector(word)\n",
    "    except:\n",
    "        pass\n",
    "    return np.zeros((ENCODE_SIZE,))\n",
    "\n",
    "def precoess_row(text):\n",
    "    vec = np.array([get_vector(word) for word in nltk.word_tokenize(re.sub(r'\\d+', '', text))])\n",
    "    if vec.shape[0] >= MAX_NUMBER_OF_WORDS:\n",
    "        vec = vec[:MAX_NUMBER_OF_WORDS,:]\n",
    "    else:\n",
    "        vec = np.vstack((vec,np.zeros((MAX_NUMBER_OF_WORDS-vec.shape[0],ENCODE_SIZE))))\n",
    "    return vec"
   ]
  },
  {
   "cell_type": "code",
   "execution_count": null,
   "id": "b72db202",
   "metadata": {
    "ExecuteTime": {
     "start_time": "2021-12-26T15:37:44.085Z"
    }
   },
   "outputs": [
    {
     "data": {
      "application/vnd.jupyter.widget-view+json": {
       "model_id": "e847f7db936c46d48071c674a9d7883c",
       "version_major": 2,
       "version_minor": 0
      },
      "text/plain": [
       "Pandas Apply:   0%|          | 0/100000 [00:00<?, ?it/s]"
      ]
     },
     "metadata": {},
     "output_type": "display_data"
    }
   ],
   "source": [
    "df[TEXT_COLUMN_NAME] = df[TEXT_COLUMN_NAME].swifter.apply(precoess_row)"
   ]
  },
  {
   "cell_type": "code",
   "execution_count": 4,
   "id": "c259786e",
   "metadata": {
    "ExecuteTime": {
     "end_time": "2021-12-26T15:35:27.695334Z",
     "start_time": "2021-12-26T15:35:27.325355Z"
    }
   },
   "outputs": [
    {
     "ename": "NameError",
     "evalue": "name 'df' is not defined",
     "output_type": "error",
     "traceback": [
      "\u001b[1;31m---------------------------------------------------------------------------\u001b[0m",
      "\u001b[1;31mNameError\u001b[0m                                 Traceback (most recent call last)",
      "\u001b[1;32m<ipython-input-4-aed495bb2235>\u001b[0m in \u001b[0;36m<module>\u001b[1;34m\u001b[0m\n\u001b[0;32m      1\u001b[0m \u001b[1;32mfrom\u001b[0m \u001b[0msklearn\u001b[0m\u001b[1;33m.\u001b[0m\u001b[0mmodel_selection\u001b[0m \u001b[1;32mimport\u001b[0m \u001b[0mtrain_test_split\u001b[0m\u001b[1;33m\u001b[0m\u001b[1;33m\u001b[0m\u001b[0m\n\u001b[1;32m----> 2\u001b[1;33m \u001b[0mX\u001b[0m\u001b[1;33m,\u001b[0m\u001b[0my\u001b[0m \u001b[1;33m=\u001b[0m \u001b[0mdf\u001b[0m\u001b[1;33m[\u001b[0m\u001b[1;34m'Text'\u001b[0m\u001b[1;33m]\u001b[0m\u001b[1;33m,\u001b[0m\u001b[0mdf\u001b[0m\u001b[1;33m[\u001b[0m\u001b[0mLABEL_COLUMN_NAME\u001b[0m\u001b[1;33m]\u001b[0m\u001b[1;33m\u001b[0m\u001b[1;33m\u001b[0m\u001b[0m\n\u001b[0m\u001b[0;32m      3\u001b[0m \u001b[0mx_train\u001b[0m\u001b[1;33m,\u001b[0m\u001b[0mx_test\u001b[0m\u001b[1;33m,\u001b[0m \u001b[0my_train\u001b[0m\u001b[1;33m,\u001b[0m\u001b[0my_test\u001b[0m \u001b[1;33m=\u001b[0m \u001b[0mtrain_test_split\u001b[0m\u001b[1;33m(\u001b[0m\u001b[0mX\u001b[0m\u001b[1;33m,\u001b[0m\u001b[0my\u001b[0m\u001b[1;33m,\u001b[0m \u001b[0mtest_size\u001b[0m\u001b[1;33m=\u001b[0m\u001b[1;36m0.30\u001b[0m\u001b[1;33m,\u001b[0m \u001b[0mrandom_state\u001b[0m\u001b[1;33m=\u001b[0m\u001b[1;36m42\u001b[0m\u001b[1;33m)\u001b[0m\u001b[1;33m\u001b[0m\u001b[1;33m\u001b[0m\u001b[0m\n\u001b[0;32m      4\u001b[0m \u001b[0mx_test\u001b[0m\u001b[1;33m,\u001b[0m\u001b[0mx_val\u001b[0m\u001b[1;33m,\u001b[0m\u001b[0my_test\u001b[0m\u001b[1;33m,\u001b[0m\u001b[0my_val\u001b[0m \u001b[1;33m=\u001b[0m \u001b[0mtrain_test_split\u001b[0m\u001b[1;33m(\u001b[0m\u001b[0mx_test\u001b[0m\u001b[1;33m,\u001b[0m\u001b[0my_test\u001b[0m\u001b[1;33m,\u001b[0m \u001b[0mtest_size\u001b[0m\u001b[1;33m=\u001b[0m\u001b[1;36m0.50\u001b[0m\u001b[1;33m,\u001b[0m \u001b[0mrandom_state\u001b[0m\u001b[1;33m=\u001b[0m\u001b[1;36m42\u001b[0m\u001b[1;33m)\u001b[0m\u001b[1;33m\u001b[0m\u001b[1;33m\u001b[0m\u001b[0m\n",
      "\u001b[1;31mNameError\u001b[0m: name 'df' is not defined"
     ]
    }
   ],
   "source": [
    "from sklearn.model_selection import train_test_split\n",
    "X,y = df['Text'],df[LABEL_COLUMN_NAME]\n",
    "x_train,x_test, y_train,y_test = train_test_split(X,y, test_size=0.30, random_state=42)\n",
    "x_test,x_val,y_test,y_val = train_test_split(x_test,y_test, test_size=0.50, random_state=42)"
   ]
  },
  {
   "cell_type": "code",
   "execution_count": 14,
   "id": "2563ae0f",
   "metadata": {},
   "outputs": [
    {
     "name": "stdout",
     "output_type": "stream",
     "text": [
      "{0: 0.26771, 1: 0.73229}\n"
     ]
    },
    {
     "data": {
      "image/png": "[encoded data removed]",
      "text/plain": [
       "<Figure size 432x288 with 1 Axes>"
      ]
     },
     "metadata": {},
     "output_type": "display_data"
    }
   ],
   "source": [
    "plt.pie(y.value_counts())\n",
    "x_neg_weight = y[y==1].shape\n",
    "x_pos_weight = y[y==0].shape\n",
    "x_neg_weight[0]/x_pos_weight[0]\n",
    "weights = {0: (x_neg_weight[0]/(x_pos_weight[0]+x_neg_weight[0])),1: (x_pos_weight[0]/(x_pos_weight[0]+x_neg_weight[0]))}\n",
    "print(weights)"
   ]
  },
  {
   "cell_type": "code",
   "execution_count": 32,
   "id": "b78dfccb",
   "metadata": {},
   "outputs": [
    {
     "name": "stdout",
     "output_type": "stream",
     "text": [
      "Model: \"sequential_15\"\n",
      "_________________________________________________________________\n",
      "Layer (type)                 Output Shape              Param #   \n",
      "=================================================================\n",
      "conv2d_20 (Conv2D)           (None, 1996, 300, 10)     60        \n",
      "_________________________________________________________________\n",
      "max_pooling2d_12 (MaxPooling (None, 399, 300, 10)      0         \n",
      "_________________________________________________________________\n",
      "conv2d_21 (Conv2D)           (None, 390, 300, 1)       101       \n",
      "_________________________________________________________________\n",
      "max_pooling2d_13 (MaxPooling (None, 39, 300, 1)        0         \n",
      "_________________________________________________________________\n",
      "dropout (Dropout)            (None, 39, 300, 1)        0         \n",
      "_________________________________________________________________\n",
      "flatten_6 (Flatten)          (None, 11700)             0         \n",
      "_________________________________________________________________\n",
      "dense_16 (Dense)             (None, 500)               5850500   \n",
      "_________________________________________________________________\n",
      "dense_17 (Dense)             (None, 100)               50100     \n",
      "_________________________________________________________________\n",
      "dense_18 (Dense)             (None, 1)                 101       \n",
      "=================================================================\n",
      "Total params: 5,900,862\n",
      "Trainable params: 5,900,862\n",
      "Non-trainable params: 0\n",
      "_________________________________________________________________\n"
     ]
    }
   ],
   "source": [
    "from tensorflow.keras.models import Sequential,Model\n",
    "from tensorflow.keras.layers import Dense,MaxPool1D,Flatten,Conv2D,Dropout,MaxPooling2D\n",
    "model = Sequential()\n",
    "model.add(Conv2D(10,(5,1), use_bias=True,padding=\"valid\",input_shape=(2000,300,1)))\n",
    "model.add(MaxPooling2D(pool_size=(5,1),padding='valid'))\n",
    "model.add(Conv2D(1,(10,1), use_bias=True,padding=\"valid\",input_shape=(2000,300,1)))\n",
    "model.add(MaxPooling2D(pool_size=(10,1),padding='valid'))\n",
    "model.add(Dropout(0.3))\n",
    "model.add(Flatten())\n",
    "model.add(Dense(500, activation=\"relu\"))\n",
    "model.add(Dense(100, activation=\"relu\"))\n",
    "model.add(Dense(1, activation=\"sigmoid\"))\n",
    "model.compile(loss=tf.keras.losses.BinaryCrossentropy(), optimizer=tf.keras.optimizers.Adam(learning_rate=0.001),metrics=[\"accuracy\",tf.keras.metrics.Recall(),tf.keras.metrics.Precision()])\n",
    "model.summary()"
   ]
  },
  {
   "cell_type": "code",
   "execution_count": null,
   "id": "5ee6c838",
   "metadata": {},
   "outputs": [],
   "source": [
    "callback = tf.keras.callbacks.EarlyStopping(monitor='loss', patience=20)\n",
    "history = model.fit(x_train,y_train,batch_size=200,epochs=500,\n",
    "                    validation_split=0.05,class_weight=weights.to_dict(),\n",
    "                    use_multiprocessing=True,workers=NUM_WORKERS,callbacks=[])"
   ]
  },
  {
   "cell_type": "code",
   "execution_count": 62,
   "id": "63eef529",
   "metadata": {
    "ExecuteTime": {
     "end_time": "2021-12-19T07:29:25.100505Z",
     "start_time": "2021-12-19T07:28:39.950701Z"
    }
   },
   "outputs": [
    {
     "data": {
      "application/vnd.jupyter.widget-view+json": {
       "model_id": "14c151097dd1473ca0c3170b72e0d6c8",
       "version_major": 2,
       "version_minor": 0
      },
      "text/plain": [
       "Pandas Apply:   0%|          | 0/100000 [00:00<?, ?it/s]"
      ]
     },
     "metadata": {},
     "output_type": "display_data"
    },
    {
     "data": {
      "text/plain": [
       "<matplotlib.collections.PathCollection at 0x1d12f3b8ee0>"
      ]
     },
     "execution_count": 62,
     "metadata": {},
     "output_type": "execute_result"
    },
    {
     "data": {
      "image/png": "[encoded data removed]",
      "text/plain": [
       "<Figure size 432x288 with 1 Axes>"
      ]
     },
     "metadata": {
      "needs_background": "light"
     },
     "output_type": "display_data"
    }
   ],
   "source": [
    "plt.scatter(list(range(df.shape[0])),df[\"Text\"].swifter.apply(lambda text: len(nltk.word_tokenize(text))).values)"
   ]
  },
  {
   "cell_type": "code",
   "execution_count": 58,
   "id": "4aee0fda",
   "metadata": {
    "ExecuteTime": {
     "end_time": "2021-12-19T07:25:25.948870Z",
     "start_time": "2021-12-19T07:25:25.774669Z"
    }
   },
   "outputs": [
    {
     "name": "stdout",
     "output_type": "stream",
     "text": [
      "Model: \"sequential_23\"\n",
      "_________________________________________________________________\n",
      "Layer (type)                 Output Shape              Param #   \n",
      "=================================================================\n",
      "bidirectional_2 (Bidirection (None, 96)                19200     \n",
      "_________________________________________________________________\n",
      "dense_37 (Dense)             (None, 24)                2328      \n",
      "_________________________________________________________________\n",
      "dense_38 (Dense)             (None, 1)                 25        \n",
      "=================================================================\n",
      "Total params: 21,553\n",
      "Trainable params: 21,553\n",
      "Non-trainable params: 0\n",
      "_________________________________________________________________\n"
     ]
    }
   ],
   "source": [
    "model = Sequential()\n",
    "model.add(Bidirectional(LSTM(48,recurrent_dropout=0.5),input_shape=(200,1)))\n",
    "model.add(Dense(24, activation=\"relu\"))\n",
    "model.add(Dense(1, activation=\"sigmoid\"))\n",
    "model.compile(loss=\"binary_crossentropy\", optimizer='adam',metrics=[\"accuracy\"])\n",
    "model.summary()"
   ]
  },
  {
   "cell_type": "code",
   "execution_count": null,
   "id": "2a10e44f",
   "metadata": {},
   "outputs": [],
   "source": [
    "callback = tf.keras.callbacks.EarlyStopping(monitor='loss', patience=20)\n",
    "history = model.fit(x_train.squeeze(),y_train,batch_size=200,epochs=100,\n",
    "                    validation_split=0.05,class_weight=weights.to_dict(),\n",
    "                    use_multiprocessing=True,workers=NUM_WORKERS,callbacks=[callback])"
   ]
  }
 ],
 "metadata": {
  "kernelspec": {
   "display_name": "Python 3",
   "language": "python",
   "name": "python3"
  },
  "language_info": {
   "codemirror_mode": {
    "name": "ipython",
    "version": 3
   },
   "file_extension": ".py",
   "mimetype": "text/x-python",
   "name": "python",
   "nbconvert_exporter": "python",
   "pygments_lexer": "ipython3",
   "version": "3.8.8"
  },
  "toc": {
   "base_numbering": 1,
   "nav_menu": {},
   "number_sections": true,
   "sideBar": true,
   "skip_h1_title": false,
   "title_cell": "Table of Contents",
   "title_sidebar": "Contents",
   "toc_cell": false,
   "toc_position": {},
   "toc_section_display": true,
   "toc_window_display": false
  },
  "varInspector": {
   "cols": {
    "lenName": 16,
    "lenType": 16,
    "lenVar": 40
   },
   "kernels_config": {
    "python": {
     "delete_cmd_postfix": "",
     "delete_cmd_prefix": "del ",
     "library": "var_list.py",
     "varRefreshCmd": "print(var_dic_list())"
    },
    "r": {
     "delete_cmd_postfix": ") ",
     "delete_cmd_prefix": "rm(",
     "library": "var_list.r",
     "varRefreshCmd": "cat(var_dic_list()) "
    }
   },
   "types_to_exclude": [
    "module",
    "function",
    "builtin_function_or_method",
    "instance",
    "_Feature"
   ],
   "window_display": false
  }
 },
 "nbformat": 4,
 "nbformat_minor": 5
}
