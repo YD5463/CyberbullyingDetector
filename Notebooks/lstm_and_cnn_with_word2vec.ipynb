{
 "cells": [
  {
   "cell_type": "code",
   "execution_count": 5,
   "id": "1072034c",
   "metadata": {
    "ExecuteTime": {
     "end_time": "2021-12-26T18:10:11.092599Z",
     "start_time": "2021-12-26T18:10:11.075684Z"
    }
   },
   "outputs": [],
   "source": [
    "import pandas as pd\n",
    "import numpy as np\n",
    "import matplotlib.pyplot as plt\n",
    "import swifter\n",
    "from sklearn.model_selection import train_test_split\n",
    "import re\n",
    "import nltk\n",
    "from gensim.test.utils import common_texts\n",
    "from gensim.models.doc2vec import Doc2Vec, TaggedDocument\n",
    "import tensorflow as tf"
   ]
  },
  {
   "cell_type": "markdown",
   "id": "0be71440",
   "metadata": {},
   "source": [
    "## Word2Vec with CNN\n",
    "Each word will tranform by pretrained model to vector in size 300 so each instance is atually a matrix"
   ]
  },
  {
   "cell_type": "code",
   "execution_count": 6,
   "id": "a02e7920",
   "metadata": {
    "ExecuteTime": {
     "end_time": "2021-12-26T18:10:12.054241Z",
     "start_time": "2021-12-26T18:10:12.036081Z"
    }
   },
   "outputs": [],
   "source": [
    "import pandas as pd\n",
    "import numpy as np\n",
    "import matplotlib.pyplot as plt\n",
    "import swifter\n",
    "from sklearn.model_selection import train_test_split\n",
    "import re\n",
    "import nltk\n",
    "from gensim.test.utils import common_texts\n",
    "from gensim.models.doc2vec import Doc2Vec, TaggedDocument\n",
    "import tensorflow as tfa"
   ]
  },
  {
   "cell_type": "code",
   "execution_count": 7,
   "id": "52ce76f8",
   "metadata": {
    "ExecuteTime": {
     "end_time": "2021-12-26T18:10:22.490681Z",
     "start_time": "2021-12-26T18:10:22.478680Z"
    }
   },
   "outputs": [],
   "source": [
    "NUM_WORKERS = 8\n",
    "TEST_SIZE = 0.3\n",
    "LABEL_COLUMN_NAME = \"oh_label\"\n",
    "TEXT_COLUMN_NAME = \"Text\"\n",
    "DATASET_PATH = \"../Data/ver1.csv\""
   ]
  },
  {
   "cell_type": "code",
   "execution_count": 8,
   "id": "d73e000b",
   "metadata": {
    "ExecuteTime": {
     "end_time": "2021-12-26T18:10:42.883605Z",
     "start_time": "2021-12-26T18:10:42.363585Z"
    }
   },
   "outputs": [],
   "source": [
    "df= pd.read_csv(DATASET_PATH, index_col=False)\n",
    "df = df.dropna()\n",
    "df.drop([\"Unnamed: 0\", \"index\"],axis=1, inplace = True)"
   ]
  },
  {
   "cell_type": "code",
   "execution_count": 9,
   "id": "9a8f25f6",
   "metadata": {
    "ExecuteTime": {
     "end_time": "2021-12-26T18:10:44.309493Z",
     "start_time": "2021-12-26T18:10:43.915356Z"
    }
   },
   "outputs": [
    {
     "name": "stdout",
     "output_type": "stream",
     "text": [
      "['fasttext-wiki-news-subwords-300', 'conceptnet-numberbatch-17-06-300', 'word2vec-ruscorpora-300', 'word2vec-google-news-300', 'glove-wiki-gigaword-50', 'glove-wiki-gigaword-100', 'glove-wiki-gigaword-200', 'glove-wiki-gigaword-300', 'glove-twitter-25', 'glove-twitter-50', 'glove-twitter-100', 'glove-twitter-200', '__testing_word2vec-matrix-synopsis']\n"
     ]
    }
   ],
   "source": [
    "import gensim.downloader\n",
    "print(list(gensim.downloader.info()['models'].keys()))"
   ]
  },
  {
   "cell_type": "code",
   "execution_count": 10,
   "id": "cab4c078",
   "metadata": {
    "ExecuteTime": {
     "end_time": "2021-12-26T18:11:49.940094Z",
     "start_time": "2021-12-26T18:10:45.677045Z"
    }
   },
   "outputs": [],
   "source": [
    "import gensim.downloader\n",
    "#glove-twitter-200\n",
    "glove_vectors = gensim.downloader.load('glove-twitter-50')"
   ]
  },
  {
   "cell_type": "code",
   "execution_count": 11,
   "id": "1f1bad68",
   "metadata": {
    "ExecuteTime": {
     "end_time": "2021-12-26T18:11:49.988079Z",
     "start_time": "2021-12-26T18:11:49.974060Z"
    }
   },
   "outputs": [],
   "source": [
    "import swifter\n",
    "import re\n",
    "import nltk\n",
    "import string\n",
    "\n",
    "MAX_NUMBER_OF_WORDS = 50\n",
    "ENCODE_SIZE = 50\n",
    "def remove_punct(text):\n",
    "    text_nopunct = ''\n",
    "    text_nopunct = re.sub('['+string.punctuation+']', '', text)\n",
    "    return text_nopunct\n",
    "\n",
    "def get_vector(word):\n",
    "    try:\n",
    "        return glove_vectors.get_vector(word)\n",
    "    except Exception as e:\n",
    "#         print(e)\n",
    "        pass\n",
    "    return np.zeros((ENCODE_SIZE,))\n",
    "\n",
    "def precoess_row(text):\n",
    "    text = remove_punct(re.sub(r'\\d+', 'number', text))\n",
    "    vec = np.array([get_vector(word.lower()) for word in nltk.word_tokenize(text)])\n",
    "    if vec.shape[0] == 0:\n",
    "        return np.nan\n",
    "    if vec.shape[0] >= MAX_NUMBER_OF_WORDS:\n",
    "        vec = vec[:MAX_NUMBER_OF_WORDS,:]\n",
    "    else:\n",
    "        vec = np.vstack((vec,np.zeros((MAX_NUMBER_OF_WORDS-vec.shape[0],ENCODE_SIZE))))\n",
    "    return vec"
   ]
  },
  {
   "cell_type": "code",
   "execution_count": 12,
   "id": "ea20fe6a",
   "metadata": {
    "ExecuteTime": {
     "end_time": "2021-12-26T18:12:26.158641Z",
     "start_time": "2021-12-26T18:11:50.021064Z"
    }
   },
   "outputs": [
    {
     "data": {
      "application/vnd.jupyter.widget-view+json": {
       "model_id": "f6c24585f93e44d8ba16ea97395f1952",
       "version_major": 2,
       "version_minor": 0
      },
      "text/plain": [
       "Pandas Apply:   0%|          | 0/100000 [00:00<?, ?it/s]"
      ]
     },
     "metadata": {},
     "output_type": "display_data"
    }
   ],
   "source": [
    "df[TEXT_COLUMN_NAME] = df[TEXT_COLUMN_NAME].swifter.apply(precoess_row)"
   ]
  },
  {
   "cell_type": "code",
   "execution_count": 13,
   "id": "aeb6ae1e",
   "metadata": {
    "ExecuteTime": {
     "end_time": "2021-12-26T18:12:26.812621Z",
     "start_time": "2021-12-26T18:12:26.479621Z"
    }
   },
   "outputs": [
    {
     "data": {
      "text/html": [
       "<div>\n",
       "<style scoped>\n",
       "    .dataframe tbody tr th:only-of-type {\n",
       "        vertical-align: middle;\n",
       "    }\n",
       "\n",
       "    .dataframe tbody tr th {\n",
       "        vertical-align: top;\n",
       "    }\n",
       "\n",
       "    .dataframe thead th {\n",
       "        text-align: right;\n",
       "    }\n",
       "</style>\n",
       "<table border=\"1\" class=\"dataframe\">\n",
       "  <thead>\n",
       "    <tr style=\"text-align: right;\">\n",
       "      <th></th>\n",
       "      <th>Text</th>\n",
       "      <th>oh_label</th>\n",
       "    </tr>\n",
       "  </thead>\n",
       "  <tbody>\n",
       "    <tr>\n",
       "      <th>0</th>\n",
       "      <td>[[0.12588000297546387, 0.7006199955940247, 0.1...</td>\n",
       "      <td>1.0</td>\n",
       "    </tr>\n",
       "    <tr>\n",
       "      <th>1</th>\n",
       "      <td>[[0.7857599854469299, 0.4212400019168854, 0.52...</td>\n",
       "      <td>0.0</td>\n",
       "    </tr>\n",
       "    <tr>\n",
       "      <th>2</th>\n",
       "      <td>[[1.1221, 0.28682, -0.29652, -0.044516, -0.406...</td>\n",
       "      <td>1.0</td>\n",
       "    </tr>\n",
       "    <tr>\n",
       "      <th>3</th>\n",
       "      <td>[[-0.04314799979329109, 0.5039299726486206, 0....</td>\n",
       "      <td>0.0</td>\n",
       "    </tr>\n",
       "    <tr>\n",
       "      <th>4</th>\n",
       "      <td>[[0.9228399991989136, 0.20556999742984772, 0.4...</td>\n",
       "      <td>1.0</td>\n",
       "    </tr>\n",
       "    <tr>\n",
       "      <th>...</th>\n",
       "      <td>...</td>\n",
       "      <td>...</td>\n",
       "    </tr>\n",
       "    <tr>\n",
       "      <th>99995</th>\n",
       "      <td>[[0.0, 0.0, 0.0, 0.0, 0.0, 0.0, 0.0, 0.0, 0.0,...</td>\n",
       "      <td>0.0</td>\n",
       "    </tr>\n",
       "    <tr>\n",
       "      <th>99996</th>\n",
       "      <td>[[0.6702499985694885, 0.701479971408844, -0.11...</td>\n",
       "      <td>0.0</td>\n",
       "    </tr>\n",
       "    <tr>\n",
       "      <th>99997</th>\n",
       "      <td>[[-0.17872999608516693, -0.5389800071716309, -...</td>\n",
       "      <td>0.0</td>\n",
       "    </tr>\n",
       "    <tr>\n",
       "      <th>99998</th>\n",
       "      <td>[[0.0, 0.0, 0.0, 0.0, 0.0, 0.0, 0.0, 0.0, 0.0,...</td>\n",
       "      <td>0.0</td>\n",
       "    </tr>\n",
       "    <tr>\n",
       "      <th>99999</th>\n",
       "      <td>[[0.5795300006866455, 0.3550199866294861, 0.57...</td>\n",
       "      <td>0.0</td>\n",
       "    </tr>\n",
       "  </tbody>\n",
       "</table>\n",
       "<p>99988 rows × 2 columns</p>\n",
       "</div>"
      ],
      "text/plain": [
       "                                                    Text  oh_label\n",
       "0      [[0.12588000297546387, 0.7006199955940247, 0.1...       1.0\n",
       "1      [[0.7857599854469299, 0.4212400019168854, 0.52...       0.0\n",
       "2      [[1.1221, 0.28682, -0.29652, -0.044516, -0.406...       1.0\n",
       "3      [[-0.04314799979329109, 0.5039299726486206, 0....       0.0\n",
       "4      [[0.9228399991989136, 0.20556999742984772, 0.4...       1.0\n",
       "...                                                  ...       ...\n",
       "99995  [[0.0, 0.0, 0.0, 0.0, 0.0, 0.0, 0.0, 0.0, 0.0,...       0.0\n",
       "99996  [[0.6702499985694885, 0.701479971408844, -0.11...       0.0\n",
       "99997  [[-0.17872999608516693, -0.5389800071716309, -...       0.0\n",
       "99998  [[0.0, 0.0, 0.0, 0.0, 0.0, 0.0, 0.0, 0.0, 0.0,...       0.0\n",
       "99999  [[0.5795300006866455, 0.3550199866294861, 0.57...       0.0\n",
       "\n",
       "[99988 rows x 2 columns]"
      ]
     },
     "execution_count": 13,
     "metadata": {},
     "output_type": "execute_result"
    }
   ],
   "source": [
    "lst = []\n",
    "ignored = []\n",
    "for i,a in enumerate(df[TEXT_COLUMN_NAME]):\n",
    "    try:\n",
    "        if a.shape == (50,50):\n",
    "            lst.append(a)\n",
    "    except:\n",
    "        ignored.append(i)\n",
    "df = df.drop(ignored)"
   ]
  },
  {
   "cell_type": "code",
   "execution_count": 22,
   "id": "5b744b37",
   "metadata": {
    "ExecuteTime": {
     "end_time": "2021-12-26T18:23:37.363312Z",
     "start_time": "2021-12-26T18:23:37.347308Z"
    }
   },
   "outputs": [],
   "source": [
    "X = np.stack(lst)\n",
    "y = df[LABEL_COLUMN_NAME]"
   ]
  },
  {
   "cell_type": "code",
   "execution_count": 23,
   "id": "46a49464",
   "metadata": {
    "ExecuteTime": {
     "end_time": "2021-12-26T18:24:33.094261Z",
     "start_time": "2021-12-26T18:24:33.089552Z"
    }
   },
   "outputs": [
    {
     "data": {
      "text/plain": [
       "((99988, 50, 50), (99988,))"
      ]
     },
     "execution_count": 23,
     "metadata": {},
     "output_type": "execute_result"
    }
   ],
   "source": [
    "X.shape,y.shape"
   ]
  },
  {
   "cell_type": "code",
   "execution_count": 29,
   "id": "c259786e",
   "metadata": {
    "ExecuteTime": {
     "end_time": "2021-12-26T18:34:24.726989Z",
     "start_time": "2021-12-26T18:34:24.015000Z"
    }
   },
   "outputs": [],
   "source": [
    "from sklearn.model_selection import train_test_split\n",
    "x_train,x_test, y_train,y_test = train_test_split(X,y, test_size=0.25, random_state=42)"
   ]
  },
  {
   "cell_type": "code",
   "execution_count": 31,
   "id": "2563ae0f",
   "metadata": {
    "ExecuteTime": {
     "end_time": "2021-12-26T18:35:25.845945Z",
     "start_time": "2021-12-26T18:35:25.762563Z"
    }
   },
   "outputs": [
    {
     "name": "stdout",
     "output_type": "stream",
     "text": [
      "{0: 0.26774212905548667, 1: 0.7322578709445133}\n"
     ]
    },
    {
     "data": {
      "image/png": "[encoded data removed]",
      "text/plain": [
       "<Figure size 432x288 with 1 Axes>"
      ]
     },
     "metadata": {},
     "output_type": "display_data"
    }
   ],
   "source": [
    "plt.pie(y.value_counts())\n",
    "x_neg_weight = y[y==1].shape\n",
    "x_pos_weight = y[y==0].shape\n",
    "x_neg_weight[0]/x_pos_weight[0]\n",
    "weights = {0: (x_neg_weight[0]/(x_pos_weight[0]+x_neg_weight[0])),1: (x_pos_weight[0]/(x_pos_weight[0]+x_neg_weight[0]))}\n",
    "print(weights)"
   ]
  },
  {
   "cell_type": "code",
   "execution_count": 57,
   "id": "b78dfccb",
   "metadata": {
    "ExecuteTime": {
     "end_time": "2021-12-26T19:47:10.263615Z",
     "start_time": "2021-12-26T19:47:10.187611Z"
    }
   },
   "outputs": [
    {
     "name": "stdout",
     "output_type": "stream",
     "text": [
      "Model: \"sequential_11\"\n",
      "_________________________________________________________________\n",
      "Layer (type)                 Output Shape              Param #   \n",
      "=================================================================\n",
      "conv2d_19 (Conv2D)           (None, 48, 48, 5)         50        \n",
      "_________________________________________________________________\n",
      "max_pooling2d_16 (MaxPooling (None, 24, 24, 5)         0         \n",
      "_________________________________________________________________\n",
      "dropout_8 (Dropout)          (None, 24, 24, 5)         0         \n",
      "_________________________________________________________________\n",
      "conv2d_20 (Conv2D)           (None, 22, 22, 10)        460       \n",
      "_________________________________________________________________\n",
      "max_pooling2d_17 (MaxPooling (None, 11, 11, 10)        0         \n",
      "_________________________________________________________________\n",
      "dropout_9 (Dropout)          (None, 11, 11, 10)        0         \n",
      "_________________________________________________________________\n",
      "flatten_8 (Flatten)          (None, 1210)              0         \n",
      "_________________________________________________________________\n",
      "dense_22 (Dense)             (None, 500)               605500    \n",
      "_________________________________________________________________\n",
      "dropout_10 (Dropout)         (None, 500)               0         \n",
      "_________________________________________________________________\n",
      "dense_23 (Dense)             (None, 100)               50100     \n",
      "_________________________________________________________________\n",
      "dense_24 (Dense)             (None, 1)                 101       \n",
      "=================================================================\n",
      "Total params: 656,211\n",
      "Trainable params: 656,211\n",
      "Non-trainable params: 0\n",
      "_________________________________________________________________\n"
     ]
    }
   ],
   "source": [
    "from tensorflow.keras.models import Sequential,Model\n",
    "from tensorflow.keras.layers import Dense,MaxPool1D,Flatten,Conv2D,Dropout,MaxPooling2D\n",
    "model = Sequential()\n",
    "model.add(Conv2D(5,(3,3), use_bias=True,padding=\"valid\",input_shape=(50,50,1)))\n",
    "model.add(MaxPooling2D(pool_size=(2,2),padding='valid'))\n",
    "model.add(Dropout(0.2))\n",
    "model.add(Conv2D(10,(3,3), use_bias=True,padding=\"valid\"))\n",
    "model.add(MaxPooling2D(pool_size=(2,2),padding='valid'))\n",
    "model.add(Dropout(0.3))\n",
    "model.add(Flatten())\n",
    "model.add(Dense(500, activation=\"relu\"))\n",
    "model.add(Dropout(0.3))\n",
    "model.add(Dense(100, activation=\"relu\"))\n",
    "model.add(Dense(1, activation=\"sigmoid\"))\n",
    "model.compile(loss=tf.keras.losses.BinaryCrossentropy(), optimizer=tf.keras.optimizers.Adam(learning_rate=0.001),metrics=[\"accuracy\",tf.keras.metrics.Recall(),tf.keras.metrics.Precision()])\n",
    "model.summary()"
   ]
  },
  {
   "cell_type": "code",
   "execution_count": 40,
   "id": "2982d38a",
   "metadata": {
    "ExecuteTime": {
     "end_time": "2021-12-26T18:41:18.870696Z",
     "start_time": "2021-12-26T18:41:18.853708Z"
    }
   },
   "outputs": [
    {
     "data": {
      "text/plain": [
       "((74991, 50, 50, 1), (74991,))"
      ]
     },
     "execution_count": 40,
     "metadata": {},
     "output_type": "execute_result"
    }
   ],
   "source": [
    "np.expand_dims(x_train,axis=-1).shape,y_train.shape"
   ]
  },
  {
   "cell_type": "code",
   "execution_count": 58,
   "id": "5ee6c838",
   "metadata": {
    "ExecuteTime": {
     "end_time": "2021-12-26T21:39:45.172883Z",
     "start_time": "2021-12-26T19:48:18.714157Z"
    }
   },
   "outputs": [
    {
     "name": "stdout",
     "output_type": "stream",
     "text": [
      "Epoch 1/2000\n",
      "357/357 [==============================] - 20s 54ms/step - loss: 0.2106 - accuracy: 0.7178 - recall_8: 0.7361 - precision_8: 0.4829 - val_loss: 0.4781 - val_accuracy: 0.7725 - val_recall_8: 0.8219 - val_precision_8: 0.5418\n",
      "Epoch 2/2000\n",
      "357/357 [==============================] - 19s 52ms/step - loss: 0.1843 - accuracy: 0.7754 - recall_8: 0.7736 - precision_8: 0.5587 - val_loss: 0.4807 - val_accuracy: 0.7675 - val_recall_8: 0.8547 - val_precision_8: 0.5335\n",
      "Epoch 3/2000\n",
      "357/357 [==============================] - 18s 51ms/step - loss: 0.1768 - accuracy: 0.7889 - recall_8: 0.7901 - precision_8: 0.5780 - val_loss: 0.5084 - val_accuracy: 0.7384 - val_recall_8: 0.8915 - val_precision_8: 0.4989\n",
      "Epoch 4/2000\n",
      "357/357 [==============================] - 18s 51ms/step - loss: 0.1721 - accuracy: 0.7905 - recall_8: 0.7967 - precision_8: 0.5797 - val_loss: 0.4904 - val_accuracy: 0.7528 - val_recall_8: 0.8792 - val_precision_8: 0.5150\n",
      "Epoch 5/2000\n",
      "357/357 [==============================] - 18s 51ms/step - loss: 0.1694 - accuracy: 0.7975 - recall_8: 0.8026 - precision_8: 0.5901 - val_loss: 0.4156 - val_accuracy: 0.8120 - val_recall_8: 0.8055 - val_precision_8: 0.6045\n",
      "Epoch 6/2000\n",
      "357/357 [==============================] - 18s 51ms/step - loss: 0.1654 - accuracy: 0.8035 - recall_8: 0.8085 - precision_8: 0.5991 - val_loss: 0.4268 - val_accuracy: 0.8040 - val_recall_8: 0.8229 - val_precision_8: 0.5886\n",
      "Epoch 7/2000\n",
      "357/357 [==============================] - 18s 51ms/step - loss: 0.1620 - accuracy: 0.8074 - recall_8: 0.8143 - precision_8: 0.6048 - val_loss: 0.4136 - val_accuracy: 0.8037 - val_recall_8: 0.8280 - val_precision_8: 0.5875\n",
      "Epoch 8/2000\n",
      "357/357 [==============================] - 18s 51ms/step - loss: 0.1584 - accuracy: 0.8128 - recall_8: 0.8209 - precision_8: 0.6128 - val_loss: 0.4116 - val_accuracy: 0.8040 - val_recall_8: 0.8219 - val_precision_8: 0.5887\n",
      "Epoch 9/2000\n",
      "357/357 [==============================] - 18s 50ms/step - loss: 0.1567 - accuracy: 0.8147 - recall_8: 0.8200 - precision_8: 0.6163 - val_loss: 0.4046 - val_accuracy: 0.8027 - val_recall_8: 0.8321 - val_precision_8: 0.5853\n",
      "Epoch 10/2000\n",
      "357/357 [==============================] - 18s 51ms/step - loss: 0.1535 - accuracy: 0.8177 - recall_8: 0.8263 - precision_8: 0.6203 - val_loss: 0.4034 - val_accuracy: 0.8056 - val_recall_8: 0.8495 - val_precision_8: 0.5878\n",
      "Epoch 11/2000\n",
      "357/357 [==============================] - 18s 51ms/step - loss: 0.1502 - accuracy: 0.8225 - recall_8: 0.8334 - precision_8: 0.6274 - val_loss: 0.3974 - val_accuracy: 0.8155 - val_recall_8: 0.8352 - val_precision_8: 0.6058\n",
      "Epoch 12/2000\n",
      "357/357 [==============================] - 18s 51ms/step - loss: 0.1476 - accuracy: 0.8241 - recall_8: 0.8380 - precision_8: 0.6293 - val_loss: 0.3713 - val_accuracy: 0.8283 - val_recall_8: 0.7902 - val_precision_8: 0.6375\n",
      "Epoch 13/2000\n",
      "357/357 [==============================] - 18s 51ms/step - loss: 0.1438 - accuracy: 0.8289 - recall_8: 0.8438 - precision_8: 0.6367 - val_loss: 0.3920 - val_accuracy: 0.8152 - val_recall_8: 0.8444 - val_precision_8: 0.6040\n",
      "Epoch 14/2000\n",
      "357/357 [==============================] - 18s 50ms/step - loss: 0.1411 - accuracy: 0.8326 - recall_8: 0.8508 - precision_8: 0.6419 - val_loss: 0.3847 - val_accuracy: 0.8163 - val_recall_8: 0.8332 - val_precision_8: 0.6075\n",
      "Epoch 15/2000\n",
      "357/357 [==============================] - 18s 50ms/step - loss: 0.1380 - accuracy: 0.8353 - recall_8: 0.8571 - precision_8: 0.6454 - val_loss: 0.3483 - val_accuracy: 0.8355 - val_recall_8: 0.8066 - val_precision_8: 0.6480\n",
      "Epoch 16/2000\n",
      "357/357 [==============================] - 18s 50ms/step - loss: 0.1353 - accuracy: 0.8395 - recall_8: 0.8617 - precision_8: 0.6520 - val_loss: 0.3959 - val_accuracy: 0.8117 - val_recall_8: 0.8485 - val_precision_8: 0.5977\n",
      "Epoch 17/2000\n",
      "357/357 [==============================] - 18s 51ms/step - loss: 0.1332 - accuracy: 0.8416 - recall_8: 0.8614 - precision_8: 0.6559 - val_loss: 0.3733 - val_accuracy: 0.8213 - val_recall_8: 0.8444 - val_precision_8: 0.6143\n",
      "Epoch 18/2000\n",
      "357/357 [==============================] - 19s 52ms/step - loss: 0.1306 - accuracy: 0.8447 - recall_8: 0.8683 - precision_8: 0.6601 - val_loss: 0.3676 - val_accuracy: 0.8304 - val_recall_8: 0.8403 - val_precision_8: 0.6311\n",
      "Epoch 19/2000\n",
      "357/357 [==============================] - 19s 53ms/step - loss: 0.1273 - accuracy: 0.8489 - recall_8: 0.8722 - precision_8: 0.6669 - val_loss: 0.3619 - val_accuracy: 0.8315 - val_recall_8: 0.8383 - val_precision_8: 0.6334\n",
      "Epoch 20/2000\n",
      "357/357 [==============================] - 19s 53ms/step - loss: 0.1254 - accuracy: 0.8502 - recall_8: 0.8742 - precision_8: 0.6689 - val_loss: 0.3520 - val_accuracy: 0.8453 - val_recall_8: 0.8260 - val_precision_8: 0.6631\n",
      "Epoch 21/2000\n",
      "357/357 [==============================] - 19s 53ms/step - loss: 0.1234 - accuracy: 0.8530 - recall_8: 0.8772 - precision_8: 0.6735 - val_loss: 0.3479 - val_accuracy: 0.8464 - val_recall_8: 0.8260 - val_precision_8: 0.6653\n",
      "Epoch 22/2000\n",
      "357/357 [==============================] - 19s 53ms/step - loss: 0.1205 - accuracy: 0.8579 - recall_8: 0.8816 - precision_8: 0.6818 - val_loss: 0.3645 - val_accuracy: 0.8331 - val_recall_8: 0.8403 - val_precision_8: 0.6359\n",
      "Epoch 23/2000\n",
      "357/357 [==============================] - 19s 53ms/step - loss: 0.1189 - accuracy: 0.8584 - recall_8: 0.8815 - precision_8: 0.6828 - val_loss: 0.3572 - val_accuracy: 0.8344 - val_recall_8: 0.8383 - val_precision_8: 0.6388\n",
      "Epoch 24/2000\n",
      "357/357 [==============================] - 19s 53ms/step - loss: 0.1172 - accuracy: 0.8616 - recall_8: 0.8836 - precision_8: 0.6885 - val_loss: 0.3452 - val_accuracy: 0.8499 - val_recall_8: 0.8332 - val_precision_8: 0.6705\n",
      "Epoch 25/2000\n",
      "357/357 [==============================] - 19s 53ms/step - loss: 0.1159 - accuracy: 0.8634 - recall_8: 0.8844 - precision_8: 0.6920 - val_loss: 0.3469 - val_accuracy: 0.8461 - val_recall_8: 0.8291 - val_precision_8: 0.6639\n",
      "Epoch 26/2000\n",
      "357/357 [==============================] - 19s 53ms/step - loss: 0.1139 - accuracy: 0.8644 - recall_8: 0.8872 - precision_8: 0.6931 - val_loss: 0.3431 - val_accuracy: 0.8528 - val_recall_8: 0.8291 - val_precision_8: 0.6778\n",
      "Epoch 27/2000\n",
      "357/357 [==============================] - 19s 53ms/step - loss: 0.1127 - accuracy: 0.8657 - recall_8: 0.8901 - precision_8: 0.6950 - val_loss: 0.3427 - val_accuracy: 0.8565 - val_recall_8: 0.8240 - val_precision_8: 0.6874\n",
      "Epoch 28/2000\n",
      "357/357 [==============================] - 19s 53ms/step - loss: 0.1118 - accuracy: 0.8691 - recall_8: 0.8895 - precision_8: 0.7020 - val_loss: 0.3675 - val_accuracy: 0.8395 - val_recall_8: 0.8352 - val_precision_8: 0.6492\n",
      "Epoch 29/2000\n",
      "357/357 [==============================] - 19s 53ms/step - loss: 0.1102 - accuracy: 0.8705 - recall_8: 0.8938 - precision_8: 0.7036 - val_loss: 0.3552 - val_accuracy: 0.8435 - val_recall_8: 0.8301 - val_precision_8: 0.6583\n",
      "Epoch 30/2000\n",
      "357/357 [==============================] - 19s 53ms/step - loss: 0.1089 - accuracy: 0.8728 - recall_8: 0.8955 - precision_8: 0.7078 - val_loss: 0.3464 - val_accuracy: 0.8552 - val_recall_8: 0.8188 - val_precision_8: 0.6861\n",
      "Epoch 31/2000\n",
      "357/357 [==============================] - 19s 53ms/step - loss: 0.1076 - accuracy: 0.8733 - recall_8: 0.8968 - precision_8: 0.7085 - val_loss: 0.3486 - val_accuracy: 0.8547 - val_recall_8: 0.8209 - val_precision_8: 0.6843\n",
      "Epoch 32/2000\n",
      "357/357 [==============================] - 19s 53ms/step - loss: 0.1067 - accuracy: 0.8743 - recall_8: 0.8963 - precision_8: 0.7107 - val_loss: 0.3651 - val_accuracy: 0.8469 - val_recall_8: 0.8240 - val_precision_8: 0.6669\n",
      "Epoch 33/2000\n",
      "357/357 [==============================] - 19s 53ms/step - loss: 0.1062 - accuracy: 0.8751 - recall_8: 0.8963 - precision_8: 0.7124 - val_loss: 0.3747 - val_accuracy: 0.8368 - val_recall_8: 0.8321 - val_precision_8: 0.6447\n",
      "Epoch 34/2000\n",
      "357/357 [==============================] - 19s 53ms/step - loss: 0.1039 - accuracy: 0.8790 - recall_8: 0.9008 - precision_8: 0.7191 - val_loss: 0.3492 - val_accuracy: 0.8579 - val_recall_8: 0.7892 - val_precision_8: 0.7022\n",
      "Epoch 35/2000\n",
      "357/357 [==============================] - 19s 53ms/step - loss: 0.1029 - accuracy: 0.8795 - recall_8: 0.9017 - precision_8: 0.7200 - val_loss: 0.3536 - val_accuracy: 0.8525 - val_recall_8: 0.8168 - val_precision_8: 0.6809\n"
     ]
    },
    {
     "name": "stdout",
     "output_type": "stream",
     "text": [
      "Epoch 36/2000\n",
      "357/357 [==============================] - 19s 53ms/step - loss: 0.1024 - accuracy: 0.8809 - recall_8: 0.9021 - precision_8: 0.7228 - val_loss: 0.3565 - val_accuracy: 0.8533 - val_recall_8: 0.8178 - val_precision_8: 0.6823\n",
      "Epoch 37/2000\n",
      "357/357 [==============================] - 19s 53ms/step - loss: 0.1021 - accuracy: 0.8805 - recall_8: 0.9022 - precision_8: 0.7219 - val_loss: 0.3429 - val_accuracy: 0.8560 - val_recall_8: 0.7871 - val_precision_8: 0.6985\n",
      "Epoch 38/2000\n",
      "357/357 [==============================] - 19s 53ms/step - loss: 0.1009 - accuracy: 0.8828 - recall_8: 0.9011 - precision_8: 0.7271 - val_loss: 0.3523 - val_accuracy: 0.8581 - val_recall_8: 0.7973 - val_precision_8: 0.6999\n",
      "Epoch 39/2000\n",
      "357/357 [==============================] - 19s 53ms/step - loss: 0.1006 - accuracy: 0.8843 - recall_8: 0.9034 - precision_8: 0.7296 - val_loss: 0.3635 - val_accuracy: 0.8445 - val_recall_8: 0.8362 - val_precision_8: 0.6589\n",
      "Epoch 40/2000\n",
      "357/357 [==============================] - 19s 53ms/step - loss: 0.0989 - accuracy: 0.8865 - recall_8: 0.9037 - precision_8: 0.7345 - val_loss: 0.3601 - val_accuracy: 0.8523 - val_recall_8: 0.8188 - val_precision_8: 0.6797\n",
      "Epoch 41/2000\n",
      "357/357 [==============================] - 19s 53ms/step - loss: 0.0967 - accuracy: 0.8872 - recall_8: 0.9075 - precision_8: 0.7346 - val_loss: 0.3657 - val_accuracy: 0.8523 - val_recall_8: 0.8096 - val_precision_8: 0.6825\n",
      "Epoch 42/2000\n",
      "357/357 [==============================] - 19s 53ms/step - loss: 0.0972 - accuracy: 0.8876 - recall_8: 0.9078 - precision_8: 0.7354 - val_loss: 0.3594 - val_accuracy: 0.8485 - val_recall_8: 0.8106 - val_precision_8: 0.6740\n",
      "Epoch 43/2000\n",
      "357/357 [==============================] - 19s 53ms/step - loss: 0.0971 - accuracy: 0.8886 - recall_8: 0.9073 - precision_8: 0.7378 - val_loss: 0.3734 - val_accuracy: 0.8453 - val_recall_8: 0.8321 - val_precision_8: 0.6615\n",
      "Epoch 44/2000\n",
      "357/357 [==============================] - 19s 53ms/step - loss: 0.0946 - accuracy: 0.8915 - recall_8: 0.9116 - precision_8: 0.7426 - val_loss: 0.3745 - val_accuracy: 0.8499 - val_recall_8: 0.8403 - val_precision_8: 0.6686\n",
      "Epoch 45/2000\n",
      "357/357 [==============================] - 19s 53ms/step - loss: 0.0949 - accuracy: 0.8909 - recall_8: 0.9108 - precision_8: 0.7416 - val_loss: 0.3702 - val_accuracy: 0.8499 - val_recall_8: 0.8250 - val_precision_8: 0.6728\n",
      "Epoch 46/2000\n",
      "357/357 [==============================] - 19s 53ms/step - loss: 0.0935 - accuracy: 0.8915 - recall_8: 0.9110 - precision_8: 0.7428 - val_loss: 0.3627 - val_accuracy: 0.8581 - val_recall_8: 0.8096 - val_precision_8: 0.6957\n",
      "Epoch 47/2000\n",
      "357/357 [==============================] - 19s 53ms/step - loss: 0.0949 - accuracy: 0.8906 - recall_8: 0.9101 - precision_8: 0.7412 - val_loss: 0.3550 - val_accuracy: 0.8549 - val_recall_8: 0.8178 - val_precision_8: 0.6858\n",
      "Epoch 48/2000\n",
      "357/357 [==============================] - 19s 53ms/step - loss: 0.0941 - accuracy: 0.8922 - recall_8: 0.9130 - precision_8: 0.7435 - val_loss: 0.3788 - val_accuracy: 0.8411 - val_recall_8: 0.8250 - val_precision_8: 0.6548\n",
      "Epoch 49/2000\n",
      "357/357 [==============================] - 19s 53ms/step - loss: 0.0926 - accuracy: 0.8939 - recall_8: 0.9119 - precision_8: 0.7480 - val_loss: 0.3819 - val_accuracy: 0.8443 - val_recall_8: 0.8444 - val_precision_8: 0.6563\n",
      "Epoch 50/2000\n",
      "357/357 [==============================] - 19s 53ms/step - loss: 0.0924 - accuracy: 0.8942 - recall_8: 0.9123 - precision_8: 0.7483 - val_loss: 0.3799 - val_accuracy: 0.8472 - val_recall_8: 0.8393 - val_precision_8: 0.6634\n",
      "Epoch 51/2000\n",
      "357/357 [==============================] - 19s 53ms/step - loss: 0.0928 - accuracy: 0.8936 - recall_8: 0.9105 - precision_8: 0.7477 - val_loss: 0.3627 - val_accuracy: 0.8592 - val_recall_8: 0.8178 - val_precision_8: 0.6954\n",
      "Epoch 52/2000\n",
      "357/357 [==============================] - 19s 53ms/step - loss: 0.0915 - accuracy: 0.8958 - recall_8: 0.9119 - precision_8: 0.7523 - val_loss: 0.3859 - val_accuracy: 0.8408 - val_recall_8: 0.8219 - val_precision_8: 0.6550\n",
      "Epoch 53/2000\n",
      "357/357 [==============================] - 19s 53ms/step - loss: 0.0913 - accuracy: 0.8957 - recall_8: 0.9131 - precision_8: 0.7516 - val_loss: 0.3692 - val_accuracy: 0.8560 - val_recall_8: 0.8147 - val_precision_8: 0.6892\n",
      "Epoch 54/2000\n",
      "357/357 [==============================] - 19s 53ms/step - loss: 0.0908 - accuracy: 0.8962 - recall_8: 0.9130 - precision_8: 0.7528 - val_loss: 0.3613 - val_accuracy: 0.8595 - val_recall_8: 0.8321 - val_precision_8: 0.6913\n",
      "Epoch 55/2000\n",
      "357/357 [==============================] - 19s 53ms/step - loss: 0.0907 - accuracy: 0.8968 - recall_8: 0.9148 - precision_8: 0.7534 - val_loss: 0.3583 - val_accuracy: 0.8632 - val_recall_8: 0.8199 - val_precision_8: 0.7039\n",
      "Epoch 56/2000\n",
      "357/357 [==============================] - 19s 53ms/step - loss: 0.0894 - accuracy: 0.8978 - recall_8: 0.9169 - precision_8: 0.7548 - val_loss: 0.3503 - val_accuracy: 0.8627 - val_recall_8: 0.8096 - val_precision_8: 0.7063\n",
      "Epoch 57/2000\n",
      "357/357 [==============================] - 19s 53ms/step - loss: 0.0888 - accuracy: 0.8985 - recall_8: 0.9147 - precision_8: 0.7573 - val_loss: 0.3679 - val_accuracy: 0.8571 - val_recall_8: 0.8280 - val_precision_8: 0.6873\n",
      "Epoch 58/2000\n",
      "357/357 [==============================] - 19s 53ms/step - loss: 0.0882 - accuracy: 0.8997 - recall_8: 0.9165 - precision_8: 0.7593 - val_loss: 0.3856 - val_accuracy: 0.8477 - val_recall_8: 0.8311 - val_precision_8: 0.6667\n",
      "Epoch 59/2000\n",
      "357/357 [==============================] - 19s 53ms/step - loss: 0.0891 - accuracy: 0.8984 - recall_8: 0.9156 - precision_8: 0.7568 - val_loss: 0.3681 - val_accuracy: 0.8531 - val_recall_8: 0.8321 - val_precision_8: 0.6775\n",
      "Epoch 60/2000\n",
      "357/357 [==============================] - 19s 53ms/step - loss: 0.0880 - accuracy: 0.8995 - recall_8: 0.9159 - precision_8: 0.7593 - val_loss: 0.3722 - val_accuracy: 0.8499 - val_recall_8: 0.8280 - val_precision_8: 0.6719\n",
      "Epoch 61/2000\n",
      "357/357 [==============================] - 19s 54ms/step - loss: 0.0881 - accuracy: 0.9006 - recall_8: 0.9159 - precision_8: 0.7618 - val_loss: 0.3598 - val_accuracy: 0.8619 - val_recall_8: 0.8045 - val_precision_8: 0.7062\n",
      "Epoch 62/2000\n",
      "357/357 [==============================] - 19s 53ms/step - loss: 0.0873 - accuracy: 0.9009 - recall_8: 0.9167 - precision_8: 0.7621 - val_loss: 0.3744 - val_accuracy: 0.8533 - val_recall_8: 0.8168 - val_precision_8: 0.6826\n",
      "Epoch 63/2000\n",
      "357/357 [==============================] - 19s 53ms/step - loss: 0.0870 - accuracy: 0.9021 - recall_8: 0.9183 - precision_8: 0.7642 - val_loss: 0.3676 - val_accuracy: 0.8667 - val_recall_8: 0.7851 - val_precision_8: 0.7256\n",
      "Epoch 64/2000\n",
      "357/357 [==============================] - 19s 53ms/step - loss: 0.0862 - accuracy: 0.9017 - recall_8: 0.9178 - precision_8: 0.7636 - val_loss: 0.3705 - val_accuracy: 0.8603 - val_recall_8: 0.8260 - val_precision_8: 0.6951\n",
      "Epoch 65/2000\n",
      "357/357 [==============================] - 19s 53ms/step - loss: 0.0850 - accuracy: 0.9044 - recall_8: 0.9204 - precision_8: 0.7689 - val_loss: 0.3616 - val_accuracy: 0.8565 - val_recall_8: 0.8168 - val_precision_8: 0.6897\n",
      "Epoch 66/2000\n",
      "357/357 [==============================] - 19s 53ms/step - loss: 0.0856 - accuracy: 0.9034 - recall_8: 0.9196 - precision_8: 0.7668 - val_loss: 0.3668 - val_accuracy: 0.8600 - val_recall_8: 0.8014 - val_precision_8: 0.7029\n",
      "Epoch 67/2000\n",
      "357/357 [==============================] - 19s 53ms/step - loss: 0.0856 - accuracy: 0.9037 - recall_8: 0.9189 - precision_8: 0.7678 - val_loss: 0.3611 - val_accuracy: 0.8632 - val_recall_8: 0.7953 - val_precision_8: 0.7128\n",
      "Epoch 68/2000\n",
      "357/357 [==============================] - 19s 53ms/step - loss: 0.0851 - accuracy: 0.9046 - recall_8: 0.9182 - precision_8: 0.7704 - val_loss: 0.3766 - val_accuracy: 0.8456 - val_recall_8: 0.8240 - val_precision_8: 0.6642\n",
      "Epoch 69/2000\n",
      "357/357 [==============================] - 19s 53ms/step - loss: 0.0852 - accuracy: 0.9043 - recall_8: 0.9215 - precision_8: 0.7680 - val_loss: 0.3772 - val_accuracy: 0.8560 - val_recall_8: 0.8178 - val_precision_8: 0.6882\n",
      "Epoch 70/2000\n"
     ]
    },
    {
     "name": "stdout",
     "output_type": "stream",
     "text": [
      "357/357 [==============================] - 19s 53ms/step - loss: 0.0843 - accuracy: 0.9048 - recall_8: 0.9211 - precision_8: 0.7694 - val_loss: 0.3731 - val_accuracy: 0.8611 - val_recall_8: 0.8055 - val_precision_8: 0.7039\n",
      "Epoch 71/2000\n",
      "357/357 [==============================] - 19s 53ms/step - loss: 0.0833 - accuracy: 0.9062 - recall_8: 0.9225 - precision_8: 0.7722 - val_loss: 0.3748 - val_accuracy: 0.8675 - val_recall_8: 0.7922 - val_precision_8: 0.7247\n",
      "Epoch 72/2000\n",
      "357/357 [==============================] - 19s 53ms/step - loss: 0.0828 - accuracy: 0.9073 - recall_8: 0.9221 - precision_8: 0.7750 - val_loss: 0.3770 - val_accuracy: 0.8616 - val_recall_8: 0.8055 - val_precision_8: 0.7052\n",
      "Epoch 73/2000\n",
      "357/357 [==============================] - 19s 53ms/step - loss: 0.0830 - accuracy: 0.9076 - recall_8: 0.9230 - precision_8: 0.7754 - val_loss: 0.3798 - val_accuracy: 0.8576 - val_recall_8: 0.8055 - val_precision_8: 0.6958\n",
      "Epoch 74/2000\n",
      "357/357 [==============================] - 19s 53ms/step - loss: 0.0839 - accuracy: 0.9056 - recall_8: 0.9185 - precision_8: 0.7725 - val_loss: 0.3638 - val_accuracy: 0.8603 - val_recall_8: 0.8188 - val_precision_8: 0.6975\n",
      "Epoch 75/2000\n",
      "357/357 [==============================] - 19s 53ms/step - loss: 0.0832 - accuracy: 0.9080 - recall_8: 0.9213 - precision_8: 0.7771 - val_loss: 0.3740 - val_accuracy: 0.8557 - val_recall_8: 0.8229 - val_precision_8: 0.6860\n",
      "Epoch 76/2000\n",
      "357/357 [==============================] - 19s 53ms/step - loss: 0.0811 - accuracy: 0.9081 - recall_8: 0.9220 - precision_8: 0.7770 - val_loss: 0.3735 - val_accuracy: 0.8685 - val_recall_8: 0.8147 - val_precision_8: 0.7184\n",
      "Epoch 77/2000\n",
      "357/357 [==============================] - 19s 53ms/step - loss: 0.0815 - accuracy: 0.9092 - recall_8: 0.9233 - precision_8: 0.7790 - val_loss: 0.3699 - val_accuracy: 0.8587 - val_recall_8: 0.8178 - val_precision_8: 0.6942\n",
      "Epoch 78/2000\n",
      "357/357 [==============================] - 19s 53ms/step - loss: 0.0810 - accuracy: 0.9101 - recall_8: 0.9235 - precision_8: 0.7813 - val_loss: 0.3863 - val_accuracy: 0.8480 - val_recall_8: 0.8352 - val_precision_8: 0.6661\n",
      "Epoch 79/2000\n",
      "357/357 [==============================] - 19s 53ms/step - loss: 0.0818 - accuracy: 0.9082 - recall_8: 0.9242 - precision_8: 0.7762 - val_loss: 0.3741 - val_accuracy: 0.8581 - val_recall_8: 0.8301 - val_precision_8: 0.6890\n",
      "Epoch 80/2000\n",
      "357/357 [==============================] - 19s 53ms/step - loss: 0.0808 - accuracy: 0.9090 - recall_8: 0.9255 - precision_8: 0.7775 - val_loss: 0.3609 - val_accuracy: 0.8627 - val_recall_8: 0.8096 - val_precision_8: 0.7063\n",
      "Epoch 81/2000\n",
      "357/357 [==============================] - 19s 53ms/step - loss: 0.0805 - accuracy: 0.9100 - recall_8: 0.9224 - precision_8: 0.7814 - val_loss: 0.3737 - val_accuracy: 0.8608 - val_recall_8: 0.8127 - val_precision_8: 0.7008\n",
      "Epoch 82/2000\n",
      "357/357 [==============================] - 19s 53ms/step - loss: 0.0799 - accuracy: 0.9109 - recall_8: 0.9250 - precision_8: 0.7825 - val_loss: 0.3812 - val_accuracy: 0.8547 - val_recall_8: 0.8188 - val_precision_8: 0.6849\n",
      "Epoch 83/2000\n",
      "357/357 [==============================] - 19s 53ms/step - loss: 0.0794 - accuracy: 0.9113 - recall_8: 0.9263 - precision_8: 0.7828 - val_loss: 0.3851 - val_accuracy: 0.8592 - val_recall_8: 0.8066 - val_precision_8: 0.6992\n",
      "Epoch 84/2000\n",
      "357/357 [==============================] - 19s 53ms/step - loss: 0.0810 - accuracy: 0.9089 - recall_8: 0.9231 - precision_8: 0.7784 - val_loss: 0.3632 - val_accuracy: 0.8533 - val_recall_8: 0.8158 - val_precision_8: 0.6829\n",
      "Epoch 85/2000\n",
      "357/357 [==============================] - 19s 53ms/step - loss: 0.0787 - accuracy: 0.9117 - recall_8: 0.9261 - precision_8: 0.7839 - val_loss: 0.3796 - val_accuracy: 0.8600 - val_recall_8: 0.8127 - val_precision_8: 0.6989\n",
      "Epoch 86/2000\n",
      "357/357 [==============================] - 19s 53ms/step - loss: 0.0795 - accuracy: 0.9124 - recall_8: 0.9260 - precision_8: 0.7858 - val_loss: 0.3774 - val_accuracy: 0.8627 - val_recall_8: 0.7902 - val_precision_8: 0.7135\n",
      "Epoch 87/2000\n",
      "357/357 [==============================] - 19s 53ms/step - loss: 0.0790 - accuracy: 0.9136 - recall_8: 0.9264 - precision_8: 0.7885 - val_loss: 0.3719 - val_accuracy: 0.8573 - val_recall_8: 0.8199 - val_precision_8: 0.6905\n",
      "Epoch 88/2000\n",
      "357/357 [==============================] - 19s 53ms/step - loss: 0.0789 - accuracy: 0.9120 - recall_8: 0.9263 - precision_8: 0.7846 - val_loss: 0.3740 - val_accuracy: 0.8555 - val_recall_8: 0.8168 - val_precision_8: 0.6873\n",
      "Epoch 89/2000\n",
      "357/357 [==============================] - 19s 53ms/step - loss: 0.0781 - accuracy: 0.9133 - recall_8: 0.9285 - precision_8: 0.7867 - val_loss: 0.3722 - val_accuracy: 0.8624 - val_recall_8: 0.7943 - val_precision_8: 0.7113\n",
      "Epoch 90/2000\n",
      "357/357 [==============================] - 19s 53ms/step - loss: 0.0780 - accuracy: 0.9121 - recall_8: 0.9276 - precision_8: 0.7842 - val_loss: 0.3753 - val_accuracy: 0.8565 - val_recall_8: 0.8127 - val_precision_8: 0.6910\n",
      "Epoch 91/2000\n",
      "357/357 [==============================] - 19s 53ms/step - loss: 0.0780 - accuracy: 0.9134 - recall_8: 0.9265 - precision_8: 0.7880 - val_loss: 0.3615 - val_accuracy: 0.8704 - val_recall_8: 0.7892 - val_precision_8: 0.7336\n",
      "Epoch 92/2000\n",
      "357/357 [==============================] - 19s 53ms/step - loss: 0.0785 - accuracy: 0.9118 - recall_8: 0.9271 - precision_8: 0.7837 - val_loss: 0.3583 - val_accuracy: 0.8659 - val_recall_8: 0.8025 - val_precision_8: 0.7166\n",
      "Epoch 93/2000\n",
      "357/357 [==============================] - 19s 53ms/step - loss: 0.0780 - accuracy: 0.9140 - recall_8: 0.9276 - precision_8: 0.7890 - val_loss: 0.3652 - val_accuracy: 0.8635 - val_recall_8: 0.8014 - val_precision_8: 0.7112\n",
      "Epoch 94/2000\n",
      "357/357 [==============================] - 19s 53ms/step - loss: 0.0773 - accuracy: 0.9144 - recall_8: 0.9294 - precision_8: 0.7892 - val_loss: 0.3784 - val_accuracy: 0.8579 - val_recall_8: 0.8229 - val_precision_8: 0.6907\n",
      "Epoch 95/2000\n",
      "357/357 [==============================] - 19s 53ms/step - loss: 0.0776 - accuracy: 0.9126 - recall_8: 0.9268 - precision_8: 0.7860 - val_loss: 0.3758 - val_accuracy: 0.8563 - val_recall_8: 0.8260 - val_precision_8: 0.6862\n",
      "Epoch 96/2000\n",
      "357/357 [==============================] - 19s 54ms/step - loss: 0.0771 - accuracy: 0.9139 - recall_8: 0.9256 - precision_8: 0.7897 - val_loss: 0.3761 - val_accuracy: 0.8619 - val_recall_8: 0.7932 - val_precision_8: 0.7104\n",
      "Epoch 97/2000\n",
      "357/357 [==============================] - 19s 53ms/step - loss: 0.0757 - accuracy: 0.9170 - recall_8: 0.9311 - precision_8: 0.7946 - val_loss: 0.3748 - val_accuracy: 0.8621 - val_recall_8: 0.8035 - val_precision_8: 0.7072\n",
      "Epoch 98/2000\n",
      "357/357 [==============================] - 19s 53ms/step - loss: 0.0755 - accuracy: 0.9167 - recall_8: 0.9294 - precision_8: 0.7949 - val_loss: 0.3601 - val_accuracy: 0.8648 - val_recall_8: 0.7963 - val_precision_8: 0.7164\n",
      "Epoch 99/2000\n",
      "357/357 [==============================] - 19s 53ms/step - loss: 0.0767 - accuracy: 0.9155 - recall_8: 0.9281 - precision_8: 0.7925 - val_loss: 0.3767 - val_accuracy: 0.8619 - val_recall_8: 0.7871 - val_precision_8: 0.7127\n",
      "Epoch 100/2000\n",
      "357/357 [==============================] - 19s 53ms/step - loss: 0.0758 - accuracy: 0.9151 - recall_8: 0.9289 - precision_8: 0.7911 - val_loss: 0.3820 - val_accuracy: 0.8579 - val_recall_8: 0.8076 - val_precision_8: 0.6958\n",
      "Epoch 101/2000\n",
      "357/357 [==============================] - 19s 53ms/step - loss: 0.0752 - accuracy: 0.9170 - recall_8: 0.9294 - precision_8: 0.7955 - val_loss: 0.3948 - val_accuracy: 0.8605 - val_recall_8: 0.8229 - val_precision_8: 0.6967\n",
      "Epoch 102/2000\n",
      "357/357 [==============================] - 19s 53ms/step - loss: 0.0745 - accuracy: 0.9178 - recall_8: 0.9298 - precision_8: 0.7974 - val_loss: 0.3805 - val_accuracy: 0.8683 - val_recall_8: 0.8096 - val_precision_8: 0.7197\n",
      "Epoch 103/2000\n",
      "357/357 [==============================] - 19s 53ms/step - loss: 0.0766 - accuracy: 0.9155 - recall_8: 0.9291 - precision_8: 0.7918 - val_loss: 0.3857 - val_accuracy: 0.8509 - val_recall_8: 0.8147 - val_precision_8: 0.6780\n",
      "Epoch 104/2000\n"
     ]
    },
    {
     "name": "stdout",
     "output_type": "stream",
     "text": [
      "357/357 [==============================] - 19s 53ms/step - loss: 0.0755 - accuracy: 0.9176 - recall_8: 0.9305 - precision_8: 0.7967 - val_loss: 0.3838 - val_accuracy: 0.8515 - val_recall_8: 0.8127 - val_precision_8: 0.6798\n",
      "Epoch 105/2000\n",
      "357/357 [==============================] - 19s 53ms/step - loss: 0.0763 - accuracy: 0.9158 - recall_8: 0.9273 - precision_8: 0.7935 - val_loss: 0.3861 - val_accuracy: 0.8499 - val_recall_8: 0.8188 - val_precision_8: 0.6745\n",
      "Epoch 106/2000\n",
      "357/357 [==============================] - 19s 53ms/step - loss: 0.0745 - accuracy: 0.9172 - recall_8: 0.9303 - precision_8: 0.7956 - val_loss: 0.3912 - val_accuracy: 0.8539 - val_recall_8: 0.8188 - val_precision_8: 0.6832\n",
      "Epoch 107/2000\n",
      "357/357 [==============================] - 19s 53ms/step - loss: 0.0747 - accuracy: 0.9185 - recall_8: 0.9321 - precision_8: 0.7982 - val_loss: 0.3869 - val_accuracy: 0.8515 - val_recall_8: 0.8178 - val_precision_8: 0.6783\n",
      "Epoch 108/2000\n",
      "357/357 [==============================] - 19s 53ms/step - loss: 0.0746 - accuracy: 0.9181 - recall_8: 0.9304 - precision_8: 0.7979 - val_loss: 0.3896 - val_accuracy: 0.8565 - val_recall_8: 0.8291 - val_precision_8: 0.6859\n",
      "Epoch 109/2000\n",
      "357/357 [==============================] - 19s 54ms/step - loss: 0.0751 - accuracy: 0.9171 - recall_8: 0.9307 - precision_8: 0.7952 - val_loss: 0.3837 - val_accuracy: 0.8613 - val_recall_8: 0.8086 - val_precision_8: 0.7035\n",
      "Epoch 110/2000\n",
      "357/357 [==============================] - 19s 53ms/step - loss: 0.0741 - accuracy: 0.9177 - recall_8: 0.9321 - precision_8: 0.7960 - val_loss: 0.3836 - val_accuracy: 0.8651 - val_recall_8: 0.8066 - val_precision_8: 0.7131\n",
      "Epoch 111/2000\n",
      "357/357 [==============================] - 19s 53ms/step - loss: 0.0741 - accuracy: 0.9187 - recall_8: 0.9306 - precision_8: 0.7993 - val_loss: 0.3862 - val_accuracy: 0.8568 - val_recall_8: 0.8199 - val_precision_8: 0.6893\n",
      "Epoch 112/2000\n",
      "357/357 [==============================] - 19s 53ms/step - loss: 0.0741 - accuracy: 0.9181 - recall_8: 0.9298 - precision_8: 0.7983 - val_loss: 0.3824 - val_accuracy: 0.8579 - val_recall_8: 0.8219 - val_precision_8: 0.6910\n",
      "Epoch 113/2000\n",
      "357/357 [==============================] - 19s 53ms/step - loss: 0.0740 - accuracy: 0.9184 - recall_8: 0.9312 - precision_8: 0.7982 - val_loss: 0.3907 - val_accuracy: 0.8571 - val_recall_8: 0.8291 - val_precision_8: 0.6870\n",
      "Epoch 114/2000\n",
      "357/357 [==============================] - 19s 53ms/step - loss: 0.0732 - accuracy: 0.9192 - recall_8: 0.9313 - precision_8: 0.8004 - val_loss: 0.3824 - val_accuracy: 0.8680 - val_recall_8: 0.8004 - val_precision_8: 0.7227\n",
      "Epoch 115/2000\n",
      "357/357 [==============================] - 19s 53ms/step - loss: 0.0739 - accuracy: 0.9207 - recall_8: 0.9329 - precision_8: 0.8033 - val_loss: 0.3884 - val_accuracy: 0.8680 - val_recall_8: 0.8260 - val_precision_8: 0.7129\n",
      "Epoch 116/2000\n",
      "357/357 [==============================] - 19s 53ms/step - loss: 0.0731 - accuracy: 0.9187 - recall_8: 0.9321 - precision_8: 0.7986 - val_loss: 0.3775 - val_accuracy: 0.8675 - val_recall_8: 0.8147 - val_precision_8: 0.7158\n",
      "Epoch 117/2000\n",
      "357/357 [==============================] - 19s 53ms/step - loss: 0.0730 - accuracy: 0.9198 - recall_8: 0.9337 - precision_8: 0.8006 - val_loss: 0.3809 - val_accuracy: 0.8688 - val_recall_8: 0.8096 - val_precision_8: 0.7211\n",
      "Epoch 118/2000\n",
      "357/357 [==============================] - 19s 53ms/step - loss: 0.0728 - accuracy: 0.9193 - recall_8: 0.9342 - precision_8: 0.7991 - val_loss: 0.3923 - val_accuracy: 0.8605 - val_recall_8: 0.8117 - val_precision_8: 0.7005\n",
      "Epoch 119/2000\n",
      "357/357 [==============================] - 19s 53ms/step - loss: 0.0734 - accuracy: 0.9200 - recall_8: 0.9323 - precision_8: 0.8019 - val_loss: 0.3803 - val_accuracy: 0.8643 - val_recall_8: 0.8025 - val_precision_8: 0.7127\n",
      "Epoch 120/2000\n",
      "357/357 [==============================] - 19s 53ms/step - loss: 0.0721 - accuracy: 0.9197 - recall_8: 0.9330 - precision_8: 0.8005 - val_loss: 0.3891 - val_accuracy: 0.8621 - val_recall_8: 0.8086 - val_precision_8: 0.7054\n",
      "Epoch 121/2000\n",
      "357/357 [==============================] - 19s 53ms/step - loss: 0.0718 - accuracy: 0.9208 - recall_8: 0.9334 - precision_8: 0.8033 - val_loss: 0.4061 - val_accuracy: 0.8547 - val_recall_8: 0.8158 - val_precision_8: 0.6859\n",
      "Epoch 122/2000\n",
      "357/357 [==============================] - 19s 53ms/step - loss: 0.0718 - accuracy: 0.9209 - recall_8: 0.9342 - precision_8: 0.8031 - val_loss: 0.3904 - val_accuracy: 0.8643 - val_recall_8: 0.8229 - val_precision_8: 0.7053\n",
      "Epoch 123/2000\n",
      "357/357 [==============================] - 19s 53ms/step - loss: 0.0719 - accuracy: 0.9209 - recall_8: 0.9312 - precision_8: 0.8046 - val_loss: 0.3881 - val_accuracy: 0.8587 - val_recall_8: 0.8188 - val_precision_8: 0.6938\n",
      "Epoch 124/2000\n",
      "357/357 [==============================] - 19s 53ms/step - loss: 0.0712 - accuracy: 0.9221 - recall_8: 0.9334 - precision_8: 0.8067 - val_loss: 0.3840 - val_accuracy: 0.8573 - val_recall_8: 0.8147 - val_precision_8: 0.6922\n",
      "Epoch 125/2000\n",
      "357/357 [==============================] - 19s 53ms/step - loss: 0.0717 - accuracy: 0.9221 - recall_8: 0.9328 - precision_8: 0.8070 - val_loss: 0.3915 - val_accuracy: 0.8560 - val_recall_8: 0.8137 - val_precision_8: 0.6895\n",
      "Epoch 126/2000\n",
      "357/357 [==============================] - 19s 53ms/step - loss: 0.0706 - accuracy: 0.9219 - recall_8: 0.9329 - precision_8: 0.8064 - val_loss: 0.3898 - val_accuracy: 0.8587 - val_recall_8: 0.8086 - val_precision_8: 0.6973\n",
      "Epoch 127/2000\n",
      "357/357 [==============================] - 19s 53ms/step - loss: 0.0706 - accuracy: 0.9220 - recall_8: 0.9361 - precision_8: 0.8050 - val_loss: 0.3869 - val_accuracy: 0.8592 - val_recall_8: 0.8035 - val_precision_8: 0.7003\n",
      "Epoch 128/2000\n",
      "357/357 [==============================] - 19s 53ms/step - loss: 0.0722 - accuracy: 0.9211 - recall_8: 0.9311 - precision_8: 0.8051 - val_loss: 0.3838 - val_accuracy: 0.8637 - val_recall_8: 0.8004 - val_precision_8: 0.7122\n",
      "Epoch 129/2000\n",
      "357/357 [==============================] - 19s 53ms/step - loss: 0.0699 - accuracy: 0.9230 - recall_8: 0.9345 - precision_8: 0.8083 - val_loss: 0.4032 - val_accuracy: 0.8531 - val_recall_8: 0.8168 - val_precision_8: 0.6821\n",
      "Epoch 130/2000\n",
      "357/357 [==============================] - 19s 53ms/step - loss: 0.0721 - accuracy: 0.9206 - recall_8: 0.9318 - precision_8: 0.8036 - val_loss: 0.3927 - val_accuracy: 0.8640 - val_recall_8: 0.8117 - val_precision_8: 0.7087\n",
      "Epoch 131/2000\n",
      "357/357 [==============================] - 19s 53ms/step - loss: 0.0717 - accuracy: 0.9207 - recall_8: 0.9323 - precision_8: 0.8037 - val_loss: 0.4090 - val_accuracy: 0.8555 - val_recall_8: 0.8025 - val_precision_8: 0.6920\n",
      "Epoch 132/2000\n",
      "357/357 [==============================] - 19s 53ms/step - loss: 0.0694 - accuracy: 0.9239 - recall_8: 0.9357 - precision_8: 0.8101 - val_loss: 0.3952 - val_accuracy: 0.8584 - val_recall_8: 0.8086 - val_precision_8: 0.6966\n",
      "Epoch 133/2000\n",
      "357/357 [==============================] - 19s 53ms/step - loss: 0.0707 - accuracy: 0.9225 - recall_8: 0.9351 - precision_8: 0.8068 - val_loss: 0.4053 - val_accuracy: 0.8592 - val_recall_8: 0.8158 - val_precision_8: 0.6961\n",
      "Epoch 134/2000\n",
      "357/357 [==============================] - 19s 53ms/step - loss: 0.0704 - accuracy: 0.9233 - recall_8: 0.9342 - precision_8: 0.8093 - val_loss: 0.3946 - val_accuracy: 0.8669 - val_recall_8: 0.8096 - val_precision_8: 0.7165\n",
      "Epoch 135/2000\n",
      "357/357 [==============================] - 19s 53ms/step - loss: 0.0699 - accuracy: 0.9245 - recall_8: 0.9357 - precision_8: 0.8116 - val_loss: 0.4030 - val_accuracy: 0.8576 - val_recall_8: 0.8158 - val_precision_8: 0.6924\n",
      "Epoch 136/2000\n",
      "357/357 [==============================] - 19s 53ms/step - loss: 0.0704 - accuracy: 0.9230 - recall_8: 0.9341 - precision_8: 0.8087 - val_loss: 0.3918 - val_accuracy: 0.8565 - val_recall_8: 0.8035 - val_precision_8: 0.6941\n",
      "Epoch 137/2000\n",
      "357/357 [==============================] - 19s 53ms/step - loss: 0.0706 - accuracy: 0.9220 - recall_8: 0.9350 - precision_8: 0.8055 - val_loss: 0.3987 - val_accuracy: 0.8541 - val_recall_8: 0.8004 - val_precision_8: 0.6896\n",
      "Epoch 138/2000\n"
     ]
    },
    {
     "name": "stdout",
     "output_type": "stream",
     "text": [
      "357/357 [==============================] - 19s 53ms/step - loss: 0.0696 - accuracy: 0.9224 - recall_8: 0.9334 - precision_8: 0.8073 - val_loss: 0.3838 - val_accuracy: 0.8667 - val_recall_8: 0.7984 - val_precision_8: 0.7202\n",
      "Epoch 139/2000\n",
      "357/357 [==============================] - 19s 53ms/step - loss: 0.0692 - accuracy: 0.9248 - recall_8: 0.9350 - precision_8: 0.8127 - val_loss: 0.3993 - val_accuracy: 0.8643 - val_recall_8: 0.7953 - val_precision_8: 0.7155\n",
      "Epoch 140/2000\n",
      "357/357 [==============================] - 19s 53ms/step - loss: 0.0702 - accuracy: 0.9238 - recall_8: 0.9356 - precision_8: 0.8098 - val_loss: 0.3895 - val_accuracy: 0.8653 - val_recall_8: 0.7902 - val_precision_8: 0.7201\n",
      "Epoch 141/2000\n",
      "357/357 [==============================] - 19s 53ms/step - loss: 0.0701 - accuracy: 0.9240 - recall_8: 0.9325 - precision_8: 0.8121 - val_loss: 0.3982 - val_accuracy: 0.8619 - val_recall_8: 0.7810 - val_precision_8: 0.7151\n",
      "Epoch 142/2000\n",
      "357/357 [==============================] - 19s 53ms/step - loss: 0.0688 - accuracy: 0.9247 - recall_8: 0.9358 - precision_8: 0.8121 - val_loss: 0.4049 - val_accuracy: 0.8589 - val_recall_8: 0.8076 - val_precision_8: 0.6982\n",
      "Epoch 143/2000\n",
      "357/357 [==============================] - 19s 53ms/step - loss: 0.0697 - accuracy: 0.9248 - recall_8: 0.9357 - precision_8: 0.8125 - val_loss: 0.3965 - val_accuracy: 0.8627 - val_recall_8: 0.7994 - val_precision_8: 0.7100\n",
      "Epoch 144/2000\n",
      "357/357 [==============================] - 19s 53ms/step - loss: 0.0689 - accuracy: 0.9252 - recall_8: 0.9355 - precision_8: 0.8136 - val_loss: 0.3982 - val_accuracy: 0.8547 - val_recall_8: 0.8045 - val_precision_8: 0.6895\n",
      "Epoch 145/2000\n",
      "357/357 [==============================] - 19s 53ms/step - loss: 0.0692 - accuracy: 0.9244 - recall_8: 0.9355 - precision_8: 0.8115 - val_loss: 0.3877 - val_accuracy: 0.8592 - val_recall_8: 0.8014 - val_precision_8: 0.7010\n",
      "Epoch 146/2000\n",
      "357/357 [==============================] - 19s 53ms/step - loss: 0.0690 - accuracy: 0.9246 - recall_8: 0.9353 - precision_8: 0.8122 - val_loss: 0.3849 - val_accuracy: 0.8621 - val_recall_8: 0.7922 - val_precision_8: 0.7114\n",
      "Epoch 147/2000\n",
      "357/357 [==============================] - 19s 53ms/step - loss: 0.0696 - accuracy: 0.9229 - recall_8: 0.9347 - precision_8: 0.8081 - val_loss: 0.3909 - val_accuracy: 0.8597 - val_recall_8: 0.8045 - val_precision_8: 0.7012\n",
      "Epoch 148/2000\n",
      "357/357 [==============================] - 19s 53ms/step - loss: 0.0675 - accuracy: 0.9258 - recall_8: 0.9362 - precision_8: 0.8149 - val_loss: 0.4016 - val_accuracy: 0.8565 - val_recall_8: 0.7994 - val_precision_8: 0.6955\n",
      "Epoch 149/2000\n",
      "357/357 [==============================] - 19s 53ms/step - loss: 0.0689 - accuracy: 0.9249 - recall_8: 0.9359 - precision_8: 0.8126 - val_loss: 0.3985 - val_accuracy: 0.8597 - val_recall_8: 0.7932 - val_precision_8: 0.7052\n",
      "Epoch 150/2000\n",
      "357/357 [==============================] - 19s 53ms/step - loss: 0.0687 - accuracy: 0.9256 - recall_8: 0.9357 - precision_8: 0.8145 - val_loss: 0.3936 - val_accuracy: 0.8627 - val_recall_8: 0.7932 - val_precision_8: 0.7123\n",
      "Epoch 151/2000\n",
      "357/357 [==============================] - 19s 53ms/step - loss: 0.0684 - accuracy: 0.9260 - recall_8: 0.9359 - precision_8: 0.8156 - val_loss: 0.4037 - val_accuracy: 0.8552 - val_recall_8: 0.8035 - val_precision_8: 0.6910\n",
      "Epoch 152/2000\n",
      "357/357 [==============================] - 19s 53ms/step - loss: 0.0694 - accuracy: 0.9251 - recall_8: 0.9358 - precision_8: 0.8131 - val_loss: 0.3875 - val_accuracy: 0.8573 - val_recall_8: 0.8117 - val_precision_8: 0.6932\n",
      "Epoch 153/2000\n",
      "357/357 [==============================] - 19s 53ms/step - loss: 0.0681 - accuracy: 0.9258 - recall_8: 0.9359 - precision_8: 0.8151 - val_loss: 0.3970 - val_accuracy: 0.8568 - val_recall_8: 0.8147 - val_precision_8: 0.6910\n",
      "Epoch 154/2000\n",
      "357/357 [==============================] - 19s 53ms/step - loss: 0.0690 - accuracy: 0.9247 - recall_8: 0.9355 - precision_8: 0.8123 - val_loss: 0.3745 - val_accuracy: 0.8645 - val_recall_8: 0.7799 - val_precision_8: 0.7223\n",
      "Epoch 155/2000\n",
      "357/357 [==============================] - 19s 53ms/step - loss: 0.0686 - accuracy: 0.9252 - recall_8: 0.9354 - precision_8: 0.8136 - val_loss: 0.3864 - val_accuracy: 0.8669 - val_recall_8: 0.7973 - val_precision_8: 0.7213\n",
      "Epoch 156/2000\n",
      "357/357 [==============================] - 19s 53ms/step - loss: 0.0677 - accuracy: 0.9254 - recall_8: 0.9361 - precision_8: 0.8138 - val_loss: 0.3932 - val_accuracy: 0.8739 - val_recall_8: 0.7779 - val_precision_8: 0.7480\n",
      "Epoch 157/2000\n",
      "357/357 [==============================] - 19s 53ms/step - loss: 0.0673 - accuracy: 0.9271 - recall_8: 0.9398 - precision_8: 0.8163 - val_loss: 0.4016 - val_accuracy: 0.8672 - val_recall_8: 0.8004 - val_precision_8: 0.7207\n",
      "Epoch 158/2000\n",
      "357/357 [==============================] - 19s 53ms/step - loss: 0.0670 - accuracy: 0.9272 - recall_8: 0.9376 - precision_8: 0.8178 - val_loss: 0.3867 - val_accuracy: 0.8707 - val_recall_8: 0.8045 - val_precision_8: 0.7278\n",
      "Epoch 159/2000\n",
      "357/357 [==============================] - 19s 53ms/step - loss: 0.0678 - accuracy: 0.9273 - recall_8: 0.9362 - precision_8: 0.8188 - val_loss: 0.3786 - val_accuracy: 0.8755 - val_recall_8: 0.7912 - val_precision_8: 0.7461\n",
      "Epoch 160/2000\n",
      "357/357 [==============================] - 19s 53ms/step - loss: 0.0673 - accuracy: 0.9282 - recall_8: 0.9387 - precision_8: 0.8197 - val_loss: 0.3817 - val_accuracy: 0.8664 - val_recall_8: 0.8004 - val_precision_8: 0.7188\n",
      "Epoch 161/2000\n",
      "357/357 [==============================] - 19s 53ms/step - loss: 0.0667 - accuracy: 0.9274 - recall_8: 0.9366 - precision_8: 0.8189 - val_loss: 0.3981 - val_accuracy: 0.8680 - val_recall_8: 0.8066 - val_precision_8: 0.7203\n",
      "Epoch 162/2000\n",
      "357/357 [==============================] - 19s 53ms/step - loss: 0.0666 - accuracy: 0.9275 - recall_8: 0.9377 - precision_8: 0.8186 - val_loss: 0.3855 - val_accuracy: 0.8725 - val_recall_8: 0.7943 - val_precision_8: 0.7369\n",
      "Epoch 163/2000\n",
      "357/357 [==============================] - 19s 53ms/step - loss: 0.0677 - accuracy: 0.9267 - recall_8: 0.9376 - precision_8: 0.8164 - val_loss: 0.3813 - val_accuracy: 0.8747 - val_recall_8: 0.7718 - val_precision_8: 0.7532\n",
      "Epoch 164/2000\n",
      "357/357 [==============================] - 19s 53ms/step - loss: 0.0678 - accuracy: 0.9259 - recall_8: 0.9345 - precision_8: 0.8159 - val_loss: 0.3919 - val_accuracy: 0.8677 - val_recall_8: 0.8025 - val_precision_8: 0.7213\n",
      "Epoch 165/2000\n",
      "357/357 [==============================] - 19s 53ms/step - loss: 0.0678 - accuracy: 0.9265 - recall_8: 0.9372 - precision_8: 0.8163 - val_loss: 0.3878 - val_accuracy: 0.8693 - val_recall_8: 0.8014 - val_precision_8: 0.7257\n",
      "Epoch 166/2000\n",
      "357/357 [==============================] - 19s 53ms/step - loss: 0.0672 - accuracy: 0.9274 - recall_8: 0.9374 - precision_8: 0.8185 - val_loss: 0.3888 - val_accuracy: 0.8712 - val_recall_8: 0.7922 - val_precision_8: 0.7343\n",
      "Epoch 167/2000\n",
      "357/357 [==============================] - 19s 53ms/step - loss: 0.0664 - accuracy: 0.9274 - recall_8: 0.9379 - precision_8: 0.8181 - val_loss: 0.3963 - val_accuracy: 0.8707 - val_recall_8: 0.7912 - val_precision_8: 0.7334\n",
      "Epoch 168/2000\n",
      "357/357 [==============================] - 19s 53ms/step - loss: 0.0659 - accuracy: 0.9280 - recall_8: 0.9372 - precision_8: 0.8200 - val_loss: 0.3768 - val_accuracy: 0.8712 - val_recall_8: 0.7922 - val_precision_8: 0.7343\n",
      "Epoch 169/2000\n",
      "357/357 [==============================] - 19s 53ms/step - loss: 0.0673 - accuracy: 0.9268 - recall_8: 0.9367 - precision_8: 0.8172 - val_loss: 0.3977 - val_accuracy: 0.8669 - val_recall_8: 0.8045 - val_precision_8: 0.7185\n",
      "Epoch 170/2000\n",
      "357/357 [==============================] - 19s 53ms/step - loss: 0.0666 - accuracy: 0.9281 - recall_8: 0.9373 - precision_8: 0.8202 - val_loss: 0.3981 - val_accuracy: 0.8653 - val_recall_8: 0.8055 - val_precision_8: 0.7142\n",
      "Epoch 171/2000\n",
      "357/357 [==============================] - 19s 53ms/step - loss: 0.0659 - accuracy: 0.9292 - recall_8: 0.9391 - precision_8: 0.8222 - val_loss: 0.3881 - val_accuracy: 0.8736 - val_recall_8: 0.7963 - val_precision_8: 0.7388\n",
      "Epoch 172/2000\n"
     ]
    },
    {
     "name": "stdout",
     "output_type": "stream",
     "text": [
      "357/357 [==============================] - 19s 53ms/step - loss: 0.0664 - accuracy: 0.9288 - recall_8: 0.9395 - precision_8: 0.8211 - val_loss: 0.3922 - val_accuracy: 0.8645 - val_recall_8: 0.7994 - val_precision_8: 0.7145\n",
      "Epoch 173/2000\n",
      "357/357 [==============================] - 19s 53ms/step - loss: 0.0649 - accuracy: 0.9303 - recall_8: 0.9378 - precision_8: 0.8258 - val_loss: 0.3908 - val_accuracy: 0.8685 - val_recall_8: 0.7932 - val_precision_8: 0.7270\n",
      "Epoch 174/2000\n",
      "357/357 [==============================] - 19s 53ms/step - loss: 0.0659 - accuracy: 0.9291 - recall_8: 0.9383 - precision_8: 0.8225 - val_loss: 0.3937 - val_accuracy: 0.8723 - val_recall_8: 0.7984 - val_precision_8: 0.7345\n",
      "Epoch 175/2000\n",
      "357/357 [==============================] - 19s 53ms/step - loss: 0.0656 - accuracy: 0.9292 - recall_8: 0.9399 - precision_8: 0.8218 - val_loss: 0.3868 - val_accuracy: 0.8696 - val_recall_8: 0.8096 - val_precision_8: 0.7230\n",
      "Epoch 176/2000\n",
      "357/357 [==============================] - 19s 53ms/step - loss: 0.0658 - accuracy: 0.9285 - recall_8: 0.9386 - precision_8: 0.8207 - val_loss: 0.3917 - val_accuracy: 0.8717 - val_recall_8: 0.7922 - val_precision_8: 0.7357\n",
      "Epoch 177/2000\n",
      "357/357 [==============================] - 19s 53ms/step - loss: 0.0655 - accuracy: 0.9296 - recall_8: 0.9373 - precision_8: 0.8244 - val_loss: 0.3974 - val_accuracy: 0.8672 - val_recall_8: 0.8137 - val_precision_8: 0.7156\n",
      "Epoch 178/2000\n",
      "357/357 [==============================] - 19s 53ms/step - loss: 0.0662 - accuracy: 0.9272 - recall_8: 0.9384 - precision_8: 0.8173 - val_loss: 0.4014 - val_accuracy: 0.8693 - val_recall_8: 0.7973 - val_precision_8: 0.7274\n",
      "Epoch 179/2000\n",
      "357/357 [==============================] - 19s 53ms/step - loss: 0.0666 - accuracy: 0.9280 - recall_8: 0.9370 - precision_8: 0.8203 - val_loss: 0.3950 - val_accuracy: 0.8680 - val_recall_8: 0.7820 - val_precision_8: 0.7304\n",
      "Epoch 180/2000\n",
      "357/357 [==============================] - 19s 53ms/step - loss: 0.0665 - accuracy: 0.9275 - recall_8: 0.9404 - precision_8: 0.8171 - val_loss: 0.3869 - val_accuracy: 0.8637 - val_recall_8: 0.8004 - val_precision_8: 0.7122\n",
      "Epoch 181/2000\n",
      "357/357 [==============================] - 19s 53ms/step - loss: 0.0656 - accuracy: 0.9283 - recall_8: 0.9385 - precision_8: 0.8202 - val_loss: 0.4030 - val_accuracy: 0.8669 - val_recall_8: 0.7902 - val_precision_8: 0.7242\n",
      "Epoch 182/2000\n",
      "357/357 [==============================] - 19s 53ms/step - loss: 0.0654 - accuracy: 0.9302 - recall_8: 0.9412 - precision_8: 0.8237 - val_loss: 0.3974 - val_accuracy: 0.8632 - val_recall_8: 0.8076 - val_precision_8: 0.7083\n",
      "Epoch 183/2000\n",
      "357/357 [==============================] - 19s 53ms/step - loss: 0.0657 - accuracy: 0.9290 - recall_8: 0.9387 - precision_8: 0.8220 - val_loss: 0.4049 - val_accuracy: 0.8688 - val_recall_8: 0.7994 - val_precision_8: 0.7252\n",
      "Epoch 184/2000\n",
      "357/357 [==============================] - 19s 53ms/step - loss: 0.0645 - accuracy: 0.9298 - recall_8: 0.9405 - precision_8: 0.8232 - val_loss: 0.3904 - val_accuracy: 0.8669 - val_recall_8: 0.8004 - val_precision_8: 0.7201\n",
      "Epoch 185/2000\n",
      "357/357 [==============================] - 19s 53ms/step - loss: 0.0657 - accuracy: 0.9283 - recall_8: 0.9385 - precision_8: 0.8202 - val_loss: 0.4067 - val_accuracy: 0.8659 - val_recall_8: 0.7973 - val_precision_8: 0.7186\n",
      "Epoch 186/2000\n",
      "357/357 [==============================] - 19s 53ms/step - loss: 0.0653 - accuracy: 0.9283 - recall_8: 0.9392 - precision_8: 0.8198 - val_loss: 0.4038 - val_accuracy: 0.8619 - val_recall_8: 0.8147 - val_precision_8: 0.7026\n",
      "Epoch 187/2000\n",
      "357/357 [==============================] - 19s 53ms/step - loss: 0.0647 - accuracy: 0.9295 - recall_8: 0.9416 - precision_8: 0.8215 - val_loss: 0.3865 - val_accuracy: 0.8709 - val_recall_8: 0.8137 - val_precision_8: 0.7247\n",
      "Epoch 188/2000\n",
      "357/357 [==============================] - 19s 53ms/step - loss: 0.0639 - accuracy: 0.9305 - recall_8: 0.9404 - precision_8: 0.8251 - val_loss: 0.3992 - val_accuracy: 0.8707 - val_recall_8: 0.8066 - val_precision_8: 0.7269\n",
      "Epoch 189/2000\n",
      "357/357 [==============================] - 19s 53ms/step - loss: 0.0639 - accuracy: 0.9309 - recall_8: 0.9422 - precision_8: 0.8251 - val_loss: 0.3993 - val_accuracy: 0.8669 - val_recall_8: 0.7912 - val_precision_8: 0.7238\n",
      "Epoch 190/2000\n",
      "357/357 [==============================] - 19s 53ms/step - loss: 0.0648 - accuracy: 0.9294 - recall_8: 0.9406 - precision_8: 0.8219 - val_loss: 0.4056 - val_accuracy: 0.8616 - val_recall_8: 0.7963 - val_precision_8: 0.7086\n",
      "Epoch 191/2000\n",
      "357/357 [==============================] - 19s 53ms/step - loss: 0.0642 - accuracy: 0.9304 - recall_8: 0.9415 - precision_8: 0.8242 - val_loss: 0.4137 - val_accuracy: 0.8669 - val_recall_8: 0.7789 - val_precision_8: 0.7289\n",
      "Epoch 192/2000\n",
      "357/357 [==============================] - 19s 53ms/step - loss: 0.0650 - accuracy: 0.9296 - recall_8: 0.9395 - precision_8: 0.8232 - val_loss: 0.4224 - val_accuracy: 0.8592 - val_recall_8: 0.8127 - val_precision_8: 0.6971\n",
      "Epoch 193/2000\n",
      "357/357 [==============================] - 19s 54ms/step - loss: 0.0640 - accuracy: 0.9305 - recall_8: 0.9423 - precision_8: 0.8240 - val_loss: 0.4121 - val_accuracy: 0.8619 - val_recall_8: 0.7994 - val_precision_8: 0.7081\n",
      "Epoch 194/2000\n",
      "357/357 [==============================] - 19s 53ms/step - loss: 0.0638 - accuracy: 0.9304 - recall_8: 0.9411 - precision_8: 0.8244 - val_loss: 0.4172 - val_accuracy: 0.8579 - val_recall_8: 0.7932 - val_precision_8: 0.7007\n",
      "Epoch 195/2000\n",
      "357/357 [==============================] - 19s 53ms/step - loss: 0.0639 - accuracy: 0.9310 - recall_8: 0.9422 - precision_8: 0.8253 - val_loss: 0.4030 - val_accuracy: 0.8613 - val_recall_8: 0.7953 - val_precision_8: 0.7083\n",
      "Epoch 196/2000\n",
      "357/357 [==============================] - 19s 53ms/step - loss: 0.0645 - accuracy: 0.9302 - recall_8: 0.9391 - precision_8: 0.8248 - val_loss: 0.4122 - val_accuracy: 0.8619 - val_recall_8: 0.7932 - val_precision_8: 0.7104\n",
      "Epoch 197/2000\n",
      "357/357 [==============================] - 19s 53ms/step - loss: 0.0641 - accuracy: 0.9298 - recall_8: 0.9417 - precision_8: 0.8224 - val_loss: 0.4119 - val_accuracy: 0.8621 - val_recall_8: 0.7912 - val_precision_8: 0.7118\n",
      "Epoch 198/2000\n",
      "357/357 [==============================] - 19s 53ms/step - loss: 0.0641 - accuracy: 0.9315 - recall_8: 0.9409 - precision_8: 0.8274 - val_loss: 0.4004 - val_accuracy: 0.8661 - val_recall_8: 0.7892 - val_precision_8: 0.7226\n",
      "Epoch 199/2000\n",
      "357/357 [==============================] - 19s 53ms/step - loss: 0.0633 - accuracy: 0.9315 - recall_8: 0.9402 - precision_8: 0.8277 - val_loss: 0.3992 - val_accuracy: 0.8717 - val_recall_8: 0.7902 - val_precision_8: 0.7366\n",
      "Epoch 200/2000\n",
      "357/357 [==============================] - 19s 53ms/step - loss: 0.0634 - accuracy: 0.9321 - recall_8: 0.9429 - precision_8: 0.8280 - val_loss: 0.4132 - val_accuracy: 0.8715 - val_recall_8: 0.7871 - val_precision_8: 0.7373\n",
      "Epoch 201/2000\n",
      "357/357 [==============================] - 19s 53ms/step - loss: 0.0636 - accuracy: 0.9313 - recall_8: 0.9412 - precision_8: 0.8268 - val_loss: 0.3994 - val_accuracy: 0.8691 - val_recall_8: 0.8014 - val_precision_8: 0.7250\n",
      "Epoch 202/2000\n",
      "357/357 [==============================] - 19s 53ms/step - loss: 0.0648 - accuracy: 0.9310 - recall_8: 0.9403 - precision_8: 0.8263 - val_loss: 0.3966 - val_accuracy: 0.8699 - val_recall_8: 0.7943 - val_precision_8: 0.7300\n",
      "Epoch 203/2000\n",
      "357/357 [==============================] - 19s 53ms/step - loss: 0.0636 - accuracy: 0.9312 - recall_8: 0.9417 - precision_8: 0.8262 - val_loss: 0.4051 - val_accuracy: 0.8677 - val_recall_8: 0.7932 - val_precision_8: 0.7250\n",
      "Epoch 204/2000\n",
      "357/357 [==============================] - 19s 53ms/step - loss: 0.0631 - accuracy: 0.9317 - recall_8: 0.9413 - precision_8: 0.8276 - val_loss: 0.4057 - val_accuracy: 0.8704 - val_recall_8: 0.7902 - val_precision_8: 0.7331\n",
      "Epoch 205/2000\n",
      "357/357 [==============================] - 19s 53ms/step - loss: 0.0640 - accuracy: 0.9317 - recall_8: 0.9418 - precision_8: 0.8274 - val_loss: 0.4094 - val_accuracy: 0.8635 - val_recall_8: 0.8045 - val_precision_8: 0.7100\n",
      "Epoch 206/2000\n"
     ]
    },
    {
     "name": "stdout",
     "output_type": "stream",
     "text": [
      "357/357 [==============================] - 19s 53ms/step - loss: 0.0634 - accuracy: 0.9321 - recall_8: 0.9414 - precision_8: 0.8287 - val_loss: 0.4112 - val_accuracy: 0.8656 - val_recall_8: 0.7881 - val_precision_8: 0.7216\n",
      "Epoch 207/2000\n",
      "357/357 [==============================] - 19s 53ms/step - loss: 0.0624 - accuracy: 0.9322 - recall_8: 0.9412 - precision_8: 0.8291 - val_loss: 0.3946 - val_accuracy: 0.8669 - val_recall_8: 0.7871 - val_precision_8: 0.7255\n",
      "Epoch 208/2000\n",
      "357/357 [==============================] - 19s 53ms/step - loss: 0.0632 - accuracy: 0.9320 - recall_8: 0.9425 - precision_8: 0.8279 - val_loss: 0.3957 - val_accuracy: 0.8760 - val_recall_8: 0.7932 - val_precision_8: 0.7466\n",
      "Epoch 209/2000\n",
      "357/357 [==============================] - 19s 53ms/step - loss: 0.0635 - accuracy: 0.9315 - recall_8: 0.9409 - precision_8: 0.8275 - val_loss: 0.4050 - val_accuracy: 0.8712 - val_recall_8: 0.7932 - val_precision_8: 0.7339\n",
      "Epoch 210/2000\n",
      "357/357 [==============================] - 19s 53ms/step - loss: 0.0625 - accuracy: 0.9319 - recall_8: 0.9411 - precision_8: 0.8284 - val_loss: 0.4087 - val_accuracy: 0.8765 - val_recall_8: 0.7830 - val_precision_8: 0.7530\n",
      "Epoch 211/2000\n",
      "357/357 [==============================] - 19s 53ms/step - loss: 0.0643 - accuracy: 0.9309 - recall_8: 0.9413 - precision_8: 0.8256 - val_loss: 0.4141 - val_accuracy: 0.8680 - val_recall_8: 0.8025 - val_precision_8: 0.7219\n",
      "Epoch 212/2000\n",
      "357/357 [==============================] - 19s 53ms/step - loss: 0.0628 - accuracy: 0.9333 - recall_8: 0.9432 - precision_8: 0.8309 - val_loss: 0.4006 - val_accuracy: 0.8731 - val_recall_8: 0.8076 - val_precision_8: 0.7326\n",
      "Epoch 213/2000\n",
      "357/357 [==============================] - 19s 53ms/step - loss: 0.0634 - accuracy: 0.9318 - recall_8: 0.9406 - precision_8: 0.8285 - val_loss: 0.4119 - val_accuracy: 0.8600 - val_recall_8: 0.8209 - val_precision_8: 0.6962\n",
      "Epoch 214/2000\n",
      "357/357 [==============================] - 19s 53ms/step - loss: 0.0619 - accuracy: 0.9334 - recall_8: 0.9433 - precision_8: 0.8312 - val_loss: 0.4113 - val_accuracy: 0.8691 - val_recall_8: 0.7871 - val_precision_8: 0.7310\n",
      "Epoch 215/2000\n",
      "357/357 [==============================] - 19s 53ms/step - loss: 0.0627 - accuracy: 0.9324 - recall_8: 0.9428 - precision_8: 0.8288 - val_loss: 0.3832 - val_accuracy: 0.8672 - val_recall_8: 0.8086 - val_precision_8: 0.7175\n",
      "Epoch 216/2000\n",
      "357/357 [==============================] - 19s 53ms/step - loss: 0.0637 - accuracy: 0.9323 - recall_8: 0.9416 - precision_8: 0.8292 - val_loss: 0.3924 - val_accuracy: 0.8699 - val_recall_8: 0.8055 - val_precision_8: 0.7253\n",
      "Epoch 217/2000\n",
      "357/357 [==============================] - 19s 53ms/step - loss: 0.0625 - accuracy: 0.9328 - recall_8: 0.9431 - precision_8: 0.8297 - val_loss: 0.4016 - val_accuracy: 0.8592 - val_recall_8: 0.8158 - val_precision_8: 0.6961\n",
      "Epoch 218/2000\n",
      "357/357 [==============================] - 19s 53ms/step - loss: 0.0616 - accuracy: 0.9329 - recall_8: 0.9419 - precision_8: 0.8306 - val_loss: 0.4095 - val_accuracy: 0.8723 - val_recall_8: 0.7830 - val_precision_8: 0.7413\n",
      "Epoch 219/2000\n",
      "357/357 [==============================] - 19s 53ms/step - loss: 0.0631 - accuracy: 0.9316 - recall_8: 0.9414 - precision_8: 0.8274 - val_loss: 0.4059 - val_accuracy: 0.8648 - val_recall_8: 0.8096 - val_precision_8: 0.7113\n",
      "Epoch 220/2000\n",
      "357/357 [==============================] - 19s 53ms/step - loss: 0.0633 - accuracy: 0.9320 - recall_8: 0.9412 - precision_8: 0.8287 - val_loss: 0.4088 - val_accuracy: 0.8624 - val_recall_8: 0.8076 - val_precision_8: 0.7064\n",
      "Epoch 221/2000\n",
      "357/357 [==============================] - 19s 53ms/step - loss: 0.0617 - accuracy: 0.9325 - recall_8: 0.9408 - precision_8: 0.8302 - val_loss: 0.3952 - val_accuracy: 0.8696 - val_recall_8: 0.7810 - val_precision_8: 0.7351\n",
      "Epoch 222/2000\n",
      "357/357 [==============================] - 19s 53ms/step - loss: 0.0634 - accuracy: 0.9321 - recall_8: 0.9411 - precision_8: 0.8289 - val_loss: 0.4008 - val_accuracy: 0.8763 - val_recall_8: 0.7932 - val_precision_8: 0.7473\n",
      "Epoch 223/2000\n",
      "357/357 [==============================] - 19s 53ms/step - loss: 0.0625 - accuracy: 0.9337 - recall_8: 0.9407 - precision_8: 0.8336 - val_loss: 0.4092 - val_accuracy: 0.8685 - val_recall_8: 0.7963 - val_precision_8: 0.7257\n",
      "Epoch 224/2000\n",
      "357/357 [==============================] - 19s 53ms/step - loss: 0.0628 - accuracy: 0.9327 - recall_8: 0.9423 - precision_8: 0.8299 - val_loss: 0.4121 - val_accuracy: 0.8651 - val_recall_8: 0.7912 - val_precision_8: 0.7191\n",
      "Epoch 225/2000\n",
      "357/357 [==============================] - 19s 53ms/step - loss: 0.0617 - accuracy: 0.9323 - recall_8: 0.9434 - precision_8: 0.8281 - val_loss: 0.4138 - val_accuracy: 0.8699 - val_recall_8: 0.7769 - val_precision_8: 0.7376\n",
      "Epoch 226/2000\n",
      "357/357 [==============================] - 19s 53ms/step - loss: 0.0614 - accuracy: 0.9339 - recall_8: 0.9427 - precision_8: 0.8330 - val_loss: 0.4150 - val_accuracy: 0.8632 - val_recall_8: 0.8004 - val_precision_8: 0.7109\n",
      "Epoch 227/2000\n",
      "357/357 [==============================] - 19s 53ms/step - loss: 0.0627 - accuracy: 0.9320 - recall_8: 0.9407 - precision_8: 0.8289 - val_loss: 0.4014 - val_accuracy: 0.8661 - val_recall_8: 0.8014 - val_precision_8: 0.7177\n",
      "Epoch 228/2000\n",
      "357/357 [==============================] - 19s 53ms/step - loss: 0.0616 - accuracy: 0.9337 - recall_8: 0.9432 - precision_8: 0.8320 - val_loss: 0.4047 - val_accuracy: 0.8651 - val_recall_8: 0.7871 - val_precision_8: 0.7207\n",
      "Epoch 229/2000\n",
      "357/357 [==============================] - 19s 53ms/step - loss: 0.0625 - accuracy: 0.9327 - recall_8: 0.9416 - precision_8: 0.8302 - val_loss: 0.4041 - val_accuracy: 0.8659 - val_recall_8: 0.8076 - val_precision_8: 0.7147\n",
      "Epoch 230/2000\n",
      "357/357 [==============================] - 19s 53ms/step - loss: 0.0614 - accuracy: 0.9332 - recall_8: 0.9425 - precision_8: 0.8312 - val_loss: 0.4013 - val_accuracy: 0.8699 - val_recall_8: 0.7810 - val_precision_8: 0.7358\n",
      "Epoch 231/2000\n",
      "357/357 [==============================] - 19s 53ms/step - loss: 0.0614 - accuracy: 0.9344 - recall_8: 0.9427 - precision_8: 0.8343 - val_loss: 0.3894 - val_accuracy: 0.8659 - val_recall_8: 0.7922 - val_precision_8: 0.7207\n",
      "Epoch 232/2000\n",
      "357/357 [==============================] - 19s 53ms/step - loss: 0.0621 - accuracy: 0.9323 - recall_8: 0.9428 - precision_8: 0.8286 - val_loss: 0.4026 - val_accuracy: 0.8693 - val_recall_8: 0.8055 - val_precision_8: 0.7240\n",
      "Epoch 233/2000\n",
      "357/357 [==============================] - 19s 53ms/step - loss: 0.0618 - accuracy: 0.9336 - recall_8: 0.9446 - precision_8: 0.8309 - val_loss: 0.3983 - val_accuracy: 0.8683 - val_recall_8: 0.7973 - val_precision_8: 0.7247\n",
      "Epoch 234/2000\n",
      "357/357 [==============================] - 19s 53ms/step - loss: 0.0609 - accuracy: 0.9334 - recall_8: 0.9433 - precision_8: 0.8311 - val_loss: 0.4013 - val_accuracy: 0.8709 - val_recall_8: 0.7994 - val_precision_8: 0.7306\n",
      "Epoch 235/2000\n",
      "357/357 [==============================] - 19s 53ms/step - loss: 0.0617 - accuracy: 0.9337 - recall_8: 0.9438 - precision_8: 0.8316 - val_loss: 0.4043 - val_accuracy: 0.8744 - val_recall_8: 0.8014 - val_precision_8: 0.7387\n",
      "Epoch 236/2000\n",
      "357/357 [==============================] - 19s 53ms/step - loss: 0.0615 - accuracy: 0.9331 - recall_8: 0.9427 - precision_8: 0.8307 - val_loss: 0.3969 - val_accuracy: 0.8685 - val_recall_8: 0.7953 - val_precision_8: 0.7262\n",
      "Epoch 237/2000\n",
      "357/357 [==============================] - 19s 53ms/step - loss: 0.0603 - accuracy: 0.9353 - recall_8: 0.9448 - precision_8: 0.8355 - val_loss: 0.4205 - val_accuracy: 0.8635 - val_recall_8: 0.8066 - val_precision_8: 0.7093\n",
      "Epoch 238/2000\n",
      "357/357 [==============================] - 19s 53ms/step - loss: 0.0611 - accuracy: 0.9344 - recall_8: 0.9440 - precision_8: 0.8335 - val_loss: 0.4001 - val_accuracy: 0.8704 - val_recall_8: 0.8106 - val_precision_8: 0.7246\n",
      "Epoch 239/2000\n",
      "357/357 [==============================] - 19s 53ms/step - loss: 0.0624 - accuracy: 0.9335 - recall_8: 0.9412 - precision_8: 0.8327 - val_loss: 0.3952 - val_accuracy: 0.8669 - val_recall_8: 0.8158 - val_precision_8: 0.7142\n",
      "Epoch 240/2000\n"
     ]
    },
    {
     "name": "stdout",
     "output_type": "stream",
     "text": [
      "357/357 [==============================] - 19s 53ms/step - loss: 0.0622 - accuracy: 0.9335 - recall_8: 0.9433 - precision_8: 0.8314 - val_loss: 0.3941 - val_accuracy: 0.8749 - val_recall_8: 0.8127 - val_precision_8: 0.7352\n",
      "Epoch 241/2000\n",
      "357/357 [==============================] - 19s 53ms/step - loss: 0.0614 - accuracy: 0.9345 - recall_8: 0.9424 - precision_8: 0.8348 - val_loss: 0.4023 - val_accuracy: 0.8715 - val_recall_8: 0.7943 - val_precision_8: 0.7342\n",
      "Epoch 242/2000\n",
      "357/357 [==============================] - 19s 53ms/step - loss: 0.0617 - accuracy: 0.9342 - recall_8: 0.9416 - precision_8: 0.8345 - val_loss: 0.3918 - val_accuracy: 0.8747 - val_recall_8: 0.7922 - val_precision_8: 0.7435\n",
      "Epoch 243/2000\n",
      "357/357 [==============================] - 19s 53ms/step - loss: 0.0606 - accuracy: 0.9356 - recall_8: 0.9427 - precision_8: 0.8376 - val_loss: 0.3979 - val_accuracy: 0.8728 - val_recall_8: 0.8045 - val_precision_8: 0.7332\n",
      "Epoch 244/2000\n",
      "357/357 [==============================] - 19s 53ms/step - loss: 0.0617 - accuracy: 0.9332 - recall_8: 0.9414 - precision_8: 0.8318 - val_loss: 0.4039 - val_accuracy: 0.8728 - val_recall_8: 0.8055 - val_precision_8: 0.7328\n",
      "Epoch 245/2000\n",
      "357/357 [==============================] - 19s 53ms/step - loss: 0.0609 - accuracy: 0.9350 - recall_8: 0.9431 - precision_8: 0.8356 - val_loss: 0.4015 - val_accuracy: 0.8693 - val_recall_8: 0.8045 - val_precision_8: 0.7244\n",
      "Epoch 246/2000\n",
      "357/357 [==============================] - 19s 53ms/step - loss: 0.0606 - accuracy: 0.9353 - recall_8: 0.9433 - precision_8: 0.8365 - val_loss: 0.4159 - val_accuracy: 0.8696 - val_recall_8: 0.7871 - val_precision_8: 0.7324\n",
      "Epoch 247/2000\n",
      "357/357 [==============================] - 19s 53ms/step - loss: 0.0608 - accuracy: 0.9347 - recall_8: 0.9432 - precision_8: 0.8348 - val_loss: 0.3973 - val_accuracy: 0.8723 - val_recall_8: 0.7851 - val_precision_8: 0.7403\n",
      "Epoch 248/2000\n",
      "357/357 [==============================] - 19s 53ms/step - loss: 0.0617 - accuracy: 0.9336 - recall_8: 0.9417 - precision_8: 0.8327 - val_loss: 0.4019 - val_accuracy: 0.8701 - val_recall_8: 0.8025 - val_precision_8: 0.7273\n",
      "Epoch 249/2000\n",
      "357/357 [==============================] - 19s 53ms/step - loss: 0.0624 - accuracy: 0.9338 - recall_8: 0.9433 - precision_8: 0.8322 - val_loss: 0.3956 - val_accuracy: 0.8691 - val_recall_8: 0.7973 - val_precision_8: 0.7267\n",
      "Epoch 250/2000\n",
      "357/357 [==============================] - 19s 53ms/step - loss: 0.0606 - accuracy: 0.9346 - recall_8: 0.9438 - precision_8: 0.8343 - val_loss: 0.4092 - val_accuracy: 0.8691 - val_recall_8: 0.7963 - val_precision_8: 0.7271\n",
      "Epoch 251/2000\n",
      "357/357 [==============================] - 19s 53ms/step - loss: 0.0592 - accuracy: 0.9372 - recall_8: 0.9461 - precision_8: 0.8400 - val_loss: 0.4112 - val_accuracy: 0.8752 - val_recall_8: 0.8014 - val_precision_8: 0.7408\n",
      "Epoch 252/2000\n",
      "357/357 [==============================] - 19s 54ms/step - loss: 0.0616 - accuracy: 0.9343 - recall_8: 0.9435 - precision_8: 0.8335 - val_loss: 0.3909 - val_accuracy: 0.8736 - val_recall_8: 0.7902 - val_precision_8: 0.7416\n",
      "Epoch 253/2000\n",
      "357/357 [==============================] - 19s 53ms/step - loss: 0.0602 - accuracy: 0.9366 - recall_8: 0.9443 - precision_8: 0.8393 - val_loss: 0.3930 - val_accuracy: 0.8760 - val_recall_8: 0.7932 - val_precision_8: 0.7466\n",
      "Epoch 254/2000\n",
      "357/357 [==============================] - 19s 53ms/step - loss: 0.0596 - accuracy: 0.9363 - recall_8: 0.9448 - precision_8: 0.8382 - val_loss: 0.3953 - val_accuracy: 0.8773 - val_recall_8: 0.7789 - val_precision_8: 0.7572\n",
      "Epoch 255/2000\n",
      "357/357 [==============================] - 19s 53ms/step - loss: 0.0604 - accuracy: 0.9350 - recall_8: 0.9425 - precision_8: 0.8359 - val_loss: 0.4063 - val_accuracy: 0.8768 - val_recall_8: 0.7963 - val_precision_8: 0.7474\n",
      "Epoch 256/2000\n",
      "357/357 [==============================] - 19s 53ms/step - loss: 0.0589 - accuracy: 0.9371 - recall_8: 0.9458 - precision_8: 0.8400 - val_loss: 0.4121 - val_accuracy: 0.8752 - val_recall_8: 0.8045 - val_precision_8: 0.7394\n",
      "Epoch 257/2000\n",
      "357/357 [==============================] - 19s 53ms/step - loss: 0.0605 - accuracy: 0.9350 - recall_8: 0.9431 - precision_8: 0.8357 - val_loss: 0.3999 - val_accuracy: 0.8643 - val_recall_8: 0.8066 - val_precision_8: 0.7112\n",
      "Epoch 258/2000\n",
      "357/357 [==============================] - 19s 53ms/step - loss: 0.0594 - accuracy: 0.9369 - recall_8: 0.9449 - precision_8: 0.8399 - val_loss: 0.3984 - val_accuracy: 0.8771 - val_recall_8: 0.7943 - val_precision_8: 0.7490\n",
      "Epoch 259/2000\n",
      "357/357 [==============================] - 19s 53ms/step - loss: 0.0609 - accuracy: 0.9347 - recall_8: 0.9425 - precision_8: 0.8352 - val_loss: 0.4001 - val_accuracy: 0.8736 - val_recall_8: 0.7861 - val_precision_8: 0.7435\n",
      "Epoch 260/2000\n",
      "357/357 [==============================] - 19s 53ms/step - loss: 0.0610 - accuracy: 0.9348 - recall_8: 0.9415 - precision_8: 0.8362 - val_loss: 0.3905 - val_accuracy: 0.8733 - val_recall_8: 0.7912 - val_precision_8: 0.7404\n",
      "Epoch 261/2000\n",
      "357/357 [==============================] - 19s 53ms/step - loss: 0.0597 - accuracy: 0.9357 - recall_8: 0.9439 - precision_8: 0.8371 - val_loss: 0.4006 - val_accuracy: 0.8693 - val_recall_8: 0.8086 - val_precision_8: 0.7228\n",
      "Epoch 262/2000\n",
      "357/357 [==============================] - 19s 53ms/step - loss: 0.0587 - accuracy: 0.9367 - recall_8: 0.9453 - precision_8: 0.8393 - val_loss: 0.3963 - val_accuracy: 0.8827 - val_recall_8: 0.7912 - val_precision_8: 0.7661\n",
      "Epoch 263/2000\n",
      "357/357 [==============================] - 19s 53ms/step - loss: 0.0596 - accuracy: 0.9368 - recall_8: 0.9441 - precision_8: 0.8403 - val_loss: 0.4086 - val_accuracy: 0.8763 - val_recall_8: 0.8055 - val_precision_8: 0.7418\n",
      "Epoch 264/2000\n",
      "357/357 [==============================] - 19s 53ms/step - loss: 0.0601 - accuracy: 0.9355 - recall_8: 0.9446 - precision_8: 0.8361 - val_loss: 0.4043 - val_accuracy: 0.8789 - val_recall_8: 0.7973 - val_precision_8: 0.7527\n",
      "Epoch 265/2000\n",
      "357/357 [==============================] - 19s 53ms/step - loss: 0.0590 - accuracy: 0.9379 - recall_8: 0.9467 - precision_8: 0.8417 - val_loss: 0.3911 - val_accuracy: 0.8792 - val_recall_8: 0.7922 - val_precision_8: 0.7559\n",
      "Epoch 266/2000\n",
      "357/357 [==============================] - 19s 53ms/step - loss: 0.0597 - accuracy: 0.9356 - recall_8: 0.9439 - precision_8: 0.8368 - val_loss: 0.3975 - val_accuracy: 0.8747 - val_recall_8: 0.8035 - val_precision_8: 0.7385\n",
      "Epoch 267/2000\n",
      "357/357 [==============================] - 19s 53ms/step - loss: 0.0589 - accuracy: 0.9366 - recall_8: 0.9453 - precision_8: 0.8388 - val_loss: 0.3925 - val_accuracy: 0.8707 - val_recall_8: 0.7871 - val_precision_8: 0.7352\n",
      "Epoch 268/2000\n",
      "357/357 [==============================] - 19s 53ms/step - loss: 0.0592 - accuracy: 0.9360 - recall_8: 0.9450 - precision_8: 0.8374 - val_loss: 0.3967 - val_accuracy: 0.8747 - val_recall_8: 0.7769 - val_precision_8: 0.7507\n",
      "Epoch 269/2000\n",
      "357/357 [==============================] - 19s 53ms/step - loss: 0.0592 - accuracy: 0.9370 - recall_8: 0.9438 - precision_8: 0.8407 - val_loss: 0.3843 - val_accuracy: 0.8739 - val_recall_8: 0.7902 - val_precision_8: 0.7423\n",
      "Epoch 270/2000\n",
      "357/357 [==============================] - 19s 53ms/step - loss: 0.0588 - accuracy: 0.9365 - recall_8: 0.9460 - precision_8: 0.8383 - val_loss: 0.3970 - val_accuracy: 0.8763 - val_recall_8: 0.7769 - val_precision_8: 0.7552\n",
      "Epoch 271/2000\n",
      "357/357 [==============================] - 19s 53ms/step - loss: 0.0578 - accuracy: 0.9387 - recall_8: 0.9468 - precision_8: 0.8438 - val_loss: 0.3918 - val_accuracy: 0.8739 - val_recall_8: 0.8096 - val_precision_8: 0.7338\n",
      "Epoch 272/2000\n",
      "357/357 [==============================] - 19s 53ms/step - loss: 0.0583 - accuracy: 0.9379 - recall_8: 0.9462 - precision_8: 0.8418 - val_loss: 0.4012 - val_accuracy: 0.8664 - val_recall_8: 0.7943 - val_precision_8: 0.7212\n",
      "Epoch 273/2000\n",
      "357/357 [==============================] - 19s 53ms/step - loss: 0.0600 - accuracy: 0.9365 - recall_8: 0.9462 - precision_8: 0.8381 - val_loss: 0.4037 - val_accuracy: 0.8712 - val_recall_8: 0.7830 - val_precision_8: 0.7384\n",
      "Epoch 274/2000\n"
     ]
    },
    {
     "name": "stdout",
     "output_type": "stream",
     "text": [
      "357/357 [==============================] - 19s 53ms/step - loss: 0.0586 - accuracy: 0.9376 - recall_8: 0.9453 - precision_8: 0.8418 - val_loss: 0.3902 - val_accuracy: 0.8731 - val_recall_8: 0.7871 - val_precision_8: 0.7416\n",
      "Epoch 275/2000\n",
      "357/357 [==============================] - 19s 53ms/step - loss: 0.0593 - accuracy: 0.9363 - recall_8: 0.9443 - precision_8: 0.8387 - val_loss: 0.3964 - val_accuracy: 0.8696 - val_recall_8: 0.7871 - val_precision_8: 0.7324\n",
      "Epoch 276/2000\n",
      "357/357 [==============================] - 19s 53ms/step - loss: 0.0598 - accuracy: 0.9369 - recall_8: 0.9456 - precision_8: 0.8395 - val_loss: 0.3904 - val_accuracy: 0.8741 - val_recall_8: 0.7963 - val_precision_8: 0.7402\n",
      "Epoch 277/2000\n",
      "357/357 [==============================] - 19s 53ms/step - loss: 0.0589 - accuracy: 0.9356 - recall_8: 0.9450 - precision_8: 0.8363 - val_loss: 0.3952 - val_accuracy: 0.8755 - val_recall_8: 0.8025 - val_precision_8: 0.7410\n",
      "Epoch 278/2000\n",
      "357/357 [==============================] - 19s 53ms/step - loss: 0.0592 - accuracy: 0.9375 - recall_8: 0.9448 - precision_8: 0.8417 - val_loss: 0.3967 - val_accuracy: 0.8707 - val_recall_8: 0.7932 - val_precision_8: 0.7325\n",
      "Epoch 279/2000\n",
      "357/357 [==============================] - 19s 53ms/step - loss: 0.0580 - accuracy: 0.9373 - recall_8: 0.9467 - precision_8: 0.8401 - val_loss: 0.3996 - val_accuracy: 0.8683 - val_recall_8: 0.8106 - val_precision_8: 0.7193\n",
      "Epoch 280/2000\n",
      "357/357 [==============================] - 19s 53ms/step - loss: 0.0591 - accuracy: 0.9376 - recall_8: 0.9460 - precision_8: 0.8412 - val_loss: 0.4079 - val_accuracy: 0.8725 - val_recall_8: 0.7922 - val_precision_8: 0.7378\n",
      "Epoch 281/2000\n",
      "357/357 [==============================] - 19s 53ms/step - loss: 0.0600 - accuracy: 0.9357 - recall_8: 0.9413 - precision_8: 0.8387 - val_loss: 0.4038 - val_accuracy: 0.8685 - val_recall_8: 0.8137 - val_precision_8: 0.7188\n",
      "Epoch 282/2000\n",
      "357/357 [==============================] - 19s 53ms/step - loss: 0.0586 - accuracy: 0.9373 - recall_8: 0.9450 - precision_8: 0.8408 - val_loss: 0.4033 - val_accuracy: 0.8736 - val_recall_8: 0.7963 - val_precision_8: 0.7388\n",
      "Epoch 283/2000\n",
      "357/357 [==============================] - 19s 53ms/step - loss: 0.0593 - accuracy: 0.9370 - recall_8: 0.9446 - precision_8: 0.8404 - val_loss: 0.4078 - val_accuracy: 0.8685 - val_recall_8: 0.7892 - val_precision_8: 0.7287\n",
      "Epoch 284/2000\n",
      "357/357 [==============================] - 19s 53ms/step - loss: 0.0587 - accuracy: 0.9369 - recall_8: 0.9460 - precision_8: 0.8393 - val_loss: 0.4127 - val_accuracy: 0.8685 - val_recall_8: 0.8066 - val_precision_8: 0.7216\n",
      "Epoch 285/2000\n",
      "357/357 [==============================] - 19s 53ms/step - loss: 0.0586 - accuracy: 0.9385 - recall_8: 0.9464 - precision_8: 0.8433 - val_loss: 0.3980 - val_accuracy: 0.8731 - val_recall_8: 0.7922 - val_precision_8: 0.7393\n",
      "Epoch 286/2000\n",
      "357/357 [==============================] - 19s 53ms/step - loss: 0.0587 - accuracy: 0.9382 - recall_8: 0.9466 - precision_8: 0.8426 - val_loss: 0.4049 - val_accuracy: 0.8680 - val_recall_8: 0.8066 - val_precision_8: 0.7203\n",
      "Epoch 287/2000\n",
      "357/357 [==============================] - 19s 53ms/step - loss: 0.0579 - accuracy: 0.9366 - recall_8: 0.9451 - precision_8: 0.8390 - val_loss: 0.4076 - val_accuracy: 0.8661 - val_recall_8: 0.8014 - val_precision_8: 0.7177\n",
      "Epoch 288/2000\n",
      "357/357 [==============================] - 19s 53ms/step - loss: 0.0592 - accuracy: 0.9357 - recall_8: 0.9455 - precision_8: 0.8361 - val_loss: 0.3952 - val_accuracy: 0.8709 - val_recall_8: 0.7799 - val_precision_8: 0.7391\n",
      "Epoch 289/2000\n",
      "357/357 [==============================] - 19s 53ms/step - loss: 0.0575 - accuracy: 0.9384 - recall_8: 0.9463 - precision_8: 0.8434 - val_loss: 0.4106 - val_accuracy: 0.8629 - val_recall_8: 0.8055 - val_precision_8: 0.7084\n",
      "Epoch 290/2000\n",
      "357/357 [==============================] - 19s 53ms/step - loss: 0.0582 - accuracy: 0.9386 - recall_8: 0.9466 - precision_8: 0.8435 - val_loss: 0.4125 - val_accuracy: 0.8685 - val_recall_8: 0.8025 - val_precision_8: 0.7232\n",
      "Epoch 291/2000\n",
      "357/357 [==============================] - 19s 53ms/step - loss: 0.0589 - accuracy: 0.9370 - recall_8: 0.9445 - precision_8: 0.8403 - val_loss: 0.4168 - val_accuracy: 0.8659 - val_recall_8: 0.8045 - val_precision_8: 0.7158\n",
      "Epoch 292/2000\n",
      "357/357 [==============================] - 19s 53ms/step - loss: 0.0585 - accuracy: 0.9378 - recall_8: 0.9465 - precision_8: 0.8414 - val_loss: 0.3985 - val_accuracy: 0.8677 - val_recall_8: 0.8004 - val_precision_8: 0.7221\n",
      "Epoch 293/2000\n",
      "357/357 [==============================] - 19s 53ms/step - loss: 0.0583 - accuracy: 0.9388 - recall_8: 0.9478 - precision_8: 0.8435 - val_loss: 0.4036 - val_accuracy: 0.8699 - val_recall_8: 0.7861 - val_precision_8: 0.7335\n",
      "Epoch 294/2000\n",
      "357/357 [==============================] - 19s 53ms/step - loss: 0.0573 - accuracy: 0.9390 - recall_8: 0.9462 - precision_8: 0.8448 - val_loss: 0.4050 - val_accuracy: 0.8645 - val_recall_8: 0.8137 - val_precision_8: 0.7092\n",
      "Epoch 295/2000\n",
      "357/357 [==============================] - 19s 53ms/step - loss: 0.0581 - accuracy: 0.9386 - recall_8: 0.9447 - precision_8: 0.8449 - val_loss: 0.4138 - val_accuracy: 0.8709 - val_recall_8: 0.7994 - val_precision_8: 0.7306\n",
      "Epoch 296/2000\n",
      "357/357 [==============================] - 19s 53ms/step - loss: 0.0594 - accuracy: 0.9368 - recall_8: 0.9452 - precision_8: 0.8394 - val_loss: 0.4089 - val_accuracy: 0.8741 - val_recall_8: 0.7902 - val_precision_8: 0.7430\n",
      "Epoch 297/2000\n",
      "357/357 [==============================] - 19s 53ms/step - loss: 0.0588 - accuracy: 0.9374 - recall_8: 0.9469 - precision_8: 0.8400 - val_loss: 0.4032 - val_accuracy: 0.8723 - val_recall_8: 0.7892 - val_precision_8: 0.7385\n",
      "Epoch 298/2000\n",
      "357/357 [==============================] - 19s 53ms/step - loss: 0.0579 - accuracy: 0.9380 - recall_8: 0.9466 - precision_8: 0.8419 - val_loss: 0.4105 - val_accuracy: 0.8725 - val_recall_8: 0.7902 - val_precision_8: 0.7388\n",
      "Epoch 299/2000\n",
      "357/357 [==============================] - 19s 53ms/step - loss: 0.0581 - accuracy: 0.9378 - recall_8: 0.9459 - precision_8: 0.8417 - val_loss: 0.4044 - val_accuracy: 0.8693 - val_recall_8: 0.8004 - val_precision_8: 0.7261\n",
      "Epoch 300/2000\n",
      "357/357 [==============================] - 19s 54ms/step - loss: 0.0586 - accuracy: 0.9378 - recall_8: 0.9462 - precision_8: 0.8417 - val_loss: 0.4012 - val_accuracy: 0.8693 - val_recall_8: 0.7799 - val_precision_8: 0.7348\n",
      "Epoch 301/2000\n",
      "357/357 [==============================] - 19s 53ms/step - loss: 0.0579 - accuracy: 0.9387 - recall_8: 0.9473 - precision_8: 0.8435 - val_loss: 0.4242 - val_accuracy: 0.8672 - val_recall_8: 0.8076 - val_precision_8: 0.7179\n",
      "Epoch 302/2000\n",
      "357/357 [==============================] - 19s 53ms/step - loss: 0.0576 - accuracy: 0.9390 - recall_8: 0.9489 - precision_8: 0.8434 - val_loss: 0.3944 - val_accuracy: 0.8685 - val_recall_8: 0.7892 - val_precision_8: 0.7287\n",
      "Epoch 303/2000\n",
      "357/357 [==============================] - 19s 53ms/step - loss: 0.0578 - accuracy: 0.9385 - recall_8: 0.9464 - precision_8: 0.8434 - val_loss: 0.3964 - val_accuracy: 0.8659 - val_recall_8: 0.8045 - val_precision_8: 0.7158\n",
      "Epoch 304/2000\n",
      "357/357 [==============================] - 19s 53ms/step - loss: 0.0584 - accuracy: 0.9373 - recall_8: 0.9449 - precision_8: 0.8410 - val_loss: 0.4021 - val_accuracy: 0.8763 - val_recall_8: 0.7851 - val_precision_8: 0.7512\n",
      "Epoch 305/2000\n",
      "357/357 [==============================] - 19s 53ms/step - loss: 0.0583 - accuracy: 0.9376 - recall_8: 0.9463 - precision_8: 0.8411 - val_loss: 0.3957 - val_accuracy: 0.8709 - val_recall_8: 0.7892 - val_precision_8: 0.7350\n",
      "Epoch 306/2000\n",
      "357/357 [==============================] - 19s 53ms/step - loss: 0.0588 - accuracy: 0.9375 - recall_8: 0.9447 - precision_8: 0.8416 - val_loss: 0.4029 - val_accuracy: 0.8717 - val_recall_8: 0.7932 - val_precision_8: 0.7353\n",
      "Epoch 307/2000\n",
      "357/357 [==============================] - 19s 53ms/step - loss: 0.0584 - accuracy: 0.9380 - recall_8: 0.9458 - precision_8: 0.8425 - val_loss: 0.4051 - val_accuracy: 0.8752 - val_recall_8: 0.7973 - val_precision_8: 0.7426\n",
      "Epoch 308/2000\n"
     ]
    },
    {
     "name": "stdout",
     "output_type": "stream",
     "text": [
      "357/357 [==============================] - 19s 53ms/step - loss: 0.0583 - accuracy: 0.9375 - recall_8: 0.9467 - precision_8: 0.8403 - val_loss: 0.4101 - val_accuracy: 0.8667 - val_recall_8: 0.8066 - val_precision_8: 0.7170\n",
      "Epoch 309/2000\n",
      "357/357 [==============================] - 19s 53ms/step - loss: 0.0558 - accuracy: 0.9405 - recall_8: 0.9499 - precision_8: 0.8469 - val_loss: 0.4064 - val_accuracy: 0.8744 - val_recall_8: 0.7892 - val_precision_8: 0.7442\n",
      "Epoch 310/2000\n",
      "357/357 [==============================] - 19s 53ms/step - loss: 0.0570 - accuracy: 0.9399 - recall_8: 0.9476 - precision_8: 0.8466 - val_loss: 0.4124 - val_accuracy: 0.8717 - val_recall_8: 0.7953 - val_precision_8: 0.7344\n",
      "Epoch 311/2000\n",
      "357/357 [==============================] - 19s 53ms/step - loss: 0.0578 - accuracy: 0.9381 - recall_8: 0.9450 - precision_8: 0.8433 - val_loss: 0.4065 - val_accuracy: 0.8720 - val_recall_8: 0.7963 - val_precision_8: 0.7347\n",
      "Epoch 312/2000\n",
      "357/357 [==============================] - 19s 53ms/step - loss: 0.0573 - accuracy: 0.9383 - recall_8: 0.9472 - precision_8: 0.8423 - val_loss: 0.4153 - val_accuracy: 0.8675 - val_recall_8: 0.8096 - val_precision_8: 0.7178\n",
      "Epoch 313/2000\n",
      "357/357 [==============================] - 19s 53ms/step - loss: 0.0575 - accuracy: 0.9388 - recall_8: 0.9481 - precision_8: 0.8432 - val_loss: 0.4078 - val_accuracy: 0.8693 - val_recall_8: 0.8066 - val_precision_8: 0.7236\n",
      "Epoch 314/2000\n",
      "357/357 [==============================] - 19s 53ms/step - loss: 0.0567 - accuracy: 0.9393 - recall_8: 0.9473 - precision_8: 0.8451 - val_loss: 0.4133 - val_accuracy: 0.8763 - val_recall_8: 0.7892 - val_precision_8: 0.7493\n",
      "Epoch 315/2000\n",
      "357/357 [==============================] - 19s 53ms/step - loss: 0.0570 - accuracy: 0.9386 - recall_8: 0.9484 - precision_8: 0.8427 - val_loss: 0.4077 - val_accuracy: 0.8765 - val_recall_8: 0.7789 - val_precision_8: 0.7550\n",
      "Epoch 316/2000\n",
      "357/357 [==============================] - 19s 53ms/step - loss: 0.0570 - accuracy: 0.9391 - recall_8: 0.9469 - precision_8: 0.8449 - val_loss: 0.4032 - val_accuracy: 0.8728 - val_recall_8: 0.7861 - val_precision_8: 0.7413\n",
      "Epoch 317/2000\n",
      "357/357 [==============================] - 19s 53ms/step - loss: 0.0567 - accuracy: 0.9392 - recall_8: 0.9473 - precision_8: 0.8447 - val_loss: 0.4111 - val_accuracy: 0.8739 - val_recall_8: 0.8014 - val_precision_8: 0.7373\n",
      "Epoch 318/2000\n",
      "357/357 [==============================] - 19s 53ms/step - loss: 0.0571 - accuracy: 0.9386 - recall_8: 0.9476 - precision_8: 0.8430 - val_loss: 0.4013 - val_accuracy: 0.8715 - val_recall_8: 0.7810 - val_precision_8: 0.7401\n",
      "Epoch 319/2000\n",
      "357/357 [==============================] - 19s 53ms/step - loss: 0.0581 - accuracy: 0.9378 - recall_8: 0.9450 - precision_8: 0.8424 - val_loss: 0.4012 - val_accuracy: 0.8731 - val_recall_8: 0.7820 - val_precision_8: 0.7439\n",
      "Epoch 320/2000\n",
      "357/357 [==============================] - 19s 53ms/step - loss: 0.0571 - accuracy: 0.9391 - recall_8: 0.9481 - precision_8: 0.8440 - val_loss: 0.4210 - val_accuracy: 0.8765 - val_recall_8: 0.7789 - val_precision_8: 0.7550\n",
      "Epoch 321/2000\n",
      "357/357 [==============================] - 19s 53ms/step - loss: 0.0567 - accuracy: 0.9400 - recall_8: 0.9477 - precision_8: 0.8469 - val_loss: 0.4184 - val_accuracy: 0.8680 - val_recall_8: 0.8014 - val_precision_8: 0.7223\n",
      "Epoch 322/2000\n",
      "357/357 [==============================] - 19s 53ms/step - loss: 0.0556 - accuracy: 0.9409 - recall_8: 0.9490 - precision_8: 0.8485 - val_loss: 0.4240 - val_accuracy: 0.8691 - val_recall_8: 0.8045 - val_precision_8: 0.7238\n",
      "Epoch 323/2000\n",
      "357/357 [==============================] - 19s 53ms/step - loss: 0.0568 - accuracy: 0.9391 - recall_8: 0.9467 - precision_8: 0.8450 - val_loss: 0.4027 - val_accuracy: 0.8736 - val_recall_8: 0.7984 - val_precision_8: 0.7379\n",
      "Epoch 324/2000\n",
      "357/357 [==============================] - 19s 53ms/step - loss: 0.0564 - accuracy: 0.9402 - recall_8: 0.9483 - precision_8: 0.8471 - val_loss: 0.4046 - val_accuracy: 0.8725 - val_recall_8: 0.7861 - val_precision_8: 0.7406\n",
      "Epoch 325/2000\n",
      "357/357 [==============================] - 19s 53ms/step - loss: 0.0567 - accuracy: 0.9387 - recall_8: 0.9487 - precision_8: 0.8426 - val_loss: 0.3991 - val_accuracy: 0.8691 - val_recall_8: 0.7912 - val_precision_8: 0.7292\n",
      "Epoch 326/2000\n",
      "357/357 [==============================] - 19s 53ms/step - loss: 0.0574 - accuracy: 0.9395 - recall_8: 0.9468 - precision_8: 0.8461 - val_loss: 0.3975 - val_accuracy: 0.8723 - val_recall_8: 0.7871 - val_precision_8: 0.7394\n",
      "Epoch 327/2000\n",
      "357/357 [==============================] - 19s 53ms/step - loss: 0.0582 - accuracy: 0.9379 - recall_8: 0.9457 - precision_8: 0.8422 - val_loss: 0.3990 - val_accuracy: 0.8701 - val_recall_8: 0.7881 - val_precision_8: 0.7333\n",
      "Epoch 328/2000\n",
      "357/357 [==============================] - 19s 53ms/step - loss: 0.0569 - accuracy: 0.9388 - recall_8: 0.9473 - precision_8: 0.8439 - val_loss: 0.4107 - val_accuracy: 0.8765 - val_recall_8: 0.7840 - val_precision_8: 0.7525\n",
      "Epoch 329/2000\n",
      "357/357 [==============================] - 19s 53ms/step - loss: 0.0576 - accuracy: 0.9386 - recall_8: 0.9468 - precision_8: 0.8435 - val_loss: 0.4098 - val_accuracy: 0.8664 - val_recall_8: 0.7871 - val_precision_8: 0.7241\n",
      "Epoch 330/2000\n",
      "357/357 [==============================] - 19s 53ms/step - loss: 0.0566 - accuracy: 0.9391 - recall_8: 0.9474 - precision_8: 0.8446 - val_loss: 0.4327 - val_accuracy: 0.8640 - val_recall_8: 0.8076 - val_precision_8: 0.7102\n",
      "Epoch 331/2000\n",
      "357/357 [==============================] - 19s 53ms/step - loss: 0.0577 - accuracy: 0.9383 - recall_8: 0.9477 - precision_8: 0.8420 - val_loss: 0.4113 - val_accuracy: 0.8787 - val_recall_8: 0.7687 - val_precision_8: 0.7663\n",
      "Epoch 332/2000\n",
      "357/357 [==============================] - 19s 53ms/step - loss: 0.0574 - accuracy: 0.9398 - recall_8: 0.9467 - precision_8: 0.8469 - val_loss: 0.4100 - val_accuracy: 0.8747 - val_recall_8: 0.7840 - val_precision_8: 0.7473\n",
      "Epoch 333/2000\n",
      "357/357 [==============================] - 19s 53ms/step - loss: 0.0569 - accuracy: 0.9390 - recall_8: 0.9463 - precision_8: 0.8451 - val_loss: 0.4207 - val_accuracy: 0.8723 - val_recall_8: 0.7902 - val_precision_8: 0.7380\n",
      "Epoch 334/2000\n",
      "357/357 [==============================] - 19s 53ms/step - loss: 0.0554 - accuracy: 0.9411 - recall_8: 0.9492 - precision_8: 0.8491 - val_loss: 0.4205 - val_accuracy: 0.8733 - val_recall_8: 0.7902 - val_precision_8: 0.7409\n",
      "Epoch 335/2000\n",
      "357/357 [==============================] - 19s 53ms/step - loss: 0.0571 - accuracy: 0.9383 - recall_8: 0.9472 - precision_8: 0.8425 - val_loss: 0.4124 - val_accuracy: 0.8709 - val_recall_8: 0.7984 - val_precision_8: 0.7310\n",
      "Epoch 336/2000\n",
      "357/357 [==============================] - 19s 53ms/step - loss: 0.0560 - accuracy: 0.9400 - recall_8: 0.9489 - precision_8: 0.8461 - val_loss: 0.4114 - val_accuracy: 0.8699 - val_recall_8: 0.7973 - val_precision_8: 0.7287\n",
      "Epoch 337/2000\n",
      "357/357 [==============================] - 19s 53ms/step - loss: 0.0568 - accuracy: 0.9384 - recall_8: 0.9489 - precision_8: 0.8416 - val_loss: 0.4120 - val_accuracy: 0.8752 - val_recall_8: 0.7718 - val_precision_8: 0.7548\n",
      "Epoch 338/2000\n",
      "357/357 [==============================] - 19s 53ms/step - loss: 0.0561 - accuracy: 0.9398 - recall_8: 0.9466 - precision_8: 0.8471 - val_loss: 0.4216 - val_accuracy: 0.8675 - val_recall_8: 0.7994 - val_precision_8: 0.7218\n",
      "Epoch 339/2000\n",
      "357/357 [==============================] - 19s 53ms/step - loss: 0.0557 - accuracy: 0.9396 - recall_8: 0.9495 - precision_8: 0.8446 - val_loss: 0.4236 - val_accuracy: 0.8747 - val_recall_8: 0.7830 - val_precision_8: 0.7478\n",
      "Epoch 340/2000\n",
      "357/357 [==============================] - 19s 53ms/step - loss: 0.0562 - accuracy: 0.9407 - recall_8: 0.9504 - precision_8: 0.8472 - val_loss: 0.4237 - val_accuracy: 0.8765 - val_recall_8: 0.7769 - val_precision_8: 0.7560\n",
      "Epoch 341/2000\n",
      "357/357 [==============================] - 19s 53ms/step - loss: 0.0563 - accuracy: 0.9398 - recall_8: 0.9492 - precision_8: 0.8454 - val_loss: 0.4222 - val_accuracy: 0.8627 - val_recall_8: 0.8086 - val_precision_8: 0.7066\n",
      "Epoch 342/2000\n"
     ]
    },
    {
     "name": "stdout",
     "output_type": "stream",
     "text": [
      "357/357 [==============================] - 19s 53ms/step - loss: 0.0559 - accuracy: 0.9407 - recall_8: 0.9490 - precision_8: 0.8480 - val_loss: 0.4173 - val_accuracy: 0.8680 - val_recall_8: 0.8035 - val_precision_8: 0.7215\n",
      "Epoch 343/2000\n",
      "357/357 [==============================] - 19s 53ms/step - loss: 0.0564 - accuracy: 0.9400 - recall_8: 0.9495 - precision_8: 0.8457 - val_loss: 0.4155 - val_accuracy: 0.8728 - val_recall_8: 0.7851 - val_precision_8: 0.7418\n",
      "Epoch 344/2000\n",
      "357/357 [==============================] - 19s 53ms/step - loss: 0.0556 - accuracy: 0.9406 - recall_8: 0.9475 - precision_8: 0.8487 - val_loss: 0.4067 - val_accuracy: 0.8683 - val_recall_8: 0.7984 - val_precision_8: 0.7242\n",
      "Epoch 345/2000\n",
      "357/357 [==============================] - 19s 53ms/step - loss: 0.0564 - accuracy: 0.9391 - recall_8: 0.9481 - precision_8: 0.8440 - val_loss: 0.4231 - val_accuracy: 0.8691 - val_recall_8: 0.8106 - val_precision_8: 0.7213\n",
      "Epoch 346/2000\n",
      "357/357 [==============================] - 19s 53ms/step - loss: 0.0562 - accuracy: 0.9408 - recall_8: 0.9494 - precision_8: 0.8481 - val_loss: 0.4206 - val_accuracy: 0.8757 - val_recall_8: 0.7881 - val_precision_8: 0.7483\n",
      "Epoch 347/2000\n",
      "357/357 [==============================] - 19s 53ms/step - loss: 0.0558 - accuracy: 0.9407 - recall_8: 0.9480 - precision_8: 0.8485 - val_loss: 0.4248 - val_accuracy: 0.8645 - val_recall_8: 0.7922 - val_precision_8: 0.7173\n",
      "Epoch 348/2000\n",
      "357/357 [==============================] - 19s 53ms/step - loss: 0.0556 - accuracy: 0.9399 - recall_8: 0.9498 - precision_8: 0.8453 - val_loss: 0.4129 - val_accuracy: 0.8696 - val_recall_8: 0.8045 - val_precision_8: 0.7251\n",
      "Epoch 349/2000\n",
      "357/357 [==============================] - 19s 53ms/step - loss: 0.0556 - accuracy: 0.9410 - recall_8: 0.9491 - precision_8: 0.8487 - val_loss: 0.4292 - val_accuracy: 0.8739 - val_recall_8: 0.7953 - val_precision_8: 0.7400\n",
      "Epoch 350/2000\n",
      "357/357 [==============================] - 19s 53ms/step - loss: 0.0565 - accuracy: 0.9397 - recall_8: 0.9464 - precision_8: 0.8468 - val_loss: 0.4109 - val_accuracy: 0.8715 - val_recall_8: 0.7963 - val_precision_8: 0.7333\n",
      "Epoch 351/2000\n",
      "357/357 [==============================] - 19s 53ms/step - loss: 0.0565 - accuracy: 0.9400 - recall_8: 0.9477 - precision_8: 0.8469 - val_loss: 0.4146 - val_accuracy: 0.8672 - val_recall_8: 0.8004 - val_precision_8: 0.7207\n",
      "Epoch 352/2000\n",
      "357/357 [==============================] - 19s 53ms/step - loss: 0.0556 - accuracy: 0.9404 - recall_8: 0.9487 - precision_8: 0.8474 - val_loss: 0.4212 - val_accuracy: 0.8733 - val_recall_8: 0.7973 - val_precision_8: 0.7377\n",
      "Epoch 353/2000\n",
      "357/357 [==============================] - 19s 53ms/step - loss: 0.0566 - accuracy: 0.9401 - recall_8: 0.9484 - precision_8: 0.8467 - val_loss: 0.4166 - val_accuracy: 0.8800 - val_recall_8: 0.7758 - val_precision_8: 0.7664\n",
      "Epoch 354/2000\n",
      "357/357 [==============================] - 19s 53ms/step - loss: 0.0562 - accuracy: 0.9400 - recall_8: 0.9483 - precision_8: 0.8466 - val_loss: 0.4209 - val_accuracy: 0.8685 - val_recall_8: 0.8096 - val_precision_8: 0.7204\n"
     ]
    }
   ],
   "source": [
    "callback = tf.keras.callbacks.EarlyStopping(monitor='loss', patience=20)\n",
    "history = model.fit(np.expand_dims(x_train,axis=-1),y_train,batch_size=200,epochs=2000,\n",
    "                    validation_split=0.05,class_weight=weights,\n",
    "                    use_multiprocessing=True,workers=NUM_WORKERS,callbacks=[callback])"
   ]
  },
  {
   "cell_type": "code",
   "execution_count": 59,
   "id": "bf254745",
   "metadata": {
    "ExecuteTime": {
     "end_time": "2021-12-26T21:40:41.816826Z",
     "start_time": "2021-12-26T21:40:40.797475Z"
    }
   },
   "outputs": [
    {
     "name": "stdout",
     "output_type": "stream",
     "text": [
      "INFO:tensorflow:Assets written to: cnn_glove2\\assets\n"
     ]
    }
   ],
   "source": [
    "model.save(\"cnn_glove2\")"
   ]
  },
  {
   "cell_type": "code",
   "execution_count": 60,
   "id": "1b18956c",
   "metadata": {
    "ExecuteTime": {
     "end_time": "2021-12-26T21:41:41.407418Z",
     "start_time": "2021-12-26T21:41:37.482480Z"
    }
   },
   "outputs": [
    {
     "name": "stdout",
     "output_type": "stream",
     "text": [
      "              precision    recall  f1-score   support\n",
      "\n",
      "         0.0       0.93      0.89      0.91     18315\n",
      "         1.0       0.73      0.82      0.77      6682\n",
      "\n",
      "    accuracy                           0.87     24997\n",
      "   macro avg       0.83      0.85      0.84     24997\n",
      "weighted avg       0.88      0.87      0.87     24997\n",
      "\n"
     ]
    }
   ],
   "source": [
    "from sklearn.metrics import classification_report\n",
    "pred = model.predict(np.expand_dims(x_test,axis=-1)).flatten()\n",
    "pred[pred < 0.5] = 0\n",
    "pred[pred > 0.5] = 1\n",
    "print(classification_report(y_test,pred))"
   ]
  },
  {
   "cell_type": "code",
   "execution_count": 62,
   "id": "5d39c9d7",
   "metadata": {
    "ExecuteTime": {
     "end_time": "2021-12-26T21:44:33.263432Z",
     "start_time": "2021-12-26T21:43:32.214930Z"
    }
   },
   "outputs": [
    {
     "name": "stderr",
     "output_type": "stream",
     "text": [
      "All model checkpoint layers were used when initializing TFBertForSequenceClassification.\n",
      "\n",
      "Some layers of TFBertForSequenceClassification were not initialized from the model checkpoint at bert-base-uncased and are newly initialized: ['classifier']\n",
      "You should probably TRAIN this model on a down-stream task to be able to use it for predictions and inference.\n"
     ]
    },
    {
     "name": "stdout",
     "output_type": "stream",
     "text": [
      "Epoch 1/3\n"
     ]
    },
    {
     "ename": "ResourceExhaustedError",
     "evalue": " OOM when allocating tensor with shape[32,12,128,64] and type float on /job:localhost/replica:0/task:0/device:CPU:0 by allocator cpu\n\t [[node tf_bert_for_sequence_classification/bert/encoder/layer_._6/attention/self/MatMul_1 (defined at C:\\ProgramData\\Anaconda3\\lib\\site-packages\\transformers\\models\\bert\\modeling_tf_bert.py:316) ]]\nHint: If you want to see a list of allocated tensors when OOM happens, add report_tensor_allocations_upon_oom to RunOptions for current allocation info. This isn't available when running in Eager mode.\n [Op:__inference_train_function_828327]\n\nErrors may have originated from an input operation.\nInput Source operations connected to node tf_bert_for_sequence_classification/bert/encoder/layer_._6/attention/self/MatMul_1:\n tf_bert_for_sequence_classification/bert/encoder/layer_._6/attention/self/transpose_1 (defined at C:\\ProgramData\\Anaconda3\\lib\\site-packages\\transformers\\models\\bert\\modeling_tf_bert.py:244)\t\n tf_bert_for_sequence_classification/bert/encoder/layer_._6/attention/self/dropout_30/dropout/Mul_1 (defined at C:\\ProgramData\\Anaconda3\\lib\\site-packages\\transformers\\models\\bert\\modeling_tf_bert.py:310)\n\nFunction call stack:\ntrain_function\n",
     "output_type": "error",
     "traceback": [
      "\u001b[1;31m---------------------------------------------------------------------------\u001b[0m",
      "\u001b[1;31mResourceExhaustedError\u001b[0m                    Traceback (most recent call last)",
      "\u001b[1;32m<ipython-input-62-c431101ae54c>\u001b[0m in \u001b[0;36m<module>\u001b[1;34m\u001b[0m\n\u001b[0;32m    103\u001b[0m               )\n\u001b[0;32m    104\u001b[0m \u001b[1;33m\u001b[0m\u001b[0m\n\u001b[1;32m--> 105\u001b[1;33m \u001b[0mmodel\u001b[0m\u001b[1;33m.\u001b[0m\u001b[0mfit\u001b[0m\u001b[1;33m(\u001b[0m\u001b[0mtrain_data\u001b[0m\u001b[1;33m,\u001b[0m \u001b[0mepochs\u001b[0m\u001b[1;33m=\u001b[0m\u001b[1;36m3\u001b[0m\u001b[1;33m,\u001b[0m \u001b[0mvalidation_data\u001b[0m\u001b[1;33m=\u001b[0m\u001b[0mvalidation_data\u001b[0m\u001b[1;33m,\u001b[0m\u001b[0muse_multiprocessing\u001b[0m\u001b[1;33m=\u001b[0m\u001b[1;32mTrue\u001b[0m\u001b[1;33m,\u001b[0m\u001b[0mworkers\u001b[0m\u001b[1;33m=\u001b[0m\u001b[1;36m8\u001b[0m\u001b[1;33m)\u001b[0m\u001b[1;33m\u001b[0m\u001b[1;33m\u001b[0m\u001b[0m\n\u001b[0m\u001b[0;32m    106\u001b[0m \u001b[0mmodel\u001b[0m\u001b[1;33m.\u001b[0m\u001b[0msave\u001b[0m\u001b[1;33m(\u001b[0m\u001b[1;34m\"bert_best\"\u001b[0m\u001b[1;33m)\u001b[0m\u001b[1;33m\u001b[0m\u001b[1;33m\u001b[0m\u001b[0m\n\u001b[0;32m    107\u001b[0m \u001b[1;32mfrom\u001b[0m \u001b[0msklearn\u001b[0m\u001b[1;33m.\u001b[0m\u001b[0mmetrics\u001b[0m \u001b[1;32mimport\u001b[0m \u001b[0mclassification_report\u001b[0m\u001b[1;33m\u001b[0m\u001b[1;33m\u001b[0m\u001b[0m\n",
      "\u001b[1;32m~\\AppData\\Roaming\\Python\\Python38\\site-packages\\keras\\engine\\training.py\u001b[0m in \u001b[0;36mfit\u001b[1;34m(self, x, y, batch_size, epochs, verbose, callbacks, validation_split, validation_data, shuffle, class_weight, sample_weight, initial_epoch, steps_per_epoch, validation_steps, validation_batch_size, validation_freq, max_queue_size, workers, use_multiprocessing)\u001b[0m\n\u001b[0;32m   1182\u001b[0m                 _r=1):\n\u001b[0;32m   1183\u001b[0m               \u001b[0mcallbacks\u001b[0m\u001b[1;33m.\u001b[0m\u001b[0mon_train_batch_begin\u001b[0m\u001b[1;33m(\u001b[0m\u001b[0mstep\u001b[0m\u001b[1;33m)\u001b[0m\u001b[1;33m\u001b[0m\u001b[1;33m\u001b[0m\u001b[0m\n\u001b[1;32m-> 1184\u001b[1;33m               \u001b[0mtmp_logs\u001b[0m \u001b[1;33m=\u001b[0m \u001b[0mself\u001b[0m\u001b[1;33m.\u001b[0m\u001b[0mtrain_function\u001b[0m\u001b[1;33m(\u001b[0m\u001b[0miterator\u001b[0m\u001b[1;33m)\u001b[0m\u001b[1;33m\u001b[0m\u001b[1;33m\u001b[0m\u001b[0m\n\u001b[0m\u001b[0;32m   1185\u001b[0m               \u001b[1;32mif\u001b[0m \u001b[0mdata_handler\u001b[0m\u001b[1;33m.\u001b[0m\u001b[0mshould_sync\u001b[0m\u001b[1;33m:\u001b[0m\u001b[1;33m\u001b[0m\u001b[1;33m\u001b[0m\u001b[0m\n\u001b[0;32m   1186\u001b[0m                 \u001b[0mcontext\u001b[0m\u001b[1;33m.\u001b[0m\u001b[0masync_wait\u001b[0m\u001b[1;33m(\u001b[0m\u001b[1;33m)\u001b[0m\u001b[1;33m\u001b[0m\u001b[1;33m\u001b[0m\u001b[0m\n",
      "\u001b[1;32m~\\AppData\\Roaming\\Python\\Python38\\site-packages\\tensorflow\\python\\eager\\def_function.py\u001b[0m in \u001b[0;36m__call__\u001b[1;34m(self, *args, **kwds)\u001b[0m\n\u001b[0;32m    883\u001b[0m \u001b[1;33m\u001b[0m\u001b[0m\n\u001b[0;32m    884\u001b[0m       \u001b[1;32mwith\u001b[0m \u001b[0mOptionalXlaContext\u001b[0m\u001b[1;33m(\u001b[0m\u001b[0mself\u001b[0m\u001b[1;33m.\u001b[0m\u001b[0m_jit_compile\u001b[0m\u001b[1;33m)\u001b[0m\u001b[1;33m:\u001b[0m\u001b[1;33m\u001b[0m\u001b[1;33m\u001b[0m\u001b[0m\n\u001b[1;32m--> 885\u001b[1;33m         \u001b[0mresult\u001b[0m \u001b[1;33m=\u001b[0m \u001b[0mself\u001b[0m\u001b[1;33m.\u001b[0m\u001b[0m_call\u001b[0m\u001b[1;33m(\u001b[0m\u001b[1;33m*\u001b[0m\u001b[0margs\u001b[0m\u001b[1;33m,\u001b[0m \u001b[1;33m**\u001b[0m\u001b[0mkwds\u001b[0m\u001b[1;33m)\u001b[0m\u001b[1;33m\u001b[0m\u001b[1;33m\u001b[0m\u001b[0m\n\u001b[0m\u001b[0;32m    886\u001b[0m \u001b[1;33m\u001b[0m\u001b[0m\n\u001b[0;32m    887\u001b[0m       \u001b[0mnew_tracing_count\u001b[0m \u001b[1;33m=\u001b[0m \u001b[0mself\u001b[0m\u001b[1;33m.\u001b[0m\u001b[0mexperimental_get_tracing_count\u001b[0m\u001b[1;33m(\u001b[0m\u001b[1;33m)\u001b[0m\u001b[1;33m\u001b[0m\u001b[1;33m\u001b[0m\u001b[0m\n",
      "\u001b[1;32m~\\AppData\\Roaming\\Python\\Python38\\site-packages\\tensorflow\\python\\eager\\def_function.py\u001b[0m in \u001b[0;36m_call\u001b[1;34m(self, *args, **kwds)\u001b[0m\n\u001b[0;32m    948\u001b[0m         \u001b[1;31m# Lifting succeeded, so variables are initialized and we can run the\u001b[0m\u001b[1;33m\u001b[0m\u001b[1;33m\u001b[0m\u001b[1;33m\u001b[0m\u001b[0m\n\u001b[0;32m    949\u001b[0m         \u001b[1;31m# stateless function.\u001b[0m\u001b[1;33m\u001b[0m\u001b[1;33m\u001b[0m\u001b[1;33m\u001b[0m\u001b[0m\n\u001b[1;32m--> 950\u001b[1;33m         \u001b[1;32mreturn\u001b[0m \u001b[0mself\u001b[0m\u001b[1;33m.\u001b[0m\u001b[0m_stateless_fn\u001b[0m\u001b[1;33m(\u001b[0m\u001b[1;33m*\u001b[0m\u001b[0margs\u001b[0m\u001b[1;33m,\u001b[0m \u001b[1;33m**\u001b[0m\u001b[0mkwds\u001b[0m\u001b[1;33m)\u001b[0m\u001b[1;33m\u001b[0m\u001b[1;33m\u001b[0m\u001b[0m\n\u001b[0m\u001b[0;32m    951\u001b[0m     \u001b[1;32melse\u001b[0m\u001b[1;33m:\u001b[0m\u001b[1;33m\u001b[0m\u001b[1;33m\u001b[0m\u001b[0m\n\u001b[0;32m    952\u001b[0m       \u001b[0m_\u001b[0m\u001b[1;33m,\u001b[0m \u001b[0m_\u001b[0m\u001b[1;33m,\u001b[0m \u001b[0m_\u001b[0m\u001b[1;33m,\u001b[0m \u001b[0mfiltered_flat_args\u001b[0m \u001b[1;33m=\u001b[0m\u001b[0;31m \u001b[0m\u001b[0;31m\\\u001b[0m\u001b[1;33m\u001b[0m\u001b[1;33m\u001b[0m\u001b[0m\n",
      "\u001b[1;32m~\\AppData\\Roaming\\Python\\Python38\\site-packages\\tensorflow\\python\\eager\\function.py\u001b[0m in \u001b[0;36m__call__\u001b[1;34m(self, *args, **kwargs)\u001b[0m\n\u001b[0;32m   3037\u001b[0m       (graph_function,\n\u001b[0;32m   3038\u001b[0m        filtered_flat_args) = self._maybe_define_function(args, kwargs)\n\u001b[1;32m-> 3039\u001b[1;33m     return graph_function._call_flat(\n\u001b[0m\u001b[0;32m   3040\u001b[0m         filtered_flat_args, captured_inputs=graph_function.captured_inputs)  # pylint: disable=protected-access\n\u001b[0;32m   3041\u001b[0m \u001b[1;33m\u001b[0m\u001b[0m\n",
      "\u001b[1;32m~\\AppData\\Roaming\\Python\\Python38\\site-packages\\tensorflow\\python\\eager\\function.py\u001b[0m in \u001b[0;36m_call_flat\u001b[1;34m(self, args, captured_inputs, cancellation_manager)\u001b[0m\n\u001b[0;32m   1961\u001b[0m         and executing_eagerly):\n\u001b[0;32m   1962\u001b[0m       \u001b[1;31m# No tape is watching; skip to running the function.\u001b[0m\u001b[1;33m\u001b[0m\u001b[1;33m\u001b[0m\u001b[1;33m\u001b[0m\u001b[0m\n\u001b[1;32m-> 1963\u001b[1;33m       return self._build_call_outputs(self._inference_function.call(\n\u001b[0m\u001b[0;32m   1964\u001b[0m           ctx, args, cancellation_manager=cancellation_manager))\n\u001b[0;32m   1965\u001b[0m     forward_backward = self._select_forward_and_backward_functions(\n",
      "\u001b[1;32m~\\AppData\\Roaming\\Python\\Python38\\site-packages\\tensorflow\\python\\eager\\function.py\u001b[0m in \u001b[0;36mcall\u001b[1;34m(self, ctx, args, cancellation_manager)\u001b[0m\n\u001b[0;32m    589\u001b[0m       \u001b[1;32mwith\u001b[0m \u001b[0m_InterpolateFunctionError\u001b[0m\u001b[1;33m(\u001b[0m\u001b[0mself\u001b[0m\u001b[1;33m)\u001b[0m\u001b[1;33m:\u001b[0m\u001b[1;33m\u001b[0m\u001b[1;33m\u001b[0m\u001b[0m\n\u001b[0;32m    590\u001b[0m         \u001b[1;32mif\u001b[0m \u001b[0mcancellation_manager\u001b[0m \u001b[1;32mis\u001b[0m \u001b[1;32mNone\u001b[0m\u001b[1;33m:\u001b[0m\u001b[1;33m\u001b[0m\u001b[1;33m\u001b[0m\u001b[0m\n\u001b[1;32m--> 591\u001b[1;33m           outputs = execute.execute(\n\u001b[0m\u001b[0;32m    592\u001b[0m               \u001b[0mstr\u001b[0m\u001b[1;33m(\u001b[0m\u001b[0mself\u001b[0m\u001b[1;33m.\u001b[0m\u001b[0msignature\u001b[0m\u001b[1;33m.\u001b[0m\u001b[0mname\u001b[0m\u001b[1;33m)\u001b[0m\u001b[1;33m,\u001b[0m\u001b[1;33m\u001b[0m\u001b[1;33m\u001b[0m\u001b[0m\n\u001b[0;32m    593\u001b[0m               \u001b[0mnum_outputs\u001b[0m\u001b[1;33m=\u001b[0m\u001b[0mself\u001b[0m\u001b[1;33m.\u001b[0m\u001b[0m_num_outputs\u001b[0m\u001b[1;33m,\u001b[0m\u001b[1;33m\u001b[0m\u001b[1;33m\u001b[0m\u001b[0m\n",
      "\u001b[1;32m~\\AppData\\Roaming\\Python\\Python38\\site-packages\\tensorflow\\python\\eager\\execute.py\u001b[0m in \u001b[0;36mquick_execute\u001b[1;34m(op_name, num_outputs, inputs, attrs, ctx, name)\u001b[0m\n\u001b[0;32m     57\u001b[0m   \u001b[1;32mtry\u001b[0m\u001b[1;33m:\u001b[0m\u001b[1;33m\u001b[0m\u001b[1;33m\u001b[0m\u001b[0m\n\u001b[0;32m     58\u001b[0m     \u001b[0mctx\u001b[0m\u001b[1;33m.\u001b[0m\u001b[0mensure_initialized\u001b[0m\u001b[1;33m(\u001b[0m\u001b[1;33m)\u001b[0m\u001b[1;33m\u001b[0m\u001b[1;33m\u001b[0m\u001b[0m\n\u001b[1;32m---> 59\u001b[1;33m     tensors = pywrap_tfe.TFE_Py_Execute(ctx._handle, device_name, op_name,\n\u001b[0m\u001b[0;32m     60\u001b[0m                                         inputs, attrs, num_outputs)\n\u001b[0;32m     61\u001b[0m   \u001b[1;32mexcept\u001b[0m \u001b[0mcore\u001b[0m\u001b[1;33m.\u001b[0m\u001b[0m_NotOkStatusException\u001b[0m \u001b[1;32mas\u001b[0m \u001b[0me\u001b[0m\u001b[1;33m:\u001b[0m\u001b[1;33m\u001b[0m\u001b[1;33m\u001b[0m\u001b[0m\n",
      "\u001b[1;31mResourceExhaustedError\u001b[0m:  OOM when allocating tensor with shape[32,12,128,64] and type float on /job:localhost/replica:0/task:0/device:CPU:0 by allocator cpu\n\t [[node tf_bert_for_sequence_classification/bert/encoder/layer_._6/attention/self/MatMul_1 (defined at C:\\ProgramData\\Anaconda3\\lib\\site-packages\\transformers\\models\\bert\\modeling_tf_bert.py:316) ]]\nHint: If you want to see a list of allocated tensors when OOM happens, add report_tensor_allocations_upon_oom to RunOptions for current allocation info. This isn't available when running in Eager mode.\n [Op:__inference_train_function_828327]\n\nErrors may have originated from an input operation.\nInput Source operations connected to node tf_bert_for_sequence_classification/bert/encoder/layer_._6/attention/self/MatMul_1:\n tf_bert_for_sequence_classification/bert/encoder/layer_._6/attention/self/transpose_1 (defined at C:\\ProgramData\\Anaconda3\\lib\\site-packages\\transformers\\models\\bert\\modeling_tf_bert.py:244)\t\n tf_bert_for_sequence_classification/bert/encoder/layer_._6/attention/self/dropout_30/dropout/Mul_1 (defined at C:\\ProgramData\\Anaconda3\\lib\\site-packages\\transformers\\models\\bert\\modeling_tf_bert.py:310)\n\nFunction call stack:\ntrain_function\n"
     ]
    }
   ],
   "source": [
    "import pandas as pd\n",
    "import numpy as np\n",
    "import matplotlib.pyplot as plt\n",
    "import swifter\n",
    "from sklearn.model_selection import train_test_split\n",
    "import re\n",
    "import nltk\n",
    "from gensim.models.doc2vec import Doc2Vec, TaggedDocument\n",
    "import tensorflow as tf\n",
    "from transformers import BertTokenizer, TFBertForSequenceClassification\n",
    "from transformers import InputExample, InputFeatures\n",
    "model = TFBertForSequenceClassification.from_pretrained(\"bert-base-uncased\")\n",
    "tokenizer = BertTokenizer.from_pretrained(\"bert-base-uncased\")\n",
    "NUM_WORKERS = 8\n",
    "TEST_SIZE = 0.3\n",
    "LABEL_COLUMN_NAME = \"oh_label\"\n",
    "TEXT_COLUMN_NAME = \"Text\"\n",
    "DATASET_PATH = \"../Data/ver1.csv\"\n",
    "df= pd.read_csv(DATASET_PATH, index_col=False)\n",
    "df = df.dropna()\n",
    "df.drop([\"Unnamed: 0\", \"index\"],axis=1, inplace = True)\n",
    "from sklearn.model_selection import train_test_split\n",
    "df.sample(frac=1).reset_index(drop=True)\n",
    "X,y = df[TEXT_COLUMN_NAME],df[LABEL_COLUMN_NAME]\n",
    "x_train,x_test, y_train,y_test = train_test_split(X,y, test_size=0.30, random_state=42)\n",
    "x_test,x_val,y_test,y_val = train_test_split(x_test,y_test, test_size=0.50, random_state=42)\n",
    "def convert_data_to_examples(train, test, DATA_COLUMN, LABEL_COLUMN): \n",
    "    train_InputExamples = train.apply(lambda x: InputExample(guid=None, # Globally unique ID for bookkeeping, unused in this case\n",
    "                                                          text_a = x[DATA_COLUMN], \n",
    "                                                          text_b = None,\n",
    "                                                          label = x[LABEL_COLUMN]), axis = 1)\n",
    "\n",
    "    validation_InputExamples = test.apply(lambda x: InputExample(guid=None, # Globally unique ID for bookkeeping, unused in this case\n",
    "                                                              text_a = x[DATA_COLUMN], \n",
    "                                                              text_b = None,\n",
    "                                                              label = x[LABEL_COLUMN]), axis = 1)\n",
    "  \n",
    "    return train_InputExamples, validation_InputExamples\n",
    "\n",
    "  \n",
    "def convert_examples_to_tf_dataset(examples, tokenizer, max_length=128):\n",
    "    features = [] # -> will hold InputFeatures to be converted later\n",
    "\n",
    "    for e in examples:\n",
    "        # Documentation is really strong for this method, so please take a look at it\n",
    "        input_dict = tokenizer.encode_plus(\n",
    "            e.text_a,\n",
    "            add_special_tokens=True,\n",
    "            max_length=max_length, # truncates if len(s) > max_length\n",
    "            return_token_type_ids=True,\n",
    "            return_attention_mask=True,\n",
    "            pad_to_max_length=True, # pads to the right by default # CHECK THIS for pad_to_max_length\n",
    "            truncation=True\n",
    "        )\n",
    "\n",
    "        input_ids, token_type_ids, attention_mask = (input_dict[\"input_ids\"],\n",
    "            input_dict[\"token_type_ids\"], input_dict['attention_mask'])\n",
    "\n",
    "        features.append(\n",
    "            InputFeatures(\n",
    "                input_ids=input_ids, attention_mask=attention_mask, token_type_ids=token_type_ids, label=e.label\n",
    "            )\n",
    "        )\n",
    "\n",
    "    def gen():\n",
    "        for f in features:\n",
    "            yield (\n",
    "                {\n",
    "                    \"input_ids\": f.input_ids,\n",
    "                    \"attention_mask\": f.attention_mask,\n",
    "                    \"token_type_ids\": f.token_type_ids,\n",
    "                },\n",
    "                f.label,\n",
    "            )\n",
    "\n",
    "    return tf.data.Dataset.from_generator(\n",
    "        gen,\n",
    "        ({\"input_ids\": tf.int32, \"attention_mask\": tf.int32, \"token_type_ids\": tf.int32}, tf.int64),\n",
    "        (\n",
    "            {\n",
    "                \"input_ids\": tf.TensorShape([None]),\n",
    "                \"attention_mask\": tf.TensorShape([None]),\n",
    "                \"token_type_ids\": tf.TensorShape([None]),\n",
    "            },\n",
    "            tf.TensorShape([]),\n",
    "        ),\n",
    "    )\n",
    "\n",
    "\n",
    "DATA_COLUMN = 'DATA_COLUMN'\n",
    "LABEL_COLUMN = 'LABEL_COLUMN'\n",
    "\n",
    "train_InputExamples, validation_InputExamples = convert_data_to_examples(pd.DataFrame({DATA_COLUMN:x_train[:5000],LABEL_COLUMN:y_train[:5000]}), pd.DataFrame({DATA_COLUMN:x_test,LABEL_COLUMN:y_test}), DATA_COLUMN, LABEL_COLUMN)\n",
    "\n",
    "train_data = convert_examples_to_tf_dataset(list(train_InputExamples), tokenizer)\n",
    "train_data = train_data.shuffle(100).batch(32).repeat(2)\n",
    "\n",
    "validation_data = convert_examples_to_tf_dataset(list(validation_InputExamples), tokenizer)\n",
    "validation_data = validation_data.batch(32)\n",
    "model.compile(optimizer=tf.keras.optimizers.Adam(learning_rate=3e-5, epsilon=1e-08, clipnorm=1.0), \n",
    "              loss=tf.keras.losses.SparseCategoricalCrossentropy(from_logits=True), \n",
    "              metrics=[tf.keras.metrics.SparseCategoricalAccuracy('accuracy')],\n",
    "              )\n",
    "\n",
    "model.fit(train_data, epochs=3, validation_data=validation_data,use_multiprocessing=True,workers=8)\n",
    "model.save(\"bert_best\")\n",
    "from sklearn.metrics import classification_report\n",
    "pred = model.predict(x_test)\n",
    "print(classification_report(y_test,pred))"
   ]
  },
  {
   "cell_type": "code",
   "execution_count": 62,
   "id": "63eef529",
   "metadata": {
    "ExecuteTime": {
     "end_time": "2021-12-19T07:29:25.100505Z",
     "start_time": "2021-12-19T07:28:39.950701Z"
    }
   },
   "outputs": [
    {
     "data": {
      "application/vnd.jupyter.widget-view+json": {
       "model_id": "14c151097dd1473ca0c3170b72e0d6c8",
       "version_major": 2,
       "version_minor": 0
      },
      "text/plain": [
       "Pandas Apply:   0%|          | 0/100000 [00:00<?, ?it/s]"
      ]
     },
     "metadata": {},
     "output_type": "display_data"
    },
    {
     "data": {
      "text/plain": [
       "<matplotlib.collections.PathCollection at 0x1d12f3b8ee0>"
      ]
     },
     "execution_count": 62,
     "metadata": {},
     "output_type": "execute_result"
    },
    {
     "data": {
      "image/png": "[encoded data removed]",
      "text/plain": [
       "<Figure size 432x288 with 1 Axes>"
      ]
     },
     "metadata": {
      "needs_background": "light"
     },
     "output_type": "display_data"
    }
   ],
   "source": [
    "plt.scatter(list(range(df.shape[0])),df[\"Text\"].swifter.apply(lambda text: len(nltk.word_tokenize(text))).values)"
   ]
  },
  {
   "cell_type": "code",
   "execution_count": 58,
   "id": "4aee0fda",
   "metadata": {
    "ExecuteTime": {
     "end_time": "2021-12-19T07:25:25.948870Z",
     "start_time": "2021-12-19T07:25:25.774669Z"
    }
   },
   "outputs": [
    {
     "name": "stdout",
     "output_type": "stream",
     "text": [
      "Model: \"sequential_23\"\n",
      "_________________________________________________________________\n",
      "Layer (type)                 Output Shape              Param #   \n",
      "=================================================================\n",
      "bidirectional_2 (Bidirection (None, 96)                19200     \n",
      "_________________________________________________________________\n",
      "dense_37 (Dense)             (None, 24)                2328      \n",
      "_________________________________________________________________\n",
      "dense_38 (Dense)             (None, 1)                 25        \n",
      "=================================================================\n",
      "Total params: 21,553\n",
      "Trainable params: 21,553\n",
      "Non-trainable params: 0\n",
      "_________________________________________________________________\n"
     ]
    }
   ],
   "source": [
    "model = Sequential()\n",
    "model.add(Bidirectional(LSTM(48,recurrent_dropout=0.5),input_shape=(200,1)))\n",
    "model.add(Dense(24, activation=\"relu\"))\n",
    "model.add(Dense(1, activation=\"sigmoid\"))\n",
    "model.compile(loss=\"binary_crossentropy\", optimizer='adam',metrics=[\"accuracy\"])\n",
    "model.summary()"
   ]
  },
  {
   "cell_type": "code",
   "execution_count": null,
   "id": "2a10e44f",
   "metadata": {},
   "outputs": [],
   "source": [
    "callback = tf.keras.callbacks.EarlyStopping(monitor='loss', patience=20)\n",
    "history = model.fit(x_train.squeeze(),y_train,batch_size=200,epochs=100,\n",
    "                    validation_split=0.05,class_weight=weights.to_dict(),\n",
    "                    use_multiprocessing=True,workers=NUM_WORKERS,callbacks=[callback])"
   ]
  }
 ],
 "metadata": {
  "kernelspec": {
   "display_name": "Python 3",
   "language": "python",
   "name": "python3"
  },
  "language_info": {
   "codemirror_mode": {
    "name": "ipython",
    "version": 3
   },
   "file_extension": ".py",
   "mimetype": "text/x-python",
   "name": "python",
   "nbconvert_exporter": "python",
   "pygments_lexer": "ipython3",
   "version": "3.8.8"
  },
  "toc": {
   "base_numbering": 1,
   "nav_menu": {},
   "number_sections": true,
   "sideBar": true,
   "skip_h1_title": false,
   "title_cell": "Table of Contents",
   "title_sidebar": "Contents",
   "toc_cell": false,
   "toc_position": {},
   "toc_section_display": true,
   "toc_window_display": false
  },
  "varInspector": {
   "cols": {
    "lenName": 16,
    "lenType": 16,
    "lenVar": 40
   },
   "kernels_config": {
    "python": {
     "delete_cmd_postfix": "",
     "delete_cmd_prefix": "del ",
     "library": "var_list.py",
     "varRefreshCmd": "print(var_dic_list())"
    },
    "r": {
     "delete_cmd_postfix": ") ",
     "delete_cmd_prefix": "rm(",
     "library": "var_list.r",
     "varRefreshCmd": "cat(var_dic_list()) "
    }
   },
   "types_to_exclude": [
    "module",
    "function",
    "builtin_function_or_method",
    "instance",
    "_Feature"
   ],
   "window_display": false
  }
 },
 "nbformat": 4,
 "nbformat_minor": 5
}
