{
 "cells": [
  {
   "cell_type": "code",
   "execution_count": 1,
   "id": "1072034c",
   "metadata": {
    "ExecuteTime": {
     "end_time": "2021-12-29T12:39:48.969316Z",
     "start_time": "2021-12-29T12:39:39.690503Z"
    }
   },
   "outputs": [],
   "source": [
    "import pandas as pd\n",
    "import numpy as np\n",
    "import matplotlib.pyplot as plt\n",
    "import swifter\n",
    "from sklearn.model_selection import train_test_split\n",
    "import re\n",
    "import nltk\n",
    "from gensim.test.utils import common_texts\n",
    "from gensim.models.doc2vec import Doc2Vec, TaggedDocument\n",
    "import tensorflow as tf"
   ]
  },
  {
   "cell_type": "markdown",
   "id": "0be71440",
   "metadata": {},
   "source": [
    "## Word2Vec with CNN\n",
    "Each word will tranform by pretrained model to vector in size 300 so each instance is atually a matrix"
   ]
  },
  {
   "cell_type": "code",
   "execution_count": 2,
   "id": "a02e7920",
   "metadata": {
    "ExecuteTime": {
     "end_time": "2021-12-29T12:39:49.016659Z",
     "start_time": "2021-12-29T12:39:49.003320Z"
    }
   },
   "outputs": [],
   "source": [
    "import pandas as pd\n",
    "import numpy as np\n",
    "import matplotlib.pyplot as plt\n",
    "import swifter\n",
    "from sklearn.model_selection import train_test_split\n",
    "import re\n",
    "import nltk\n",
    "from gensim.test.utils import common_texts\n",
    "from gensim.models.doc2vec import Doc2Vec, TaggedDocument\n",
    "import tensorflow as tfa"
   ]
  },
  {
   "cell_type": "code",
   "execution_count": 3,
   "id": "52ce76f8",
   "metadata": {
    "ExecuteTime": {
     "end_time": "2021-12-29T12:39:49.062728Z",
     "start_time": "2021-12-29T12:39:49.048871Z"
    }
   },
   "outputs": [],
   "source": [
    "NUM_WORKERS = 8\n",
    "TEST_SIZE = 0.3\n",
    "LABEL_COLUMN_NAME = \"oh_label\"\n",
    "TEXT_COLUMN_NAME = \"Text\"\n",
    "DATASET_PATH = \"../Data/ver1.csv\""
   ]
  },
  {
   "cell_type": "code",
   "execution_count": 4,
   "id": "d73e000b",
   "metadata": {
    "ExecuteTime": {
     "end_time": "2021-12-29T12:39:49.631220Z",
     "start_time": "2021-12-29T12:39:49.096837Z"
    }
   },
   "outputs": [],
   "source": [
    "df= pd.read_csv(DATASET_PATH, index_col=False)\n",
    "df = df.dropna()\n",
    "df.drop([\"Unnamed: 0\", \"index\"],axis=1, inplace = True)"
   ]
  },
  {
   "cell_type": "code",
   "execution_count": 9,
   "id": "9a8f25f6",
   "metadata": {
    "ExecuteTime": {
     "end_time": "2021-12-26T18:10:44.309493Z",
     "start_time": "2021-12-26T18:10:43.915356Z"
    }
   },
   "outputs": [
    {
     "name": "stdout",
     "output_type": "stream",
     "text": [
      "['fasttext-wiki-news-subwords-300', 'conceptnet-numberbatch-17-06-300', 'word2vec-ruscorpora-300', 'word2vec-google-news-300', 'glove-wiki-gigaword-50', 'glove-wiki-gigaword-100', 'glove-wiki-gigaword-200', 'glove-wiki-gigaword-300', 'glove-twitter-25', 'glove-twitter-50', 'glove-twitter-100', 'glove-twitter-200', '__testing_word2vec-matrix-synopsis']\n"
     ]
    }
   ],
   "source": [
    "import gensim.downloader\n",
    "print(list(gensim.downloader.info()['models'].keys()))"
   ]
  },
  {
   "cell_type": "code",
   "execution_count": 10,
   "id": "cab4c078",
   "metadata": {
    "ExecuteTime": {
     "end_time": "2021-12-26T18:11:49.940094Z",
     "start_time": "2021-12-26T18:10:45.677045Z"
    }
   },
   "outputs": [],
   "source": [
    "import gensim.downloader\n",
    "#glove-twitter-200\n",
    "glove_vectors = gensim.downloader.load('glove-twitter-200')"
   ]
  },
  {
   "cell_type": "code",
   "execution_count": 7,
   "id": "6e432e47",
   "metadata": {
    "ExecuteTime": {
     "end_time": "2021-12-29T12:42:08.844292Z",
     "start_time": "2021-12-29T12:41:25.232498Z"
    }
   },
   "outputs": [
    {
     "data": {
      "application/vnd.jupyter.widget-view+json": {
       "model_id": "bc3df0a6125a4cd8844b68b4e59a8e0e",
       "version_major": 2,
       "version_minor": 0
      },
      "text/plain": [
       "Pandas Apply:   0%|          | 0/100000 [00:00<?, ?it/s]"
      ]
     },
     "metadata": {},
     "output_type": "display_data"
    },
    {
     "data": {
      "text/plain": [
       "count    100000.000000\n",
       "mean         74.415120\n",
       "std         146.039735\n",
       "min           0.000000\n",
       "25%          18.000000\n",
       "50%          34.000000\n",
       "75%          76.000000\n",
       "max        9851.000000\n",
       "Name: Text, dtype: float64"
      ]
     },
     "execution_count": 7,
     "metadata": {},
     "output_type": "execute_result"
    }
   ],
   "source": [
    "df[TEXT_COLUMN_NAME].swifter.apply(lambda text: len(nltk.word_tokenize(text))).describe()"
   ]
  },
  {
   "cell_type": "code",
   "execution_count": 8,
   "id": "1f1bad68",
   "metadata": {
    "ExecuteTime": {
     "end_time": "2021-12-29T12:43:09.614969Z",
     "start_time": "2021-12-29T12:43:09.595984Z"
    }
   },
   "outputs": [],
   "source": [
    "import swifter\n",
    "import re\n",
    "import nltk\n",
    "import string\n",
    "\n",
    "MAX_NUMBER_OF_WORDS = 75\n",
    "ENCODE_SIZE = 200\n",
    "def remove_punct(text):\n",
    "    text_nopunct = ''\n",
    "    text_nopunct = re.sub('['+string.punctuation+']', '', text)\n",
    "    return text_nopunct\n",
    "\n",
    "def get_vector(word):\n",
    "    try:\n",
    "        return glove_vectors.get_vector(word)\n",
    "    except Exception as e:\n",
    "#         print(e)\n",
    "        pass\n",
    "    return np.zeros((ENCODE_SIZE,))\n",
    "\n",
    "def precoess_row(text):\n",
    "    text = remove_punct(re.sub(r'\\d+', 'number', text))\n",
    "    vec = np.array([get_vector(word.lower()) for word in nltk.word_tokenize(text)])\n",
    "    if vec.shape[0] == 0:\n",
    "        return np.nan\n",
    "    if vec.shape[0] >= MAX_NUMBER_OF_WORDS:\n",
    "        vec = vec[:MAX_NUMBER_OF_WORDS,:]\n",
    "    else:\n",
    "        vec = np.vstack((vec,np.zeros((MAX_NUMBER_OF_WORDS-vec.shape[0],ENCODE_SIZE))))\n",
    "    return vec"
   ]
  },
  {
   "cell_type": "code",
   "execution_count": 9,
   "id": "ea20fe6a",
   "metadata": {
    "ExecuteTime": {
     "end_time": "2021-12-29T12:44:20.512564Z",
     "start_time": "2021-12-29T12:43:17.560080Z"
    }
   },
   "outputs": [
    {
     "data": {
      "application/vnd.jupyter.widget-view+json": {
       "model_id": "84bb097d52e548d79ad6846f06cfdbcb",
       "version_major": 2,
       "version_minor": 0
      },
      "text/plain": [
       "Pandas Apply:   0%|          | 0/100000 [00:00<?, ?it/s]"
      ]
     },
     "metadata": {},
     "output_type": "display_data"
    }
   ],
   "source": [
    "df[TEXT_COLUMN_NAME] = df[TEXT_COLUMN_NAME].swifter.apply(precoess_row)"
   ]
  },
  {
   "cell_type": "code",
   "execution_count": 10,
   "id": "aeb6ae1e",
   "metadata": {
    "ExecuteTime": {
     "end_time": "2021-12-29T12:44:23.529188Z",
     "start_time": "2021-12-29T12:44:23.449161Z"
    }
   },
   "outputs": [],
   "source": [
    "lst = []\n",
    "ignored = []\n",
    "for i,a in enumerate(df[TEXT_COLUMN_NAME]):\n",
    "    try:\n",
    "        if a.shape == (MAX_NUMBER_OF_WORDS,ENCODE_SIZE):\n",
    "            lst.append(a)\n",
    "    except:\n",
    "        ignored.append(i)\n",
    "df = df.drop(ignored)"
   ]
  },
  {
   "cell_type": "code",
   "execution_count": 11,
   "id": "5b744b37",
   "metadata": {
    "ExecuteTime": {
     "end_time": "2021-12-29T12:46:07.628934Z",
     "start_time": "2021-12-29T12:45:12.723093Z"
    }
   },
   "outputs": [],
   "source": [
    "X = np.stack(lst)\n",
    "y = df[LABEL_COLUMN_NAME]"
   ]
  },
  {
   "cell_type": "code",
   "execution_count": 13,
   "id": "46a49464",
   "metadata": {
    "ExecuteTime": {
     "end_time": "2021-12-29T12:48:32.727716Z",
     "start_time": "2021-12-29T12:48:32.684722Z"
    }
   },
   "outputs": [
    {
     "data": {
      "text/plain": [
       "((99988, 75, 200), (99988,))"
      ]
     },
     "execution_count": 13,
     "metadata": {},
     "output_type": "execute_result"
    }
   ],
   "source": [
    "X.shape,y.shape"
   ]
  },
  {
   "cell_type": "code",
   "execution_count": 12,
   "id": "c259786e",
   "metadata": {
    "ExecuteTime": {
     "end_time": "2021-12-29T12:47:36.720205Z",
     "start_time": "2021-12-29T12:46:58.756339Z"
    }
   },
   "outputs": [],
   "source": [
    "from sklearn.model_selection import train_test_split\n",
    "x_train,x_test, y_train,y_test = train_test_split(X,y, test_size=0.2, random_state=42)"
   ]
  },
  {
   "cell_type": "code",
   "execution_count": 20,
   "id": "2563ae0f",
   "metadata": {
    "ExecuteTime": {
     "end_time": "2021-12-29T13:00:53.623117Z",
     "start_time": "2021-12-29T13:00:53.477698Z"
    }
   },
   "outputs": [
    {
     "name": "stdout",
     "output_type": "stream",
     "text": [
      "{0: 0.26774212905548667, 1: 0.7322578709445133}\n"
     ]
    },
    {
     "data": {
      "image/png": "[encoded data removed]",
      "text/plain": [
       "<Figure size 432x288 with 1 Axes>"
      ]
     },
     "metadata": {},
     "output_type": "display_data"
    }
   ],
   "source": [
    "plt.pie(y.value_counts())\n",
    "x_neg_weight = y[y==1].shape\n",
    "x_pos_weight = y[y==0].shape\n",
    "x_neg_weight[0]/x_pos_weight[0]\n",
    "weights = {0: (x_neg_weight[0]/(x_pos_weight[0]+x_neg_weight[0])),1: (x_pos_weight[0]/(x_pos_weight[0]+x_neg_weight[0]))}\n",
    "print(weights)"
   ]
  },
  {
   "cell_type": "code",
   "execution_count": 27,
   "id": "b78dfccb",
   "metadata": {
    "ExecuteTime": {
     "end_time": "2021-12-29T17:24:02.270343Z",
     "start_time": "2021-12-29T17:24:02.192177Z"
    }
   },
   "outputs": [
    {
     "name": "stdout",
     "output_type": "stream",
     "text": [
      "Model: \"sequential_5\"\n",
      "_________________________________________________________________\n",
      "Layer (type)                 Output Shape              Param #   \n",
      "=================================================================\n",
      "conv2d_10 (Conv2D)           (None, 73, 198, 5)        50        \n",
      "_________________________________________________________________\n",
      "max_pooling2d_10 (MaxPooling (None, 24, 66, 5)         0         \n",
      "_________________________________________________________________\n",
      "conv2d_11 (Conv2D)           (None, 22, 64, 10)        460       \n",
      "_________________________________________________________________\n",
      "max_pooling2d_11 (MaxPooling (None, 4, 12, 10)         0         \n",
      "_________________________________________________________________\n",
      "flatten_5 (Flatten)          (None, 480)               0         \n",
      "_________________________________________________________________\n",
      "dense_15 (Dense)             (None, 250)               120250    \n",
      "_________________________________________________________________\n",
      "dropout_13 (Dropout)         (None, 250)               0         \n",
      "_________________________________________________________________\n",
      "dense_16 (Dense)             (None, 100)               25100     \n",
      "_________________________________________________________________\n",
      "dropout_14 (Dropout)         (None, 100)               0         \n",
      "_________________________________________________________________\n",
      "dense_17 (Dense)             (None, 1)                 101       \n",
      "=================================================================\n",
      "Total params: 145,961\n",
      "Trainable params: 145,961\n",
      "Non-trainable params: 0\n",
      "_________________________________________________________________\n"
     ]
    }
   ],
   "source": [
    "from tensorflow.keras.models import Sequential,Model\n",
    "from tensorflow.keras.layers import Dense,MaxPool1D,Flatten,Conv2D,Dropout,MaxPooling2D\n",
    "model = Sequential()\n",
    "model.add(Conv2D(5,(3,3), use_bias=True,padding=\"valid\",input_shape=(MAX_NUMBER_OF_WORDS,ENCODE_SIZE,1)))\n",
    "model.add(MaxPooling2D(pool_size=(3,3),padding='valid'))\n",
    "model.add(Conv2D(10,(3,3), use_bias=True,padding=\"valid\"))\n",
    "model.add(MaxPooling2D(pool_size=(5,5),padding='valid'))\n",
    "model.add(Flatten())\n",
    "model.add(Dense(250, activation=\"relu\"))\n",
    "model.add(Dense(100, activation=\"relu\"))\n",
    "model.add(Dropout(0.2))\n",
    "model.add(Dense(1, activation=\"sigmoid\"))\n",
    "model.compile(loss=tf.keras.losses.BinaryCrossentropy(), optimizer=tf.keras.optimizers.Adam(learning_rate=0.001),metrics=[\"accuracy\",tf.keras.metrics.Recall(),tf.keras.metrics.Precision()])\n",
    "model.summary()"
   ]
  },
  {
   "cell_type": "code",
   "execution_count": 40,
   "id": "2982d38a",
   "metadata": {
    "ExecuteTime": {
     "end_time": "2021-12-26T18:41:18.870696Z",
     "start_time": "2021-12-26T18:41:18.853708Z"
    }
   },
   "outputs": [
    {
     "data": {
      "text/plain": [
       "((74991, 50, 50, 1), (74991,))"
      ]
     },
     "execution_count": 40,
     "metadata": {},
     "output_type": "execute_result"
    }
   ],
   "source": [
    "np.expand_dims(x_train,axis=-1).shape,y_train.shape"
   ]
  },
  {
   "cell_type": "code",
   "execution_count": null,
   "id": "5ee6c838",
   "metadata": {
    "ExecuteTime": {
     "start_time": "2021-12-29T17:24:49.664Z"
    }
   },
   "outputs": [
    {
     "name": "stdout",
     "output_type": "stream",
     "text": [
      "Epoch 1/2000\n",
      "380/380 [==============================] - 134s 351ms/step - loss: 0.2718 - accuracy: 0.3841 - recall_5: 0.7505 - precision_5: 0.2680 - val_loss: 0.6916 - val_accuracy: 0.7370 - val_recall_5: 0.0000e+00 - val_precision_5: 0.0000e+00\n",
      "Epoch 2/2000\n",
      "380/380 [==============================] - 136s 357ms/step - loss: 0.2718 - accuracy: 0.6215 - recall_5: 0.2306 - precision_5: 0.2637 - val_loss: 0.6929 - val_accuracy: 0.7370 - val_recall_5: 0.0000e+00 - val_precision_5: 0.0000e+00\n",
      "Epoch 3/2000\n",
      "380/380 [==============================] - 133s 351ms/step - loss: 0.2718 - accuracy: 0.5150 - recall_5: 0.4594 - precision_5: 0.2656 - val_loss: 0.6930 - val_accuracy: 0.7370 - val_recall_5: 0.0000e+00 - val_precision_5: 0.0000e+00\n",
      "Epoch 4/2000\n",
      "380/380 [==============================] - 128s 337ms/step - loss: 0.2718 - accuracy: 0.4749 - recall_5: 0.5415 - precision_5: 0.2650 - val_loss: 0.6934 - val_accuracy: 0.2630 - val_recall_5: 1.0000 - val_precision_5: 0.2630\n",
      "Epoch 5/2000\n",
      "380/380 [==============================] - 127s 335ms/step - loss: 0.2718 - accuracy: 0.5792 - recall_5: 0.3283 - precision_5: 0.2674 - val_loss: 0.6939 - val_accuracy: 0.2630 - val_recall_5: 1.0000 - val_precision_5: 0.2630\n",
      "Epoch 6/2000\n",
      "380/380 [==============================] - 122s 320ms/step - loss: 0.2718 - accuracy: 0.4669 - recall_5: 0.5511 - precision_5: 0.2633 - val_loss: 0.6935 - val_accuracy: 0.2630 - val_recall_5: 1.0000 - val_precision_5: 0.2630\n",
      "Epoch 7/2000\n",
      "380/380 [==============================] - 126s 332ms/step - loss: 0.2718 - accuracy: 0.4271 - recall_5: 0.6487 - precision_5: 0.2662 - val_loss: 0.6934 - val_accuracy: 0.2630 - val_recall_5: 1.0000 - val_precision_5: 0.2630\n",
      "Epoch 8/2000\n",
      " 11/380 [..............................] - ETA: 2:18 - loss: 0.2747 - accuracy: 0.2768 - recall_5: 1.0000 - precision_5: 0.2768"
     ]
    }
   ],
   "source": [
    "callback = tf.keras.callbacks.EarlyStopping(monitor='loss', patience=20)\n",
    "history = model.fit(np.expand_dims(x_train,axis=-1),y_train,batch_size=200,epochs=2000,\n",
    "                    validation_split=0.05,class_weight=weights,\n",
    "                    use_multiprocessing=True,workers=NUM_WORKERS,callbacks=[callback])"
   ]
  },
  {
   "cell_type": "code",
   "execution_count": 22,
   "id": "bf254745",
   "metadata": {
    "ExecuteTime": {
     "end_time": "2021-12-29T14:42:03.105112Z",
     "start_time": "2021-12-29T14:42:01.912776Z"
    }
   },
   "outputs": [
    {
     "name": "stdout",
     "output_type": "stream",
     "text": [
      "INFO:tensorflow:Assets written to: cnn_glove3\\assets\n"
     ]
    }
   ],
   "source": [
    "model.save(\"cnn_glove3\")"
   ]
  },
  {
   "cell_type": "code",
   "execution_count": 23,
   "id": "1b18956c",
   "metadata": {
    "ExecuteTime": {
     "end_time": "2021-12-29T14:42:12.329960Z",
     "start_time": "2021-12-29T14:42:03.817509Z"
    }
   },
   "outputs": [
    {
     "name": "stdout",
     "output_type": "stream",
     "text": [
      "              precision    recall  f1-score   support\n",
      "\n",
      "         0.0       0.73      1.00      0.85     14631\n",
      "         1.0       0.00      0.00      0.00      5367\n",
      "\n",
      "    accuracy                           0.73     19998\n",
      "   macro avg       0.37      0.50      0.42     19998\n",
      "weighted avg       0.54      0.73      0.62     19998\n",
      "\n"
     ]
    },
    {
     "name": "stderr",
     "output_type": "stream",
     "text": [
      "C:\\ProgramData\\Anaconda3\\lib\\site-packages\\sklearn\\metrics\\_classification.py:1245: UndefinedMetricWarning: Precision and F-score are ill-defined and being set to 0.0 in labels with no predicted samples. Use `zero_division` parameter to control this behavior.\n",
      "  _warn_prf(average, modifier, msg_start, len(result))\n",
      "C:\\ProgramData\\Anaconda3\\lib\\site-packages\\sklearn\\metrics\\_classification.py:1245: UndefinedMetricWarning: Precision and F-score are ill-defined and being set to 0.0 in labels with no predicted samples. Use `zero_division` parameter to control this behavior.\n",
      "  _warn_prf(average, modifier, msg_start, len(result))\n",
      "C:\\ProgramData\\Anaconda3\\lib\\site-packages\\sklearn\\metrics\\_classification.py:1245: UndefinedMetricWarning: Precision and F-score are ill-defined and being set to 0.0 in labels with no predicted samples. Use `zero_division` parameter to control this behavior.\n",
      "  _warn_prf(average, modifier, msg_start, len(result))\n"
     ]
    }
   ],
   "source": [
    "from sklearn.metrics import classification_report\n",
    "pred = model.predict(np.expand_dims(x_test,axis=-1)).flatten()\n",
    "pred[pred < 0.5] = 0\n",
    "pred[pred > 0.5] = 1\n",
    "print(classification_report(y_test,pred))"
   ]
  },
  {
   "cell_type": "code",
   "execution_count": 24,
   "id": "f1af92db",
   "metadata": {
    "ExecuteTime": {
     "end_time": "2021-12-29T14:42:13.241810Z",
     "start_time": "2021-12-29T14:42:13.212782Z"
    }
   },
   "outputs": [
    {
     "ename": "KeyError",
     "evalue": "'acc'",
     "output_type": "error",
     "traceback": [
      "\u001b[1;31m---------------------------------------------------------------------------\u001b[0m",
      "\u001b[1;31mKeyError\u001b[0m                                  Traceback (most recent call last)",
      "\u001b[1;32m<ipython-input-24-bc226fcb61fa>\u001b[0m in \u001b[0;36m<module>\u001b[1;34m\u001b[0m\n\u001b[1;32m----> 1\u001b[1;33m \u001b[0mplt\u001b[0m\u001b[1;33m.\u001b[0m\u001b[0mplot\u001b[0m\u001b[1;33m(\u001b[0m\u001b[0mhistory\u001b[0m\u001b[1;33m.\u001b[0m\u001b[0mhistory\u001b[0m\u001b[1;33m[\u001b[0m\u001b[1;34m'acc'\u001b[0m\u001b[1;33m]\u001b[0m\u001b[1;33m)\u001b[0m\u001b[1;33m\u001b[0m\u001b[1;33m\u001b[0m\u001b[0m\n\u001b[0m\u001b[0;32m      2\u001b[0m \u001b[0mplt\u001b[0m\u001b[1;33m.\u001b[0m\u001b[0mplot\u001b[0m\u001b[1;33m(\u001b[0m\u001b[0mhistory\u001b[0m\u001b[1;33m.\u001b[0m\u001b[0mhistory\u001b[0m\u001b[1;33m[\u001b[0m\u001b[1;34m'val_acc'\u001b[0m\u001b[1;33m]\u001b[0m\u001b[1;33m)\u001b[0m\u001b[1;33m\u001b[0m\u001b[1;33m\u001b[0m\u001b[0m\n\u001b[0;32m      3\u001b[0m \u001b[0mplt\u001b[0m\u001b[1;33m.\u001b[0m\u001b[0mplot\u001b[0m\u001b[1;33m(\u001b[0m\u001b[0mhistory\u001b[0m\u001b[1;33m.\u001b[0m\u001b[0mhistory\u001b[0m\u001b[1;33m[\u001b[0m\u001b[1;34m'loss'\u001b[0m\u001b[1;33m]\u001b[0m\u001b[1;33m)\u001b[0m\u001b[1;33m\u001b[0m\u001b[1;33m\u001b[0m\u001b[0m\n\u001b[0;32m      4\u001b[0m \u001b[0mplt\u001b[0m\u001b[1;33m.\u001b[0m\u001b[0mplot\u001b[0m\u001b[1;33m(\u001b[0m\u001b[0mhistory\u001b[0m\u001b[1;33m.\u001b[0m\u001b[0mhistory\u001b[0m\u001b[1;33m[\u001b[0m\u001b[1;34m'val_loss'\u001b[0m\u001b[1;33m]\u001b[0m\u001b[1;33m)\u001b[0m\u001b[1;33m\u001b[0m\u001b[1;33m\u001b[0m\u001b[0m\n\u001b[0;32m      5\u001b[0m \u001b[0mplt\u001b[0m\u001b[1;33m.\u001b[0m\u001b[0mtitle\u001b[0m\u001b[1;33m(\u001b[0m\u001b[1;34m'Model Train Metrics'\u001b[0m\u001b[1;33m)\u001b[0m\u001b[1;33m\u001b[0m\u001b[1;33m\u001b[0m\u001b[0m\n",
      "\u001b[1;31mKeyError\u001b[0m: 'acc'"
     ]
    }
   ],
   "source": [
    "plt.plot(history.history['acc'])\n",
    "plt.plot(history.history['val_acc'])\n",
    "plt.plot(history.history['loss'])\n",
    "plt.plot(history.history['val_loss'])\n",
    "plt.title('Model Train Metrics')\n",
    "plt.ylabel('Metric')\n",
    "plt.xlabel('Epoch')\n",
    "plt.legend(['Train', 'Validation'])\n",
    "plt.show()"
   ]
  },
  {
   "cell_type": "code",
   "execution_count": null,
   "id": "6da97ae8",
   "metadata": {},
   "outputs": [],
   "source": []
  },
  {
   "cell_type": "code",
   "execution_count": 62,
   "id": "63eef529",
   "metadata": {
    "ExecuteTime": {
     "end_time": "2021-12-19T07:29:25.100505Z",
     "start_time": "2021-12-19T07:28:39.950701Z"
    }
   },
   "outputs": [
    {
     "data": {
      "application/vnd.jupyter.widget-view+json": {
       "model_id": "14c151097dd1473ca0c3170b72e0d6c8",
       "version_major": 2,
       "version_minor": 0
      },
      "text/plain": [
       "Pandas Apply:   0%|          | 0/100000 [00:00<?, ?it/s]"
      ]
     },
     "metadata": {},
     "output_type": "display_data"
    },
    {
     "data": {
      "text/plain": [
       "<matplotlib.collections.PathCollection at 0x1d12f3b8ee0>"
      ]
     },
     "execution_count": 62,
     "metadata": {},
     "output_type": "execute_result"
    },
    {
     "data": {
      "image/png": "[encoded data removed]",
      "text/plain": [
       "<Figure size 432x288 with 1 Axes>"
      ]
     },
     "metadata": {
      "needs_background": "light"
     },
     "output_type": "display_data"
    }
   ],
   "source": [
    "plt.scatter(list(range(df.shape[0])),df[\"Text\"].swifter.apply(lambda text: len(nltk.word_tokenize(text))).values)"
   ]
  },
  {
   "cell_type": "code",
   "execution_count": 58,
   "id": "4aee0fda",
   "metadata": {
    "ExecuteTime": {
     "end_time": "2021-12-19T07:25:25.948870Z",
     "start_time": "2021-12-19T07:25:25.774669Z"
    }
   },
   "outputs": [
    {
     "name": "stdout",
     "output_type": "stream",
     "text": [
      "Model: \"sequential_23\"\n",
      "_________________________________________________________________\n",
      "Layer (type)                 Output Shape              Param #   \n",
      "=================================================================\n",
      "bidirectional_2 (Bidirection (None, 96)                19200     \n",
      "_________________________________________________________________\n",
      "dense_37 (Dense)             (None, 24)                2328      \n",
      "_________________________________________________________________\n",
      "dense_38 (Dense)             (None, 1)                 25        \n",
      "=================================================================\n",
      "Total params: 21,553\n",
      "Trainable params: 21,553\n",
      "Non-trainable params: 0\n",
      "_________________________________________________________________\n"
     ]
    }
   ],
   "source": [
    "model = Sequential()\n",
    "model.add(Bidirectional(LSTM(48,recurrent_dropout=0.5),input_shape=(200,1)))\n",
    "model.add(Dense(24, activation=\"relu\"))\n",
    "model.add(Dense(1, activation=\"sigmoid\"))\n",
    "model.compile(loss=\"binary_crossentropy\", optimizer='adam',metrics=[\"accuracy\"])\n",
    "model.summary()"
   ]
  },
  {
   "cell_type": "code",
   "execution_count": null,
   "id": "2a10e44f",
   "metadata": {},
   "outputs": [],
   "source": [
    "callback = tf.keras.callbacks.EarlyStopping(monitor='loss', patience=20)\n",
    "history = model.fit(x_train.squeeze(),y_train,batch_size=200,epochs=100,\n",
    "                    validation_split=0.05,class_weight=weights.to_dict(),\n",
    "                    use_multiprocessing=True,workers=NUM_WORKERS,callbacks=[callback])"
   ]
  },
  {
   "cell_type": "code",
   "execution_count": null,
   "id": "73d42ba9",
   "metadata": {},
   "outputs": [],
   "source": []
  }
 ],
 "metadata": {
  "kernelspec": {
   "display_name": "Python 3",
   "language": "python",
   "name": "python3"
  },
  "language_info": {
   "codemirror_mode": {
    "name": "ipython",
    "version": 3
   },
   "file_extension": ".py",
   "mimetype": "text/x-python",
   "name": "python",
   "nbconvert_exporter": "python",
   "pygments_lexer": "ipython3",
   "version": "3.8.8"
  },
  "toc": {
   "base_numbering": 1,
   "nav_menu": {},
   "number_sections": true,
   "sideBar": true,
   "skip_h1_title": false,
   "title_cell": "Table of Contents",
   "title_sidebar": "Contents",
   "toc_cell": false,
   "toc_position": {},
   "toc_section_display": true,
   "toc_window_display": false
  },
  "varInspector": {
   "cols": {
    "lenName": 16,
    "lenType": 16,
    "lenVar": 40
   },
   "kernels_config": {
    "python": {
     "delete_cmd_postfix": "",
     "delete_cmd_prefix": "del ",
     "library": "var_list.py",
     "varRefreshCmd": "print(var_dic_list())"
    },
    "r": {
     "delete_cmd_postfix": ") ",
     "delete_cmd_prefix": "rm(",
     "library": "var_list.r",
     "varRefreshCmd": "cat(var_dic_list()) "
    }
   },
   "types_to_exclude": [
    "module",
    "function",
    "builtin_function_or_method",
    "instance",
    "_Feature"
   ],
   "window_display": false
  }
 },
 "nbformat": 4,
 "nbformat_minor": 5
}
