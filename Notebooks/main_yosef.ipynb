{
 "cells": [
  {
   "cell_type": "code",
   "execution_count": 1,
   "id": "1072034c",
   "metadata": {
    "ExecuteTime": {
     "end_time": "2021-12-15T19:41:28.726084Z",
     "start_time": "2021-12-15T19:41:24.217924Z"
    }
   },
   "outputs": [],
   "source": [
    "import pandas as pd\n",
    "import numpy as np\n",
    "import matplotlib.pyplot as plt\n",
    "import swifter\n",
    "from sklearn.model_selection import train_test_split\n",
    "import re\n",
    "import nltk\n",
    "from gensim.test.utils import common_texts\n",
    "from gensim.models.doc2vec import Doc2Vec, TaggedDocument\n",
    "from tensorflow.keras.models import Sequential,Model\n",
    "from tensorflow.keras.layers import Dense,LSTM,Conv1D,MaxPool1D,Flatten\n",
    "import tensorflow as tf"
   ]
  },
  {
   "cell_type": "code",
   "execution_count": 2,
   "id": "52ce76f8",
   "metadata": {
    "ExecuteTime": {
     "end_time": "2021-12-15T19:41:28.773539Z",
     "start_time": "2021-12-15T19:41:28.758508Z"
    }
   },
   "outputs": [],
   "source": [
    "NUM_WORKERS = 8\n",
    "TEST_SIZE = 0.3\n",
    "LABEL_COLUMN_NAME = \"oh_label\"\n",
    "TEXT_COLUMN_NAME = \"Text\"\n",
    "DATASET_PATH = \"../Data/ver1.csv\""
   ]
  },
  {
   "cell_type": "code",
   "execution_count": 3,
   "id": "d73e000b",
   "metadata": {
    "ExecuteTime": {
     "end_time": "2021-12-15T19:41:29.449450Z",
     "start_time": "2021-12-15T19:41:28.805768Z"
    }
   },
   "outputs": [],
   "source": [
    "df= pd.read_csv(DATASET_PATH, index_col=False)\n",
    "df = df.dropna()\n",
    "df.drop([\"Unnamed: 0\", \"index\"],axis=1, inplace = True)"
   ]
  },
  {
   "cell_type": "code",
   "execution_count": 4,
   "id": "63eef529",
   "metadata": {
    "ExecuteTime": {
     "end_time": "2021-12-15T19:41:29.655452Z",
     "start_time": "2021-12-15T19:41:29.483192Z"
    }
   },
   "outputs": [
    {
     "data": {
      "application/vnd.jupyter.widget-view+json": {
       "model_id": "ea706aac8aec4e99af32e86cd1a904ae",
       "version_major": 2,
       "version_minor": 0
      },
      "text/plain": [
       "Pandas Apply:   0%|          | 0/100000 [00:00<?, ?it/s]"
      ]
     },
     "metadata": {},
     "output_type": "display_data"
    },
    {
     "data": {
      "text/plain": [
       "count    100000.000000\n",
       "mean        363.608200\n",
       "std         685.901605\n",
       "min           1.000000\n",
       "25%          83.000000\n",
       "50%         159.000000\n",
       "75%         369.000000\n",
       "max       17805.000000\n",
       "Name: Text, dtype: float64"
      ]
     },
     "execution_count": 4,
     "metadata": {},
     "output_type": "execute_result"
    }
   ],
   "source": [
    "df[\"Text\"].swifter.apply(len).describe()"
   ]
  },
  {
   "cell_type": "code",
   "execution_count": 5,
   "id": "6fe9434e",
   "metadata": {
    "ExecuteTime": {
     "end_time": "2021-12-15T19:42:51.317977Z",
     "start_time": "2021-12-15T19:41:35.963286Z"
    }
   },
   "outputs": [
    {
     "data": {
      "application/vnd.jupyter.widget-view+json": {
       "model_id": "c3b3877d55fb40a9a4a2f8d20a528cf3",
       "version_major": 2,
       "version_minor": 0
      },
      "text/plain": [
       "Pandas Apply:   0%|          | 0/100000 [00:00<?, ?it/s]"
      ]
     },
     "metadata": {},
     "output_type": "display_data"
    }
   ],
   "source": [
    "doc2vec_model = Doc2Vec([TaggedDocument(doc, [i]) for i, doc in enumerate(common_texts)], vector_size=40, window=8, min_count=1, workers=NUM_WORKERS)\n",
    "stop_words = set(nltk.corpus.stopwords.words(\"english\"))\n",
    "X = df[TEXT_COLUMN_NAME].swifter.apply(lambda text : doc2vec_model.infer_vector([word for word in nltk.word_tokenize(text) if word not in stop_words]))\n",
    "y = df[LABEL_COLUMN_NAME]\n",
    "x_train, x_test, y_train, y_test = train_test_split(X.values, y.values, test_size=0.3, random_state=1)"
   ]
  },
  {
   "cell_type": "code",
   "execution_count": 14,
   "id": "589b10c5",
   "metadata": {
    "ExecuteTime": {
     "end_time": "2021-12-15T19:45:53.407524Z",
     "start_time": "2021-12-15T19:45:53.350359Z"
    }
   },
   "outputs": [
    {
     "data": {
      "image/png": "[encoded data removed]",
      "text/plain": [
       "<Figure size 432x288 with 1 Axes>"
      ]
     },
     "metadata": {},
     "output_type": "display_data"
    }
   ],
   "source": [
    "plt.pie(y.value_counts())\n",
    "weights = (1-y.value_counts()/y.size)*100"
   ]
  },
  {
   "cell_type": "code",
   "execution_count": 15,
   "id": "15378143",
   "metadata": {
    "ExecuteTime": {
     "end_time": "2021-12-15T19:45:58.556807Z",
     "start_time": "2021-12-15T19:45:58.540781Z"
    }
   },
   "outputs": [
    {
     "data": {
      "text/plain": [
       "0.0    26.771\n",
       "1.0    73.229\n",
       "Name: oh_label, dtype: float64"
      ]
     },
     "execution_count": 15,
     "metadata": {},
     "output_type": "execute_result"
    }
   ],
   "source": [
    "weights"
   ]
  },
  {
   "cell_type": "code",
   "execution_count": 26,
   "id": "e0407dd3",
   "metadata": {
    "ExecuteTime": {
     "end_time": "2021-12-15T19:55:15.401247Z",
     "start_time": "2021-12-15T19:55:15.346662Z"
    }
   },
   "outputs": [
    {
     "name": "stdout",
     "output_type": "stream",
     "text": [
      "Model: \"sequential_5\"\n",
      "_________________________________________________________________\n",
      "Layer (type)                 Output Shape              Param #   \n",
      "=================================================================\n",
      "dense_9 (Dense)              (None, 1, 15)             615       \n",
      "_________________________________________________________________\n",
      "dense_10 (Dense)             (None, 1, 1)              16        \n",
      "=================================================================\n",
      "Total params: 631\n",
      "Trainable params: 631\n",
      "Non-trainable params: 0\n",
      "_________________________________________________________________\n"
     ]
    }
   ],
   "source": [
    "# strategy = tf.distribute.MirroredStrategy()\n",
    "model = Sequential()\n",
    "# model.add(Conv1D(40, 5,strides=1, activation='relu',padding=\"same\",input_shape=(1,40)))\n",
    "model.add(Dense(15, activation=\"relu\",input_shape=(1,40)))\n",
    "model.add(Dense(1, activation=\"sigmoid\"))\n",
    "model.compile(loss=tf.keras.losses.BinaryCrossentropy(), optimizer=tf.keras.optimizers.Adam(learning_rate=0.001),metrics=[\"accuracy\",tf.keras.metrics.Recall(),tf.keras.metrics.Precision()])\n",
    "model.summary()"
   ]
  },
  {
   "cell_type": "code",
   "execution_count": null,
   "id": "14ed4a7f",
   "metadata": {
    "ExecuteTime": {
     "start_time": "2021-12-15T19:57:11.206Z"
    }
   },
   "outputs": [
    {
     "name": "stdout",
     "output_type": "stream",
     "text": [
      "Epoch 1/5000\n",
      "333/333 [==============================] - 0s 1ms/step - loss: 27.0500 - accuracy: 0.5250 - recall_4: 0.5501 - precision_4: 0.2933 - val_loss: 0.6920 - val_accuracy: 0.5086 - val_recall_4: 0.5281 - val_precision_4: 0.2864\n",
      "Epoch 2/5000\n",
      "333/333 [==============================] - 0s 1ms/step - loss: 27.0485 - accuracy: 0.5309 - recall_4: 0.5397 - precision_4: 0.2945 - val_loss: 0.6972 - val_accuracy: 0.4654 - val_recall_4: 0.6133 - val_precision_4: 0.2824\n",
      "Epoch 3/5000\n",
      "333/333 [==============================] - 0s 1ms/step - loss: 27.0425 - accuracy: 0.5266 - recall_4: 0.5492 - precision_4: 0.2940 - val_loss: 0.6914 - val_accuracy: 0.5109 - val_recall_4: 0.5353 - val_precision_4: 0.2893\n",
      "Epoch 4/5000\n",
      "333/333 [==============================] - 0s 1ms/step - loss: 27.0407 - accuracy: 0.5215 - recall_4: 0.5646 - precision_4: 0.2944 - val_loss: 0.6843 - val_accuracy: 0.5731 - val_recall_4: 0.3960 - val_precision_4: 0.2944\n",
      "Epoch 5/5000\n",
      "333/333 [==============================] - 0s 1ms/step - loss: 27.0377 - accuracy: 0.5287 - recall_4: 0.5435 - precision_4: 0.2940 - val_loss: 0.6923 - val_accuracy: 0.5046 - val_recall_4: 0.5353 - val_precision_4: 0.2858\n",
      "Epoch 6/5000\n",
      "333/333 [==============================] - 0s 1ms/step - loss: 27.0329 - accuracy: 0.5282 - recall_4: 0.5516 - precision_4: 0.2955 - val_loss: 0.6883 - val_accuracy: 0.5400 - val_recall_4: 0.4730 - val_precision_4: 0.2920\n",
      "Epoch 7/5000\n",
      "333/333 [==============================] - 0s 1ms/step - loss: 27.0304 - accuracy: 0.5361 - recall_4: 0.5389 - precision_4: 0.2974 - val_loss: 0.6950 - val_accuracy: 0.4869 - val_recall_4: 0.5821 - val_precision_4: 0.2866\n",
      "Epoch 8/5000\n",
      "333/333 [==============================] - 0s 1ms/step - loss: 27.0266 - accuracy: 0.5308 - recall_4: 0.5492 - precision_4: 0.2965 - val_loss: 0.7026 - val_accuracy: 0.4263 - val_recall_4: 0.6819 - val_precision_4: 0.2782\n",
      "Epoch 9/5000\n",
      "333/333 [==============================] - 0s 1ms/step - loss: 27.0244 - accuracy: 0.5261 - recall_4: 0.5628 - precision_4: 0.2967 - val_loss: 0.6932 - val_accuracy: 0.4914 - val_recall_4: 0.5457 - val_precision_4: 0.2810\n",
      "Epoch 10/5000\n",
      "333/333 [==============================] - 0s 1ms/step - loss: 27.0195 - accuracy: 0.5332 - recall_4: 0.5484 - precision_4: 0.2978 - val_loss: 0.6974 - val_accuracy: 0.4683 - val_recall_4: 0.5967 - val_precision_4: 0.2804\n",
      "Epoch 11/5000\n",
      "333/333 [==============================] - 0s 1ms/step - loss: 27.0168 - accuracy: 0.5252 - recall_4: 0.5616 - precision_4: 0.2959 - val_loss: 0.6991 - val_accuracy: 0.4609 - val_recall_4: 0.6331 - val_precision_4: 0.2842\n",
      "Epoch 12/5000\n",
      "333/333 [==============================] - 0s 1ms/step - loss: 27.0153 - accuracy: 0.5346 - recall_4: 0.5530 - precision_4: 0.2996 - val_loss: 0.6941 - val_accuracy: 0.4946 - val_recall_4: 0.5759 - val_precision_4: 0.2893\n",
      "Epoch 13/5000\n",
      "333/333 [==============================] - 0s 1ms/step - loss: 27.0100 - accuracy: 0.5283 - recall_4: 0.5565 - precision_4: 0.2966 - val_loss: 0.6850 - val_accuracy: 0.5600 - val_recall_4: 0.4241 - val_precision_4: 0.2927\n",
      "Epoch 14/5000\n",
      "333/333 [==============================] - 0s 1ms/step - loss: 27.0068 - accuracy: 0.5320 - recall_4: 0.5587 - precision_4: 0.2993 - val_loss: 0.6900 - val_accuracy: 0.5209 - val_recall_4: 0.5031 - val_precision_4: 0.2876\n",
      "Epoch 15/5000\n",
      "333/333 [==============================] - 0s 1ms/step - loss: 27.0038 - accuracy: 0.5301 - recall_4: 0.5583 - precision_4: 0.2981 - val_loss: 0.6912 - val_accuracy: 0.5163 - val_recall_4: 0.5239 - val_precision_4: 0.2898\n",
      "Epoch 16/5000\n",
      "333/333 [==============================] - 0s 1ms/step - loss: 26.9995 - accuracy: 0.5291 - recall_4: 0.5569 - precision_4: 0.2971 - val_loss: 0.6917 - val_accuracy: 0.5100 - val_recall_4: 0.5416 - val_precision_4: 0.2903\n",
      "Epoch 17/5000\n",
      "333/333 [==============================] - 0s 1ms/step - loss: 26.9978 - accuracy: 0.5283 - recall_4: 0.5675 - precision_4: 0.2990 - val_loss: 0.6868 - val_accuracy: 0.5440 - val_recall_4: 0.4584 - val_precision_4: 0.2909\n",
      "Epoch 18/5000\n",
      "333/333 [==============================] - 0s 1ms/step - loss: 26.9936 - accuracy: 0.5370 - recall_4: 0.5506 - precision_4: 0.3006 - val_loss: 0.6882 - val_accuracy: 0.5311 - val_recall_4: 0.4813 - val_precision_4: 0.2885\n",
      "Epoch 19/5000\n",
      "333/333 [==============================] - 0s 1ms/step - loss: 26.9907 - accuracy: 0.5293 - recall_4: 0.5629 - precision_4: 0.2986 - val_loss: 0.6816 - val_accuracy: 0.5686 - val_recall_4: 0.3805 - val_precision_4: 0.2859\n",
      "Epoch 20/5000\n",
      "333/333 [==============================] - 1s 2ms/step - loss: 26.9858 - accuracy: 0.5318 - recall_4: 0.5630 - precision_4: 0.3001 - val_loss: 0.6882 - val_accuracy: 0.5397 - val_recall_4: 0.4875 - val_precision_4: 0.2955\n",
      "Epoch 21/5000\n",
      "333/333 [==============================] - 0s 1ms/step - loss: 26.9801 - accuracy: 0.5378 - recall_4: 0.5558 - precision_4: 0.3022 - val_loss: 0.7005 - val_accuracy: 0.4589 - val_recall_4: 0.6393 - val_precision_4: 0.2845\n",
      "Epoch 22/5000\n",
      "333/333 [==============================] - 0s 1ms/step - loss: 26.9805 - accuracy: 0.5292 - recall_4: 0.5675 - precision_4: 0.2995 - val_loss: 0.6960 - val_accuracy: 0.4791 - val_recall_4: 0.5728 - val_precision_4: 0.2807\n",
      "Epoch 23/5000\n",
      "333/333 [==============================] - 1s 2ms/step - loss: 26.9802 - accuracy: 0.5305 - recall_4: 0.5622 - precision_4: 0.2991 - val_loss: 0.6814 - val_accuracy: 0.5703 - val_recall_4: 0.3877 - val_precision_4: 0.2896\n",
      "Epoch 24/5000\n",
      "333/333 [==============================] - 1s 2ms/step - loss: 26.9731 - accuracy: 0.5372 - recall_4: 0.5559 - precision_4: 0.3018 - val_loss: 0.6927 - val_accuracy: 0.5011 - val_recall_4: 0.5447 - val_precision_4: 0.2860\n",
      "Epoch 25/5000\n",
      " 98/333 [=======>......................] - ETA: 0s - loss: 27.0345 - accuracy: 0.5285 - recall_4: 0.5838 - precision_4: 0.3054"
     ]
    }
   ],
   "source": [
    "callback = tf.keras.callbacks.EarlyStopping(monitor='loss', patience=5)\n",
    "history = model.fit(np.expand_dims(np.stack(x_train),axis=1),y_train,batch_size=200,epochs=5000,\n",
    "                    validation_split=0.05,class_weight=weights.to_dict(),\n",
    "                    use_multiprocessing=True,workers=NUM_WORKERS,callbacks=[callback])"
   ]
  },
  {
   "cell_type": "code",
   "execution_count": 28,
   "id": "394b4b1f",
   "metadata": {
    "ExecuteTime": {
     "end_time": "2021-12-15T19:55:44.425581Z",
     "start_time": "2021-12-15T19:55:44.327182Z"
    }
   },
   "outputs": [
    {
     "data": {
      "text/plain": [
       "[<matplotlib.lines.Line2D at 0x186a3ddec10>]"
      ]
     },
     "execution_count": 28,
     "metadata": {},
     "output_type": "execute_result"
    },
    {
     "data": {
      "image/png": "[encoded data removed]",
      "text/plain": [
       "<Figure size 432x288 with 1 Axes>"
      ]
     },
     "metadata": {
      "needs_background": "light"
     },
     "output_type": "display_data"
    }
   ],
   "source": [
    "plt.plot(history.history['loss'])"
   ]
  },
  {
   "cell_type": "code",
   "execution_count": null,
   "id": "4aee0fda",
   "metadata": {},
   "outputs": [],
   "source": [
    "model = Sequential()\n",
    "model.add(LSTM(48,input_shape=(79,1),recurrent_dropout=0.5))\n",
    "model.add(Dense(24, activation=\"relu\"))\n",
    "model.add(Dense(1, activation=\"sigmoid\"))\n",
    "model.compile(loss=\"binary_crossentropy\", optimizer='adam',metrics=[\"accuracy\"])\n",
    "model.summary()"
   ]
  },
  {
   "cell_type": "code",
   "execution_count": null,
   "id": "83f9ba38",
   "metadata": {},
   "outputs": [],
   "source": []
  }
 ],
 "metadata": {
  "kernelspec": {
   "display_name": "Python 3",
   "language": "python",
   "name": "python3"
  },
  "language_info": {
   "codemirror_mode": {
    "name": "ipython",
    "version": 3
   },
   "file_extension": ".py",
   "mimetype": "text/x-python",
   "name": "python",
   "nbconvert_exporter": "python",
   "pygments_lexer": "ipython3",
   "version": "3.8.8"
  },
  "toc": {
   "base_numbering": 1,
   "nav_menu": {},
   "number_sections": true,
   "sideBar": true,
   "skip_h1_title": false,
   "title_cell": "Table of Contents",
   "title_sidebar": "Contents",
   "toc_cell": false,
   "toc_position": {},
   "toc_section_display": true,
   "toc_window_display": false
  },
  "varInspector": {
   "cols": {
    "lenName": 16,
    "lenType": 16,
    "lenVar": 40
   },
   "kernels_config": {
    "python": {
     "delete_cmd_postfix": "",
     "delete_cmd_prefix": "del ",
     "library": "var_list.py",
     "varRefreshCmd": "print(var_dic_list())"
    },
    "r": {
     "delete_cmd_postfix": ") ",
     "delete_cmd_prefix": "rm(",
     "library": "var_list.r",
     "varRefreshCmd": "cat(var_dic_list()) "
    }
   },
   "types_to_exclude": [
    "module",
    "function",
    "builtin_function_or_method",
    "instance",
    "_Feature"
   ],
   "window_display": false
  }
 },
 "nbformat": 4,
 "nbformat_minor": 5
}
