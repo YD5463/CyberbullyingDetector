{
 "cells": [
  {
   "cell_type": "code",
   "execution_count": 1,
   "id": "b4b4d7e3",
   "metadata": {
    "ExecuteTime": {
     "end_time": "2022-01-01T17:49:04.050607Z",
     "start_time": "2022-01-01T17:48:53.339968Z"
    }
   },
   "outputs": [],
   "source": [
    "import pandas as pd\n",
    "import numpy as np\n",
    "import matplotlib.pyplot as plt\n",
    "from tensorflow.keras.models import Model\n",
    "import tensorflow as tf\n",
    "from tensorflow.keras.models import Sequential\n",
    "import swifter\n",
    "import nltk\n",
    "from sklearn.model_selection import train_test_split\n",
    "from tensorflow.keras.preprocessing.text import Tokenizer\n",
    "from tensorflow.keras.preprocessing.sequence import pad_sequences\n",
    "from tensorflow.keras.utils import to_categorical\n",
    "from tensorflow.keras.layers import Dense, Embedding, Conv2D, MaxPooling2D, Dropout,Reshape, Flatten,LSTM\n",
    "from tensorflow.keras import regularizers\n",
    "import tensorflow as tf\n",
    "import tensorflow_addons as tfa\n",
    "from sklearn.metrics import classification_report\n"
   ]
  },
  {
   "cell_type": "code",
   "execution_count": 2,
   "id": "b7dcd375",
   "metadata": {
    "ExecuteTime": {
     "end_time": "2022-01-01T17:49:04.098244Z",
     "start_time": "2022-01-01T17:49:04.084249Z"
    }
   },
   "outputs": [],
   "source": [
    "NUM_WORKERS = 8\n",
    "TEST_SIZE = 0.3\n",
    "LABEL_COLUMN_NAME = \"oh_label\"\n",
    "TEXT_COLUMN_NAME = \"Text\"\n",
    "DATASET_PATH = \"../Data/ver1.csv\""
   ]
  },
  {
   "cell_type": "markdown",
   "id": "4c928524",
   "metadata": {},
   "source": [
    "## CNN with Word2vec"
   ]
  },
  {
   "cell_type": "code",
   "execution_count": 3,
   "id": "3a23f4f0",
   "metadata": {
    "ExecuteTime": {
     "end_time": "2022-01-01T17:49:04.667057Z",
     "start_time": "2022-01-01T17:49:04.131248Z"
    }
   },
   "outputs": [],
   "source": [
    "df= pd.read_csv(DATASET_PATH, index_col=False)\n",
    "df = df.dropna()\n",
    "df.drop([\"Unnamed: 0\", \"index\"],axis=1, inplace = True)"
   ]
  },
  {
   "cell_type": "code",
   "execution_count": 4,
   "id": "442c7c3c",
   "metadata": {
    "ExecuteTime": {
     "end_time": "2022-01-01T17:49:04.714333Z",
     "start_time": "2022-01-01T17:49:04.700053Z"
    }
   },
   "outputs": [],
   "source": [
    "X,y = df[TEXT_COLUMN_NAME],df[LABEL_COLUMN_NAME]"
   ]
  },
  {
   "cell_type": "code",
   "execution_count": 36,
   "id": "e2398b33",
   "metadata": {
    "ExecuteTime": {
     "end_time": "2022-01-02T09:08:06.655955Z",
     "start_time": "2022-01-02T09:08:06.650410Z"
    }
   },
   "outputs": [],
   "source": [
    "stopwords = nltk.corpus.stopwords.words('english')\n",
    "X = X.swifter.apply(lambda text: ' '.join([item for item in nltk.word_tokenize(text) if item not in stopwords]))\n",
    "X = X.str.replace('[^\\w\\s]','')"
   ]
  },
  {
   "cell_type": "code",
   "execution_count": 38,
   "id": "595838bd",
   "metadata": {
    "ExecuteTime": {
     "end_time": "2022-01-02T09:17:02.872925Z",
     "start_time": "2022-01-02T09:17:02.856968Z"
    }
   },
   "outputs": [],
   "source": [
    "from collections import Counter\n",
    "results = Counter()\n",
    "X.str.lower().str.split().apply(results.update)"
   ]
  },
  {
   "cell_type": "code",
   "execution_count": 63,
   "id": "998a39ae",
   "metadata": {
    "ExecuteTime": {
     "end_time": "2022-01-01T09:52:18.106509Z",
     "start_time": "2022-01-01T09:52:17.991494Z"
    }
   },
   "outputs": [
    {
     "data": {
      "text/html": [
       "<div>\n",
       "<style scoped>\n",
       "    .dataframe tbody tr th:only-of-type {\n",
       "        vertical-align: middle;\n",
       "    }\n",
       "\n",
       "    .dataframe tbody tr th {\n",
       "        vertical-align: top;\n",
       "    }\n",
       "\n",
       "    .dataframe thead th {\n",
       "        text-align: right;\n",
       "    }\n",
       "</style>\n",
       "<table border=\"1\" class=\"dataframe\">\n",
       "  <thead>\n",
       "    <tr style=\"text-align: right;\">\n",
       "      <th></th>\n",
       "      <th>index</th>\n",
       "      <th>count</th>\n",
       "    </tr>\n",
       "  </thead>\n",
       "  <tbody>\n",
       "    <tr>\n",
       "      <th>0</th>\n",
       "      <td>im</td>\n",
       "      <td>12340</td>\n",
       "    </tr>\n",
       "    <tr>\n",
       "      <th>1</th>\n",
       "      <td>12</td>\n",
       "      <td>535</td>\n",
       "    </tr>\n",
       "    <tr>\n",
       "      <th>2</th>\n",
       "      <td>understand</td>\n",
       "      <td>2775</td>\n",
       "    </tr>\n",
       "    <tr>\n",
       "      <th>3</th>\n",
       "      <td>perfectly</td>\n",
       "      <td>394</td>\n",
       "    </tr>\n",
       "    <tr>\n",
       "      <th>4</th>\n",
       "      <td>you</td>\n",
       "      <td>34385</td>\n",
       "    </tr>\n",
       "    <tr>\n",
       "      <th>...</th>\n",
       "      <td>...</td>\n",
       "      <td>...</td>\n",
       "    </tr>\n",
       "    <tr>\n",
       "      <th>159691</th>\n",
       "      <td>sdre</td>\n",
       "      <td>1</td>\n",
       "    </tr>\n",
       "    <tr>\n",
       "      <th>159692</th>\n",
       "      <td>weezer</td>\n",
       "      <td>1</td>\n",
       "    </tr>\n",
       "    <tr>\n",
       "      <th>159693</th>\n",
       "      <td>mid90s</td>\n",
       "      <td>1</td>\n",
       "    </tr>\n",
       "    <tr>\n",
       "      <th>159694</th>\n",
       "      <td>greenwaldquote</td>\n",
       "      <td>1</td>\n",
       "    </tr>\n",
       "    <tr>\n",
       "      <th>159695</th>\n",
       "      <td>poppunkindie</td>\n",
       "      <td>1</td>\n",
       "    </tr>\n",
       "  </tbody>\n",
       "</table>\n",
       "<p>159696 rows × 2 columns</p>\n",
       "</div>"
      ],
      "text/plain": [
       "                 index  count\n",
       "0                   im  12340\n",
       "1                   12    535\n",
       "2           understand   2775\n",
       "3            perfectly    394\n",
       "4                  you  34385\n",
       "...                ...    ...\n",
       "159691            sdre      1\n",
       "159692          weezer      1\n",
       "159693          mid90s      1\n",
       "159694  greenwaldquote      1\n",
       "159695    poppunkindie      1\n",
       "\n",
       "[159696 rows x 2 columns]"
      ]
     },
     "execution_count": 63,
     "metadata": {},
     "output_type": "execute_result"
    }
   ],
   "source": [
    "counts = pd.DataFrame.from_dict(results, orient='index').reset_index()\n",
    "counts.columns = [\"index\",\"count\"]\n",
    "counts"
   ]
  },
  {
   "cell_type": "code",
   "execution_count": 67,
   "id": "dc07cfcd",
   "metadata": {
    "ExecuteTime": {
     "end_time": "2022-01-01T09:53:42.691173Z",
     "start_time": "2022-01-01T09:53:42.652189Z"
    }
   },
   "outputs": [
    {
     "data": {
      "text/plain": [
       "1    81681\n",
       "2    28388\n",
       "3    10856\n",
       "4     6604\n",
       "5     3963\n",
       "6     3097\n",
       "7     2186\n",
       "8     1840\n",
       "9     1081\n",
       "Name: count, dtype: int64"
      ]
     },
     "execution_count": 67,
     "metadata": {},
     "output_type": "execute_result"
    }
   ],
   "source": [
    "counts = counts.sort_values(\"count\",ascending=False).reset_index(drop=True)\n",
    "counts[20000:]['count'].value_counts()"
   ]
  },
  {
   "cell_type": "code",
   "execution_count": 73,
   "id": "c7c2ec3b",
   "metadata": {
    "ExecuteTime": {
     "end_time": "2022-01-01T09:55:59.131429Z",
     "start_time": "2022-01-01T09:55:59.103429Z"
    }
   },
   "outputs": [],
   "source": [
    "X_train,X_test, y_train,y_test = train_test_split(X,y, test_size=0.2, random_state=93)"
   ]
  },
  {
   "cell_type": "code",
   "execution_count": 74,
   "id": "5130f330",
   "metadata": {
    "ExecuteTime": {
     "end_time": "2022-01-01T09:56:04.842660Z",
     "start_time": "2022-01-01T09:55:59.760538Z"
    }
   },
   "outputs": [],
   "source": [
    "tokenizer = Tokenizer(filters='',lower=True,char_level=)\n",
    "tokenizer.fit_on_texts(X_train)\n",
    "X_train = tokenizer.texts_to_sequences(X_train)\n",
    "X_test=tokenizer.texts_to_sequences(X_test)\n",
    "word_index = tokenizer.word_index"
   ]
  },
  {
   "cell_type": "code",
   "execution_count": 76,
   "id": "790e3060",
   "metadata": {
    "ExecuteTime": {
     "end_time": "2022-01-01T09:59:34.984507Z",
     "start_time": "2022-01-01T09:58:54.209309Z"
    }
   },
   "outputs": [],
   "source": [
    "import gensim\n",
    "from gensim.models import Word2Vec\n",
    "from gensim.utils import simple_preprocess\n",
    "\n",
    "from gensim.models.keyedvectors import KeyedVectors\n",
    "\n",
    "word_vectors = KeyedVectors.load_word2vec_format('GoogleNews-vectors-negative300.bin.gz', binary=True)\n",
    "\n",
    "EMBEDDING_DIM=300\n",
    "vocabulary_size=min(len(word_index)+1,NUM_WORDS)\n",
    "embedding_matrix = np.zeros((vocabulary_size, EMBEDDING_DIM))\n",
    "not_found = set()\n",
    "for word, i in word_index.items():\n",
    "    if i>=NUM_WORDS:\n",
    "        continue\n",
    "    try:\n",
    "        embedding_vector = word_vectors[word]\n",
    "        embedding_matrix[i] = embedding_vector\n",
    "    except KeyError:\n",
    "        not_found.add(word)\n",
    "        embedding_matrix[i]=np.random.normal(0,np.sqrt(0.25),EMBEDDING_DIM)\n",
    "\n",
    "del(word_vectors)"
   ]
  },
  {
   "cell_type": "code",
   "execution_count": 9,
   "id": "7b08732f",
   "metadata": {
    "ExecuteTime": {
     "end_time": "2021-12-31T21:07:13.352621Z",
     "start_time": "2021-12-31T21:07:12.632557Z"
    }
   },
   "outputs": [],
   "source": [
    "X_train = pad_sequences(X_train)\n",
    "X_test = pad_sequences(X_test,maxlen=X_train.shape[1])\n",
    "y_train = to_categorical(y_train)\n",
    "y_test = to_categorical(y_test)"
   ]
  },
  {
   "cell_type": "code",
   "execution_count": 23,
   "id": "2f00335b",
   "metadata": {
    "ExecuteTime": {
     "end_time": "2022-01-01T09:24:32.304417Z",
     "start_time": "2022-01-01T09:24:32.205412Z"
    }
   },
   "outputs": [
    {
     "name": "stdout",
     "output_type": "stream",
     "text": [
      "Model: \"sequential_5\"\n",
      "_________________________________________________________________\n",
      "Layer (type)                 Output Shape              Param #   \n",
      "=================================================================\n",
      "embedding_5 (Embedding)      (None, 2829, 300)         6000000   \n",
      "_________________________________________________________________\n",
      "reshape_5 (Reshape)          (None, 2829, 300, 1)      0         \n",
      "_________________________________________________________________\n",
      "conv2d_5 (Conv2D)            (None, 2827, 1, 100)      90100     \n",
      "_________________________________________________________________\n",
      "max_pooling2d_5 (MaxPooling2 (None, 3, 1, 100)         0         \n",
      "_________________________________________________________________\n",
      "flatten_5 (Flatten)          (None, 300)               0         \n",
      "_________________________________________________________________\n",
      "dropout_5 (Dropout)          (None, 300)               0         \n",
      "_________________________________________________________________\n",
      "dense_5 (Dense)              (None, 2)                 602       \n",
      "=================================================================\n",
      "Total params: 6,090,702\n",
      "Trainable params: 90,702\n",
      "Non-trainable params: 6,000,000\n",
      "_________________________________________________________________\n"
     ]
    }
   ],
   "source": [
    "sequence_length = X_train.shape[1]\n",
    "model = Sequential()\n",
    "model.add(Embedding(vocabulary_size,EMBEDDING_DIM,weights=[embedding_matrix],trainable=False,input_shape=(sequence_length,)))\n",
    "model.add(Reshape((sequence_length,EMBEDDING_DIM,1)))\n",
    "model.add(Conv2D(100, (3, EMBEDDING_DIM),activation='relu',kernel_regularizer=regularizers.l1_l2(0.01)))\n",
    "model.add(Dropout(0.5))\n",
    "model.add(MaxPooling2D((sequence_length - 4, 1), strides=(1,1)))\n",
    "model.add(Flatten())\n",
    "model.add(Dropout(0.5))\n",
    "model.add(Dense(2, activation=\"softmax\"))\n",
    "model.compile(loss=tf.keras.losses.CategoricalCrossentropy(from_logits=False), optimizer=tf.keras.optimizers.Adam(learning_rate=0.001),metrics=[\"accuracy\",tf.keras.metrics.Recall(),tf.keras.metrics.Precision()])\n",
    "model.summary()"
   ]
  },
  {
   "cell_type": "code",
   "execution_count": 11,
   "id": "ee2c551b",
   "metadata": {
    "ExecuteTime": {
     "end_time": "2021-12-31T21:07:18.024859Z",
     "start_time": "2021-12-31T21:07:18.014852Z"
    }
   },
   "outputs": [
    {
     "data": {
      "text/plain": [
       "{0.0: 0.26771, 1.0: 0.73229}"
      ]
     },
     "execution_count": 11,
     "metadata": {},
     "output_type": "execute_result"
    }
   ],
   "source": [
    "weights q= 1 - pd.Series(y).value_counts()/y.size\n",
    "weights = weights.to_dict()\n",
    "weights"
   ]
  },
  {
   "cell_type": "code",
   "execution_count": 16,
   "id": "b3573cb4",
   "metadata": {
    "ExecuteTime": {
     "end_time": "2022-01-01T05:38:57.849972Z",
     "start_time": "2021-12-31T21:09:39.705243Z"
    },
    "scrolled": false
   },
   "outputs": [
    {
     "name": "stdout",
     "output_type": "stream",
     "text": [
      "Epoch 1/1000\n",
      "360/360 [==============================] - 946s 3s/step - loss: 0.1672 - accuracy: 0.8530 - recall_2: 0.8530 - precision_2: 0.8530 - val_loss: 0.3267 - val_accuracy: 0.8885 - val_recall_2: 0.8885 - val_precision_2: 0.8885\n",
      "Epoch 2/1000\n",
      "360/360 [==============================] - 953s 3s/step - loss: 0.1345 - accuracy: 0.8906 - recall_2: 0.8906 - precision_2: 0.8906 - val_loss: 0.2812 - val_accuracy: 0.9018 - val_recall_2: 0.9018 - val_precision_2: 0.9018\n",
      "Epoch 3/1000\n",
      "360/360 [==============================] - 954s 3s/step - loss: 0.1203 - accuracy: 0.9037 - recall_2: 0.9037 - precision_2: 0.9037 - val_loss: 0.2917 - val_accuracy: 0.8994 - val_recall_2: 0.8994 - val_precision_2: 0.8994\n",
      "Epoch 4/1000\n",
      "360/360 [==============================] - 957s 3s/step - loss: 0.1090 - accuracy: 0.9168 - recall_2: 0.9168 - precision_2: 0.9168 - val_loss: 0.2875 - val_accuracy: 0.8991 - val_recall_2: 0.8991 - val_precision_2: 0.8991\n",
      "Epoch 5/1000\n",
      "360/360 [==============================] - 956s 3s/step - loss: 0.1003 - accuracy: 0.9253 - recall_2: 0.9253 - precision_2: 0.9253 - val_loss: 0.3318 - val_accuracy: 0.8857 - val_recall_2: 0.8857 - val_precision_2: 0.8857\n",
      "Epoch 6/1000\n",
      "360/360 [==============================] - 955s 3s/step - loss: 0.0931 - accuracy: 0.9318 - recall_2: 0.9318 - precision_2: 0.9318 - val_loss: 0.3391 - val_accuracy: 0.8832 - val_recall_2: 0.8832 - val_precision_2: 0.8832\n",
      "Epoch 7/1000\n",
      "360/360 [==============================] - 955s 3s/step - loss: 0.0867 - accuracy: 0.9395 - recall_2: 0.9395 - precision_2: 0.9395 - val_loss: 0.3229 - val_accuracy: 0.8936 - val_recall_2: 0.8936 - val_precision_2: 0.8936\n",
      "Epoch 8/1000\n",
      "360/360 [==============================] - 955s 3s/step - loss: 0.0822 - accuracy: 0.9439 - recall_2: 0.9439 - precision_2: 0.9439 - val_loss: 0.3617 - val_accuracy: 0.8898 - val_recall_2: 0.8898 - val_precision_2: 0.8898\n",
      "Epoch 9/1000\n",
      "360/360 [==============================] - 955s 3s/step - loss: 0.0782 - accuracy: 0.9489 - recall_2: 0.9489 - precision_2: 0.9489 - val_loss: 0.3381 - val_accuracy: 0.8951 - val_recall_2: 0.8951 - val_precision_2: 0.8951\n",
      "Epoch 10/1000\n",
      "360/360 [==============================] - 955s 3s/step - loss: 0.0759 - accuracy: 0.9512 - recall_2: 0.9512 - precision_2: 0.9512 - val_loss: 0.3754 - val_accuracy: 0.8871 - val_recall_2: 0.8871 - val_precision_2: 0.8871\n",
      "Epoch 11/1000\n",
      "360/360 [==============================] - 957s 3s/step - loss: 0.0722 - accuracy: 0.9548 - recall_2: 0.9548 - precision_2: 0.9548 - val_loss: 0.3540 - val_accuracy: 0.8985 - val_recall_2: 0.8985 - val_precision_2: 0.8985\n",
      "Epoch 12/1000\n",
      "360/360 [==============================] - 956s 3s/step - loss: 0.0708 - accuracy: 0.9558 - recall_2: 0.9558 - precision_2: 0.9558 - val_loss: 0.3655 - val_accuracy: 0.8928 - val_recall_2: 0.8928 - val_precision_2: 0.8928\n",
      "Epoch 13/1000\n",
      "360/360 [==============================] - 955s 3s/step - loss: 0.0680 - accuracy: 0.9593 - recall_2: 0.9593 - precision_2: 0.9593 - val_loss: 0.3730 - val_accuracy: 0.8876 - val_recall_2: 0.8876 - val_precision_2: 0.8876\n",
      "Epoch 14/1000\n",
      "360/360 [==============================] - 955s 3s/step - loss: 0.0660 - accuracy: 0.9606 - recall_2: 0.9606 - precision_2: 0.9606 - val_loss: 0.3744 - val_accuracy: 0.8964 - val_recall_2: 0.8964 - val_precision_2: 0.8964\n",
      "Epoch 15/1000\n",
      "360/360 [==============================] - 955s 3s/step - loss: 0.0645 - accuracy: 0.9627 - recall_2: 0.9627 - precision_2: 0.9627 - val_loss: 0.4005 - val_accuracy: 0.8979 - val_recall_2: 0.8979 - val_precision_2: 0.8979\n",
      "Epoch 16/1000\n",
      "360/360 [==============================] - 955s 3s/step - loss: 0.0648 - accuracy: 0.9624 - recall_2: 0.9624 - precision_2: 0.9624 - val_loss: 0.4161 - val_accuracy: 0.8960 - val_recall_2: 0.8960 - val_precision_2: 0.8960\n",
      "Epoch 17/1000\n",
      "360/360 [==============================] - 962s 3s/step - loss: 0.0611 - accuracy: 0.9656 - recall_2: 0.9656 - precision_2: 0.9656 - val_loss: 0.4195 - val_accuracy: 0.8979 - val_recall_2: 0.8979 - val_precision_2: 0.8979\n",
      "Epoch 18/1000\n",
      "360/360 [==============================] - 956s 3s/step - loss: 0.0613 - accuracy: 0.9649 - recall_2: 0.9649 - precision_2: 0.9649 - val_loss: 0.4406 - val_accuracy: 0.8884 - val_recall_2: 0.8884 - val_precision_2: 0.8884\n",
      "Epoch 19/1000\n",
      "360/360 [==============================] - 956s 3s/step - loss: 0.0594 - accuracy: 0.9667 - recall_2: 0.9667 - precision_2: 0.9667 - val_loss: 0.4309 - val_accuracy: 0.8909 - val_recall_2: 0.8909 - val_precision_2: 0.8909\n",
      "Epoch 20/1000\n",
      "360/360 [==============================] - 956s 3s/step - loss: 0.0610 - accuracy: 0.9660 - recall_2: 0.9660 - precision_2: 0.9660 - val_loss: 0.4276 - val_accuracy: 0.8980 - val_recall_2: 0.8980 - val_precision_2: 0.8980\n",
      "Epoch 21/1000\n",
      "360/360 [==============================] - 955s 3s/step - loss: 0.0585 - accuracy: 0.9676 - recall_2: 0.9676 - precision_2: 0.9676 - val_loss: 0.4121 - val_accuracy: 0.8974 - val_recall_2: 0.8974 - val_precision_2: 0.8974\n",
      "Epoch 22/1000\n",
      "360/360 [==============================] - 955s 3s/step - loss: 0.0571 - accuracy: 0.9689 - recall_2: 0.9689 - precision_2: 0.9689 - val_loss: 0.4627 - val_accuracy: 0.8905 - val_recall_2: 0.8905 - val_precision_2: 0.8905\n",
      "Epoch 23/1000\n",
      "360/360 [==============================] - 955s 3s/step - loss: 0.0576 - accuracy: 0.9686 - recall_2: 0.9686 - precision_2: 0.9686 - val_loss: 0.4734 - val_accuracy: 0.8903 - val_recall_2: 0.8903 - val_precision_2: 0.8903\n",
      "Epoch 24/1000\n",
      "360/360 [==============================] - 955s 3s/step - loss: 0.0576 - accuracy: 0.9690 - recall_2: 0.9690 - precision_2: 0.9690 - val_loss: 0.5038 - val_accuracy: 0.8813 - val_recall_2: 0.8813 - val_precision_2: 0.8813\n",
      "Epoch 25/1000\n",
      "360/360 [==============================] - 955s 3s/step - loss: 0.0569 - accuracy: 0.9701 - recall_2: 0.9701 - precision_2: 0.9701 - val_loss: 0.4318 - val_accuracy: 0.8940 - val_recall_2: 0.8940 - val_precision_2: 0.8940\n",
      "Epoch 26/1000\n",
      "360/360 [==============================] - 955s 3s/step - loss: 0.0551 - accuracy: 0.9708 - recall_2: 0.9708 - precision_2: 0.9708 - val_loss: 0.4780 - val_accuracy: 0.8878 - val_recall_2: 0.8878 - val_precision_2: 0.8878\n",
      "Epoch 27/1000\n",
      "360/360 [==============================] - 955s 3s/step - loss: 0.0532 - accuracy: 0.9722 - recall_2: 0.9722 - precision_2: 0.9722 - val_loss: 0.4771 - val_accuracy: 0.8841 - val_recall_2: 0.8841 - val_precision_2: 0.8841\n",
      "Epoch 28/1000\n",
      "360/360 [==============================] - 956s 3s/step - loss: 0.0538 - accuracy: 0.9722 - recall_2: 0.9722 - precision_2: 0.9722 - val_loss: 0.4707 - val_accuracy: 0.8839 - val_recall_2: 0.8839 - val_precision_2: 0.8839\n",
      "Epoch 29/1000\n",
      "360/360 [==============================] - 954s 3s/step - loss: 0.0536 - accuracy: 0.9722 - recall_2: 0.9722 - precision_2: 0.9722 - val_loss: 0.5656 - val_accuracy: 0.8811 - val_recall_2: 0.8811 - val_precision_2: 0.8811\n",
      "Epoch 30/1000\n",
      "360/360 [==============================] - 954s 3s/step - loss: 0.0528 - accuracy: 0.9719 - recall_2: 0.9719 - precision_2: 0.9719 - val_loss: 0.5114 - val_accuracy: 0.8867 - val_recall_2: 0.8867 - val_precision_2: 0.8867\n",
      "Epoch 31/1000\n",
      "360/360 [==============================] - 953s 3s/step - loss: 0.0519 - accuracy: 0.9739 - recall_2: 0.9739 - precision_2: 0.9739 - val_loss: 0.4637 - val_accuracy: 0.8945 - val_recall_2: 0.8945 - val_precision_2: 0.8945\n",
      "Epoch 32/1000\n",
      "360/360 [==============================] - 953s 3s/step - loss: 0.0536 - accuracy: 0.9731 - recall_2: 0.9731 - precision_2: 0.9731 - val_loss: 0.5296 - val_accuracy: 0.8923 - val_recall_2: 0.8923 - val_precision_2: 0.8923\n"
     ]
    }
   ],
   "source": [
    "callback = tf.keras.callbacks.EarlyStopping(monitor='val_loss', patience=10)\n",
    "time_stopping_callback = tfa.callbacks.TimeStopping(seconds=60*60*15, verbose=1) \n",
    "history = model.fit(X_train,y_train,batch_size=200,epochs=1000,\n",
    "                    validation_split=0.1,class_weight=weights,\n",
    "                    use_multiprocessing=True,workers=8,callbacks=[callback,time_stopping_callback])"
   ]
  },
  {
   "cell_type": "code",
   "execution_count": 32,
   "id": "98dcb393",
   "metadata": {
    "ExecuteTime": {
     "end_time": "2022-01-01T23:51:18.148427Z",
     "start_time": "2022-01-01T23:51:18.131425Z"
    }
   },
   "outputs": [],
   "source": [
    "model.save(\"cnn_word2vec_second_chance\")\n",
    "plt.plot(history.history['accuracy'])\n",
    "plt.plot(history.history['val_accuracy'])\n",
    "plt.plot(history.history['loss'])\n",
    "plt.plot(history.history['val_loss'])\n",
    "plt.title('Model Train Metrics')\n",
    "plt.ylabel('Loss')\n",
    "plt.xlabel('Epoch')\n",
    "plt.legend(['Train','Validation'])\n",
    "plt.show()\n",
    "y_pred_test = model.predict(X_test)\n",
    "print(\"Test: \\n\")\n",
    "print(classification_report(y_test.argmax(axis=1),y_pred_test.argmax(axis=1)))\n",
    "print(\"\\nTrain: \\n\")\n",
    "y_pred_train = model.predict(X_train)\n",
    "print(classification_report(y_train.argmax(axis=1),y_pred_train.argmax(axis=1)))"
   ]
  },
  {
   "cell_type": "code",
   "execution_count": 77,
   "id": "d58383b8",
   "metadata": {
    "ExecuteTime": {
     "end_time": "2022-01-01T09:59:35.508693Z",
     "start_time": "2022-01-01T09:59:35.494689Z"
    }
   },
   "outputs": [
    {
     "data": {
      "text/plain": [
       "(89778,\n",
       " {'nichalp',\n",
       "  'serendeva',\n",
       "  'cmnf',\n",
       "  'ayou',\n",
       "  'tletplatinum',\n",
       "  'deep_throats',\n",
       "  'virtualy',\n",
       "  'williamsonincredible',\n",
       "  'wprbi',\n",
       "  'bookchin',\n",
       "  'thefinebros',\n",
       "  'currs',\n",
       "  'aymannathem',\n",
       "  'explataions',\n",
       "  'crossdominance',\n",
       "  'lupton',\n",
       "  '3306',\n",
       "  'dean_machine_',\n",
       "  'richardmeal',\n",
       "  'theodulf',\n",
       "  'nowtabloid',\n",
       "  'selfaggrandize',\n",
       "  'kalindaruk',\n",
       "  'importanceoman',\n",
       "  '25th',\n",
       "  'yuber',\n",
       "  'doylestownnan',\n",
       "  'judithchiche',\n",
       "  'vaginabot',\n",
       "  'cdps',\n",
       "  'maņdana',\n",
       "  'noticeboardincidentsip',\n",
       "  'nyc88',\n",
       "  'httptco1je0s98wmh',\n",
       "  'mlps',\n",
       "  'donnt',\n",
       "  '38740843',\n",
       "  'duru',\n",
       "  'modbury',\n",
       "  'talkteena',\n",
       "  'kerrys',\n",
       "  'ketabtoon',\n",
       "  '6915513227',\n",
       "  'wikilinks',\n",
       "  'subsidiesi',\n",
       "  'asselineau',\n",
       "  'httptconwjzljbhoe',\n",
       "  'carpocrations',\n",
       "  'ellis_holt1',\n",
       "  'happenedi',\n",
       "  'httpwwwshilohregistrycomruleshtml',\n",
       "  'etcthe',\n",
       "  'breckinridge',\n",
       "  'mcporpington',\n",
       "  'rhus',\n",
       "  'httpwwwmakdenesorgcontentarticle1956873html',\n",
       "  'markhams',\n",
       "  'sulaiman',\n",
       "  'littlehoneyde',\n",
       "  'cardiorespirtory',\n",
       "  'withdrawned',\n",
       "  'aegean',\n",
       "  'mothe',\n",
       "  'twicks',\n",
       "  'xor',\n",
       "  'yeo',\n",
       "  'answerfor',\n",
       "  'yuppieskins',\n",
       "  'httpdictionaryreferencecombrowsehazel',\n",
       "  '5568',\n",
       "  'v355',\n",
       "  'alonewhy',\n",
       "  '0101',\n",
       "  'brazils',\n",
       "  'esbwr',\n",
       "  'cjalred',\n",
       "  '196769',\n",
       "  'yonkers',\n",
       "  'rousseff',\n",
       "  'preent',\n",
       "  'confucian',\n",
       "  'ip64131205111he',\n",
       "  'clairs',\n",
       "  'imageashearerjpg',\n",
       "  'sinofdreams',\n",
       "  'veselinov',\n",
       "  'kaine',\n",
       "  'personallity',\n",
       "  'accuaracy',\n",
       "  'agnieszka',\n",
       "  'laval',\n",
       "  'domino_harvey',\n",
       "  'dositej',\n",
       "  'garrosga1',\n",
       "  'wahinewoman',\n",
       "  'vulc4nmind',\n",
       "  'sinkim',\n",
       "  'blazinbirdman10',\n",
       "  'flight2',\n",
       "  'hamidul1',\n",
       "  'chinaunited',\n",
       "  'giza',\n",
       "  'listmy',\n",
       "  'ibaranoff',\n",
       "  'l0l',\n",
       "  'morgantown',\n",
       "  'thekkedathu',\n",
       "  'saintgobain',\n",
       "  'khybar',\n",
       "  'imagewitch',\n",
       "  'despute',\n",
       "  'veronese',\n",
       "  'historytabloid',\n",
       "  'quantizing',\n",
       "  'vocoloid',\n",
       "  'oldi',\n",
       "  'gruber',\n",
       "  'bourdain',\n",
       "  '415',\n",
       "  'ideasinformationsolutionsknowledgegood',\n",
       "  'marsyas',\n",
       "  'nonhindujains',\n",
       "  'userjim',\n",
       "  '90mod',\n",
       "  'anatoliaturkey',\n",
       "  'doew',\n",
       "  '0233',\n",
       "  'wpdcm',\n",
       "  'bordercollapse',\n",
       "  'ebersole',\n",
       "  'paranoiadiff',\n",
       "  'liddellfedor',\n",
       "  'sadasivan',\n",
       "  'covoec1',\n",
       "  'videosno',\n",
       "  'mandurah',\n",
       "  'yngwie',\n",
       "  'mc10',\n",
       "  '2007most',\n",
       "  'zinzan',\n",
       "  'gaiaonline',\n",
       "  'asgardians',\n",
       "  'phlanders',\n",
       "  'mozambique',\n",
       "  'barreltowith',\n",
       "  'sigtotally',\n",
       "  'arewere',\n",
       "  'zbečník',\n",
       "  'bryarly',\n",
       "  'tripadvisor',\n",
       "  'garg',\n",
       "  'theheraldsun',\n",
       "  'bahauddin',\n",
       "  'paglini',\n",
       "  'bb3bb4',\n",
       "  'httpgroupsgooglecomgroupfrsciastrophysiquemsg8a71f677ceb92c50hlennewline_token',\n",
       "  'folkets',\n",
       "  'thuis',\n",
       "  'meudon',\n",
       "  'naima',\n",
       "  'sixinch',\n",
       "  'tbsma',\n",
       "  'kiran90',\n",
       "  'katepatto',\n",
       "  'dylahoogaah',\n",
       "  'skillssss',\n",
       "  'socvk',\n",
       "  'beikoku',\n",
       "  'subtantiating',\n",
       "  'kahlenkahlenstylebackgroundvioletkahlen',\n",
       "  'pathak',\n",
       "  'guoyu',\n",
       "  'trijumf',\n",
       "  '70',\n",
       "  'httptcoc8sbqqdgvt',\n",
       "  'sportslogosnet',\n",
       "  'asianness',\n",
       "  'haynes',\n",
       "  'teachoads',\n",
       "  'squels',\n",
       "  'expersonnel',\n",
       "  'talkfc',\n",
       "  'crockers',\n",
       "  'shyama',\n",
       "  'userbushrangers',\n",
       "  'raenorthaolcom',\n",
       "  'vsauce',\n",
       "  '300er',\n",
       "  'hojimachong',\n",
       "  'httptcodajgdn1wy3',\n",
       "  'whaaaaaaat',\n",
       "  'trumbull',\n",
       "  'borderlining',\n",
       "  'httpwsarinnetcgibinwhoispl',\n",
       "  'yearsthnx',\n",
       "  'subjectsubjects',\n",
       "  'wikipediansas',\n",
       "  'tkod',\n",
       "  'smcbmc',\n",
       "  'isgee',\n",
       "  'writercomposersong',\n",
       "  'intelligenceoh',\n",
       "  'mbrojol',\n",
       "  'rodina',\n",
       "  'outcomesbased',\n",
       "  'deathknowingly',\n",
       "  'asswhore',\n",
       "  'sockpupeteer',\n",
       "  'who_the_fa',\n",
       "  'winnebago',\n",
       "  'mqs',\n",
       "  '07',\n",
       "  'jeffreygoldberg',\n",
       "  '19755',\n",
       "  'nadietalent',\n",
       "  'blusterblaster',\n",
       "  'kofun',\n",
       "  'sonofadude',\n",
       "  'wikithanks',\n",
       "  'hillaryland',\n",
       "  'gayrights',\n",
       "  'smilei',\n",
       "  'cholas',\n",
       "  'rteason',\n",
       "  'fagnnnnnwe',\n",
       "  'estonian',\n",
       "  'seanmack',\n",
       "  'pretttyyyy',\n",
       "  'readingaprompter',\n",
       "  'warjet',\n",
       "  'eargasmtheir',\n",
       "  'topsinto',\n",
       "  'forcesplease',\n",
       "  'returd',\n",
       "  'httpstcofljadohl24',\n",
       "  'httpwwwevilavatarcomforumsshowthreadphpt76883',\n",
       "  'httpwwwgeocraftcomwvfossilscarboniferous_climatehtml',\n",
       "  'repeatingly',\n",
       "  'welcomeawaiting',\n",
       "  'ahhhhhhh',\n",
       "  'uat',\n",
       "  'multiplepicture',\n",
       "  'whybecause',\n",
       "  'myh',\n",
       "  '686702',\n",
       "  'rodger',\n",
       "  'organizationmight',\n",
       "  'carpeters',\n",
       "  'deathlist',\n",
       "  'manycam',\n",
       "  'rd1seed12a4',\n",
       "  'gestellt',\n",
       "  'sockpuppetry',\n",
       "  'ronchester',\n",
       "  'assrespect',\n",
       "  'wikipeidia',\n",
       "  'sisterhappy',\n",
       "  'acps',\n",
       "  'salvadoran',\n",
       "  'citeweb',\n",
       "  '04bbaaz',\n",
       "  'spartazhave',\n",
       "  'darchinyan',\n",
       "  'httptcopnhzjrhhqr',\n",
       "  'amorrow',\n",
       "  'sfo',\n",
       "  'whereshumanity1',\n",
       "  'conr2',\n",
       "  'rosepalmer',\n",
       "  'marriagennyou',\n",
       "  'bizarrenessx',\n",
       "  'wikipediaantiadministrator',\n",
       "  'hsmonroe',\n",
       "  'lubeck',\n",
       "  'offthewall',\n",
       "  'cuerden',\n",
       "  'kazama',\n",
       "  'saxecoburggotha',\n",
       "  'superheavies',\n",
       "  'gingerman',\n",
       "  'poorfortunelessunderprivileged',\n",
       "  'sangs',\n",
       "  'microlithic',\n",
       "  'faytingas',\n",
       "  'neighbhoods',\n",
       "  'andric',\n",
       "  'harbouring',\n",
       "  'sciencea',\n",
       "  'g933',\n",
       "  'wprfcs',\n",
       "  'riku',\n",
       "  'wikiani',\n",
       "  'administratives',\n",
       "  'redmen44',\n",
       "  'icb',\n",
       "  'complimentyamla',\n",
       "  'mediadefender',\n",
       "  'oerrelated',\n",
       "  'wpoly',\n",
       "  'crabfest15',\n",
       "  'ultimus',\n",
       "  'theendall',\n",
       "  'categoryalcoholic',\n",
       "  'tkam',\n",
       "  'hcards',\n",
       "  'criticms',\n",
       "  'kingoomieiii',\n",
       "  '22004',\n",
       "  'sapirwhorf',\n",
       "  'mercurys',\n",
       "  '57th',\n",
       "  'lyco',\n",
       "  'patriotas',\n",
       "  'proillegal',\n",
       "  'nehlens',\n",
       "  'neejee',\n",
       "  'dobbs',\n",
       "  'atatürk',\n",
       "  '127archive1',\n",
       "  'gim',\n",
       "  'cartier1535',\n",
       "  'endswith',\n",
       "  'hebag',\n",
       "  'noninterventionism',\n",
       "  'httptcomgjphn',\n",
       "  'funções',\n",
       "  'sovietera',\n",
       "  'fyunclick',\n",
       "  'studentwhat',\n",
       "  'titleeach',\n",
       "  'pritchards',\n",
       "  'carthage',\n",
       "  'wpbjodn',\n",
       "  'crispin',\n",
       "  'durova',\n",
       "  'wizardman',\n",
       "  'rowspan2year',\n",
       "  'pettybureaucratic',\n",
       "  'httpstcoizmfm1cqqc',\n",
       "  'wpunreliable',\n",
       "  'badwords',\n",
       "  'soxwon',\n",
       "  'userprotonk',\n",
       "  'amatulic',\n",
       "  'jareb',\n",
       "  'gamerfortruth',\n",
       "  'httptcot65iytpvdk',\n",
       "  'faggotttttttt',\n",
       "  'phasael',\n",
       "  'szklanymi',\n",
       "  'redutchtoenglish',\n",
       "  'barrhaven',\n",
       "  'termsnumbers',\n",
       "  'gtfornthat',\n",
       "  '8what',\n",
       "  'americanot',\n",
       "  'kkrystian',\n",
       "  'httpfrlourdesfranceorgapprofondirguerisonsetmiraclescompositioncomitemedicalinternationallourdes',\n",
       "  'gamsakhurdia',\n",
       "  '31hour',\n",
       "  'gredunzel',\n",
       "  'filefrompastarchivesjpg',\n",
       "  'leea',\n",
       "  'shego',\n",
       "  'jakewcircumcision',\n",
       "  'sanctuaryhttplegalmindslpfindlawcomlistepaimpactmsg02891htmlhttplegalmindslpfindlawcomlistepaimpactmsg02891html',\n",
       "  'httpenwikipediaorgwikiuser_talk21230318',\n",
       "  'httpwwwtelugumovienewsinfo',\n",
       "  'ramblingman',\n",
       "  '1329',\n",
       "  'vrteći',\n",
       "  'ghuri',\n",
       "  'inprogress',\n",
       "  'lovezzz',\n",
       "  'ptc',\n",
       "  'editswhich',\n",
       "  'pdsive',\n",
       "  'poliakova',\n",
       "  'nnwhat',\n",
       "  'dkosopedia',\n",
       "  'conley',\n",
       "  'tuthmosis',\n",
       "  'fcs',\n",
       "  'niw',\n",
       "  'agendabased',\n",
       "  'blpn',\n",
       "  'meshach',\n",
       "  'alexpus',\n",
       "  'unclunky',\n",
       "  '1831',\n",
       "  'talkwalter',\n",
       "  'ryo',\n",
       "  'httpenwikipediaorgwikiwikipediaverifiability',\n",
       "  'talksanger',\n",
       "  'httpenwikipediaorgwikitalkneonazismcroatia_false_claims',\n",
       "  'istria',\n",
       "  'orans',\n",
       "  'therealnimoy',\n",
       "  'wikikeystonecopper',\n",
       "  'rangued',\n",
       "  'schultchen',\n",
       "  'ugs',\n",
       "  'rabaa',\n",
       "  'timmothy',\n",
       "  'raceethnicityetc',\n",
       "  'wpvg',\n",
       "  'selfpromotor',\n",
       "  'wpnameconsidering',\n",
       "  'b17e',\n",
       "  'fiftyone',\n",
       "  'emilie8',\n",
       "  'ouchi',\n",
       "  'karmosen',\n",
       "  '1220524727',\n",
       "  'árpád',\n",
       "  '0833',\n",
       "  'liliental',\n",
       "  'sustrans',\n",
       "  'ymmv',\n",
       "  'jont',\n",
       "  'atharva',\n",
       "  'nativespeakers',\n",
       "  'wō',\n",
       "  'ipass',\n",
       "  'algorithmn',\n",
       "  'boyna',\n",
       "  '袁術yuan',\n",
       "  'daddys_cock_obama',\n",
       "  '0030',\n",
       "  'wpnonsense',\n",
       "  '7stop',\n",
       "  'cdroms',\n",
       "  'haifavillages',\n",
       "  'buushbby',\n",
       "  'nldartmouth',\n",
       "  '1380',\n",
       "  'httptco0dedsjbanw',\n",
       "  'wwwavnewsdaycom',\n",
       "  'solidin',\n",
       "  '554',\n",
       "  '20080403',\n",
       "  'muncie',\n",
       "  'imed',\n",
       "  'g0ssipsquirrelx',\n",
       "  'congressmans',\n",
       "  'investigationsshawn',\n",
       "  'italiancatholic',\n",
       "  'tradiiton',\n",
       "  '171s',\n",
       "  'presidentromney',\n",
       "  'represending',\n",
       "  'safesubstifmy',\n",
       "  'uokoli',\n",
       "  'httpringtvcraveonlinecomratingssupermiddleweight',\n",
       "  '512600',\n",
       "  'fullcycle',\n",
       "  'exactky',\n",
       "  'cuntrags',\n",
       "  'dbgt',\n",
       "  'dsfk',\n",
       "  'paulieqw',\n",
       "  'aaages',\n",
       "  '3x18',\n",
       "  'janettedoe',\n",
       "  'action2date',\n",
       "  '1805',\n",
       "  'leonid',\n",
       "  'lefebvre',\n",
       "  'mouththanks',\n",
       "  'endnig',\n",
       "  'fpss',\n",
       "  'kewi',\n",
       "  '171109',\n",
       "  'wellhe',\n",
       "  'franklinton',\n",
       "  'talkscotlandarchive_20coat_of_arms',\n",
       "  '199125109xxx',\n",
       "  'lshifomdjkidhadbiidiwniw',\n",
       "  'shortsheet',\n",
       "  'tristimulus',\n",
       "  'brimley',\n",
       "  'rmv',\n",
       "  'bustsculpture',\n",
       "  'inainte',\n",
       "  '0727',\n",
       "  'isis_criminals',\n",
       "  'chirobase',\n",
       "  'feraios',\n",
       "  'vikatan',\n",
       "  '3234434',\n",
       "  'letztlich',\n",
       "  'iaaine',\n",
       "  'twyford1st',\n",
       "  'adamsonís',\n",
       "  'emojis',\n",
       "  'sylwias',\n",
       "  '78149',\n",
       "  'waisel',\n",
       "  'supremecists',\n",
       "  'boxin',\n",
       "  'songyou',\n",
       "  'cheryls',\n",
       "  'reykjavíkurborgar',\n",
       "  'bohagan81',\n",
       "  'nortel',\n",
       "  'safesubstbasepagename',\n",
       "  'httptcofhdmelkahr',\n",
       "  'posthardcorescreamo',\n",
       "  '2146',\n",
       "  'candidatesby',\n",
       "  'angloaustralian',\n",
       "  'toldthis',\n",
       "  'virat',\n",
       "  '4yearold',\n",
       "  'wpt2',\n",
       "  'indianscottish',\n",
       "  'ωωω',\n",
       "  'articlem',\n",
       "  'ffrance',\n",
       "  'finkelhors',\n",
       "  'redactors',\n",
       "  'kashmirclouds',\n",
       "  'lillebælt',\n",
       "  'nintendolife',\n",
       "  'httpwwwuploadpicturesdebildphp37124verstossruhrfisch8krmwjpg',\n",
       "  'noahrough',\n",
       "  'testicals',\n",
       "  'wellonly',\n",
       "  'exameter',\n",
       "  'partisangirl',\n",
       "  'subcastes',\n",
       "  'considlated',\n",
       "  'geninx',\n",
       "  'antistrat',\n",
       "  '18002774653',\n",
       "  'subcastesthe',\n",
       "  'goodkind',\n",
       "  'massdeletions',\n",
       "  'pm800',\n",
       "  'wpsign',\n",
       "  '8520110727',\n",
       "  'oppenheimer',\n",
       "  'springfieldians',\n",
       "  'propagada',\n",
       "  'httpwww99celebsinfashiondesignersgovindkumarsinghhtml',\n",
       "  'httpaeamhfreebkindexhtml',\n",
       "  'turnblad',\n",
       "  'httptcois0hgm89lk',\n",
       "  'rawrfag0tkikenlggerwhy',\n",
       "  'findingmariah',\n",
       "  'bogrod',\n",
       "  'theblock',\n",
       "  'knt',\n",
       "  'galt',\n",
       "  'baotian',\n",
       "  'kiaxar',\n",
       "  'blockedindef',\n",
       "  'userwilliamimmwilliam',\n",
       "  'httpenwikipediaorgwikitalkterrorism',\n",
       "  '282266',\n",
       "  'userxstatik',\n",
       "  'grenn',\n",
       "  '338',\n",
       "  'wikipediaconflict',\n",
       "  'wpdue',\n",
       "  'brunton',\n",
       "  'mckenzie',\n",
       "  'stebbins',\n",
       "  'josungkim',\n",
       "  'systemrelated',\n",
       "  'bigelows',\n",
       "  '1206',\n",
       "  'yeari',\n",
       "  'allgray',\n",
       "  'eserve',\n",
       "  'mattsingh',\n",
       "  'usertiptoety',\n",
       "  'valuesand',\n",
       "  'abusus',\n",
       "  '0018',\n",
       "  'tjltv',\n",
       "  'sigplan',\n",
       "  'viriik',\n",
       "  'understandbut',\n",
       "  'gezaaa',\n",
       "  'blackonwhite',\n",
       "  'guntur',\n",
       "  'mkraus',\n",
       "  'freestylling',\n",
       "  'niggafuck',\n",
       "  'laish',\n",
       "  'beardo',\n",
       "  'onknowing',\n",
       "  'sayyaf',\n",
       "  'hoole',\n",
       "  'macedoniamacedon',\n",
       "  'classifiy',\n",
       "  'girlswomen',\n",
       "  'httptcouciqmhcj7d',\n",
       "  'categotry',\n",
       "  'wahhabism',\n",
       "  'ashwilliams1',\n",
       "  'lamarck',\n",
       "  'khanum',\n",
       "  'meyerhoff',\n",
       "  'commedyofmannersnovels',\n",
       "  'channeller',\n",
       "  'loretta',\n",
       "  'nightwish',\n",
       "  'buttfuckle',\n",
       "  'communitythe',\n",
       "  'killerblonds',\n",
       "  'inuistissimi',\n",
       "  '454',\n",
       "  'wikiparlance',\n",
       "  'indigneosu',\n",
       "  'strasbourg',\n",
       "  'httptco4mqjpcmnds',\n",
       "  'dirtlawyer',\n",
       "  'africas',\n",
       "  'secdef',\n",
       "  'wikiprocess',\n",
       "  'putney',\n",
       "  'devoloping',\n",
       "  'kingdomwhich',\n",
       "  'roadfan',\n",
       "  'wikipediadick',\n",
       "  'anywaysjust',\n",
       "  'werespielchequers',\n",
       "  'accusedinsulted',\n",
       "  'afcs',\n",
       "  'creationwilliam',\n",
       "  '1301562961',\n",
       "  'sandjak',\n",
       "  'rourkes',\n",
       "  'jasen',\n",
       "  'touro',\n",
       "  'errrgh',\n",
       "  'covina',\n",
       "  'sothanks',\n",
       "  'niggaplz',\n",
       "  'uftaa',\n",
       "  'bullsht',\n",
       "  'bronisław',\n",
       "  'speedyible',\n",
       "  '00038',\n",
       "  'jovenshire',\n",
       "  'ughhhh',\n",
       "  'gallaries',\n",
       "  '950',\n",
       "  'jesuss',\n",
       "  'nirmukta',\n",
       "  'oakers',\n",
       "  'wgolf',\n",
       "  'adminstratin',\n",
       "  'evangelicalisms',\n",
       "  'platformbasedplatforming',\n",
       "  'agendapusher',\n",
       "  'padding15empaddingtop5em',\n",
       "  'wetterhahn',\n",
       "  'doris',\n",
       "  'reasonablybut',\n",
       "  'sasti',\n",
       "  'др',\n",
       "  'elyfsis',\n",
       "  'helpusing',\n",
       "  'editingespecially',\n",
       "  'slfd',\n",
       "  '0813',\n",
       "  'civilisation',\n",
       "  'ezio',\n",
       "  'labstore',\n",
       "  'printi',\n",
       "  '2000spie407541r',\n",
       "  'duex',\n",
       "  'secondyou',\n",
       "  'stranka',\n",
       "  'men508',\n",
       "  'liefia',\n",
       "  'sweetcheeks',\n",
       "  'httpwwwyoutubecomwatchv9kyf5xojl58',\n",
       "  'khanna',\n",
       "  'imagepp',\n",
       "  'anusim',\n",
       "  'touretzky',\n",
       "  'hairflip',\n",
       "  'meiguoren',\n",
       "  'wetbehindtheears',\n",
       "  'paperboysrecording',\n",
       "  'gmd',\n",
       "  'httpmusicyahoocomreadnews12055995',\n",
       "  'mallorcan',\n",
       "  'dougiepooh',\n",
       "  'mgood35',\n",
       "  'qijong',\n",
       "  'unblockreasonyour',\n",
       "  'httptcodbvwchhwvz',\n",
       "  'ghazan',\n",
       "  'qureshi',\n",
       "  'secondry',\n",
       "  'youdodona',\n",
       "  'httpenwikipediaorgwikithe_secret_28book29criticism_and_parody',\n",
       "  'doublestandards',\n",
       "  'gohatto',\n",
       "  'saifullah666',\n",
       "  'obnoxiuos',\n",
       "  'topalov',\n",
       "  'editingcampaign',\n",
       "  'gandapur',\n",
       "  'blackwindow',\n",
       "  'qaideazam',\n",
       "  'yeahso',\n",
       "  'wikipediawhere',\n",
       "  'httpwwwrabbitsreviewscoms5197ilovethebeachhtml',\n",
       "  'httpclanyoungcom',\n",
       "  'imagevallone',\n",
       "  'thaaaaang',\n",
       "  'aphrodite',\n",
       "  'lawton',\n",
       "  'userww2censorsandbox2',\n",
       "  'pmif',\n",
       "  'claridad',\n",
       "  'cumputer',\n",
       "  'denmarknorway',\n",
       "  'ak74',\n",
       "  'nra',\n",
       "  '10mil',\n",
       "  'romanizedtranscribed',\n",
       "  'burgas00',\n",
       "  'hetton',\n",
       "  'dobbys',\n",
       "  'hansons',\n",
       "  'rosamond',\n",
       "  'investigationstroublesarchive',\n",
       "  'arastirmalar',\n",
       "  'santillana',\n",
       "  'tehrebound',\n",
       "  'sockpoppets',\n",
       "  'worldstar',\n",
       "  'ossetia',\n",
       "  'ofcommercial',\n",
       "  'pseudoencyclopedia',\n",
       "  'nylah',\n",
       "  '800808',\n",
       "  'army1987',\n",
       "  'httptcofnum8rzzjz',\n",
       "  'wpmedical',\n",
       "  'которые',\n",
       "  'bidrigging',\n",
       "  'nepaliniger',\n",
       "  'hammami',\n",
       "  'ghostprotocol',\n",
       "  'carmichael',\n",
       "  '676839194',\n",
       "  'burnthewitch',\n",
       "  'otrivia',\n",
       "  'jamougha',\n",
       "  'userstevietheman',\n",
       "  'peripirus',\n",
       "  'sandboxhow',\n",
       "  'igho',\n",
       "  'yonkyu',\n",
       "  'asspolitically',\n",
       "  'squishies',\n",
       "  'maliyar',\n",
       "  'nishabur',\n",
       "  'pieists',\n",
       "  'yankees76',\n",
       "  'póte',\n",
       "  'homelessxc2xa0i',\n",
       "  'massachusettss',\n",
       "  'wikipediadisambiguation',\n",
       "  'rapatriated',\n",
       "  'lifechangingly',\n",
       "  'nrdg',\n",
       "  'conspiricy',\n",
       "  'zaloog',\n",
       "  'viewopoints',\n",
       "  'miankhel',\n",
       "  'takenthank',\n",
       "  'deangèle',\n",
       "  'crary',\n",
       "  'httptco1rynphgdwj',\n",
       "  'trentmkays',\n",
       "  'talkwikiproject',\n",
       "  'herstop',\n",
       "  'derwish',\n",
       "  'prussians',\n",
       "  'oldhat',\n",
       "  'smugs',\n",
       "  'foonote',\n",
       "  '106',\n",
       "  'kafkaesque',\n",
       "  'gurmukh',\n",
       "  'kobanebattlemap',\n",
       "  'protoionic',\n",
       "  'davidaweinberg',\n",
       "  'wikiediting',\n",
       "  'helpfulsince',\n",
       "  'andersson',\n",
       "  'limbaughs',\n",
       "  'maghakian',\n",
       "  'truman',\n",
       "  'jhalls',\n",
       "  'cite_reference_link',\n",
       "  'putyins',\n",
       "  'youmake',\n",
       "  'nihongo',\n",
       "  'anticivilrightsact',\n",
       "  'investigationwell',\n",
       "  'anyonei',\n",
       "  'brainsick',\n",
       "  'spencerleese',\n",
       "  '13940',\n",
       "  'intracrine',\n",
       "  'mirrorcopy',\n",
       "  'httptcousop7dcoss',\n",
       "  '3403',\n",
       "  'diphthongized',\n",
       "  'googleling',\n",
       "  'drinkfuck',\n",
       "  'chavezlover',\n",
       "  'imagezengesnertrumpetjpg',\n",
       "  'guangdong',\n",
       "  'mig25',\n",
       "  'pecie',\n",
       "  'meester',\n",
       "  'tmi',\n",
       "  'giambigarchy',\n",
       "  'sushis',\n",
       "  '015',\n",
       "  'obrinje',\n",
       "  'wildknox',\n",
       "  'physusie',\n",
       "  'inshanees',\n",
       "  'maiara',\n",
       "  'simularities',\n",
       "  'slovakian',\n",
       "  'mohameds',\n",
       "  'youssoupha',\n",
       "  'makhaya',\n",
       "  '2072352482',\n",
       "  'optionj',\n",
       "  'blackgirltia',\n",
       "  'archiveurl',\n",
       "  'norvoid',\n",
       "  'boysgirls',\n",
       "  'burrying',\n",
       "  'jewelthieving',\n",
       "  'wikien_i',\n",
       "  'categorydbi8you',\n",
       "  'w0lfman',\n",
       "  '10there',\n",
       "  'tiptoety',\n",
       "  'institutionthe',\n",
       "  'lauter',\n",
       "  'relm',\n",
       "  'motherfcker',\n",
       "  'reservecricket',\n",
       "  'sherazi',\n",
       "  'mediahttpwwwspendmatterscomindexcfm20061027whenitcomestoesourcinghowgoodisfree',\n",
       "  'dislexia',\n",
       "  'wpterrorist',\n",
       "  'mandarinreceived',\n",
       "  'httptcodonccrwzrh',\n",
       "  'wwwsurnamedbcom',\n",
       "  'lingayatism',\n",
       "  'deletionnomination',\n",
       "  'epiphyse',\n",
       "  'talkcommon',\n",
       "  '1132008',\n",
       "  'sockpuppeting',\n",
       "  'contos',\n",
       "  '6templateuser_label',\n",
       "  'talde',\n",
       "  'yerpo',\n",
       "  'wpnft',\n",
       "  'neutralwpnpovin',\n",
       "  'isnormation',\n",
       "  'сэрца',\n",
       "  'aleged',\n",
       "  'darwinistic',\n",
       "  'ironcarbon',\n",
       "  'ubc',\n",
       "  'chanderforyou',\n",
       "  'aeon1006',\n",
       "  'kardashev',\n",
       "  'poseidon',\n",
       "  'sukshinder',\n",
       "  'sphère',\n",
       "  'gdett',\n",
       "  'conewago',\n",
       "  'toelrnt',\n",
       "  'christoffersen',\n",
       "  'zodon',\n",
       "  'zeq',\n",
       "  'antigermanantiwhite',\n",
       "  'strabo',\n",
       "  '196768',\n",
       "  'httpenwikipediaorgwikiwpafdpentertainment',\n",
       "  'wallowawhitman',\n",
       "  'wikipediaesperanza',\n",
       "  'metapediaorgwikidouglas_weller',\n",
       "  'total7619525',\n",
       "  'compeitition',\n",
       "  'quinnae_moon',\n",
       "  'takenand',\n",
       "  'sebastiansta',\n",
       "  'entendernnxe3o',\n",
       "  'cpps',\n",
       "  'templatepotd20131020',\n",
       "  'notthelastmaybe',\n",
       "  'clownn',\n",
       "  'altffear',\n",
       "  'protm',\n",
       "  'rusconcan',\n",
       "  'mcadams',\n",
       "  'girlmodel',\n",
       "  '5042',\n",
       "  'bormalagurski',\n",
       "  'starrs',\n",
       "  '눈',\n",
       "  'm_delafontaine',\n",
       "  'httppersowanadoofrleuven',\n",
       "  'adimpression',\n",
       "  'krishnamurti',\n",
       "  'noticeboardrequest',\n",
       "  'autodrummersstaff',\n",
       "  'wiire',\n",
       "  'dakotacoy',\n",
       "  'teit',\n",
       "  'weeeeeeeeeeeeeeeee',\n",
       "  'linkthx',\n",
       "  'bitcoin',\n",
       "  'kumanovo',\n",
       "  'custodiet',\n",
       "  'jyst',\n",
       "  'personallythink',\n",
       "  'feculent',\n",
       "  'pankaj',\n",
       "  'thealogy',\n",
       "  '20045610',\n",
       "  'од',\n",
       "  'obi2canibes',\n",
       "  'moronhi',\n",
       "  'nyami247',\n",
       "  'jokethe',\n",
       "  'kirkuk',\n",
       "  'sbs6219z',\n",
       "  'sydneygirls',\n",
       "  'cellspacing3',\n",
       "  'appologetic',\n",
       "  'filethe',\n",
       "  'marracuene',\n",
       "  'fantasyish',\n",
       "  'thatsexyafrican',\n",
       "  'sockfarm',\n",
       "  'bozen',\n",
       "  'nonly',\n",
       "  'paulose',\n",
       "  'urville',\n",
       "  'orlady',\n",
       "  'wbc',\n",
       "  'satelitee',\n",
       "  'dulunya',\n",
       "  'dunin',\n",
       "  'httpsenwikipediaorgwikitemplateuser_derbyshire',\n",
       "  'roflmfao',\n",
       "  'ouijaoli',\n",
       "  'bonzibuddy',\n",
       "  'fcous',\n",
       "  'votea',\n",
       "  'mdy',\n",
       "  'griff',\n",
       "  'margo',\n",
       "  'wwhere',\n",
       "  'nonadmins',\n",
       "  'bs24',\n",
       "  'transitcentric',\n",
       "  'knownhe',\n",
       "  'httptcofbflcfdlu8',\n",
       "  'inbreeds',\n",
       "  '625189cm',\n",
       "  'waronline',\n",
       "  'alakzis',\n",
       "  'jossel',\n",
       "  'horsesister',\n",
       "  'bzuk',\n",
       "  'counterargue',\n",
       "  'httpwwwzundelsiteorgzundel_persecutedaug10_rallyhtml',\n",
       "  'iturean',\n",
       "  'assaultin',\n",
       "  'gozleme',\n",
       "  '20051103',\n",
       "  'categoryncaa',\n",
       "  'wpcat',\n",
       "  'mwc',\n",
       "  '18066',\n",
       "  '84',\n",
       "  '199495',\n",
       "  ...})"
      ]
     },
     "execution_count": 77,
     "metadata": {},
     "output_type": "execute_result"
    }
   ],
   "source": [
    "count,len(count)"
   ]
  },
  {
   "cell_type": "markdown",
   "id": "769f68c6",
   "metadata": {},
   "source": [
    "## LSTM With Char Embedding"
   ]
  },
  {
   "cell_type": "code",
   "execution_count": 6,
   "id": "0704a973",
   "metadata": {
    "ExecuteTime": {
     "end_time": "2022-01-01T17:49:29.831185Z",
     "start_time": "2022-01-01T17:49:29.315622Z"
    }
   },
   "outputs": [],
   "source": [
    "df= pd.read_csv(DATASET_PATH, index_col=False)\n",
    "df = df.dropna()\n",
    "df.drop([\"Unnamed: 0\", \"index\"],axis=1, inplace = True)"
   ]
  },
  {
   "cell_type": "code",
   "execution_count": 14,
   "id": "2d1d4e17",
   "metadata": {
    "ExecuteTime": {
     "end_time": "2022-01-01T17:52:54.219380Z",
     "start_time": "2022-01-01T17:52:52.706681Z"
    }
   },
   "outputs": [
    {
     "data": {
      "application/vnd.jupyter.widget-view+json": {
       "model_id": "c8caeb39d5ff411cb83dab5de17ebd17",
       "version_major": 2,
       "version_minor": 0
      },
      "text/plain": [
       "Pandas Apply:   0%|          | 0/100000 [00:00<?, ?it/s]"
      ]
     },
     "metadata": {},
     "output_type": "display_data"
    },
    {
     "data": {
      "application/vnd.jupyter.widget-view+json": {
       "model_id": "338500649ed64493b85229ce94232ab6",
       "version_major": 2,
       "version_minor": 0
      },
      "text/plain": [
       "Pandas Apply:   0%|          | 0/100000 [00:00<?, ?it/s]"
      ]
     },
     "metadata": {},
     "output_type": "display_data"
    }
   ],
   "source": [
    "import re\n",
    "df= pd.read_csv(DATASET_PATH, index_col=False)\n",
    "df = df.dropna()\n",
    "df.drop([\"Unnamed: 0\", \"index\"],axis=1, inplace = True)\n",
    "regex = re.compile('[^a-z ]')\n",
    "df[TEXT_COLUMN_NAME] = df[TEXT_COLUMN_NAME].swifter.apply(lambda text: regex.sub('',text.lower()))\n",
    "lens = df[TEXT_COLUMN_NAME].swifter.apply(len)\n",
    "df = df[(lens < lens.quantile(.75)) & (lens > 5)]"
   ]
  },
  {
   "cell_type": "code",
   "execution_count": 16,
   "id": "c97f719b",
   "metadata": {
    "ExecuteTime": {
     "end_time": "2022-01-01T17:53:00.387727Z",
     "start_time": "2022-01-01T17:53:00.369730Z"
    }
   },
   "outputs": [],
   "source": [
    "X,y = df[TEXT_COLUMN_NAME],df[LABEL_COLUMN_NAME]\n",
    "X_train,X_test, y_train,y_test = train_test_split(X,y, test_size=0.2, random_state=93)"
   ]
  },
  {
   "cell_type": "code",
   "execution_count": 17,
   "id": "1765a045",
   "metadata": {
    "ExecuteTime": {
     "end_time": "2022-01-01T17:53:06.441961Z",
     "start_time": "2022-01-01T17:53:02.958215Z"
    }
   },
   "outputs": [],
   "source": [
    "toknizer = Tokenizer(char_level=True, oov_token='@',num_words=None)\n",
    "toknizer.fit_on_texts(X_train)\n",
    "X_train = toknizer.texts_to_sequences(X_train)\n",
    "X_train = pad_sequences(X_train,padding='post')"
   ]
  },
  {
   "cell_type": "code",
   "execution_count": 18,
   "id": "50ed3d50",
   "metadata": {
    "ExecuteTime": {
     "end_time": "2022-01-01T17:53:10.178932Z",
     "start_time": "2022-01-01T17:53:10.171944Z"
    }
   },
   "outputs": [
    {
     "data": {
      "text/plain": [
       "(59949, 349)"
      ]
     },
     "execution_count": 18,
     "metadata": {},
     "output_type": "execute_result"
    }
   ],
   "source": [
    "X_train.shape"
   ]
  },
  {
   "cell_type": "code",
   "execution_count": 19,
   "id": "9dd6d805",
   "metadata": {
    "ExecuteTime": {
     "end_time": "2022-01-01T17:53:36.634936Z",
     "start_time": "2022-01-01T17:53:36.527943Z"
    }
   },
   "outputs": [
    {
     "name": "stdout",
     "output_type": "stream",
     "text": [
      "Model: \"sequential_1\"\n",
      "_________________________________________________________________\n",
      "Layer (type)                 Output Shape              Param #   \n",
      "=================================================================\n",
      "lstm_1 (LSTM)                (None, 50)                10400     \n",
      "_________________________________________________________________\n",
      "dense_2 (Dense)              (None, 25)                1275      \n",
      "_________________________________________________________________\n",
      "dense_3 (Dense)              (None, 1)                 26        \n",
      "=================================================================\n",
      "Total params: 11,701\n",
      "Trainable params: 11,701\n",
      "Non-trainable params: 0\n",
      "_________________________________________________________________\n"
     ]
    }
   ],
   "source": [
    "model = Sequential()\n",
    "model.add(LSTM(50,input_shape=(349,1),recurrent_dropout=0.2))\n",
    "model.add(Dense(25, activation=\"relu\"))\n",
    "model.add(Dense(1, activation=\"sigmoid\"))\n",
    "model.compile(loss=tf.keras.losses.BinaryCrossentropy(from_logits=False), optimizer='adam',metrics=[\"accuracy\"])\n",
    "model.summary()"
   ]
  },
  {
   "cell_type": "code",
   "execution_count": 20,
   "id": "114da459",
   "metadata": {
    "ExecuteTime": {
     "end_time": "2022-01-01T17:53:39.381442Z",
     "start_time": "2022-01-01T17:53:39.370436Z"
    }
   },
   "outputs": [
    {
     "data": {
      "text/plain": [
       "{0.0: 0.3027076077238213, 1.0: 0.6972923922761787}"
      ]
     },
     "execution_count": 20,
     "metadata": {},
     "output_type": "execute_result"
    }
   ],
   "source": [
    "weights = 1 - y.value_counts()/y.size\n",
    "weights = weights.to_dict()\n",
    "weights"
   ]
  },
  {
   "cell_type": "code",
   "execution_count": 21,
   "id": "39d1b66c",
   "metadata": {
    "ExecuteTime": {
     "end_time": "2022-01-01T17:54:03.515020Z",
     "start_time": "2022-01-01T17:54:03.499038Z"
    }
   },
   "outputs": [],
   "source": [
    "X_train = np.expand_dims(X_train,axis=-1)"
   ]
  },
  {
   "cell_type": "code",
   "execution_count": 22,
   "id": "256b1512",
   "metadata": {
    "ExecuteTime": {
     "end_time": "2022-01-01T17:54:05.963977Z",
     "start_time": "2022-01-01T17:54:05.951959Z"
    }
   },
   "outputs": [
    {
     "data": {
      "text/plain": [
       "((59949, 349, 1), (59949,))"
      ]
     },
     "execution_count": 22,
     "metadata": {},
     "output_type": "execute_result"
    }
   ],
   "source": [
    "X_train.shape,y_train.shape"
   ]
  },
  {
   "cell_type": "code",
   "execution_count": 23,
   "id": "bfe26c72",
   "metadata": {
    "ExecuteTime": {
     "end_time": "2022-01-01T19:50:18.150012Z",
     "start_time": "2022-01-01T17:54:08.635636Z"
    }
   },
   "outputs": [
    {
     "name": "stdout",
     "output_type": "stream",
     "text": [
      "Epoch 1/1000\n",
      "285/285 [==============================] - 110s 381ms/step - loss: 0.2910 - accuracy: 0.4315 - val_loss: 0.6885 - val_accuracy: 0.3976\n",
      "Epoch 2/1000\n",
      "285/285 [==============================] - 136s 478ms/step - loss: 0.2877 - accuracy: 0.4912 - val_loss: 0.6823 - val_accuracy: 0.4857\n",
      "Epoch 3/1000\n",
      "285/285 [==============================] - 140s 491ms/step - loss: 0.2873 - accuracy: 0.4977 - val_loss: 0.6835 - val_accuracy: 0.4793\n",
      "Epoch 4/1000\n",
      "285/285 [==============================] - 145s 509ms/step - loss: 0.2871 - accuracy: 0.4979 - val_loss: 0.6882 - val_accuracy: 0.4793\n",
      "Epoch 5/1000\n",
      "285/285 [==============================] - 146s 511ms/step - loss: 0.2865 - accuracy: 0.4889 - val_loss: 0.6435 - val_accuracy: 0.6124\n",
      "Epoch 6/1000\n",
      "285/285 [==============================] - 145s 510ms/step - loss: 0.2764 - accuracy: 0.6073 - val_loss: 0.6512 - val_accuracy: 0.6237\n",
      "Epoch 7/1000\n",
      "285/285 [==============================] - 144s 505ms/step - loss: 0.2806 - accuracy: 0.5758 - val_loss: 0.6378 - val_accuracy: 0.6711\n",
      "Epoch 8/1000\n",
      "285/285 [==============================] - 145s 508ms/step - loss: 0.2734 - accuracy: 0.6249 - val_loss: 0.6207 - val_accuracy: 0.6411\n",
      "Epoch 9/1000\n",
      "285/285 [==============================] - 146s 511ms/step - loss: 0.2744 - accuracy: 0.6181 - val_loss: 0.6790 - val_accuracy: 0.6801\n",
      "Epoch 10/1000\n",
      "285/285 [==============================] - 144s 507ms/step - loss: 0.2917 - accuracy: 0.5856 - val_loss: 0.6913 - val_accuracy: 0.5974\n",
      "Epoch 11/1000\n",
      "285/285 [==============================] - 145s 507ms/step - loss: 0.2768 - accuracy: 0.6174 - val_loss: 0.6549 - val_accuracy: 0.6314\n",
      "Epoch 12/1000\n",
      "285/285 [==============================] - 145s 508ms/step - loss: 0.2707 - accuracy: 0.6359 - val_loss: 0.6321 - val_accuracy: 0.6448\n",
      "Epoch 13/1000\n",
      "285/285 [==============================] - 149s 521ms/step - loss: 0.2696 - accuracy: 0.6319 - val_loss: 0.5955 - val_accuracy: 0.6658\n",
      "Epoch 14/1000\n",
      "285/285 [==============================] - 150s 526ms/step - loss: 0.2686 - accuracy: 0.6317 - val_loss: 0.6414 - val_accuracy: 0.6438\n",
      "Epoch 15/1000\n",
      "285/285 [==============================] - 148s 520ms/step - loss: 0.2669 - accuracy: 0.6300 - val_loss: 0.6335 - val_accuracy: 0.6404\n",
      "Epoch 16/1000\n",
      "285/285 [==============================] - 147s 514ms/step - loss: 0.2662 - accuracy: 0.6322 - val_loss: 0.6120 - val_accuracy: 0.6378\n",
      "Epoch 17/1000\n",
      "285/285 [==============================] - 146s 513ms/step - loss: 0.2659 - accuracy: 0.6345 - val_loss: 0.6208 - val_accuracy: 0.6441\n",
      "Epoch 18/1000\n",
      "285/285 [==============================] - 146s 512ms/step - loss: 0.2643 - accuracy: 0.6375 - val_loss: 0.6259 - val_accuracy: 0.6324\n",
      "Epoch 19/1000\n",
      "285/285 [==============================] - 146s 512ms/step - loss: 0.2629 - accuracy: 0.6401 - val_loss: 0.6205 - val_accuracy: 0.6431\n",
      "Epoch 20/1000\n",
      "285/285 [==============================] - 145s 509ms/step - loss: 0.2626 - accuracy: 0.6379 - val_loss: 0.6682 - val_accuracy: 0.6121\n",
      "Epoch 21/1000\n",
      "285/285 [==============================] - 145s 508ms/step - loss: 0.2612 - accuracy: 0.6437 - val_loss: 0.6284 - val_accuracy: 0.6404\n",
      "Epoch 22/1000\n",
      "285/285 [==============================] - 149s 523ms/step - loss: 0.2605 - accuracy: 0.6434 - val_loss: 0.5892 - val_accuracy: 0.6775\n",
      "Epoch 23/1000\n",
      "285/285 [==============================] - 149s 522ms/step - loss: 0.2592 - accuracy: 0.6520 - val_loss: 0.5786 - val_accuracy: 0.6728\n",
      "Epoch 24/1000\n",
      "285/285 [==============================] - 149s 524ms/step - loss: 0.2583 - accuracy: 0.6519 - val_loss: 0.6114 - val_accuracy: 0.6601\n",
      "Epoch 25/1000\n",
      "285/285 [==============================] - 148s 519ms/step - loss: 0.2565 - accuracy: 0.6559 - val_loss: 0.5944 - val_accuracy: 0.6734\n",
      "Epoch 26/1000\n",
      "285/285 [==============================] - 151s 528ms/step - loss: 0.2558 - accuracy: 0.6580 - val_loss: 0.5781 - val_accuracy: 0.6871\n",
      "Epoch 27/1000\n",
      "285/285 [==============================] - 149s 522ms/step - loss: 0.2547 - accuracy: 0.6612 - val_loss: 0.5886 - val_accuracy: 0.6748\n",
      "Epoch 28/1000\n",
      "285/285 [==============================] - 238s 838ms/step - loss: 0.2531 - accuracy: 0.6657 - val_loss: 0.5756 - val_accuracy: 0.6785\n",
      "Epoch 29/1000\n",
      "285/285 [==============================] - 295s 1s/step - loss: 0.2517 - accuracy: 0.6699 - val_loss: 0.5956 - val_accuracy: 0.6721\n",
      "Epoch 30/1000\n",
      "285/285 [==============================] - 295s 1s/step - loss: 0.2500 - accuracy: 0.6726 - val_loss: 0.6238 - val_accuracy: 0.6494\n",
      "Epoch 31/1000\n",
      "285/285 [==============================] - 296s 1s/step - loss: 0.2725 - accuracy: 0.5684 - val_loss: 0.6904 - val_accuracy: 0.3185\n",
      "Epoch 32/1000\n",
      "285/285 [==============================] - 298s 1s/step - loss: 0.2919 - accuracy: 0.4023 - val_loss: 0.7007 - val_accuracy: 0.3456\n",
      "Epoch 33/1000\n",
      "285/285 [==============================] - 299s 1s/step - loss: 0.2912 - accuracy: 0.4410 - val_loss: 0.6982 - val_accuracy: 0.3659\n",
      "Epoch 34/1000\n",
      "285/285 [==============================] - 289s 1s/step - loss: 0.2884 - accuracy: 0.4586 - val_loss: 0.7007 - val_accuracy: 0.4590\n",
      "Epoch 35/1000\n",
      "285/285 [==============================] - 299s 1s/step - loss: 0.2886 - accuracy: 0.4845 - val_loss: 0.6947 - val_accuracy: 0.3462\n",
      "Epoch 36/1000\n",
      "285/285 [==============================] - 299s 1s/step - loss: 0.2859 - accuracy: 0.4938 - val_loss: 0.6261 - val_accuracy: 0.6408\n",
      "Epoch 37/1000\n",
      "285/285 [==============================] - 295s 1s/step - loss: 0.2764 - accuracy: 0.6089 - val_loss: 0.6029 - val_accuracy: 0.6541\n",
      "Epoch 38/1000\n",
      "285/285 [==============================] - 160s 561ms/step - loss: 0.2675 - accuracy: 0.6394 - val_loss: 0.6399 - val_accuracy: 0.6264\n"
     ]
    }
   ],
   "source": [
    "callback = tf.keras.callbacks.EarlyStopping(monitor='val_loss', patience=10)\n",
    "time_stopping_callback = tfa.callbacks.TimeStopping(seconds=60*60*8, verbose=1)\n",
    "history = model.fit(X_train,y_train,batch_size=200,epochs=1000,\n",
    "                    validation_split=0.05,class_weight=weights,\n",
    "                    use_multiprocessing=True,workers=8,callbacks=[callback,time_stopping_callback])"
   ]
  },
  {
   "cell_type": "code",
   "execution_count": 24,
   "id": "1cba6a04",
   "metadata": {
    "ExecuteTime": {
     "end_time": "2022-01-01T19:50:18.221577Z",
     "start_time": "2022-01-01T19:50:18.205547Z"
    }
   },
   "outputs": [],
   "source": [
    "X_test = np.expand_dims(X_test,axis=-1)"
   ]
  },
  {
   "cell_type": "code",
   "execution_count": 39,
   "id": "63c0eded",
   "metadata": {
    "ExecuteTime": {
     "end_time": "2022-01-02T09:18:57.713531Z",
     "start_time": "2022-01-02T09:18:57.701726Z"
    }
   },
   "outputs": [],
   "source": [
    "model.save(\"lstm_second_chance\")\n",
    "plt.plot(history.history['accuracy'])\n",
    "plt.plot(history.history['val_accuracy'])\n",
    "plt.plot(history.history['loss'])\n",
    "plt.plot(history.history['val_loss'])\n",
    "plt.title('Model Train Metrics')\n",
    "plt.ylabel('Metric')\n",
    "plt.xlabel('Epoch')\n",
    "plt.legend(['accuracy', 'val_accuracy','loss','val_loss'])\n",
    "plt.show()\n",
    "y_pred_test = model.predict(X_test)\n",
    "y_pred_test[y_pred_test < 0.5] = 0\n",
    "y_pred_test[y_pred_test >= 0.5] = 1\n",
    "print(\"Test: \\n\")\n",
    "print(classification_report(y_test.argmax(axis=1),y_pred_test))\n",
    "print(\"\\nTrain: \\n\")\n",
    "y_pred_train = model.predict(X_train)\n",
    "y_pred_train[y_pred_train < 0.5] = 0\n",
    "y_pred_train[y_pred_train >= 0.5] = 1\n",
    "print(classification_report(y_train.argmax(axis=1),y_pred_train))"
   ]
  },
  {
   "cell_type": "code",
   "execution_count": 33,
   "id": "8d8afea7",
   "metadata": {
    "ExecuteTime": {
     "end_time": "2022-01-01T23:51:59.131459Z",
     "start_time": "2022-01-01T23:51:58.996969Z"
    }
   },
   "outputs": [
    {
     "name": "stdout",
     "output_type": "stream",
     "text": [
      "Model: \"sequential_3\"\n",
      "_________________________________________________________________\n",
      "Layer (type)                 Output Shape              Param #   \n",
      "=================================================================\n",
      "lstm_3 (LSTM)                (None, 250)               252000    \n",
      "_________________________________________________________________\n",
      "dense_8 (Dense)              (None, 150)               37650     \n",
      "_________________________________________________________________\n",
      "dense_9 (Dense)              (None, 50)                7550      \n",
      "_________________________________________________________________\n",
      "dense_10 (Dense)             (None, 25)                1275      \n",
      "_________________________________________________________________\n",
      "dense_11 (Dense)             (None, 1)                 26        \n",
      "=================================================================\n",
      "Total params: 298,501\n",
      "Trainable params: 298,501\n",
      "Non-trainable params: 0\n",
      "_________________________________________________________________\n"
     ]
    }
   ],
   "source": [
    "model = Sequential()\n",
    "model.add(LSTM(250,input_shape=(349,1),recurrent_dropout=0.2))\n",
    "model.add(Dense(150, activation=\"relu\"))\n",
    "model.add(Dense(50, activation=\"relu\"))\n",
    "model.add(Dense(25, activation=\"relu\"))\n",
    "model.add(Dense(1, activation=\"sigmoid\"))\n",
    "model.compile(loss=tf.keras.losses.BinaryCrossentropy(from_logits=False), optimizer='adam',metrics=[\"accuracy\"])\n",
    "model.summary()"
   ]
  },
  {
   "cell_type": "code",
   "execution_count": 34,
   "id": "34be9e7b",
   "metadata": {
    "ExecuteTime": {
     "end_time": "2022-01-02T08:31:31.418070Z",
     "start_time": "2022-01-01T23:52:02.200152Z"
    }
   },
   "outputs": [
    {
     "name": "stdout",
     "output_type": "stream",
     "text": [
      "Epoch 1/1000\n",
      "285/285 [==============================] - 2260s 8s/step - loss: 0.2926 - accuracy: 0.4367 - val_loss: 0.7022 - val_accuracy: 0.3202\n",
      "Epoch 2/1000\n",
      "285/285 [==============================] - 2178s 8s/step - loss: 0.2915 - accuracy: 0.3807 - val_loss: 0.7009 - val_accuracy: 0.3519\n",
      "Epoch 3/1000\n",
      "285/285 [==============================] - 2287s 8s/step - loss: 0.2893 - accuracy: 0.4332 - val_loss: 0.6615 - val_accuracy: 0.5480\n",
      "Epoch 4/1000\n",
      "285/285 [==============================] - 2329s 8s/step - loss: 0.2882 - accuracy: 0.4712 - val_loss: 0.7166 - val_accuracy: 0.4009\n",
      "Epoch 5/1000\n",
      "285/285 [==============================] - 2327s 8s/step - loss: 0.2875 - accuracy: 0.4995 - val_loss: 0.6810 - val_accuracy: 0.4990\n",
      "Epoch 6/1000\n",
      "285/285 [==============================] - 2366s 8s/step - loss: 0.2871 - accuracy: 0.5058 - val_loss: 0.6859 - val_accuracy: 0.5033\n",
      "Epoch 7/1000\n",
      "285/285 [==============================] - 2386s 8s/step - loss: 0.2862 - accuracy: 0.5152 - val_loss: 0.6861 - val_accuracy: 0.6071\n",
      "Epoch 8/1000\n",
      "285/285 [==============================] - 2382s 8s/step - loss: 0.2806 - accuracy: 0.5573 - val_loss: 0.6367 - val_accuracy: 0.6338\n",
      "Epoch 9/1000\n",
      "285/285 [==============================] - 2389s 8s/step - loss: 0.2721 - accuracy: 0.6318 - val_loss: 0.6406 - val_accuracy: 0.6271\n",
      "Epoch 10/1000\n",
      "285/285 [==============================] - 2389s 8s/step - loss: 0.2697 - accuracy: 0.6471 - val_loss: 0.6616 - val_accuracy: 0.6144\n",
      "Epoch 11/1000\n",
      "285/285 [==============================] - 2427s 9s/step - loss: 0.2684 - accuracy: 0.6510 - val_loss: 0.6224 - val_accuracy: 0.6581\n",
      "Epoch 12/1000\n",
      "285/285 [==============================] - 2578s 9s/step - loss: 0.2646 - accuracy: 0.6490 - val_loss: 0.6573 - val_accuracy: 0.6328\n",
      "Epoch 13/1000\n",
      "285/285 [==============================] - 2870s 10s/step - loss: 0.2602 - accuracy: 0.6503 - val_loss: 0.5954 - val_accuracy: 0.6594\n",
      "Timed stopping at epoch 13 after training for 8:00:00\n"
     ]
    }
   ],
   "source": [
    "callback = tf.keras.callbacks.EarlyStopping(monitor='val_loss', patience=10)\n",
    "time_stopping_callback = tfa.callbacks.TimeStopping(seconds=60*60*8, verbose=1)\n",
    "history = model.fit(X_train,y_train,batch_size=200,epochs=1000,\n",
    "                    validation_split=0.05,class_weight=weights,\n",
    "                    use_multiprocessing=True,workers=8,callbacks=[callback,time_stopping_callback])"
   ]
  },
  {
   "cell_type": "code",
   "execution_count": 37,
   "id": "291b104c",
   "metadata": {
    "ExecuteTime": {
     "end_time": "2022-01-02T09:11:57.909672Z",
     "start_time": "2022-01-02T09:11:57.904157Z"
    }
   },
   "outputs": [],
   "source": [
    "model.save(\"lstm_2\")\n",
    "plt.plot(history.history['accuracy'])\n",
    "plt.plot(history.history['val_accuracy'])\n",
    "plt.plot(history.history['loss'])\n",
    "plt.plot(history.history['val_loss'])\n",
    "plt.title('Model Train Metrics')\n",
    "plt.ylabel('Metric')\n",
    "plt.xlabel('Epoch')\n",
    "plt.legend(['accuracy', 'val_accuracy','loss','val_loss'])\n",
    "plt.show()\n",
    "y_pred_test = model.predict(X_test)\n",
    "y_pred_test[y_pred_test < 0.5] = 0\n",
    "y_pred_test[y_pred_test >= 0.5] = 1\n",
    "print(\"Test: \\n\")\n",
    "print(classification_report(y_test.argmax(axis=1),y_pred_test)\n",
    "print(\"\\nTrain: \\n\")\n",
    "y_pred_train = model.predict(X_train)\n",
    "y_pred_train[y_pred_train < 0.5] = 0\n",
    "y_pred_train[y_pred_train >= 0.5] = 1\n",
    "print(classification_report(y_train.argmax(axis=1),y_pred_train)"
   ]
  },
  {
   "cell_type": "markdown",
   "id": "a56a5ae7",
   "metadata": {},
   "source": [
    "## Simple LSTM"
   ]
  },
  {
   "cell_type": "code",
   "execution_count": 5,
   "id": "83b58128",
   "metadata": {
    "ExecuteTime": {
     "end_time": "2021-12-31T09:11:41.601851Z",
     "start_time": "2021-12-31T09:11:41.573832Z"
    }
   },
   "outputs": [],
   "source": [
    "y = pd.Categorical(df[LABEL_COLUMN_NAME]).codes\n",
    "X = df[TEXT_COLUMN_NAME]"
   ]
  },
  {
   "cell_type": "code",
   "execution_count": 14,
   "id": "c7845a1e",
   "metadata": {
    "ExecuteTime": {
     "end_time": "2021-12-31T09:16:11.232861Z",
     "start_time": "2021-12-31T09:15:26.778674Z"
    }
   },
   "outputs": [
    {
     "data": {
      "application/vnd.jupyter.widget-view+json": {
       "model_id": "466a5f7066914b6486dae024dfa4fbdf",
       "version_major": 2,
       "version_minor": 0
      },
      "text/plain": [
       "Pandas Apply:   0%|          | 0/100000 [00:00<?, ?it/s]"
      ]
     },
     "metadata": {},
     "output_type": "display_data"
    },
    {
     "name": "stdout",
     "output_type": "stream",
     "text": [
      "count    100000.000000\n",
      "mean         74.415120\n",
      "std         146.039735\n",
      "min           0.000000\n",
      "25%          18.000000\n",
      "50%          34.000000\n",
      "75%          76.000000\n",
      "max        9851.000000\n",
      "Name: Text, dtype: float64\n"
     ]
    },
    {
     "data": {
      "text/plain": [
       "<matplotlib.collections.PathCollection at 0x24a9c73dac0>"
      ]
     },
     "execution_count": 14,
     "metadata": {},
     "output_type": "execute_result"
    },
    {
     "data": {
      "image/png": "[encoded data removed]",
      "text/plain": [
       "<Figure size 432x288 with 1 Axes>"
      ]
     },
     "metadata": {
      "needs_background": "light"
     },
     "output_type": "display_data"
    }
   ],
   "source": [
    "lens = X.swifter.apply(lambda text:len(nltk.word_tokenize(text)))\n",
    "print(lens.describe())\n",
    "plt.scatter(list(lens.index),lens.values)"
   ]
  },
  {
   "cell_type": "code",
   "execution_count": 18,
   "id": "970ee269",
   "metadata": {
    "ExecuteTime": {
     "end_time": "2021-12-31T09:19:23.456871Z",
     "start_time": "2021-12-31T09:19:23.426648Z"
    }
   },
   "outputs": [
    {
     "data": {
      "text/plain": [
       "((80000,), (20000,), (80000,), (20000,))"
      ]
     },
     "execution_count": 18,
     "metadata": {},
     "output_type": "execute_result"
    }
   ],
   "source": [
    "from sklearn.model_selection import train_test_split\n",
    "X_train,X_test,y_train,y_test = train_test_split(X.values,y,test_size=0.2,random_state=42)\n",
    "X_train.shape,X_test.shape,y_train.shape,y_test.shape"
   ]
  },
  {
   "cell_type": "code",
   "execution_count": 19,
   "id": "5320c379",
   "metadata": {
    "ExecuteTime": {
     "end_time": "2021-12-31T09:19:32.766964Z",
     "start_time": "2021-12-31T09:19:25.052274Z"
    }
   },
   "outputs": [],
   "source": [
    "from tensorflow.keras.preprocessing.text import Tokenizer\n",
    "from tensorflow.keras.preprocessing.sequence import pad_sequences\n",
    "toknizer = Tokenizer(char_level=False, oov_token='@',num_words=100, split=' ',lower=True,filters='!\"#$%&()*+,-./:;<=>?@[\\\\]^_`{|}~\\t\\n')\n",
    "toknizer.fit_on_texts(X_train)\n",
    "seq = toknizer.texts_to_sequences(X_train)\n",
    "seq = pad_sequences(seq,maxlen=77,padding='post')"
   ]
  },
  {
   "cell_type": "code",
   "execution_count": 21,
   "id": "06c4bc5c",
   "metadata": {
    "ExecuteTime": {
     "end_time": "2021-12-31T09:21:00.972417Z",
     "start_time": "2021-12-31T09:21:00.958424Z"
    }
   },
   "outputs": [],
   "source": [
    "X_train = seq"
   ]
  },
  {
   "cell_type": "code",
   "execution_count": 22,
   "id": "42a187b5",
   "metadata": {
    "ExecuteTime": {
     "end_time": "2021-12-31T09:21:09.643803Z",
     "start_time": "2021-12-31T09:21:09.259520Z"
    }
   },
   "outputs": [
    {
     "name": "stdout",
     "output_type": "stream",
     "text": [
      "Model: \"sequential\"\n",
      "_________________________________________________________________\n",
      "Layer (type)                 Output Shape              Param #   \n",
      "=================================================================\n",
      "lstm (LSTM)                  (None, 70)                20160     \n",
      "_________________________________________________________________\n",
      "dense (Dense)                (None, 60)                4260      \n",
      "_________________________________________________________________\n",
      "dense_1 (Dense)              (None, 30)                1830      \n",
      "_________________________________________________________________\n",
      "dense_2 (Dense)              (None, 10)                310       \n",
      "_________________________________________________________________\n",
      "dense_3 (Dense)              (None, 4)                 44        \n",
      "=================================================================\n",
      "Total params: 26,604\n",
      "Trainable params: 26,604\n",
      "Non-trainable params: 0\n",
      "_________________________________________________________________\n"
     ]
    }
   ],
   "source": [
    "model = Sequential()\n",
    "model.add(LSTM(70,input_shape=(100,1),recurrent_dropout=0.2))\n",
    "model.add(Dense(60, activation=\"relu\"))\n",
    "model.add(Dense(30, activation=\"relu\"))\n",
    "model.add(Dense(10, activation=\"relu\"))\n",
    "model.add(Dense(4, activation=\"softmax\"))\n",
    "model.compile(loss=tf.keras.losses.CategoricalCrossentropy(from_logits=False), optimizer='adam',metrics=[\"accuracy\"])\n",
    "model.summary()"
   ]
  },
  {
   "cell_type": "code",
   "execution_count": 25,
   "id": "184a7ecd",
   "metadata": {
    "ExecuteTime": {
     "end_time": "2021-12-31T09:22:08.671668Z",
     "start_time": "2021-12-31T09:22:08.658681Z"
    }
   },
   "outputs": [
    {
     "data": {
      "text/plain": [
       "{0: 0.26771, 1: 0.73229}"
      ]
     },
     "execution_count": 25,
     "metadata": {},
     "output_type": "execute_result"
    }
   ],
   "source": [
    "weights = 1 - pd.Series(y).value_counts()/y.size\n",
    "weights = weights.to_dict()\n",
    "weights"
   ]
  },
  {
   "cell_type": "code",
   "execution_count": 26,
   "id": "a9041621",
   "metadata": {
    "ExecuteTime": {
     "end_time": "2021-12-31T09:22:15.982664Z",
     "start_time": "2021-12-31T09:22:15.964181Z"
    }
   },
   "outputs": [],
   "source": [
    "y_train = tf.keras.utils.to_categorical(y_train, num_classes=4)\n",
    "X_train = np.expand_dims(X_train,axis=-1)"
   ]
  },
  {
   "cell_type": "code",
   "execution_count": 29,
   "id": "dc352102",
   "metadata": {
    "ExecuteTime": {
     "end_time": "2021-12-31T10:09:22.059744Z",
     "start_time": "2021-12-31T09:42:13.141916Z"
    }
   },
   "outputs": [
    {
     "name": "stdout",
     "output_type": "stream",
     "text": [
      "Epoch 1/1000\n",
      "360/360 [==============================] - 22s 61ms/step - loss: 0.2424 - accuracy: 0.6426 - val_loss: 0.6086 - val_accuracy: 0.6654\n",
      "Epoch 2/1000\n",
      "360/360 [==============================] - 23s 65ms/step - loss: 0.2421 - accuracy: 0.6483 - val_loss: 0.5908 - val_accuracy: 0.6910\n",
      "Epoch 3/1000\n",
      "360/360 [==============================] - 24s 65ms/step - loss: 0.2410 - accuracy: 0.6546 - val_loss: 0.5968 - val_accuracy: 0.6549\n",
      "Epoch 4/1000\n",
      "360/360 [==============================] - 24s 65ms/step - loss: 0.2406 - accuracy: 0.6516 - val_loss: 0.5713 - val_accuracy: 0.6951\n",
      "Epoch 5/1000\n",
      "360/360 [==============================] - 23s 64ms/step - loss: 0.2401 - accuracy: 0.6487 - val_loss: 0.6144 - val_accuracy: 0.6490\n",
      "Epoch 6/1000\n",
      "360/360 [==============================] - 23s 65ms/step - loss: 0.2399 - accuracy: 0.6532 - val_loss: 0.5998 - val_accuracy: 0.6597\n",
      "Epoch 7/1000\n",
      "360/360 [==============================] - 23s 64ms/step - loss: 0.2389 - accuracy: 0.6532 - val_loss: 0.6278 - val_accuracy: 0.6371\n",
      "Epoch 8/1000\n",
      "360/360 [==============================] - 23s 64ms/step - loss: 0.2381 - accuracy: 0.6561 - val_loss: 0.5818 - val_accuracy: 0.6798\n",
      "Epoch 9/1000\n",
      "360/360 [==============================] - 24s 66ms/step - loss: 0.2377 - accuracy: 0.6590 - val_loss: 0.6068 - val_accuracy: 0.6581\n",
      "Epoch 10/1000\n",
      "360/360 [==============================] - 23s 64ms/step - loss: 0.2377 - accuracy: 0.6596 - val_loss: 0.6201 - val_accuracy: 0.6474\n",
      "Epoch 11/1000\n",
      "360/360 [==============================] - 23s 63ms/step - loss: 0.2372 - accuracy: 0.6609 - val_loss: 0.6271 - val_accuracy: 0.6252\n",
      "Epoch 12/1000\n",
      "360/360 [==============================] - 23s 63ms/step - loss: 0.2376 - accuracy: 0.6539 - val_loss: 0.5667 - val_accuracy: 0.7078\n",
      "Epoch 13/1000\n",
      "360/360 [==============================] - 22s 62ms/step - loss: 0.2369 - accuracy: 0.6590 - val_loss: 0.5813 - val_accuracy: 0.6751\n",
      "Epoch 14/1000\n",
      "360/360 [==============================] - 22s 61ms/step - loss: 0.2362 - accuracy: 0.6624 - val_loss: 0.5957 - val_accuracy: 0.6685\n",
      "Epoch 15/1000\n",
      "360/360 [==============================] - 22s 61ms/step - loss: 0.2363 - accuracy: 0.6597 - val_loss: 0.6344 - val_accuracy: 0.6334\n",
      "Epoch 16/1000\n",
      "360/360 [==============================] - 23s 63ms/step - loss: 0.2361 - accuracy: 0.6589 - val_loss: 0.5496 - val_accuracy: 0.7113\n",
      "Epoch 17/1000\n",
      "360/360 [==============================] - 23s 64ms/step - loss: 0.2354 - accuracy: 0.6568 - val_loss: 0.5764 - val_accuracy: 0.6891\n",
      "Epoch 18/1000\n",
      "360/360 [==============================] - 24s 66ms/step - loss: 0.2346 - accuracy: 0.6613 - val_loss: 0.6268 - val_accuracy: 0.6434\n",
      "Epoch 19/1000\n",
      "360/360 [==============================] - 24s 66ms/step - loss: 0.2347 - accuracy: 0.6672 - val_loss: 0.5616 - val_accuracy: 0.6948\n",
      "Epoch 20/1000\n",
      "360/360 [==============================] - 23s 64ms/step - loss: 0.2343 - accuracy: 0.6653 - val_loss: 0.6105 - val_accuracy: 0.6515\n",
      "Epoch 21/1000\n",
      "360/360 [==============================] - 23s 65ms/step - loss: 0.2339 - accuracy: 0.6643 - val_loss: 0.6074 - val_accuracy: 0.6496\n",
      "Epoch 22/1000\n",
      "360/360 [==============================] - 24s 66ms/step - loss: 0.2338 - accuracy: 0.6648 - val_loss: 0.6131 - val_accuracy: 0.6536\n",
      "Epoch 23/1000\n",
      "360/360 [==============================] - 23s 63ms/step - loss: 0.2334 - accuracy: 0.6687 - val_loss: 0.6055 - val_accuracy: 0.6561\n",
      "Epoch 24/1000\n",
      "360/360 [==============================] - 22s 62ms/step - loss: 0.2333 - accuracy: 0.6717 - val_loss: 0.5616 - val_accuracy: 0.7050\n",
      "Epoch 25/1000\n",
      "360/360 [==============================] - 23s 63ms/step - loss: 0.2330 - accuracy: 0.6695 - val_loss: 0.5825 - val_accuracy: 0.6653\n",
      "Epoch 26/1000\n",
      "360/360 [==============================] - 24s 66ms/step - loss: 0.2326 - accuracy: 0.6705 - val_loss: 0.5929 - val_accuracy: 0.6522\n",
      "Epoch 27/1000\n",
      "360/360 [==============================] - 23s 65ms/step - loss: 0.2317 - accuracy: 0.6729 - val_loss: 0.5938 - val_accuracy: 0.6725\n",
      "Epoch 28/1000\n",
      "360/360 [==============================] - 24s 66ms/step - loss: 0.2321 - accuracy: 0.6732 - val_loss: 0.6212 - val_accuracy: 0.6381\n",
      "Epoch 29/1000\n",
      "360/360 [==============================] - 23s 65ms/step - loss: 0.2312 - accuracy: 0.6733 - val_loss: 0.6119 - val_accuracy: 0.6557\n",
      "Epoch 30/1000\n",
      "360/360 [==============================] - 24s 66ms/step - loss: 0.2314 - accuracy: 0.6754 - val_loss: 0.6088 - val_accuracy: 0.6621\n",
      "Epoch 31/1000\n",
      "360/360 [==============================] - 23s 65ms/step - loss: 0.2317 - accuracy: 0.6703 - val_loss: 0.5825 - val_accuracy: 0.6720\n",
      "Epoch 32/1000\n",
      "360/360 [==============================] - 24s 67ms/step - loss: 0.2308 - accuracy: 0.6743 - val_loss: 0.5671 - val_accuracy: 0.6894\n",
      "Epoch 33/1000\n",
      "360/360 [==============================] - 24s 66ms/step - loss: 0.2308 - accuracy: 0.6740 - val_loss: 0.6420 - val_accuracy: 0.6187\n",
      "Epoch 34/1000\n",
      "360/360 [==============================] - 24s 67ms/step - loss: 0.2312 - accuracy: 0.6747 - val_loss: 0.6507 - val_accuracy: 0.5928\n",
      "Epoch 35/1000\n",
      "360/360 [==============================] - 24s 67ms/step - loss: 0.2300 - accuracy: 0.6756 - val_loss: 0.5590 - val_accuracy: 0.7015\n",
      "Epoch 36/1000\n",
      "360/360 [==============================] - 24s 66ms/step - loss: 0.2303 - accuracy: 0.6743 - val_loss: 0.5879 - val_accuracy: 0.6794\n",
      "Epoch 37/1000\n",
      "360/360 [==============================] - 23s 64ms/step - loss: 0.2296 - accuracy: 0.6768 - val_loss: 0.5898 - val_accuracy: 0.6701\n",
      "Epoch 38/1000\n",
      "360/360 [==============================] - 23s 65ms/step - loss: 0.2292 - accuracy: 0.6795 - val_loss: 0.6119 - val_accuracy: 0.6636\n",
      "Epoch 39/1000\n",
      "360/360 [==============================] - 24s 66ms/step - loss: 0.2294 - accuracy: 0.6759 - val_loss: 0.5750 - val_accuracy: 0.6779\n",
      "Epoch 40/1000\n",
      "360/360 [==============================] - 23s 65ms/step - loss: 0.2287 - accuracy: 0.6796 - val_loss: 0.5371 - val_accuracy: 0.7297\n",
      "Epoch 41/1000\n",
      "360/360 [==============================] - 24s 65ms/step - loss: 0.2290 - accuracy: 0.6800 - val_loss: 0.6406 - val_accuracy: 0.6352\n",
      "Epoch 42/1000\n",
      "360/360 [==============================] - 24s 65ms/step - loss: 0.2291 - accuracy: 0.6818 - val_loss: 0.6147 - val_accuracy: 0.6612\n",
      "Epoch 43/1000\n",
      "360/360 [==============================] - 23s 64ms/step - loss: 0.2288 - accuracy: 0.6723 - val_loss: 0.5607 - val_accuracy: 0.7040\n",
      "Epoch 44/1000\n",
      "360/360 [==============================] - 23s 64ms/step - loss: 0.2280 - accuracy: 0.6802 - val_loss: 0.5753 - val_accuracy: 0.6825\n",
      "Epoch 45/1000\n",
      "360/360 [==============================] - 23s 63ms/step - loss: 0.2278 - accuracy: 0.6812 - val_loss: 0.5731 - val_accuracy: 0.6861\n",
      "Epoch 46/1000\n",
      "360/360 [==============================] - 23s 64ms/step - loss: 0.2277 - accuracy: 0.6820 - val_loss: 0.5993 - val_accuracy: 0.6609\n",
      "Epoch 47/1000\n",
      "360/360 [==============================] - 23s 64ms/step - loss: 0.2279 - accuracy: 0.6789 - val_loss: 0.5499 - val_accuracy: 0.7017\n",
      "Epoch 48/1000\n",
      "360/360 [==============================] - 23s 65ms/step - loss: 0.2275 - accuracy: 0.6820 - val_loss: 0.5663 - val_accuracy: 0.6944\n",
      "Epoch 49/1000\n",
      "360/360 [==============================] - 24s 66ms/step - loss: 0.2270 - accuracy: 0.6837 - val_loss: 0.6292 - val_accuracy: 0.6442\n",
      "Epoch 50/1000\n",
      "360/360 [==============================] - 23s 65ms/step - loss: 0.2275 - accuracy: 0.6806 - val_loss: 0.6076 - val_accuracy: 0.6472\n",
      "Epoch 51/1000\n",
      "360/360 [==============================] - 24s 65ms/step - loss: 0.2267 - accuracy: 0.6822 - val_loss: 0.5634 - val_accuracy: 0.6974\n",
      "Epoch 52/1000\n",
      "360/360 [==============================] - 24s 65ms/step - loss: 0.2263 - accuracy: 0.6856 - val_loss: 0.5811 - val_accuracy: 0.6833\n",
      "Epoch 53/1000\n",
      "360/360 [==============================] - 23s 65ms/step - loss: 0.2261 - accuracy: 0.6868 - val_loss: 0.6026 - val_accuracy: 0.6579\n",
      "Epoch 54/1000\n",
      "360/360 [==============================] - 24s 65ms/step - loss: 0.2257 - accuracy: 0.6862 - val_loss: 0.5644 - val_accuracy: 0.6889\n",
      "Epoch 55/1000\n",
      "360/360 [==============================] - 24s 65ms/step - loss: 0.2264 - accuracy: 0.6867 - val_loss: 0.5871 - val_accuracy: 0.6883\n",
      "Epoch 56/1000\n",
      "360/360 [==============================] - 24s 65ms/step - loss: 0.2257 - accuracy: 0.6870 - val_loss: 0.5722 - val_accuracy: 0.6794\n"
     ]
    },
    {
     "name": "stdout",
     "output_type": "stream",
     "text": [
      "Epoch 57/1000\n",
      "360/360 [==============================] - 23s 65ms/step - loss: 0.2255 - accuracy: 0.6889 - val_loss: 0.5813 - val_accuracy: 0.6861\n",
      "Epoch 58/1000\n",
      "360/360 [==============================] - 23s 65ms/step - loss: 0.2256 - accuracy: 0.6830 - val_loss: 0.5654 - val_accuracy: 0.6982\n",
      "Epoch 59/1000\n",
      "360/360 [==============================] - 24s 66ms/step - loss: 0.2252 - accuracy: 0.6888 - val_loss: 0.5980 - val_accuracy: 0.6761\n",
      "Epoch 60/1000\n",
      "360/360 [==============================] - 23s 65ms/step - loss: 0.2258 - accuracy: 0.6872 - val_loss: 0.5853 - val_accuracy: 0.6729\n",
      "Epoch 61/1000\n",
      "360/360 [==============================] - 23s 65ms/step - loss: 0.2251 - accuracy: 0.6865 - val_loss: 0.5639 - val_accuracy: 0.6955\n",
      "Epoch 62/1000\n",
      "360/360 [==============================] - 23s 65ms/step - loss: 0.2252 - accuracy: 0.6896 - val_loss: 0.5730 - val_accuracy: 0.7011\n",
      "Epoch 63/1000\n",
      "360/360 [==============================] - 23s 64ms/step - loss: 0.2250 - accuracy: 0.6907 - val_loss: 0.5749 - val_accuracy: 0.6809\n",
      "Epoch 64/1000\n",
      "360/360 [==============================] - 24s 65ms/step - loss: 0.2242 - accuracy: 0.6916 - val_loss: 0.5911 - val_accuracy: 0.6745\n",
      "Epoch 65/1000\n",
      "360/360 [==============================] - 24s 65ms/step - loss: 0.2248 - accuracy: 0.6864 - val_loss: 0.5755 - val_accuracy: 0.6926\n",
      "Epoch 66/1000\n",
      "360/360 [==============================] - 23s 64ms/step - loss: 0.2239 - accuracy: 0.6940 - val_loss: 0.5772 - val_accuracy: 0.6814\n",
      "Epoch 67/1000\n",
      "360/360 [==============================] - 23s 65ms/step - loss: 0.2242 - accuracy: 0.6927 - val_loss: 0.6446 - val_accuracy: 0.6159\n",
      "Epoch 68/1000\n",
      "360/360 [==============================] - 23s 65ms/step - loss: 0.2244 - accuracy: 0.6900 - val_loss: 0.6278 - val_accuracy: 0.6434\n",
      "Epoch 69/1000\n",
      "360/360 [==============================] - 23s 64ms/step - loss: 0.2239 - accuracy: 0.6939 - val_loss: 0.6065 - val_accuracy: 0.6693\n",
      "Epoch 70/1000\n",
      "360/360 [==============================] - 23s 64ms/step - loss: 0.2232 - accuracy: 0.6950 - val_loss: 0.5862 - val_accuracy: 0.6749\n"
     ]
    }
   ],
   "source": [
    "import tensorflow_addons as tfa\n",
    "callback = tf.keras.callbacks.EarlyStopping(monitor='val_loss', patience=30)\n",
    "time_stopping_callback = tfa.callbacks.TimeStopping(seconds=60*60*8, verbose=1) \n",
    "history = model.fit(X_train,y_train,batch_size=200,epochs=1000,\n",
    "                    validation_split=0.1,class_weight=weights,\n",
    "                    use_multiprocessing=True,workers=8,callbacks=[callback,time_stopping_callback])"
   ]
  },
  {
   "cell_type": "code",
   "execution_count": null,
   "id": "c1956bae",
   "metadata": {},
   "outputs": [],
   "source": [
    "model.save(\"lstm_simple_embedding\")"
   ]
  },
  {
   "cell_type": "code",
   "execution_count": 110,
   "id": "1f7484bb",
   "metadata": {
    "ExecuteTime": {
     "end_time": "2022-01-01T17:44:56.939892Z",
     "start_time": "2022-01-01T17:44:56.507606Z"
    }
   },
   "outputs": [
    {
     "data": {
      "image/png": "[encoded data removed]",
      "text/plain": [
       "<Figure size 1600x800 with 1 Axes>"
      ]
     },
     "metadata": {},
     "output_type": "display_data"
    }
   ],
   "source": [
    "import seaborn as sns\n",
    "sns.set_theme()\n",
    "plt.figure(figsize=(20,10), dpi=80)\n",
    "plt.plot(history.history['accuracy'])\n",
    "plt.plot(history.history['val_accuracy'])\n",
    "plt.plot(history.history['loss'])\n",
    "plt.plot(history.history['val_loss'])\n",
    "plt.title('Model Train Metrics')\n",
    "plt.ylabel('Metric')\n",
    "plt.xlabel('Epoch')\n",
    "plt.legend(['acc_train', \"acc_val\",'loss',\"val_loss\"])\n",
    "plt.show()"
   ]
  },
  {
   "cell_type": "code",
   "execution_count": null,
   "id": "eacb29e5",
   "metadata": {},
   "outputs": [],
   "source": [
    "X_test = np.expand_dims(X_test,axis=-1)"
   ]
  },
  {
   "cell_type": "code",
   "execution_count": null,
   "id": "391f75a0",
   "metadata": {},
   "outputs": [],
   "source": [
    "from sklearn.metrics import classification_report\n",
    "y_pred_test = model.predict(X_test)\n",
    "print(classification_report(y_test,y_pred_test.argmax(axis=1)))"
   ]
  },
  {
   "cell_type": "code",
   "execution_count": null,
   "id": "160b8a00",
   "metadata": {},
   "outputs": [],
   "source": [
    "from sklearn.metrics import classification_report\n",
    "y_pred_train = model.predict(X_train)\n",
    "print(classification_report(y_train,y_pred_train.argmax(axis=1)))"
   ]
  },
  {
   "cell_type": "code",
   "execution_count": null,
   "id": "60c55b0e",
   "metadata": {},
   "outputs": [],
   "source": []
  }
 ],
 "metadata": {
  "kernelspec": {
   "display_name": "Python 3",
   "language": "python",
   "name": "python3"
  },
  "language_info": {
   "codemirror_mode": {
    "name": "ipython",
    "version": 3
   },
   "file_extension": ".py",
   "mimetype": "text/x-python",
   "name": "python",
   "nbconvert_exporter": "python",
   "pygments_lexer": "ipython3",
   "version": "3.8.8"
  },
  "toc": {
   "base_numbering": 1,
   "nav_menu": {},
   "number_sections": true,
   "sideBar": true,
   "skip_h1_title": false,
   "title_cell": "Table of Contents",
   "title_sidebar": "Contents",
   "toc_cell": false,
   "toc_position": {},
   "toc_section_display": true,
   "toc_window_display": false
  },
  "varInspector": {
   "cols": {
    "lenName": 16,
    "lenType": 16,
    "lenVar": 40
   },
   "kernels_config": {
    "python": {
     "delete_cmd_postfix": "",
     "delete_cmd_prefix": "del ",
     "library": "var_list.py",
     "varRefreshCmd": "print(var_dic_list())"
    },
    "r": {
     "delete_cmd_postfix": ") ",
     "delete_cmd_prefix": "rm(",
     "library": "var_list.r",
     "varRefreshCmd": "cat(var_dic_list()) "
    }
   },
   "types_to_exclude": [
    "module",
    "function",
    "builtin_function_or_method",
    "instance",
    "_Feature"
   ],
   "window_display": false
  }
 },
 "nbformat": 4,
 "nbformat_minor": 5
}
