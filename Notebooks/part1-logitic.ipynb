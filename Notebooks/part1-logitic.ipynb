{
 "cells": [
  {
   "cell_type": "code",
   "execution_count": 5,
   "metadata": {
    "ExecuteTime": {
     "end_time": "2021-12-03T11:07:09.348451Z",
     "start_time": "2021-12-03T11:07:09.293623Z"
    }
   },
   "outputs": [],
   "source": [
    "from typing import List\n",
    "import nltk\n",
    "import os\n",
    "import numpy as np\n",
    "import pandas as pd\n",
    "import string\n",
    "from sklearn.feature_extraction.text import CountVectorizer\n",
    "from nltk.corpus import stopwords\n",
    "from enchant.checker import SpellChecker\n",
    "# from nltk.stem import WordNetLemmatizer\n",
    "import seaborn as sns\n",
    "import matplotlib.pyplot as plt\n",
    "import swifter\n",
    "import tensorflow.compat.v1 as tf\n",
    "tf.disable_v2_behavior()"
   ]
  },
  {
   "cell_type": "markdown",
   "metadata": {},
   "source": [
    "## Non dynamic learning rate "
   ]
  },
  {
   "cell_type": "code",
   "execution_count": 6,
   "metadata": {
    "ExecuteTime": {
     "end_time": "2021-12-03T11:07:11.354772Z",
     "start_time": "2021-12-03T11:07:11.298927Z"
    },
    "scrolled": true
   },
   "outputs": [],
   "source": [
    "import tensorflow.compat.v1 as tf\n",
    "import numpy as np\n",
    "from typing import List\n",
    "import math\n",
    "\n",
    "tf.disable_v2_behavior()\n",
    "eps = 0.2 #1e-2\n",
    "\n",
    "def save_loss(data: list, filename: str):\n",
    "    with open(filename, 'w') as f:\n",
    "        for item in data:\n",
    "            f.write(\"%s\\n\" % item)\n",
    "\n",
    "\n",
    "class LogisticRegression:\n",
    "    def __init__(self, X_train: np.ndarray, y_train: np.ndarray, x_validation:np.ndarray, y_validation: np.ndarray, epoch=1000, learning_rate=0.0001, batch_size=200):\n",
    "        \"\"\"\n",
    "        weighted logistic regression using cross entropy loss function\n",
    "        :param num_iter:\n",
    "        :param batch_size: -1 means all\n",
    "        \"\"\"\n",
    "        self.losses = []\n",
    "        self.valid_loss = []\n",
    "        self.sess = tf.Session()\n",
    "        features = X_train.shape[1]\n",
    "        self.x = tf.placeholder(tf.float64, [None, features])\n",
    "        y_train_variable = tf.placeholder(tf.float64, [None, 1])\n",
    "        W = tf.Variable(tf.random.uniform([features, 1],dtype=tf.float64))\n",
    "        b = tf.Variable(tf.random.uniform([1],dtype=tf.float64))\n",
    "        self.y = tf.add(tf.matmul(self.x, W), b)\n",
    "        w1_weight = (y_train == 1).sum()    # for imbalance data\n",
    "        w0_weight = (y_train == 0).sum()\n",
    "        # pos_weight multiple the 1 label => targets * -log(sigmoid(logits)) * pos_weight \n",
    "        loss = tf.reduce_mean(tf.nn.weighted_cross_entropy_with_logits(labels= y_train_variable, \n",
    "            logits= tf.cast(self.y, tf.float64), pos_weight=tf.constant((w1_weight+w0_weight)/w1_weight, tf.float64)))\n",
    "        update = tf.train.GradientDescentOptimizer(learning_rate).minimize(loss) \n",
    "        self.sess.run(tf.global_variables_initializer())\n",
    "        rows_num = X_train.shape[0]\n",
    "        for i in range(0, epoch):\n",
    "            for counter_step in range(0, rows_num//batch_size):\n",
    "                X_batch = X_train[counter_step * batch_size:min((counter_step + 1) * batch_size, rows_num)]\n",
    "                Y_batch = y_train[counter_step * batch_size:min((counter_step + 1) * batch_size, rows_num)]\n",
    "                Y_batch = Y_batch.reshape((Y_batch.size, 1))\n",
    "                self.sess.run(update, feed_dict={self.x: X_batch, y_train_variable: Y_batch})\n",
    "            loss_value = self.sess.run(loss, feed_dict={self.x: X_batch, y_train_variable: Y_batch})\n",
    "            loss_value_validation = self.sess.run(loss, feed_dict={self.x:x_validation, y_train_variable: y_validation.reshape(y_validation.size,1)})\n",
    "            print(f\"iteration {i}: loss value is: {loss_value}\")\n",
    "            self.losses.append(loss_value)\n",
    "            self.valid_loss.append(loss_value_validation)\n",
    "        save_loss(self.losses, filename=\"train_error.txt\")\n",
    "        save_loss(self.valid_loss, filename=\"validation_error.txt\")\n",
    "\n",
    "    def predict(self, X_test, thr=0.4):\n",
    "        predictions = self.sess.run(self.y, feed_dict={self.x: X_test})\n",
    "        predictions[predictions >= thr] = 1\n",
    "        predictions[predictions < thr] = 0\n",
    "        return predictions\n"
   ]
  },
  {
   "cell_type": "markdown",
   "metadata": {},
   "source": [
    "## dynamic learning rate"
   ]
  },
  {
   "cell_type": "code",
   "execution_count": 7,
   "metadata": {
    "ExecuteTime": {
     "end_time": "2021-12-03T11:07:12.315056Z",
     "start_time": "2021-12-03T11:07:12.290113Z"
    }
   },
   "outputs": [],
   "source": [
    "import tensorflow.compat.v1 as tf\n",
    "import numpy as np\n",
    "from typing import List\n",
    "import math\n",
    "\n",
    "tf.disable_v2_behavior()\n",
    "eps = 0.2 #1e-2\n",
    "\n",
    "def save_loss(data: list, filename: str):\n",
    "    with open(filename, 'w') as f:\n",
    "        for item in data:\n",
    "            f.write(\"%s\\n\" % item)\n",
    "\n",
    "\n",
    "class LogisticRegression:\n",
    "    def __init__(self, X_train: np.ndarray, y_train: np.ndarray,x_validation:np.ndarray, y_validation: np.ndarray, epoch=1000, learning_rate=0.0001, batch_size=200):\n",
    "        \"\"\"\n",
    "        weighted logistic regression using cross entropy loss function\n",
    "        :param num_iter:\n",
    "        :param batch_size: -1 means all\n",
    "        \"\"\"\n",
    "        self.losses = []\n",
    "        self.valid_loss = []\n",
    "        self.sess = tf.Session()\n",
    "        lr = learning_rate\n",
    "        learning_rate_tensor = tf.placeholder(tf.float64, shape=[])  # tensor for implement dynamic learning rate \n",
    "        features = X_train.shape[1]\n",
    "        self.x = tf.placeholder(tf.float64, [None, features])\n",
    "        y_train_variable = tf.placeholder(tf.float64, [None, 1])\n",
    "        W = tf.Variable(tf.random.uniform([features, 1],dtype=tf.float64))\n",
    "        b = tf.Variable(tf.random.uniform([1],dtype=tf.float64))\n",
    "        self.y = tf.add(tf.matmul(self.x, W), b)\n",
    "        w1_weight = (y_train == 1).sum()    # for imbalance data\n",
    "        w0_weight = (y_train == 0).sum()\n",
    "        # pos_weight multiple the 1 label => targets * -log(sigmoid(logits)) * pos_weight \n",
    "        loss = tf.reduce_mean(tf.nn.weighted_cross_entropy_with_logits(labels= y_train_variable, logits= tf.cast(self.y, tf.float64), \n",
    "                                                            pos_weight=tf.constant((w1_weight+w0_weight)/w1_weight, tf.float64)))\n",
    "#         loss = tf.reduce_mean(tf.nn.sigmoid_cross_entropy_with_logits(labels= y_train_variable, logits= tf.cast(self.y, tf.float64))) #,pos_weight=tf.constant((w1_weight+w0_weight)/w1_weight, tf.float64)))\n",
    "        update = tf.train.GradientDescentOptimizer(learning_rate = learning_rate_tensor).minimize(loss) \n",
    "#         update = tf.train.GradientDescentOptimizer(learning_rate).minimize(loss) \n",
    "        self.sess.run(tf.global_variables_initializer())\n",
    "        rows_num = X_train.shape[0]\n",
    "        for i in range(0, epoch):\n",
    "            for counter_step in range(0, rows_num//batch_size):\n",
    "                X_batch = X_train[counter_step * batch_size:min((counter_step + 1) * batch_size, rows_num)]\n",
    "                Y_batch = y_train[counter_step * batch_size:min((counter_step + 1) * batch_size, rows_num)]\n",
    "                Y_batch = Y_batch.reshape((Y_batch.size, 1))\n",
    "                self.sess.run(update, feed_dict={self.x: X_batch, y_train_variable: Y_batch, learning_rate_tensor:lr})\n",
    "            loss_value = self.sess.run(loss, feed_dict={self.x: X_batch, y_train_variable: Y_batch})\n",
    "            loss_value_validation = self.sess.run(loss, feed_dict={self.x:x_validation, y_train_variable: y_validation.reshape(y_validation.size,1)})\n",
    "            print(f\"iteration {i}: loss value is: {loss_value}\")\n",
    "            self.losses.append(loss_value)\n",
    "            self.valid_loss.append(loss_value_validation)\n",
    "            if  self.losses[i] > self.losses[i-1]:  # check if the loss divergence\n",
    "                print(\"=====change learning rate=========\")\n",
    "                lr = lr/10\n",
    "        save_loss(self.losses, filename=\"train_error.txt\")\n",
    "        save_loss(self.valid_loss, filename=\"validation_error.txt\")\n",
    "\n",
    "    def predict(self, X_test, thr=0.5):\n",
    "        predictions = self.sess.run(self.y, feed_dict={self.x: X_test})\n",
    "        predictions[predictions >= thr] = 1\n",
    "        predictions[predictions < thr] = 0\n",
    "        return predictions"
   ]
  },
  {
   "cell_type": "code",
   "execution_count": null,
   "metadata": {},
   "outputs": [],
   "source": []
  },
  {
   "cell_type": "markdown",
   "metadata": {},
   "source": [
    "# read and split the data "
   ]
  },
  {
   "cell_type": "code",
   "execution_count": 8,
   "metadata": {
    "ExecuteTime": {
     "end_time": "2021-12-03T11:07:15.084374Z",
     "start_time": "2021-12-03T11:07:14.530345Z"
    }
   },
   "outputs": [],
   "source": [
    "from sklearn.utils import shuffle\n",
    "df= pd.read_csv(\"../Data/ver1.csv\", index_col=False)\n",
    "df = df.dropna()\n",
    "df = shuffle(df)\n",
    "df.drop([\"Unnamed: 0\", \"index\"],axis=1, inplace = True)\n",
    "X = df[\"Text\"]\n",
    "y= df[\"oh_label\"]"
   ]
  },
  {
   "cell_type": "code",
   "execution_count": 9,
   "metadata": {
    "ExecuteTime": {
     "end_time": "2021-12-03T11:07:15.272804Z",
     "start_time": "2021-12-03T11:07:15.161132Z"
    }
   },
   "outputs": [
    {
     "data": {
      "image/png": "[encoded data removed]",
      "text/plain": [
       "<Figure size 432x288 with 1 Axes>"
      ]
     },
     "metadata": {},
     "output_type": "display_data"
    }
   ],
   "source": [
    "import matplotlib.pyplot as plt\n",
    "import seaborn as sns\n",
    "fig1, ax1 = plt.subplots()\n",
    "ax1.pie(y.value_counts(), explode=(0, 0.1), labels=[\"ok\",\"bullying\"], autopct='%1.1f%%',\n",
    "        shadow=True, startangle=90)\n",
    "ax1.axis('equal') \n",
    "plt.show()"
   ]
  },
  {
   "cell_type": "code",
   "execution_count": 10,
   "metadata": {
    "ExecuteTime": {
     "end_time": "2021-12-03T11:07:15.961944Z",
     "start_time": "2021-12-03T11:07:15.862104Z"
    }
   },
   "outputs": [],
   "source": [
    "from sklearn.metrics import classification_report\n",
    "from sklearn.model_selection import train_test_split\n",
    "x_train, x_test, y_train, y_test = train_test_split(X, y, test_size=0.3, random_state=1,stratify = y)\n",
    "x_test, x_validation, y_test, y_validation = train_test_split(x_test, y_test, test_size=0.5, random_state=1)"
   ]
  },
  {
   "cell_type": "code",
   "execution_count": 11,
   "metadata": {
    "ExecuteTime": {
     "end_time": "2021-12-03T11:07:16.860415Z",
     "start_time": "2021-12-03T11:07:16.787345Z"
    }
   },
   "outputs": [
    {
     "data": {
      "image/png": "[encoded data removed]",
      "text/plain": [
       "<Figure size 432x288 with 1 Axes>"
      ]
     },
     "metadata": {},
     "output_type": "display_data"
    }
   ],
   "source": [
    "import matplotlib.pyplot as plt\n",
    "import seaborn as sns\n",
    "fig1, ax1 = plt.subplots()\n",
    "ax1.pie(y_train.value_counts(), explode = [0,0.1], labels=[\"not bulling\", \"bulling\"], autopct='%1.1f%%',\n",
    "        shadow=True, startangle=90)\n",
    "ax1.axis('equal')\n",
    "plt.title(\"Data distribution\")\n",
    "plt.show()"
   ]
  },
  {
   "cell_type": "code",
   "execution_count": 12,
   "metadata": {
    "ExecuteTime": {
     "end_time": "2021-12-03T11:07:17.536084Z",
     "start_time": "2021-12-03T11:07:17.514202Z"
    }
   },
   "outputs": [
    {
     "data": {
      "text/plain": [
       "(3.7353853049942103, 1.3655792104221005)"
      ]
     },
     "execution_count": 12,
     "metadata": {},
     "output_type": "execute_result"
    }
   ],
   "source": [
    "label_0_weight = y.size / (y == 0).sum()\n",
    "label_1_weight = y.size / (y == 1).sum()\n",
    "label_1_weight,label_0_weight"
   ]
  },
  {
   "cell_type": "code",
   "execution_count": 13,
   "metadata": {
    "ExecuteTime": {
     "end_time": "2021-12-03T11:07:26.217507Z",
     "start_time": "2021-12-03T11:07:22.214496Z"
    }
   },
   "outputs": [],
   "source": [
    "from sklearn.feature_extraction.text import CountVectorizer\n",
    "import re\n",
    "\n",
    "def preprocess_text(text):\n",
    "    text = text.lower()\n",
    "    text = re.sub(r'\\d+', '', text)\n",
    "    return text\n",
    "\n",
    "count_vect = CountVectorizer(min_df=0.001, lowercase=True,stop_words='english',preprocessor=preprocess_text) #max_features=1000\n",
    "X_train_counts = count_vect.fit_transform(x_train)\n",
    "x_train = pd.DataFrame(X_train_counts.toarray(), columns=count_vect.get_feature_names())"
   ]
  },
  {
   "cell_type": "code",
   "execution_count": 14,
   "metadata": {
    "ExecuteTime": {
     "end_time": "2021-12-03T11:07:32.002745Z",
     "start_time": "2021-12-03T11:07:31.165140Z"
    }
   },
   "outputs": [],
   "source": [
    "X_test_counts = count_vect.transform(x_test)\n",
    "x_test = pd.DataFrame(X_test_counts.toarray(), columns=count_vect.get_feature_names())"
   ]
  },
  {
   "cell_type": "code",
   "execution_count": 15,
   "metadata": {
    "ExecuteTime": {
     "end_time": "2021-12-03T11:07:32.858648Z",
     "start_time": "2021-12-03T11:07:32.004714Z"
    }
   },
   "outputs": [],
   "source": [
    "X_validation_counts = count_vect.transform(x_validation)\n",
    "x_validation = pd.DataFrame(X_validation_counts.toarray(), columns=count_vect.get_feature_names())"
   ]
  },
  {
   "cell_type": "code",
   "execution_count": 16,
   "metadata": {
    "ExecuteTime": {
     "end_time": "2021-12-03T11:07:32.874729Z",
     "start_time": "2021-12-03T11:07:32.860283Z"
    }
   },
   "outputs": [],
   "source": [
    "# from sklearn.utils import shuffle\n",
    "# X_1 = pd.read_csv(\"../Data/log_1.csv\", index_col=0)\n",
    "# X_1 = shuffle(X_1)\n",
    "# X_1 = X_1.loc[(X_1.sum(axis=1) != 0),:]\n",
    "# X_1 = X_1.loc[(X_1.sum(axis=1) != 1),:]\n",
    "# X_1 = X_1.loc[:,(X_1.sum(axis=0) != 0)]\n",
    "# y = X_1[\"oh_label\"]"
   ]
  },
  {
   "cell_type": "code",
   "execution_count": 17,
   "metadata": {
    "ExecuteTime": {
     "end_time": "2021-12-03T11:07:38.976861Z",
     "start_time": "2021-12-03T11:07:32.875684Z"
    }
   },
   "outputs": [],
   "source": [
    "from sklearn.preprocessing import StandardScaler\n",
    "scaler_train = StandardScaler()\n",
    "scaler_train.fit(x_train)\n",
    "x_train = scaler_train.transform(x_train)\n",
    "x_test = scaler_train.transform(x_test)\n",
    "x_validation = scaler_train.transform(x_validation)"
   ]
  },
  {
   "cell_type": "code",
   "execution_count": 18,
   "metadata": {
    "ExecuteTime": {
     "end_time": "2021-12-03T11:07:38.992820Z",
     "start_time": "2021-12-03T11:07:38.978858Z"
    }
   },
   "outputs": [],
   "source": [
    "# import matplotlib.pyplot as plt\n",
    "# import seaborn as sns\n",
    "# fig1, ax1 = plt.subplots()\n",
    "# ax1.pie([70, 15, 15], explode = [0,0.1,0.1], labels=[\"train\",\"test\",\"validation\"], autopct='%1.1f%%',\n",
    "#         shadow=True, startangle=90)\n",
    "# ax1.axis('equal') \n",
    "# plt.show()"
   ]
  },
  {
   "cell_type": "code",
   "execution_count": 19,
   "metadata": {
    "ExecuteTime": {
     "end_time": "2021-12-03T11:07:39.008809Z",
     "start_time": "2021-12-03T11:07:38.995814Z"
    }
   },
   "outputs": [],
   "source": [
    "# X_1.drop(\"oh_label\",axis=1, inplace = True)\n",
    "# X = X_1"
   ]
  },
  {
   "cell_type": "code",
   "execution_count": 20,
   "metadata": {
    "ExecuteTime": {
     "end_time": "2021-12-03T11:07:39.024732Z",
     "start_time": "2021-12-03T11:07:39.011781Z"
    }
   },
   "outputs": [
    {
     "data": {
      "text/plain": [
       "(17.356806347632034, 1.3655872024970737)"
      ]
     },
     "execution_count": 20,
     "metadata": {},
     "output_type": "execute_result"
    }
   ],
   "source": [
    "label_0_weight = y_train.size / (y_train == 0).sum()\n",
    "label_1_weight = y_train.size / (y_test == 1).sum()\n",
    "label_1_weight,label_0_weight"
   ]
  },
  {
   "cell_type": "code",
   "execution_count": 21,
   "metadata": {
    "ExecuteTime": {
     "end_time": "2021-12-03T11:07:42.200994Z",
     "start_time": "2021-12-03T11:07:42.125195Z"
    }
   },
   "outputs": [
    {
     "data": {
      "image/png": "[encoded data removed]",
      "text/plain": [
       "<Figure size 432x288 with 1 Axes>"
      ]
     },
     "metadata": {},
     "output_type": "display_data"
    }
   ],
   "source": [
    "import matplotlib.pyplot as plt\n",
    "import seaborn as sns\n",
    "fig1, ax1 = plt.subplots()\n",
    "ax1.pie(y_train.value_counts(), explode = [0,0.1], labels=[\"not bulling\", \"bulling\"], autopct='%1.1f%%',\n",
    "        shadow=True, startangle=90)\n",
    "ax1.axis('equal')\n",
    "plt.title(\"Data distribution\")\n",
    "plt.show()"
   ]
  },
  {
   "cell_type": "code",
   "execution_count": 22,
   "metadata": {
    "ExecuteTime": {
     "end_time": "2021-12-03T11:07:44.796964Z",
     "start_time": "2021-12-03T11:07:44.748061Z"
    }
   },
   "outputs": [
    {
     "name": "stdout",
     "output_type": "stream",
     "text": [
      "Counter({0.0: 51260, 1.0: 18740})\n"
     ]
    }
   ],
   "source": [
    "# from sklearn.linear_model import SGDClassifier\n",
    "# logmodel = SGDClassifier(max_iter=80,loss='log', class_weight= \"balanced\", random_state=42)\n",
    "# logmodel.fit(x_train,y_train)\n",
    "# predictions = logmodel.predict(x_test)\n",
    "# print(classification_report(y_test,predictions,zero_division=0))\n",
    "from collections import Counter\n",
    "print(Counter(y_train))"
   ]
  },
  {
   "cell_type": "code",
   "execution_count": 23,
   "metadata": {
    "ExecuteTime": {
     "end_time": "2021-12-03T11:07:44.906727Z",
     "start_time": "2021-12-03T11:07:44.893718Z"
    }
   },
   "outputs": [],
   "source": [
    "# oversample implementation\n",
    "# from imblearn.over_sampling import SMOTE\n",
    "\n",
    "# from imblearn import under_sampling, over_sampling\n",
    "# from imblearn.over_sampling import RandomOverSampler \n",
    "# oversample = RandomOverSampler(random_state=42,sampling_strategy=0.9)\n",
    "# x_train, y_train = oversample.fit_resample(x_train, y_train)"
   ]
  },
  {
   "cell_type": "code",
   "execution_count": 24,
   "metadata": {
    "ExecuteTime": {
     "end_time": "2021-12-03T11:07:45.504215Z",
     "start_time": "2021-12-03T11:07:45.469352Z"
    }
   },
   "outputs": [
    {
     "data": {
      "text/plain": [
       "(17.356806347632034, 1.3655872024970737)"
      ]
     },
     "execution_count": 24,
     "metadata": {},
     "output_type": "execute_result"
    }
   ],
   "source": [
    "label_0_weight = y_train.size / (y_train == 0).sum()\n",
    "label_1_weight = y_train.size / (y_test == 1).sum()\n",
    "label_1_weight,label_0_weight"
   ]
  },
  {
   "cell_type": "code",
   "execution_count": 25,
   "metadata": {
    "ExecuteTime": {
     "end_time": "2021-12-03T11:07:46.604035Z",
     "start_time": "2021-12-03T11:07:46.505523Z"
    }
   },
   "outputs": [
    {
     "data": {
      "image/png": "[encoded data removed]",
      "text/plain": [
       "<Figure size 432x288 with 1 Axes>"
      ]
     },
     "metadata": {},
     "output_type": "display_data"
    }
   ],
   "source": [
    "import matplotlib.pyplot as plt\n",
    "import seaborn as sns\n",
    "fig1, ax1 = plt.subplots()\n",
    "ax1.pie(y_train.value_counts(), explode = [0,0.1], labels=[\"not bulling\", \"bulling\"], autopct='%1.1f%%',\n",
    "        shadow=True, startangle=90)\n",
    "ax1.axis('equal')\n",
    "plt.title(\"Data distribution\")\n",
    "plt.show()"
   ]
  },
  {
   "cell_type": "code",
   "execution_count": 26,
   "metadata": {
    "ExecuteTime": {
     "end_time": "2021-12-03T11:07:49.244243Z",
     "start_time": "2021-12-03T11:07:49.209319Z"
    }
   },
   "outputs": [
    {
     "name": "stdout",
     "output_type": "stream",
     "text": [
      "Counter({0.0: 51260, 1.0: 18740})\n"
     ]
    }
   ],
   "source": [
    "from collections import Counter\n",
    "print(Counter(y_train))"
   ]
  },
  {
   "cell_type": "code",
   "execution_count": 27,
   "metadata": {
    "ExecuteTime": {
     "end_time": "2021-12-03T11:07:53.956927Z",
     "start_time": "2021-12-03T11:07:53.293769Z"
    }
   },
   "outputs": [],
   "source": [
    "fx_train = np.concatenate((x_train,x_validation),axis=0) \n",
    "fy_train = np.concatenate((y_train, y_validation), axis=0)"
   ]
  },
  {
   "cell_type": "code",
   "execution_count": 24,
   "metadata": {
    "ExecuteTime": {
     "end_time": "2021-11-30T09:43:58.287794Z",
     "start_time": "2021-11-30T09:42:34.512874Z"
    }
   },
   "outputs": [
    {
     "name": "stdout",
     "output_type": "stream",
     "text": [
      "iteration 0: loss value is: 6.366030320058719\n",
      "iteration 1: loss value is: 3.8952062709712685\n",
      "iteration 2: loss value is: 2.8032195819653403\n",
      "iteration 3: loss value is: 2.110885058389334\n",
      "iteration 4: loss value is: 1.7525889395297423\n",
      "iteration 5: loss value is: 1.5641546228942715\n",
      "iteration 6: loss value is: 1.4523804037209223\n",
      "iteration 7: loss value is: 1.3058009122077778\n",
      "iteration 8: loss value is: 1.166264216105364\n",
      "iteration 9: loss value is: 1.0363911355408055\n",
      "iteration 10: loss value is: 0.9430107572786597\n",
      "iteration 11: loss value is: 0.8559209132761809\n",
      "iteration 12: loss value is: 0.7947994082119504\n",
      "iteration 13: loss value is: 0.7449569774763694\n",
      "iteration 14: loss value is: 0.7033389910096934\n",
      "iteration 15: loss value is: 0.672762984614823\n",
      "iteration 16: loss value is: 0.6558174953604802\n",
      "iteration 17: loss value is: 0.6242823800089122\n",
      "iteration 18: loss value is: 0.6175451449241397\n",
      "iteration 19: loss value is: 0.5926970463425582\n",
      "iteration 20: loss value is: 0.5915918836305479\n",
      "iteration 21: loss value is: 0.5724451924452737\n",
      "iteration 22: loss value is: 0.5742234028117257\n",
      "=====change learning rate=========\n",
      "iteration 23: loss value is: 0.5740676160794942\n",
      "iteration 24: loss value is: 0.5764852422626531\n",
      "=====change learning rate=========\n",
      "iteration 25: loss value is: 0.5767534357173935\n",
      "=====change learning rate=========\n",
      "iteration 26: loss value is: 0.5767803461791874\n",
      "=====change learning rate=========\n",
      "iteration 27: loss value is: 0.5767830381313863\n",
      "=====change learning rate=========\n",
      "iteration 28: loss value is: 0.5767833073356661\n",
      "=====change learning rate=========\n",
      "iteration 29: loss value is: 0.576783334256185\n",
      "=====change learning rate=========\n",
      "iteration 30: loss value is: 0.576783336948238\n",
      "=====change learning rate=========\n",
      "iteration 31: loss value is: 0.5767833372174427\n",
      "=====change learning rate=========\n",
      "iteration 32: loss value is: 0.576783337244363\n",
      "=====change learning rate=========\n",
      "iteration 33: loss value is: 0.5767833372470552\n",
      "=====change learning rate=========\n",
      "iteration 34: loss value is: 0.5767833372473244\n",
      "=====change learning rate=========\n",
      "iteration 35: loss value is: 0.5767833372473514\n",
      "=====change learning rate=========\n",
      "iteration 36: loss value is: 0.5767833372473542\n",
      "=====change learning rate=========\n",
      "iteration 37: loss value is: 0.5767833372473552\n",
      "=====change learning rate=========\n",
      "iteration 38: loss value is: 0.5767833372473554\n",
      "=====change learning rate=========\n",
      "iteration 39: loss value is: 0.5767833372473554\n",
      "iteration 40: loss value is: 0.5767833372473554\n",
      "iteration 41: loss value is: 0.5767833372473554\n",
      "iteration 42: loss value is: 0.5767833372473554\n",
      "iteration 43: loss value is: 0.5767833372473554\n",
      "iteration 44: loss value is: 0.5767833372473554\n",
      "iteration 45: loss value is: 0.5767833372473553\n",
      "iteration 46: loss value is: 0.5767833372473553\n",
      "iteration 47: loss value is: 0.5767833372473553\n",
      "iteration 48: loss value is: 0.5767833372473553\n",
      "iteration 49: loss value is: 0.5767833372473553\n",
      "iteration 50: loss value is: 0.5767833372473552\n",
      "iteration 51: loss value is: 0.5767833372473552\n",
      "iteration 52: loss value is: 0.5767833372473552\n",
      "iteration 53: loss value is: 0.5767833372473552\n",
      "iteration 54: loss value is: 0.5767833372473553\n",
      "=====change learning rate=========\n",
      "iteration 55: loss value is: 0.5767833372473553\n",
      "iteration 56: loss value is: 0.5767833372473553\n",
      "iteration 57: loss value is: 0.5767833372473553\n",
      "iteration 58: loss value is: 0.5767833372473553\n",
      "iteration 59: loss value is: 0.5767833372473553\n",
      "iteration 60: loss value is: 0.5767833372473553\n",
      "iteration 61: loss value is: 0.5767833372473553\n",
      "iteration 62: loss value is: 0.5767833372473553\n",
      "iteration 63: loss value is: 0.5767833372473553\n",
      "iteration 64: loss value is: 0.5767833372473553\n",
      "iteration 65: loss value is: 0.5767833372473553\n",
      "iteration 66: loss value is: 0.5767833372473553\n",
      "iteration 67: loss value is: 0.5767833372473553\n",
      "iteration 68: loss value is: 0.5767833372473553\n",
      "iteration 69: loss value is: 0.5767833372473553\n",
      "iteration 70: loss value is: 0.5767833372473553\n",
      "iteration 71: loss value is: 0.5767833372473553\n",
      "iteration 72: loss value is: 0.5767833372473553\n",
      "iteration 73: loss value is: 0.5767833372473553\n",
      "iteration 74: loss value is: 0.5767833372473553\n",
      "iteration 75: loss value is: 0.5767833372473553\n",
      "iteration 76: loss value is: 0.5767833372473553\n",
      "iteration 77: loss value is: 0.5767833372473553\n",
      "iteration 78: loss value is: 0.5767833372473553\n",
      "iteration 79: loss value is: 0.5767833372473553\n",
      "              precision    recall  f1-score   support\n",
      "\n",
      "         0.0       0.90      0.85      0.87     10967\n",
      "         1.0       0.64      0.76      0.70      4033\n",
      "\n",
      "    accuracy                           0.82     15000\n",
      "   macro avg       0.77      0.80      0.79     15000\n",
      "weighted avg       0.83      0.82      0.83     15000\n",
      "\n"
     ]
    }
   ],
   "source": [
    "import seaborn as sns\n",
    "logistic = LogisticRegression(fx_train,fy_train, x_validation, y_validation.values,epoch=80,learning_rate=0.01,batch_size=100)\n",
    "predictions = logistic.predict(x_test)\n",
    "print(classification_report(y_test, predictions))"
   ]
  },
  {
   "cell_type": "code",
   "execution_count": 75,
   "metadata": {
    "ExecuteTime": {
     "end_time": "2021-11-30T20:41:12.801117Z",
     "start_time": "2021-11-30T20:41:12.761997Z"
    }
   },
   "outputs": [
    {
     "ename": "NameError",
     "evalue": "name 'predictions' is not defined",
     "output_type": "error",
     "traceback": [
      "\u001b[1;31m---------------------------------------------------------------------------\u001b[0m",
      "\u001b[1;31mNameError\u001b[0m                                 Traceback (most recent call last)",
      "\u001b[1;32m<ipython-input-75-0b953dff7efa>\u001b[0m in \u001b[0;36m<module>\u001b[1;34m\u001b[0m\n\u001b[1;32m----> 1\u001b[1;33m \u001b[0mclf_report\u001b[0m \u001b[1;33m=\u001b[0m \u001b[0mclassification_report\u001b[0m\u001b[1;33m(\u001b[0m\u001b[0my_test\u001b[0m\u001b[1;33m,\u001b[0m \u001b[0mpredictions\u001b[0m\u001b[1;33m,\u001b[0m \u001b[0moutput_dict\u001b[0m\u001b[1;33m=\u001b[0m\u001b[1;32mTrue\u001b[0m\u001b[1;33m)\u001b[0m\u001b[1;33m\u001b[0m\u001b[1;33m\u001b[0m\u001b[0m\n\u001b[0m\u001b[0;32m      2\u001b[0m \u001b[0msns\u001b[0m\u001b[1;33m.\u001b[0m\u001b[0mheatmap\u001b[0m\u001b[1;33m(\u001b[0m\u001b[0mpd\u001b[0m\u001b[1;33m.\u001b[0m\u001b[0mDataFrame\u001b[0m\u001b[1;33m(\u001b[0m\u001b[0mclf_report\u001b[0m\u001b[1;33m)\u001b[0m\u001b[1;33m.\u001b[0m\u001b[0miloc\u001b[0m\u001b[1;33m[\u001b[0m\u001b[1;33m:\u001b[0m\u001b[1;33m-\u001b[0m\u001b[1;36m1\u001b[0m\u001b[1;33m,\u001b[0m \u001b[1;33m:\u001b[0m\u001b[1;33m-\u001b[0m\u001b[1;36m3\u001b[0m\u001b[1;33m]\u001b[0m\u001b[1;33m.\u001b[0m\u001b[0mT\u001b[0m\u001b[1;33m,\u001b[0m \u001b[0mannot\u001b[0m\u001b[1;33m=\u001b[0m\u001b[1;32mTrue\u001b[0m\u001b[1;33m)\u001b[0m\u001b[1;33m\u001b[0m\u001b[1;33m\u001b[0m\u001b[0m\n\u001b[0;32m      3\u001b[0m \u001b[0mclf_report\u001b[0m\u001b[1;33m[\u001b[0m\u001b[1;34m\"accuracy\"\u001b[0m\u001b[1;33m]\u001b[0m\u001b[1;33m\u001b[0m\u001b[1;33m\u001b[0m\u001b[0m\n",
      "\u001b[1;31mNameError\u001b[0m: name 'predictions' is not defined"
     ]
    }
   ],
   "source": [
    "clf_report = classification_report(y_test, predictions, output_dict=True)\n",
    "sns.heatmap(pd.DataFrame(clf_report).iloc[:-1, :-3].T, annot=True)\n",
    "clf_report[\"accuracy\"]"
   ]
  },
  {
   "cell_type": "code",
   "execution_count": 76,
   "metadata": {
    "ExecuteTime": {
     "end_time": "2021-11-30T20:41:15.277648Z",
     "start_time": "2021-11-30T20:41:15.237756Z"
    }
   },
   "outputs": [
    {
     "ename": "NameError",
     "evalue": "name 'predictions' is not defined",
     "output_type": "error",
     "traceback": [
      "\u001b[1;31m---------------------------------------------------------------------------\u001b[0m",
      "\u001b[1;31mNameError\u001b[0m                                 Traceback (most recent call last)",
      "\u001b[1;32m<ipython-input-76-c20a69cb3e5e>\u001b[0m in \u001b[0;36m<module>\u001b[1;34m\u001b[0m\n\u001b[0;32m      1\u001b[0m \u001b[1;32mfrom\u001b[0m \u001b[0msklearn\u001b[0m\u001b[1;33m.\u001b[0m\u001b[0mmetrics\u001b[0m \u001b[1;32mimport\u001b[0m \u001b[0mconfusion_matrix\u001b[0m\u001b[1;33m\u001b[0m\u001b[1;33m\u001b[0m\u001b[0m\n\u001b[1;32m----> 2\u001b[1;33m \u001b[0mcc\u001b[0m \u001b[1;33m=\u001b[0m \u001b[0mconfusion_matrix\u001b[0m\u001b[1;33m(\u001b[0m\u001b[0my_validation\u001b[0m\u001b[1;33m,\u001b[0m \u001b[0mpredictions\u001b[0m\u001b[1;33m,\u001b[0m \u001b[0mlabels\u001b[0m\u001b[1;33m=\u001b[0m\u001b[1;33m[\u001b[0m\u001b[1;36m0\u001b[0m\u001b[1;33m,\u001b[0m \u001b[1;36m1\u001b[0m\u001b[1;33m]\u001b[0m\u001b[1;33m)\u001b[0m\u001b[1;33m\u001b[0m\u001b[1;33m\u001b[0m\u001b[0m\n\u001b[0m\u001b[0;32m      3\u001b[0m \u001b[0msns\u001b[0m\u001b[1;33m.\u001b[0m\u001b[0mheatmap\u001b[0m\u001b[1;33m(\u001b[0m\u001b[0mcc\u001b[0m\u001b[1;33m,\u001b[0m \u001b[0mannot\u001b[0m\u001b[1;33m=\u001b[0m\u001b[1;32mTrue\u001b[0m\u001b[1;33m,\u001b[0m \u001b[0mfmt\u001b[0m\u001b[1;33m=\u001b[0m\u001b[1;34m\"g\"\u001b[0m\u001b[1;33m,\u001b[0m \u001b[0mcmap\u001b[0m\u001b[1;33m=\u001b[0m\u001b[1;34m'Blues'\u001b[0m\u001b[1;33m)\u001b[0m\u001b[1;33m\u001b[0m\u001b[1;33m\u001b[0m\u001b[0m\n\u001b[0;32m      4\u001b[0m \u001b[0mplt\u001b[0m\u001b[1;33m.\u001b[0m\u001b[0mxlabel\u001b[0m\u001b[1;33m(\u001b[0m\u001b[1;34m\"Predicted label\"\u001b[0m\u001b[1;33m)\u001b[0m\u001b[1;33m\u001b[0m\u001b[1;33m\u001b[0m\u001b[0m\n\u001b[0;32m      5\u001b[0m \u001b[0mplt\u001b[0m\u001b[1;33m.\u001b[0m\u001b[0mtitle\u001b[0m\u001b[1;33m(\u001b[0m\u001b[1;34m\"Confusion Matrix\"\u001b[0m\u001b[1;33m)\u001b[0m\u001b[1;33m\u001b[0m\u001b[1;33m\u001b[0m\u001b[0m\n",
      "\u001b[1;31mNameError\u001b[0m: name 'predictions' is not defined"
     ]
    }
   ],
   "source": [
    "from sklearn.metrics import confusion_matrix\n",
    "cc = confusion_matrix(y_validation, predictions, labels=[0, 1])\n",
    "sns.heatmap(cc, annot=True, fmt=\"g\", cmap='Blues')\n",
    "plt.xlabel(\"Predicted label\")\n",
    "plt.title(\"Confusion Matrix\")\n",
    "plt.ylabel(\"True label\")"
   ]
  },
  {
   "cell_type": "code",
   "execution_count": 77,
   "metadata": {
    "ExecuteTime": {
     "end_time": "2021-11-30T20:41:18.923521Z",
     "start_time": "2021-11-30T20:41:18.533622Z"
    }
   },
   "outputs": [
    {
     "data": {
      "image/png": "[encoded data removed]",
      "text/plain": [
       "<Figure size 1332x756 with 1 Axes>"
      ]
     },
     "metadata": {
      "needs_background": "light"
     },
     "output_type": "display_data"
    }
   ],
   "source": [
    "import matplotlib.pyplot as plt \n",
    "fig = plt.figure()\n",
    "fig.set_size_inches(18.5, 10.5)\n",
    "data_train = np.loadtxt(\"train_error.txt\")\n",
    "data_validation = np.loadtxt(\"validation_error.txt\")\n",
    "plt.plot(data_train,color='g',label='train_error')\n",
    "plt.plot(data_validation,color='k',label='validation_error')\n",
    "plt.xlabel(\"epoch\", fontsize=18)\n",
    "plt.ylabel(\"loss value\",fontsize=18)\n",
    "plt.title(\"Loss Function\", fontsize = 25)\n",
    "plt.legend()\n",
    "plt.show()"
   ]
  },
  {
   "cell_type": "code",
   "execution_count": 78,
   "metadata": {
    "ExecuteTime": {
     "end_time": "2021-11-30T20:41:19.438736Z",
     "start_time": "2021-11-30T20:41:19.429569Z"
    }
   },
   "outputs": [],
   "source": [
    "from sklearn.metrics import confusion_matrix\n",
    "import matplotlib.pyplot as plt \n"
   ]
  },
  {
   "cell_type": "code",
   "execution_count": null,
   "metadata": {},
   "outputs": [],
   "source": []
  },
  {
   "cell_type": "code",
   "execution_count": null,
   "metadata": {},
   "outputs": [],
   "source": []
  },
  {
   "cell_type": "code",
   "execution_count": null,
   "metadata": {},
   "outputs": [],
   "source": []
  },
  {
   "cell_type": "code",
   "execution_count": 39,
   "metadata": {
    "ExecuteTime": {
     "end_time": "2021-12-03T11:38:17.956622Z",
     "start_time": "2021-12-03T11:38:17.938730Z"
    }
   },
   "outputs": [],
   "source": [
    "from sklearn.metrics import confusion_matrix"
   ]
  },
  {
   "cell_type": "markdown",
   "metadata": {},
   "source": [
    "# MLP"
   ]
  },
  {
   "cell_type": "code",
   "execution_count": 28,
   "metadata": {
    "ExecuteTime": {
     "end_time": "2021-12-03T11:08:17.671908Z",
     "start_time": "2021-12-03T11:08:17.660981Z"
    }
   },
   "outputs": [],
   "source": [
    "y_test = y_test.values\n",
    "y_test = y_test.reshape((y_test.size,1))\n",
    "y_train = y_train.values\n",
    "y_train = y_train.reshape((y_train.size,1))\n",
    "y_validation = y_validation.values\n",
    "y_validation = y_validation.reshape((y_validation.size,1))"
   ]
  },
  {
   "cell_type": "code",
   "execution_count": 29,
   "metadata": {
    "ExecuteTime": {
     "end_time": "2021-12-03T11:08:32.129654Z",
     "start_time": "2021-12-03T11:08:32.113624Z"
    }
   },
   "outputs": [],
   "source": [
    "learning_rate = 0.01\n",
    "epoch=100\n",
    "batch_size=200"
   ]
  },
  {
   "cell_type": "code",
   "execution_count": 35,
   "metadata": {
    "ExecuteTime": {
     "end_time": "2021-12-03T11:13:50.077077Z",
     "start_time": "2021-12-03T11:13:50.058084Z"
    }
   },
   "outputs": [],
   "source": [
    "def predict(sess,X_test,x_placeholder,y_final,thr=0.5):\n",
    "    predictions = sess.run(tf.nn.sigmoid(sess.run(y_final, feed_dict={x_placeholder: X_test})))\n",
    "    predictions[predictions >= thr] = 1\n",
    "    predictions[predictions < thr] = 0\n",
    "    print(classification_report(y_test, predictions))\n",
    "    cc = confusion_matrix(y_test, predictions, labels=[0, 1])\n",
    "    sns.heatmap(cc, annot=True, fmt=\"g\", cmap='Blues')\n",
    "    plt.xlabel(\"Predicted label\")\n",
    "    plt.title(\"Confusion Matrix\")\n",
    "    plt.ylabel(\"True label\")\n",
    "    plt.show()\n",
    "    return predictions\n",
    "\n",
    "\n",
    "def train(sess,final_y,y_train_variable,x_placeholder, dynamic_rate=True, weighted_loss=True):\n",
    "    # x_train,y_train.values,x_test,y_test.values,x_validation, y_validation.values\n",
    "    losses = []\n",
    "    test_loss = []\n",
    "    valid_loss = []\n",
    "    learning_rate_tensor = tf.placeholder(tf.float64, shape=[])  # tensor for implement dynamic learning rate \n",
    "    lr = learning_rate\n",
    "    w1_weight = (y_train == 1).sum()\n",
    "    w0_weight = (y_train == 0).sum()\n",
    "    if weighted_loss:\n",
    "        loss = tf.reduce_mean(tf.nn.weighted_cross_entropy_with_logits(labels=y_train_variable, \n",
    "                            logits= tf.cast(final_y, tf.float64), \n",
    "                            pos_weight=tf.constant((w1_weight+w0_weight)/w1_weight, tf.float64)))\n",
    "    else:\n",
    "        loss = tf.reduce_mean(tf.nn.weighted_cross_entropy_with_logits(labels=y_train_variable, \n",
    "                            logits= tf.cast(final_y, tf.float64), \n",
    "                            pos_weight=tf.constant(0.5, tf.float64)))\n",
    "    update = tf.train.AdamOptimizer(learning_rate_tensor).minimize(loss) \n",
    "    sess.run(tf.global_variables_initializer())\n",
    "    rows_num = x_train.shape[0]\n",
    "    for i in range(epoch):\n",
    "        for counter_step in range(rows_num//batch_size):\n",
    "            X_batch = x_train[counter_step * batch_size:min((counter_step + 1) * batch_size, rows_num)]\n",
    "            Y_batch = y_train[counter_step * batch_size:min((counter_step + 1) * batch_size, rows_num)]\n",
    "            sess.run(update, feed_dict={x_placeholder: X_batch, y_train_variable: Y_batch,learning_rate_tensor:lr})\n",
    "        loss_value = sess.run(loss, feed_dict={x_placeholder: x_train, y_train_variable: y_train,learning_rate_tensor:lr})\n",
    "        loss_value_test = sess.run(loss, feed_dict={x_placeholder:x_test, y_train_variable: y_test,learning_rate_tensor:lr})\n",
    "        loss_value_validation = sess.run(loss, feed_dict={x_placeholder:x_validation, y_train_variable: y_validation,learning_rate_tensor:lr})\n",
    "        print(f\"iteration {i}: loss value is: {loss_value}\")\n",
    "        losses.append(loss_value)\n",
    "        test_loss.append(loss_value_test)\n",
    "        valid_loss.append(loss_value_validation)\n",
    "        if dynamic_rate and losses[i] > losses[i-1]:        # check if the loss divergence\n",
    "            print(\"=====change learning rate=========\")\n",
    "            lr = lr/10\n",
    "    save_loss(losses, filename=\"MLP_train_error.txt\")\n",
    "    save_loss(test_loss, filename=\"MLP_test_error.txt\")\n",
    "    save_loss(valid_loss, filename=\"MLP_validation_error.txt\")\n",
    "    return losses,test_loss,valid_loss"
   ]
  },
  {
   "cell_type": "code",
   "execution_count": 27,
   "metadata": {
    "ExecuteTime": {
     "end_time": "2021-11-30T19:28:48.902168Z",
     "start_time": "2021-11-30T19:28:48.606483Z"
    }
   },
   "outputs": [
    {
     "ename": "ValueError",
     "evalue": "Cannot feed value of shape (200,) for Tensor Placeholder_1:0, which has shape (?, 1)",
     "output_type": "error",
     "traceback": [
      "\u001b[1;31m---------------------------------------------------------------------------\u001b[0m",
      "\u001b[1;31mValueError\u001b[0m                                Traceback (most recent call last)",
      "\u001b[1;32m<ipython-input-27-348501151b60>\u001b[0m in \u001b[0;36m<module>\u001b[1;34m\u001b[0m\n\u001b[0;32m     21\u001b[0m \u001b[0my_final\u001b[0m \u001b[1;33m=\u001b[0m \u001b[0mtf\u001b[0m\u001b[1;33m.\u001b[0m\u001b[0madd\u001b[0m\u001b[1;33m(\u001b[0m\u001b[0mtf\u001b[0m\u001b[1;33m.\u001b[0m\u001b[0mmatmul\u001b[0m\u001b[1;33m(\u001b[0m\u001b[0my2\u001b[0m\u001b[1;33m,\u001b[0m \u001b[0mW3\u001b[0m\u001b[1;33m)\u001b[0m\u001b[1;33m,\u001b[0m \u001b[0mb3\u001b[0m\u001b[1;33m)\u001b[0m\u001b[1;33m\u001b[0m\u001b[1;33m\u001b[0m\u001b[0m\n\u001b[0;32m     22\u001b[0m \u001b[1;33m\u001b[0m\u001b[0m\n\u001b[1;32m---> 23\u001b[1;33m \u001b[0mlosses\u001b[0m\u001b[1;33m,\u001b[0m\u001b[0mtest_loss\u001b[0m\u001b[1;33m,\u001b[0m\u001b[0mvalid_loss\u001b[0m \u001b[1;33m=\u001b[0m \u001b[0mtrain\u001b[0m\u001b[1;33m(\u001b[0m\u001b[0msess\u001b[0m\u001b[1;33m,\u001b[0m\u001b[0my_final\u001b[0m\u001b[1;33m,\u001b[0m\u001b[0my_train_variable\u001b[0m\u001b[1;33m,\u001b[0m\u001b[0mx_placeholder\u001b[0m\u001b[1;33m,\u001b[0m \u001b[0mdynamic_rate\u001b[0m\u001b[1;33m=\u001b[0m\u001b[1;32mFalse\u001b[0m\u001b[1;33m,\u001b[0m \u001b[0mweighted_loss\u001b[0m\u001b[1;33m=\u001b[0m\u001b[1;32mFalse\u001b[0m\u001b[1;33m)\u001b[0m\u001b[1;33m\u001b[0m\u001b[1;33m\u001b[0m\u001b[0m\n\u001b[0m\u001b[0;32m     24\u001b[0m \u001b[0mpredict\u001b[0m\u001b[1;33m(\u001b[0m\u001b[0msess\u001b[0m\u001b[1;33m,\u001b[0m\u001b[0mx_test\u001b[0m\u001b[1;33m,\u001b[0m\u001b[0mx_placeholder\u001b[0m\u001b[1;33m,\u001b[0m\u001b[0my_final\u001b[0m\u001b[1;33m)\u001b[0m\u001b[1;33m\u001b[0m\u001b[1;33m\u001b[0m\u001b[0m\n",
      "\u001b[1;32m<ipython-input-26-713d74aa46cd>\u001b[0m in \u001b[0;36mtrain\u001b[1;34m(sess, final_y, y_train_variable, x_placeholder, dynamic_rate, weighted_loss)\u001b[0m\n\u001b[0;32m     37\u001b[0m             \u001b[0mX_batch\u001b[0m \u001b[1;33m=\u001b[0m \u001b[0mx_train\u001b[0m\u001b[1;33m[\u001b[0m\u001b[0mcounter_step\u001b[0m \u001b[1;33m*\u001b[0m \u001b[0mbatch_size\u001b[0m\u001b[1;33m:\u001b[0m\u001b[0mmin\u001b[0m\u001b[1;33m(\u001b[0m\u001b[1;33m(\u001b[0m\u001b[0mcounter_step\u001b[0m \u001b[1;33m+\u001b[0m \u001b[1;36m1\u001b[0m\u001b[1;33m)\u001b[0m \u001b[1;33m*\u001b[0m \u001b[0mbatch_size\u001b[0m\u001b[1;33m,\u001b[0m \u001b[0mrows_num\u001b[0m\u001b[1;33m)\u001b[0m\u001b[1;33m]\u001b[0m\u001b[1;33m\u001b[0m\u001b[1;33m\u001b[0m\u001b[0m\n\u001b[0;32m     38\u001b[0m             \u001b[0mY_batch\u001b[0m \u001b[1;33m=\u001b[0m \u001b[0my_train\u001b[0m\u001b[1;33m[\u001b[0m\u001b[0mcounter_step\u001b[0m \u001b[1;33m*\u001b[0m \u001b[0mbatch_size\u001b[0m\u001b[1;33m:\u001b[0m\u001b[0mmin\u001b[0m\u001b[1;33m(\u001b[0m\u001b[1;33m(\u001b[0m\u001b[0mcounter_step\u001b[0m \u001b[1;33m+\u001b[0m \u001b[1;36m1\u001b[0m\u001b[1;33m)\u001b[0m \u001b[1;33m*\u001b[0m \u001b[0mbatch_size\u001b[0m\u001b[1;33m,\u001b[0m \u001b[0mrows_num\u001b[0m\u001b[1;33m)\u001b[0m\u001b[1;33m]\u001b[0m\u001b[1;33m\u001b[0m\u001b[1;33m\u001b[0m\u001b[0m\n\u001b[1;32m---> 39\u001b[1;33m             \u001b[0msess\u001b[0m\u001b[1;33m.\u001b[0m\u001b[0mrun\u001b[0m\u001b[1;33m(\u001b[0m\u001b[0mupdate\u001b[0m\u001b[1;33m,\u001b[0m \u001b[0mfeed_dict\u001b[0m\u001b[1;33m=\u001b[0m\u001b[1;33m{\u001b[0m\u001b[0mx_placeholder\u001b[0m\u001b[1;33m:\u001b[0m \u001b[0mX_batch\u001b[0m\u001b[1;33m,\u001b[0m \u001b[0my_train_variable\u001b[0m\u001b[1;33m:\u001b[0m \u001b[0mY_batch\u001b[0m\u001b[1;33m,\u001b[0m\u001b[0mlearning_rate_tensor\u001b[0m\u001b[1;33m:\u001b[0m\u001b[0mlr\u001b[0m\u001b[1;33m}\u001b[0m\u001b[1;33m)\u001b[0m\u001b[1;33m\u001b[0m\u001b[1;33m\u001b[0m\u001b[0m\n\u001b[0m\u001b[0;32m     40\u001b[0m         \u001b[0mloss_value\u001b[0m \u001b[1;33m=\u001b[0m \u001b[0msess\u001b[0m\u001b[1;33m.\u001b[0m\u001b[0mrun\u001b[0m\u001b[1;33m(\u001b[0m\u001b[0mloss\u001b[0m\u001b[1;33m,\u001b[0m \u001b[0mfeed_dict\u001b[0m\u001b[1;33m=\u001b[0m\u001b[1;33m{\u001b[0m\u001b[0mx_placeholder\u001b[0m\u001b[1;33m:\u001b[0m \u001b[0mx_train\u001b[0m\u001b[1;33m,\u001b[0m \u001b[0my_train_variable\u001b[0m\u001b[1;33m:\u001b[0m \u001b[0my_train\u001b[0m\u001b[1;33m,\u001b[0m\u001b[0mlearning_rate_tensor\u001b[0m\u001b[1;33m:\u001b[0m\u001b[0mlr\u001b[0m\u001b[1;33m}\u001b[0m\u001b[1;33m)\u001b[0m\u001b[1;33m\u001b[0m\u001b[1;33m\u001b[0m\u001b[0m\n\u001b[0;32m     41\u001b[0m \u001b[1;31m#         loss_value_test = sess.run(loss, feed_dict={x_placeholder:x_test, y_train_variable: y_test,learning_rate_tensor:lr})\u001b[0m\u001b[1;33m\u001b[0m\u001b[1;33m\u001b[0m\u001b[1;33m\u001b[0m\u001b[0m\n",
      "\u001b[1;32m~\\AppData\\Local\\Continuum\\anaconda3\\lib\\site-packages\\tensorflow\\python\\client\\session.py\u001b[0m in \u001b[0;36mrun\u001b[1;34m(self, fetches, feed_dict, options, run_metadata)\u001b[0m\n\u001b[0;32m    969\u001b[0m     \u001b[1;32mtry\u001b[0m\u001b[1;33m:\u001b[0m\u001b[1;33m\u001b[0m\u001b[1;33m\u001b[0m\u001b[0m\n\u001b[0;32m    970\u001b[0m       result = self._run(None, fetches, feed_dict, options_ptr,\n\u001b[1;32m--> 971\u001b[1;33m                          run_metadata_ptr)\n\u001b[0m\u001b[0;32m    972\u001b[0m       \u001b[1;32mif\u001b[0m \u001b[0mrun_metadata\u001b[0m\u001b[1;33m:\u001b[0m\u001b[1;33m\u001b[0m\u001b[1;33m\u001b[0m\u001b[0m\n\u001b[0;32m    973\u001b[0m         \u001b[0mproto_data\u001b[0m \u001b[1;33m=\u001b[0m \u001b[0mtf_session\u001b[0m\u001b[1;33m.\u001b[0m\u001b[0mTF_GetBuffer\u001b[0m\u001b[1;33m(\u001b[0m\u001b[0mrun_metadata_ptr\u001b[0m\u001b[1;33m)\u001b[0m\u001b[1;33m\u001b[0m\u001b[1;33m\u001b[0m\u001b[0m\n",
      "\u001b[1;32m~\\AppData\\Local\\Continuum\\anaconda3\\lib\\site-packages\\tensorflow\\python\\client\\session.py\u001b[0m in \u001b[0;36m_run\u001b[1;34m(self, handle, fetches, feed_dict, options, run_metadata)\u001b[0m\n\u001b[0;32m   1166\u001b[0m               not subfeed_t.get_shape().is_compatible_with(np_val.shape)):\n\u001b[0;32m   1167\u001b[0m             raise ValueError(\n\u001b[1;32m-> 1168\u001b[1;33m                 \u001b[1;34mf'Cannot feed value of shape {str(np_val.shape)} for Tensor '\u001b[0m\u001b[1;33m\u001b[0m\u001b[1;33m\u001b[0m\u001b[0m\n\u001b[0m\u001b[0;32m   1169\u001b[0m                 \u001b[1;34mf'{subfeed_t.name}, which has shape '\u001b[0m\u001b[1;33m\u001b[0m\u001b[1;33m\u001b[0m\u001b[0m\n\u001b[0;32m   1170\u001b[0m                 f'{str(subfeed_t.get_shape())}')\n",
      "\u001b[1;31mValueError\u001b[0m: Cannot feed value of shape (200,) for Tensor Placeholder_1:0, which has shape (?, 1)"
     ]
    }
   ],
   "source": [
    "config = tf.ConfigProto(device_count={\"CPU\": 8},inter_op_parallelism_threads=4,intra_op_parallelism_threads=4)\n",
    "sess = tf.Session(config=config)\n",
    "features = x_train.shape[1]\n",
    "x_placeholder = tf.placeholder(tf.float64, [None, features])\n",
    "y_train_variable = tf.placeholder(tf.float64, [None, 1])\n",
    "\n",
    "W = tf.Variable(tf.random.uniform([features, 100],dtype=tf.float64))\n",
    "b = tf.Variable(tf.random.uniform([100],dtype=tf.float64))\n",
    "y = tf.add(tf.matmul(x_placeholder, W), b)\n",
    "\n",
    "W1 = tf.Variable(tf.random.uniform([100, 60],dtype=tf.float64))\n",
    "b1 = tf.Variable(tf.random.uniform([60],dtype=tf.float64))\n",
    "y1 = tf.add(tf.matmul(y, W1), b1)\n",
    "\n",
    "W2 = tf.Variable(tf.random.uniform([60,20],dtype=tf.float64))\n",
    "b2 = tf.Variable(tf.random.uniform([20],dtype=tf.float64))\n",
    "y2 = tf.add(tf.matmul(y1, W2), b2)\n",
    "\n",
    "W3 = tf.Variable(tf.random.uniform([20,1],dtype=tf.float64))\n",
    "b3 = tf.Variable(tf.random.uniform([1],dtype=tf.float64))\n",
    "y_final = tf.add(tf.matmul(y2, W3), b3)\n",
    "\n",
    "losses,test_loss,valid_loss = train(sess,y_final,y_train_variable,x_placeholder, dynamic_rate=False, weighted_loss=False)\n",
    "predict(sess,x_test,x_placeholder,y_final)"
   ]
  },
  {
   "cell_type": "code",
   "execution_count": 30,
   "metadata": {
    "ExecuteTime": {
     "end_time": "2021-11-30T19:29:01.084846Z",
     "start_time": "2021-11-30T19:29:01.052618Z"
    }
   },
   "outputs": [
    {
     "ename": "NameError",
     "evalue": "name 'valid_loss' is not defined",
     "output_type": "error",
     "traceback": [
      "\u001b[1;31m---------------------------------------------------------------------------\u001b[0m",
      "\u001b[1;31mNameError\u001b[0m                                 Traceback (most recent call last)",
      "\u001b[1;32m<ipython-input-30-3caa1c2aa4d4>\u001b[0m in \u001b[0;36m<module>\u001b[1;34m\u001b[0m\n\u001b[1;32m----> 1\u001b[1;33m \u001b[0mplt\u001b[0m\u001b[1;33m.\u001b[0m\u001b[0mplot\u001b[0m\u001b[1;33m(\u001b[0m\u001b[0mvalid_loss\u001b[0m\u001b[1;33m[\u001b[0m\u001b[1;36m1\u001b[0m\u001b[1;33m:\u001b[0m\u001b[1;33m]\u001b[0m\u001b[1;33m,\u001b[0m \u001b[0mlabel\u001b[0m\u001b[1;33m=\u001b[0m\u001b[1;34m'validation loss'\u001b[0m\u001b[1;33m,\u001b[0m \u001b[0mcolor\u001b[0m\u001b[1;33m=\u001b[0m\u001b[1;34m'orange'\u001b[0m\u001b[1;33m)\u001b[0m\u001b[1;33m\u001b[0m\u001b[1;33m\u001b[0m\u001b[0m\n\u001b[0m\u001b[0;32m      2\u001b[0m \u001b[0mplt\u001b[0m\u001b[1;33m.\u001b[0m\u001b[0mplot\u001b[0m\u001b[1;33m(\u001b[0m\u001b[0mlosses\u001b[0m\u001b[1;33m[\u001b[0m\u001b[1;36m1\u001b[0m\u001b[1;33m:\u001b[0m\u001b[1;33m]\u001b[0m\u001b[1;33m,\u001b[0m \u001b[0mlabel\u001b[0m\u001b[1;33m=\u001b[0m\u001b[1;34m'train loss'\u001b[0m\u001b[1;33m,\u001b[0m \u001b[0mcolor\u001b[0m\u001b[1;33m=\u001b[0m\u001b[1;34m'green'\u001b[0m\u001b[1;33m)\u001b[0m\u001b[1;33m\u001b[0m\u001b[1;33m\u001b[0m\u001b[0m\n\u001b[0;32m      3\u001b[0m \u001b[0mplt\u001b[0m\u001b[1;33m.\u001b[0m\u001b[0mxlabel\u001b[0m\u001b[1;33m(\u001b[0m\u001b[1;34m'epoch'\u001b[0m\u001b[1;33m,\u001b[0m \u001b[0msize\u001b[0m \u001b[1;33m=\u001b[0m \u001b[1;36m15\u001b[0m\u001b[1;33m)\u001b[0m\u001b[1;33m\u001b[0m\u001b[1;33m\u001b[0m\u001b[0m\n\u001b[0;32m      4\u001b[0m \u001b[0mplt\u001b[0m\u001b[1;33m.\u001b[0m\u001b[0mylabel\u001b[0m\u001b[1;33m(\u001b[0m\u001b[1;34m'loss'\u001b[0m\u001b[1;33m,\u001b[0m \u001b[0msize\u001b[0m \u001b[1;33m=\u001b[0m \u001b[1;36m15\u001b[0m\u001b[1;33m)\u001b[0m\u001b[1;33m\u001b[0m\u001b[1;33m\u001b[0m\u001b[0m\n\u001b[0;32m      5\u001b[0m \u001b[0mplt\u001b[0m\u001b[1;33m.\u001b[0m\u001b[0mtitle\u001b[0m\u001b[1;33m(\u001b[0m\u001b[1;34m''\u001b[0m\u001b[1;33m)\u001b[0m\u001b[1;33m\u001b[0m\u001b[1;33m\u001b[0m\u001b[0m\n",
      "\u001b[1;31mNameError\u001b[0m: name 'valid_loss' is not defined"
     ]
    }
   ],
   "source": [
    "plt.plot(valid_loss[1:], label='validation loss', color='orange')\n",
    "plt.plot(losses[1:], label='train loss', color='green')\n",
    "plt.xlabel('epoch', size = 15)\n",
    "plt.ylabel('loss', size = 15)\n",
    "plt.title('')\n",
    "plt.legend()\n",
    "plt.savefig('../graphs/simple_mlp')"
   ]
  },
  {
   "cell_type": "code",
   "execution_count": 129,
   "metadata": {
    "ExecuteTime": {
     "end_time": "2021-11-30T13:38:28.043319Z",
     "start_time": "2021-11-30T13:38:27.853499Z"
    }
   },
   "outputs": [
    {
     "data": {
      "image/png": "[encoded data removed]",
      "text/plain": [
       "<Figure size 432x288 with 1 Axes>"
      ]
     },
     "metadata": {
      "needs_background": "light"
     },
     "output_type": "display_data"
    }
   ],
   "source": [
    "plt.plot(range(20,100), valid_loss[20:], label='validation loss', color='orange')\n",
    "plt.plot(range(20,100), losses[20:], label='test loss', color='green')\n",
    "plt.xlabel('epoch', size = 15)\n",
    "plt.ylabel('loss', size = 15)\n",
    "plt.title('')\n",
    "plt.legend()\n",
    "plt.savefig('../graphs/simple_mlp_no_start')"
   ]
  },
  {
   "cell_type": "markdown",
   "metadata": {},
   "source": [
    "## lower learning rate"
   ]
  },
  {
   "cell_type": "code",
   "execution_count": 31,
   "metadata": {
    "ExecuteTime": {
     "end_time": "2021-11-30T19:29:03.495084Z",
     "start_time": "2021-11-30T19:29:03.478931Z"
    }
   },
   "outputs": [],
   "source": [
    "learning_rate = 0.001\n",
    "epoch=50\n",
    "batch_size=200"
   ]
  },
  {
   "cell_type": "code",
   "execution_count": 131,
   "metadata": {
    "ExecuteTime": {
     "end_time": "2021-11-30T13:43:17.273158Z",
     "start_time": "2021-11-30T13:38:48.932667Z"
    }
   },
   "outputs": [
    {
     "name": "stdout",
     "output_type": "stream",
     "text": [
      "iteration 0: loss value is: 41998.511477536056\n",
      "iteration 1: loss value is: 41.537845250745875\n",
      "iteration 2: loss value is: 42.07585172911157\n",
      "iteration 3: loss value is: 55.10199579066987\n",
      "iteration 4: loss value is: 26.30318813594493\n",
      "iteration 5: loss value is: 21.22192856821316\n",
      "iteration 6: loss value is: 33.370940867763935\n",
      "iteration 7: loss value is: 9.494015750294707\n",
      "iteration 8: loss value is: 25.31392857529776\n",
      "iteration 9: loss value is: 17.361294264283718\n",
      "iteration 10: loss value is: 6.191425197633895\n",
      "iteration 11: loss value is: 30.29539660841039\n",
      "iteration 12: loss value is: 12.577200606769798\n",
      "iteration 13: loss value is: 16.391734916403\n",
      "iteration 14: loss value is: 12.99704913348217\n",
      "iteration 15: loss value is: 14.023718655701979\n",
      "iteration 16: loss value is: 95.69528795812434\n",
      "iteration 17: loss value is: 7.668257486941702\n",
      "iteration 18: loss value is: 4.686726881785234\n",
      "iteration 19: loss value is: 23.906502251592695\n",
      "iteration 20: loss value is: 11.824263780734027\n",
      "iteration 21: loss value is: 126.44586665563493\n",
      "iteration 22: loss value is: 4.429757123195867\n",
      "iteration 23: loss value is: 4.613158863954775\n",
      "iteration 24: loss value is: 6.233228099199956\n",
      "iteration 25: loss value is: 5.103258012435891\n",
      "iteration 26: loss value is: 9.101854668281478\n",
      "iteration 27: loss value is: 5.210957404393808\n",
      "iteration 28: loss value is: 5.214232683324219\n",
      "iteration 29: loss value is: 4.6767433276609065\n",
      "iteration 30: loss value is: 5.347041266480857\n",
      "iteration 31: loss value is: 4.273690273672985\n",
      "iteration 32: loss value is: 19.849427029117084\n",
      "iteration 33: loss value is: 20.42944701124235\n",
      "iteration 34: loss value is: 5.999904524350373\n",
      "iteration 35: loss value is: 15.03895203661018\n",
      "iteration 36: loss value is: 5.513867683090284\n",
      "iteration 37: loss value is: 4.9714782064147\n",
      "iteration 38: loss value is: 4.578406791812444\n",
      "iteration 39: loss value is: 4.300550788596636\n",
      "iteration 40: loss value is: 4.42126181588621\n",
      "iteration 41: loss value is: 6.555513201384148\n",
      "iteration 42: loss value is: 4.651897950930771\n",
      "iteration 43: loss value is: 4.228408331911208\n",
      "iteration 44: loss value is: 4.218595938767207\n",
      "iteration 45: loss value is: 6.155196449312077\n",
      "iteration 46: loss value is: 4.495685155619025\n",
      "iteration 47: loss value is: 4.957546223224671\n",
      "iteration 48: loss value is: 4.126612448325723\n",
      "iteration 49: loss value is: 3.707723327097281\n",
      "              precision    recall  f1-score   support\n",
      "\n",
      "         0.0       0.84      0.96      0.90     10967\n",
      "         1.0       0.82      0.52      0.64      4033\n",
      "\n",
      "    accuracy                           0.84     15000\n",
      "   macro avg       0.83      0.74      0.77     15000\n",
      "weighted avg       0.84      0.84      0.83     15000\n",
      "\n"
     ]
    },
    {
     "data": {
      "image/png": "[encoded data removed]",
      "text/plain": [
       "<Figure size 432x288 with 2 Axes>"
      ]
     },
     "metadata": {
      "needs_background": "light"
     },
     "output_type": "display_data"
    },
    {
     "data": {
      "text/plain": [
       "array([[0.],\n",
       "       [0.],\n",
       "       [0.],\n",
       "       ...,\n",
       "       [0.],\n",
       "       [0.],\n",
       "       [0.]])"
      ]
     },
     "execution_count": 131,
     "metadata": {},
     "output_type": "execute_result"
    }
   ],
   "source": [
    "config = tf.ConfigProto(device_count={\"CPU\": 8},inter_op_parallelism_threads=4,intra_op_parallelism_threads=4)\n",
    "sess = tf.Session(config=config)\n",
    "features = x_train.shape[1]\n",
    "x_placeholder = tf.placeholder(tf.float64, [None, features])\n",
    "y_train_variable = tf.placeholder(tf.float64, [None, 1])\n",
    "\n",
    "W = tf.Variable(tf.random.uniform([features, 100],dtype=tf.float64))\n",
    "b = tf.Variable(tf.random.uniform([100],dtype=tf.float64))\n",
    "y = tf.add(tf.matmul(x_placeholder, W), b)\n",
    "\n",
    "W1 = tf.Variable(tf.random.uniform([100, 60],dtype=tf.float64))\n",
    "b1 = tf.Variable(tf.random.uniform([60],dtype=tf.float64))\n",
    "y1 = tf.add(tf.matmul(y, W1), b1)\n",
    "\n",
    "W2 = tf.Variable(tf.random.uniform([60,20],dtype=tf.float64))\n",
    "b2 = tf.Variable(tf.random.uniform([20],dtype=tf.float64))\n",
    "y2 = tf.add(tf.matmul(y1, W2), b2)\n",
    "\n",
    "W3 = tf.Variable(tf.random.uniform([20,1],dtype=tf.float64))\n",
    "b3 = tf.Variable(tf.random.uniform([1],dtype=tf.float64))\n",
    "y_final = tf.add(tf.matmul(y2, W3), b3)\n",
    "\n",
    "losses2,test_loss2,valid_loss2 = train(sess,y_final,y_train_variable,x_placeholder, dynamic_rate=False, weighted_loss=False)\n",
    "predict(sess,x_test,x_placeholder,y_final)"
   ]
  },
  {
   "cell_type": "code",
   "execution_count": 132,
   "metadata": {
    "ExecuteTime": {
     "end_time": "2021-11-30T13:43:17.558264Z",
     "start_time": "2021-11-30T13:43:17.275153Z"
    }
   },
   "outputs": [
    {
     "data": {
      "image/png": "[encoded data removed]",
      "text/plain": [
       "<Figure size 432x288 with 1 Axes>"
      ]
     },
     "metadata": {
      "needs_background": "light"
     },
     "output_type": "display_data"
    }
   ],
   "source": [
    "plt.plot(valid_loss2[1:], label='validation loss', color='orange')\n",
    "plt.plot(losses2[1:], label='train loss', color='green')\n",
    "plt.xlabel('epoch', size = 15)\n",
    "plt.ylabel('loss', size = 15)\n",
    "plt.title('')\n",
    "plt.legend()\n",
    "plt.savefig('../graphs/simple_mlp_low_rate')"
   ]
  },
  {
   "cell_type": "markdown",
   "metadata": {
    "ExecuteTime": {
     "end_time": "2021-11-30T18:11:34.188662Z",
     "start_time": "2021-11-30T18:11:34.166723Z"
    }
   },
   "source": [
    "## dynamic learning rate"
   ]
  },
  {
   "cell_type": "code",
   "execution_count": 32,
   "metadata": {
    "ExecuteTime": {
     "end_time": "2021-11-30T19:29:13.592708Z",
     "start_time": "2021-11-30T19:29:13.578748Z"
    }
   },
   "outputs": [],
   "source": [
    "learning_rate = 0.1\n",
    "epoch=100\n",
    "batch_size=200"
   ]
  },
  {
   "cell_type": "code",
   "execution_count": 137,
   "metadata": {
    "ExecuteTime": {
     "end_time": "2021-11-30T18:26:43.327561Z",
     "start_time": "2021-11-30T18:15:31.932740Z"
    }
   },
   "outputs": [
    {
     "name": "stdout",
     "output_type": "stream",
     "text": [
      "iteration 0: loss value is: 1.613664425018821\n",
      "iteration 1: loss value is: 0.5267091315391353\n",
      "iteration 2: loss value is: 0.5982670828226175\n",
      "=====change learning rate=========\n",
      "iteration 3: loss value is: 0.28709151022678936\n",
      "iteration 4: loss value is: 0.28285087090196365\n",
      "iteration 5: loss value is: 0.29074206927487745\n",
      "=====change learning rate=========\n",
      "iteration 6: loss value is: 0.2665717574364881\n",
      "iteration 7: loss value is: 0.2679216618411771\n",
      "=====change learning rate=========\n",
      "iteration 8: loss value is: 0.25932803011320826\n",
      "iteration 9: loss value is: 0.25892915147036816\n",
      "iteration 10: loss value is: 0.2588931381541863\n",
      "iteration 11: loss value is: 0.25898438746163466\n",
      "=====change learning rate=========\n",
      "iteration 12: loss value is: 0.2583735331334564\n",
      "iteration 13: loss value is: 0.2581681640900764\n",
      "iteration 14: loss value is: 0.2580721944082049\n",
      "iteration 15: loss value is: 0.2580206415917958\n",
      "iteration 16: loss value is: 0.25799121025873206\n",
      "iteration 17: loss value is: 0.25797549434867867\n",
      "iteration 18: loss value is: 0.2579708207520914\n",
      "iteration 19: loss value is: 0.2579771726812296\n",
      "=====change learning rate=========\n",
      "iteration 20: loss value is: 0.2579191642236156\n",
      "iteration 21: loss value is: 0.25788302855213896\n",
      "iteration 22: loss value is: 0.2578574745133458\n",
      "iteration 23: loss value is: 0.2578383512729311\n",
      "iteration 24: loss value is: 0.25782323800239393\n",
      "iteration 25: loss value is: 0.2578105378353788\n",
      "iteration 26: loss value is: 0.2577991718159573\n",
      "iteration 27: loss value is: 0.2577883866721127\n",
      "iteration 28: loss value is: 0.2577776369208566\n",
      "iteration 29: loss value is: 0.2577665151238497\n",
      "iteration 30: loss value is: 0.25775470866346023\n",
      "iteration 31: loss value is: 0.25774197079237693\n",
      "iteration 32: loss value is: 0.2577281006329104\n",
      "iteration 33: loss value is: 0.25771293009459884\n",
      "iteration 34: loss value is: 0.2576963164898355\n",
      "iteration 35: loss value is: 0.2576781393800613\n",
      "iteration 36: loss value is: 0.257658299926367\n",
      "iteration 37: loss value is: 0.25763672123601644\n",
      "iteration 38: loss value is: 0.257613348825732\n",
      "iteration 39: loss value is: 0.25758815095854326\n",
      "iteration 40: loss value is: 0.2575611189087659\n",
      "iteration 41: loss value is: 0.257532267150301\n",
      "iteration 42: loss value is: 0.2575016332681573\n",
      "iteration 43: loss value is: 0.2574692772861078\n",
      "iteration 44: loss value is: 0.2574352801631819\n",
      "iteration 45: loss value is: 0.2573997413744862\n",
      "iteration 46: loss value is: 0.2573627756569352\n",
      "iteration 47: loss value is: 0.25732450912048116\n",
      "iteration 48: loss value is: 0.25728507500021913\n",
      "iteration 49: loss value is: 0.25724460935744564\n",
      "iteration 50: loss value is: 0.25720324702559094\n",
      "iteration 51: loss value is: 0.25716111804661007\n",
      "iteration 52: loss value is: 0.25711834477084716\n",
      "iteration 53: loss value is: 0.25707503971220774\n",
      "iteration 54: loss value is: 0.2570313041709456\n",
      "iteration 55: loss value is: 0.2569872275692619\n",
      "iteration 56: loss value is: 0.2569428873992199\n",
      "iteration 57: loss value is: 0.25689834965947966\n",
      "iteration 58: loss value is: 0.2568536696512509\n",
      "iteration 59: loss value is: 0.25680889300857096\n",
      "iteration 60: loss value is: 0.25676405685042325\n",
      "iteration 61: loss value is: 0.2567191909612987\n",
      "iteration 62: loss value is: 0.25667431893028614\n",
      "iteration 63: loss value is: 0.25662945920275276\n",
      "iteration 64: loss value is: 0.25658462601924353\n",
      "iteration 65: loss value is: 0.25653983023155214\n",
      "iteration 66: loss value is: 0.2564950799962921\n",
      "iteration 67: loss value is: 0.2564503813528981\n",
      "iteration 68: loss value is: 0.25640573869693917\n",
      "iteration 69: loss value is: 0.256361155161595\n",
      "iteration 70: loss value is: 0.2563166329207581\n",
      "iteration 71: loss value is: 0.2562721734268441\n",
      "iteration 72: loss value is: 0.2562277775952925\n",
      "iteration 73: loss value is: 0.2561834459462567\n",
      "iteration 74: loss value is: 0.25613917871231395\n",
      "iteration 75: loss value is: 0.2560949759195195\n",
      "iteration 76: loss value is: 0.25605083744778523\n",
      "iteration 77: loss value is: 0.256006763075415\n",
      "iteration 78: loss value is: 0.25596275251166023\n",
      "iteration 79: loss value is: 0.25591880542030393\n",
      "iteration 80: loss value is: 0.2558749214365833\n",
      "iteration 81: loss value is: 0.2558311001792125\n",
      "iteration 82: loss value is: 0.2557873412588252\n",
      "iteration 83: loss value is: 0.25574364428382357\n",
      "iteration 84: loss value is: 0.2557000088643664\n",
      "iteration 85: loss value is: 0.25565643461503174\n",
      "iteration 86: loss value is: 0.25561292115653916\n",
      "iteration 87: loss value is: 0.2555694681168076\n",
      "iteration 88: loss value is: 0.25552607513154646\n",
      "iteration 89: loss value is: 0.2554827418445227\n",
      "iteration 90: loss value is: 0.2554394679076033\n",
      "iteration 91: loss value is: 0.25539625298065255\n",
      "iteration 92: loss value is: 0.25535309673136974\n",
      "iteration 93: loss value is: 0.25530999883514005\n",
      "iteration 94: loss value is: 0.2552669589749113\n",
      "iteration 95: loss value is: 0.25522397684096065\n",
      "iteration 96: loss value is: 0.25518105213043474\n",
      "iteration 97: loss value is: 0.25513818454684345\n",
      "iteration 98: loss value is: 0.25509537379965486\n",
      "iteration 99: loss value is: 0.25505261960399406\n",
      "              precision    recall  f1-score   support\n",
      "\n",
      "         0.0       0.80      0.98      0.88     10967\n",
      "         1.0       0.83      0.33      0.47      4033\n",
      "\n",
      "    accuracy                           0.80     15000\n",
      "   macro avg       0.82      0.65      0.67     15000\n",
      "weighted avg       0.81      0.80      0.77     15000\n",
      "\n"
     ]
    },
    {
     "data": {
      "image/png": "[encoded data removed]",
      "text/plain": [
       "<Figure size 432x288 with 2 Axes>"
      ]
     },
     "metadata": {
      "needs_background": "light"
     },
     "output_type": "display_data"
    },
    {
     "data": {
      "text/plain": [
       "array([[0.],\n",
       "       [0.],\n",
       "       [0.],\n",
       "       ...,\n",
       "       [0.],\n",
       "       [0.],\n",
       "       [0.]])"
      ]
     },
     "execution_count": 137,
     "metadata": {},
     "output_type": "execute_result"
    }
   ],
   "source": [
    "config = tf.ConfigProto(device_count={\"CPU\": 8},inter_op_parallelism_threads=4,intra_op_parallelism_threads=4)\n",
    "sess = tf.Session(config=config)\n",
    "features = x_train.shape[1]\n",
    "x_placeholder = tf.placeholder(tf.float64, [None, features])\n",
    "y_train_variable = tf.placeholder(tf.float64, [None, 1])\n",
    "\n",
    "W = tf.Variable(tf.random.uniform([features, 100],dtype=tf.float64))\n",
    "b = tf.Variable(tf.random.uniform([100],dtype=tf.float64))\n",
    "y = tf.add(tf.matmul(x_placeholder, W), b)\n",
    "\n",
    "W1 = tf.Variable(tf.random.uniform([100, 60],dtype=tf.float64))\n",
    "b1 = tf.Variable(tf.random.uniform([60],dtype=tf.float64))\n",
    "y1 = tf.add(tf.matmul(y, W1), b1)\n",
    "\n",
    "W2 = tf.Variable(tf.random.uniform([60,20],dtype=tf.float64))\n",
    "b2 = tf.Variable(tf.random.uniform([20],dtype=tf.float64))\n",
    "y2 = tf.add(tf.matmul(y1, W2), b2)\n",
    "\n",
    "W3 = tf.Variable(tf.random.uniform([20,1],dtype=tf.float64))\n",
    "b3 = tf.Variable(tf.random.uniform([1],dtype=tf.float64))\n",
    "y_final = tf.add(tf.matmul(y2, W3), b3)\n",
    "\n",
    "losses3,test_loss3,valid_loss3 = train(sess,y_final,y_train_variable,x_placeholder, dynamic_rate=True, weighted_loss=False)\n",
    "predict(sess,x_test,x_placeholder,y_final)"
   ]
  },
  {
   "cell_type": "code",
   "execution_count": 140,
   "metadata": {
    "ExecuteTime": {
     "end_time": "2021-11-30T18:28:30.791247Z",
     "start_time": "2021-11-30T18:28:30.576887Z"
    }
   },
   "outputs": [
    {
     "data": {
      "image/png": "[encoded data removed]",
      "text/plain": [
       "<Figure size 432x288 with 1 Axes>"
      ]
     },
     "metadata": {
      "needs_background": "light"
     },
     "output_type": "display_data"
    }
   ],
   "source": [
    "plt.plot(valid_loss3[3:], label='validation loss', color='orange')\n",
    "plt.plot(losses3[3:], label='train loss', color='green')\n",
    "plt.xlabel('epoch', size = 15)\n",
    "plt.ylabel('loss', size = 15)\n",
    "plt.title('')\n",
    "plt.legend()\n",
    "plt.savefig('../graphs/dynamic_rate')"
   ]
  },
  {
   "cell_type": "code",
   "execution_count": 3,
   "metadata": {
    "ExecuteTime": {
     "end_time": "2021-12-02T10:42:48.274819Z",
     "start_time": "2021-12-02T10:42:47.960894Z"
    }
   },
   "outputs": [
    {
     "data": {
      "image/png": "[encoded data removed]",
      "text/plain": [
       "<Figure size 432x288 with 2 Axes>"
      ]
     },
     "metadata": {
      "needs_background": "light"
     },
     "output_type": "display_data"
    }
   ],
   "source": [
    "mat = [[0.80, 0.98,0.88],\n",
    "        [0.83, 0.33, 0.47]]\n",
    "\n",
    "sns.heatmap(mat, annot=True)\n",
    "plt.xticks([0.5,1.5,2.5],['precision', 'recall', 'f1-score'])\n",
    "# plt.xticks([])\n",
    "plt.title('100 epochs', size=15)\n",
    "plt.savefig('../graphs/cla_rep_dynamic_rate')"
   ]
  },
  {
   "cell_type": "markdown",
   "metadata": {},
   "source": [
    "## bigger network, more training"
   ]
  },
  {
   "cell_type": "code",
   "execution_count": 88,
   "metadata": {
    "ExecuteTime": {
     "end_time": "2021-11-30T21:37:23.240323Z",
     "start_time": "2021-11-30T21:37:23.221320Z"
    }
   },
   "outputs": [],
   "source": [
    "learning_rate = 0.1\n",
    "epoch=500\n",
    "batch_size=200"
   ]
  },
  {
   "cell_type": "code",
   "execution_count": null,
   "metadata": {
    "ExecuteTime": {
     "start_time": "2021-11-30T21:37:23.898Z"
    }
   },
   "outputs": [
    {
     "name": "stdout",
     "output_type": "stream",
     "text": [
      "iteration 0: loss value is: 41.831565773110746\n",
      "iteration 1: loss value is: 38.32197959876571\n",
      "iteration 2: loss value is: 49.68526844996158\n",
      "=====change learning rate=========\n",
      "iteration 3: loss value is: 26.30153156595335\n",
      "iteration 4: loss value is: 20.663431545854177\n",
      "iteration 5: loss value is: 16.250001506067534\n",
      "iteration 6: loss value is: 14.98075376544389\n",
      "iteration 7: loss value is: 13.871569497691029\n",
      "iteration 8: loss value is: 13.490840929417491\n",
      "iteration 9: loss value is: 14.192221919484075\n",
      "=====change learning rate=========\n",
      "iteration 10: loss value is: 8.489513899641377\n",
      "iteration 11: loss value is: 7.891366341034325\n",
      "iteration 12: loss value is: 7.509866377718078\n",
      "iteration 13: loss value is: 6.936692974293391\n",
      "iteration 14: loss value is: 6.956645195584908\n",
      "=====change learning rate=========\n",
      "iteration 15: loss value is: 6.083487154511876\n",
      "iteration 16: loss value is: 5.944170373021003\n",
      "iteration 17: loss value is: 5.984187317804058\n",
      "=====change learning rate=========\n"
     ]
    }
   ],
   "source": [
    "config = tf.ConfigProto(device_count={\"CPU\": 8},inter_op_parallelism_threads=4,intra_op_parallelism_threads=4)\n",
    "sess = tf.Session(config=config)\n",
    "features = x_train.shape[1]\n",
    "x_placeholder = tf.placeholder(tf.float64, [None, features])\n",
    "y_train_variable = tf.placeholder(tf.float64, [None, 1])\n",
    "\n",
    "W = tf.Variable(tf.random.uniform([features, 1000],dtype=tf.float64))\n",
    "b = tf.Variable(tf.random.uniform([1000],dtype=tf.float64))\n",
    "y = tf.add(tf.matmul(x_placeholder, W), b)\n",
    "\n",
    "W1 = tf.Variable(tf.random.uniform([1000, 600],dtype=tf.float64))\n",
    "b1 = tf.Variable(tf.random.uniform([600],dtype=tf.float64))\n",
    "y1 = tf.add(tf.matmul(y, W1), b1)\n",
    "\n",
    "W2 = tf.Variable(tf.random.uniform([600,200],dtype=tf.float64))\n",
    "b2 = tf.Variable(tf.random.uniform([200],dtype=tf.float64))\n",
    "y2 = tf.add(tf.matmul(y1, W2), b2)\n",
    "\n",
    "W3 = tf.Variable(tf.random.uniform([200,1],dtype=tf.float64))\n",
    "b3 = tf.Variable(tf.random.uniform([1],dtype=tf.float64))\n",
    "y_final = tf.add(tf.matmul(y2, W3), b3)\n",
    "\n",
    "losses4,test_loss4,valid_loss4 = train(sess,y_final,y_train_variable,x_placeholder, dynamic_rate=True, weighted_loss=False)\n",
    "predict(sess,x_test,x_placeholder,y_final)"
   ]
  },
  {
   "cell_type": "code",
   "execution_count": null,
   "metadata": {
    "ExecuteTime": {
     "start_time": "2021-11-30T21:37:25.310Z"
    }
   },
   "outputs": [],
   "source": [
    "plt.plot(valid_loss4, label='validation loss', color='orange')\n",
    "plt.plot(losses4, label='train loss', color='green')\n",
    "plt.xlabel('epoch', size = 15)\n",
    "plt.ylabel('loss', size = 15)\n",
    "plt.title('big network, 1000 epochs')\n",
    "plt.legend()\n",
    "plt.savefig('../graphs/dynamic_rate_big_network_more_epochs')"
   ]
  },
  {
   "cell_type": "markdown",
   "metadata": {},
   "source": [
    "## over sample"
   ]
  },
  {
   "cell_type": "code",
   "execution_count": 34,
   "metadata": {
    "ExecuteTime": {
     "end_time": "2021-11-30T19:29:43.212963Z",
     "start_time": "2021-11-30T19:29:31.026552Z"
    },
    "scrolled": true
   },
   "outputs": [],
   "source": [
    "from imblearn.over_sampling import RandomOverSampler \n",
    "oversample = RandomOverSampler(random_state=42,sampling_strategy=0.9)\n",
    "x_train, y_train = oversample.fit_resample(x_train, y_train)"
   ]
  },
  {
   "cell_type": "code",
   "execution_count": 37,
   "metadata": {
    "ExecuteTime": {
     "end_time": "2021-11-30T19:30:47.419550Z",
     "start_time": "2021-11-30T19:30:47.396613Z"
    }
   },
   "outputs": [
    {
     "data": {
      "text/plain": [
       "0.9"
      ]
     },
     "execution_count": 37,
     "metadata": {},
     "output_type": "execute_result"
    }
   ],
   "source": [
    "y_train.value_counts()[1] / y_train.value_counts()[0] "
   ]
  },
  {
   "cell_type": "code",
   "execution_count": 42,
   "metadata": {
    "ExecuteTime": {
     "end_time": "2021-11-30T19:34:00.193994Z",
     "start_time": "2021-11-30T19:34:00.184018Z"
    }
   },
   "outputs": [],
   "source": [
    "y_test = y_test.values\n",
    "y_test = y_test.reshape((y_test.size,1))\n",
    "y_train = y_train.values\n",
    "y_train = y_train.reshape((y_train.size,1))\n",
    "y_validation = y_validation.values\n",
    "y_validation = y_validation.reshape((y_validation.size,1))"
   ]
  },
  {
   "cell_type": "code",
   "execution_count": 43,
   "metadata": {
    "ExecuteTime": {
     "end_time": "2021-11-30T19:34:01.783789Z",
     "start_time": "2021-11-30T19:34:01.774154Z"
    }
   },
   "outputs": [],
   "source": [
    "learning_rate = 0.1\n",
    "epoch=100\n",
    "batch_size=200"
   ]
  },
  {
   "cell_type": "code",
   "execution_count": 44,
   "metadata": {
    "ExecuteTime": {
     "end_time": "2021-11-30T20:31:00.727682Z",
     "start_time": "2021-11-30T19:34:02.517759Z"
    }
   },
   "outputs": [
    {
     "name": "stdout",
     "output_type": "stream",
     "text": [
      "iteration 0: loss value is: 30.12705009640762\n",
      "iteration 1: loss value is: 37.97175092789121\n",
      "=====change learning rate=========\n",
      "iteration 2: loss value is: 7.274166848873626\n",
      "iteration 3: loss value is: 5.611004351544923\n",
      "iteration 4: loss value is: 6.263548096346961\n",
      "=====change learning rate=========\n",
      "iteration 5: loss value is: 1.9055115381893504\n",
      "iteration 6: loss value is: 2.0006839641714245\n",
      "=====change learning rate=========\n",
      "iteration 7: loss value is: 0.7630382361345962\n",
      "iteration 8: loss value is: 0.8382496750263847\n",
      "=====change learning rate=========\n",
      "iteration 9: loss value is: 0.43519903778072433\n",
      "iteration 10: loss value is: 0.4325744865603938\n",
      "iteration 11: loss value is: 0.452435651544711\n",
      "=====change learning rate=========\n",
      "iteration 12: loss value is: 0.36609334831321866\n",
      "iteration 13: loss value is: 0.349933809209756\n",
      "iteration 14: loss value is: 0.3456598190085504\n",
      "iteration 15: loss value is: 0.3455293432854235\n",
      "iteration 16: loss value is: 0.34710683425180877\n",
      "=====change learning rate=========\n",
      "iteration 17: loss value is: 0.33364897494325135\n",
      "iteration 18: loss value is: 0.3300381625088628\n",
      "iteration 19: loss value is: 0.32824472740184696\n",
      "iteration 20: loss value is: 0.327247749125445\n",
      "iteration 21: loss value is: 0.3266546819876776\n",
      "iteration 22: loss value is: 0.3262689364798829\n",
      "iteration 23: loss value is: 0.3259922371285232\n",
      "iteration 24: loss value is: 0.32577677151517614\n",
      "iteration 25: loss value is: 0.32559888144011334\n",
      "iteration 26: loss value is: 0.32544603378612963\n",
      "iteration 27: loss value is: 0.3253109142682915\n",
      "iteration 28: loss value is: 0.32518884670492904\n",
      "iteration 29: loss value is: 0.3250766388323968\n",
      "iteration 30: loss value is: 0.32497202119907853\n",
      "iteration 31: loss value is: 0.3248733402898843\n",
      "iteration 32: loss value is: 0.32477937159686926\n",
      "iteration 33: loss value is: 0.32468919671212054\n",
      "iteration 34: loss value is: 0.3246021185880676\n",
      "iteration 35: loss value is: 0.32451760187053413\n",
      "iteration 36: loss value is: 0.324435230655805\n",
      "iteration 37: loss value is: 0.32435467830222664\n",
      "iteration 38: loss value is: 0.3242756854908332\n",
      "iteration 39: loss value is: 0.3241980440625256\n",
      "iteration 40: loss value is: 0.324121585018968\n",
      "iteration 41: loss value is: 0.32404616959114607\n",
      "iteration 42: loss value is: 0.3239716826285234\n",
      "iteration 43: loss value is: 0.32389802773842785\n",
      "iteration 44: loss value is: 0.32382512368459315\n",
      "iteration 45: loss value is: 0.32375290165603776\n",
      "iteration 46: loss value is: 0.3236813031389867\n",
      "iteration 47: loss value is: 0.3236102782215862\n",
      "iteration 48: loss value is: 0.32353978421707547\n",
      "iteration 49: loss value is: 0.3234697845268129\n",
      "iteration 50: loss value is: 0.32340024769046055\n",
      "iteration 51: loss value is: 0.3233311465866598\n",
      "iteration 52: loss value is: 0.32326245775980156\n",
      "iteration 53: loss value is: 0.32319416085343877\n",
      "iteration 54: loss value is: 0.32312623813440267\n",
      "iteration 55: loss value is: 0.32305867409385414\n",
      "iteration 56: loss value is: 0.32299145511236477\n",
      "iteration 57: loss value is: 0.32292456917879303\n",
      "iteration 58: loss value is: 0.3228580056540838\n",
      "iteration 59: loss value is: 0.3227917550724349\n",
      "iteration 60: loss value is: 0.32272580897401887\n",
      "iteration 61: loss value is: 0.32266015976380125\n",
      "iteration 62: loss value is: 0.3225948005923178\n",
      "iteration 63: loss value is: 0.3225297252549814\n",
      "iteration 64: loss value is: 0.3224649281064815\n",
      "iteration 65: loss value is: 0.3224004039883589\n",
      "iteration 66: loss value is: 0.32233614816712425\n",
      "iteration 67: loss value is: 0.3222721562815969\n",
      "iteration 68: loss value is: 0.3222084242977284\n",
      "iteration 69: loss value is: 0.3221449484699991\n",
      "iteration 70: loss value is: 0.32208172530801626\n",
      "iteration 71: loss value is: 0.3220187515480127\n",
      "iteration 72: loss value is: 0.32195602412793783\n",
      "iteration 73: loss value is: 0.3218935401659619\n",
      "iteration 74: loss value is: 0.3218312969419202\n",
      "iteration 75: loss value is: 0.32176929188092324\n",
      "iteration 76: loss value is: 0.3217075225392794\n",
      "iteration 77: loss value is: 0.32164598659196336\n",
      "iteration 78: loss value is: 0.32158468182176264\n",
      "iteration 79: loss value is: 0.3215236061095836\n",
      "iteration 80: loss value is: 0.3214627574260742\n",
      "iteration 81: loss value is: 0.32140213382401095\n",
      "iteration 82: loss value is: 0.321341733431676\n",
      "iteration 83: loss value is: 0.3212815544468792\n",
      "iteration 84: loss value is: 0.3212215951317085\n",
      "iteration 85: loss value is: 0.321161853807729\n",
      "iteration 86: loss value is: 0.32110232885185075\n",
      "iteration 87: loss value is: 0.3210430186923071\n",
      "iteration 88: loss value is: 0.32098392180535634\n",
      "iteration 89: loss value is: 0.32092503671204753\n",
      "iteration 90: loss value is: 0.32086636197553786\n",
      "iteration 91: loss value is: 0.3208078961982879\n",
      "iteration 92: loss value is: 0.3207496380199548\n",
      "iteration 93: loss value is: 0.3206915861150849\n",
      "iteration 94: loss value is: 0.32063373919120514\n",
      "iteration 95: loss value is: 0.3205760959870097\n",
      "iteration 96: loss value is: 0.3205186552707486\n",
      "iteration 97: loss value is: 0.32046141583861704\n",
      "iteration 98: loss value is: 0.3204043765133903\n",
      "iteration 99: loss value is: 0.3203475361431062\n",
      "              precision    recall  f1-score   support\n",
      "\n",
      "         0.0       0.86      0.90      0.88     10967\n",
      "         1.0       0.69      0.58      0.63      4033\n",
      "\n",
      "    accuracy                           0.82     15000\n",
      "   macro avg       0.77      0.74      0.76     15000\n",
      "weighted avg       0.81      0.82      0.81     15000\n",
      "\n"
     ]
    },
    {
     "ename": "NameError",
     "evalue": "name 'confusion_matrix' is not defined",
     "output_type": "error",
     "traceback": [
      "\u001b[1;31m---------------------------------------------------------------------------\u001b[0m",
      "\u001b[1;31mNameError\u001b[0m                                 Traceback (most recent call last)",
      "\u001b[1;32m<ipython-input-44-97076adcd92e>\u001b[0m in \u001b[0;36m<module>\u001b[1;34m\u001b[0m\n\u001b[0;32m     22\u001b[0m \u001b[1;33m\u001b[0m\u001b[0m\n\u001b[0;32m     23\u001b[0m \u001b[0mlosses5\u001b[0m\u001b[1;33m,\u001b[0m\u001b[0mtest_loss5\u001b[0m\u001b[1;33m,\u001b[0m\u001b[0mvalid_loss5\u001b[0m \u001b[1;33m=\u001b[0m \u001b[0mtrain\u001b[0m\u001b[1;33m(\u001b[0m\u001b[0msess\u001b[0m\u001b[1;33m,\u001b[0m\u001b[0my_final\u001b[0m\u001b[1;33m,\u001b[0m\u001b[0my_train_variable\u001b[0m\u001b[1;33m,\u001b[0m\u001b[0mx_placeholder\u001b[0m\u001b[1;33m,\u001b[0m \u001b[0mdynamic_rate\u001b[0m\u001b[1;33m=\u001b[0m\u001b[1;32mTrue\u001b[0m\u001b[1;33m,\u001b[0m \u001b[0mweighted_loss\u001b[0m\u001b[1;33m=\u001b[0m\u001b[1;32mFalse\u001b[0m\u001b[1;33m)\u001b[0m\u001b[1;33m\u001b[0m\u001b[1;33m\u001b[0m\u001b[0m\n\u001b[1;32m---> 24\u001b[1;33m \u001b[0mpredict\u001b[0m\u001b[1;33m(\u001b[0m\u001b[0msess\u001b[0m\u001b[1;33m,\u001b[0m\u001b[0mx_test\u001b[0m\u001b[1;33m,\u001b[0m\u001b[0mx_placeholder\u001b[0m\u001b[1;33m,\u001b[0m\u001b[0my_final\u001b[0m\u001b[1;33m)\u001b[0m\u001b[1;33m\u001b[0m\u001b[1;33m\u001b[0m\u001b[0m\n\u001b[0m",
      "\u001b[1;32m<ipython-input-29-713d74aa46cd>\u001b[0m in \u001b[0;36mpredict\u001b[1;34m(sess, X_test, x_placeholder, y_final, thr)\u001b[0m\n\u001b[0;32m      4\u001b[0m     \u001b[0mpredictions\u001b[0m\u001b[1;33m[\u001b[0m\u001b[0mpredictions\u001b[0m \u001b[1;33m<\u001b[0m \u001b[0mthr\u001b[0m\u001b[1;33m]\u001b[0m \u001b[1;33m=\u001b[0m \u001b[1;36m0\u001b[0m\u001b[1;33m\u001b[0m\u001b[1;33m\u001b[0m\u001b[0m\n\u001b[0;32m      5\u001b[0m     \u001b[0mprint\u001b[0m\u001b[1;33m(\u001b[0m\u001b[0mclassification_report\u001b[0m\u001b[1;33m(\u001b[0m\u001b[0my_test\u001b[0m\u001b[1;33m,\u001b[0m \u001b[0mpredictions\u001b[0m\u001b[1;33m)\u001b[0m\u001b[1;33m)\u001b[0m\u001b[1;33m\u001b[0m\u001b[1;33m\u001b[0m\u001b[0m\n\u001b[1;32m----> 6\u001b[1;33m     \u001b[0mcc\u001b[0m \u001b[1;33m=\u001b[0m \u001b[0mconfusion_matrix\u001b[0m\u001b[1;33m(\u001b[0m\u001b[0my_test\u001b[0m\u001b[1;33m,\u001b[0m \u001b[0mpredictions\u001b[0m\u001b[1;33m,\u001b[0m \u001b[0mlabels\u001b[0m\u001b[1;33m=\u001b[0m\u001b[1;33m[\u001b[0m\u001b[1;36m0\u001b[0m\u001b[1;33m,\u001b[0m \u001b[1;36m1\u001b[0m\u001b[1;33m]\u001b[0m\u001b[1;33m)\u001b[0m\u001b[1;33m\u001b[0m\u001b[1;33m\u001b[0m\u001b[0m\n\u001b[0m\u001b[0;32m      7\u001b[0m     \u001b[0msns\u001b[0m\u001b[1;33m.\u001b[0m\u001b[0mheatmap\u001b[0m\u001b[1;33m(\u001b[0m\u001b[0mcc\u001b[0m\u001b[1;33m,\u001b[0m \u001b[0mannot\u001b[0m\u001b[1;33m=\u001b[0m\u001b[1;32mTrue\u001b[0m\u001b[1;33m,\u001b[0m \u001b[0mfmt\u001b[0m\u001b[1;33m=\u001b[0m\u001b[1;34m\"g\"\u001b[0m\u001b[1;33m,\u001b[0m \u001b[0mcmap\u001b[0m\u001b[1;33m=\u001b[0m\u001b[1;34m'Blues'\u001b[0m\u001b[1;33m)\u001b[0m\u001b[1;33m\u001b[0m\u001b[1;33m\u001b[0m\u001b[0m\n\u001b[0;32m      8\u001b[0m     \u001b[0mplt\u001b[0m\u001b[1;33m.\u001b[0m\u001b[0mxlabel\u001b[0m\u001b[1;33m(\u001b[0m\u001b[1;34m\"Predicted label\"\u001b[0m\u001b[1;33m)\u001b[0m\u001b[1;33m\u001b[0m\u001b[1;33m\u001b[0m\u001b[0m\n",
      "\u001b[1;31mNameError\u001b[0m: name 'confusion_matrix' is not defined"
     ]
    }
   ],
   "source": [
    "config = tf.ConfigProto(device_count={\"CPU\": 8},inter_op_parallelism_threads=4,intra_op_parallelism_threads=4)\n",
    "sess = tf.Session(config=config)\n",
    "features = x_train.shape[1]\n",
    "x_placeholder = tf.placeholder(tf.float64, [None, features])\n",
    "y_train_variable = tf.placeholder(tf.float64, [None, 1])\n",
    "\n",
    "W = tf.Variable(tf.random.uniform([features, 100],dtype=tf.float64))\n",
    "b = tf.Variable(tf.random.uniform([100],dtype=tf.float64))\n",
    "y = tf.add(tf.matmul(x_placeholder, W), b)\n",
    "\n",
    "W1 = tf.Variable(tf.random.uniform([100, 60],dtype=tf.float64))\n",
    "b1 = tf.Variable(tf.random.uniform([60],dtype=tf.float64))\n",
    "y1 = tf.add(tf.matmul(y, W1), b1)\n",
    "\n",
    "W2 = tf.Variable(tf.random.uniform([60,20],dtype=tf.float64))\n",
    "b2 = tf.Variable(tf.random.uniform([20],dtype=tf.float64))\n",
    "y2 = tf.add(tf.matmul(y1, W2), b2)\n",
    "\n",
    "W3 = tf.Variable(tf.random.uniform([20,1],dtype=tf.float64))\n",
    "b3 = tf.Variable(tf.random.uniform([1],dtype=tf.float64))\n",
    "y_final = tf.add(tf.matmul(y2, W3), b3)\n",
    "\n",
    "losses5,test_loss5,valid_loss5 = train(sess,y_final,y_train_variable,x_placeholder, dynamic_rate=True, weighted_loss=False)\n",
    "predict(sess,x_test,x_placeholder,y_final)"
   ]
  },
  {
   "cell_type": "code",
   "execution_count": 50,
   "metadata": {
    "ExecuteTime": {
     "end_time": "2021-11-30T20:32:22.720618Z",
     "start_time": "2021-11-30T20:32:22.478098Z"
    }
   },
   "outputs": [
    {
     "data": {
      "image/png": "[encoded data removed]",
      "text/plain": [
       "<Figure size 432x288 with 1 Axes>"
      ]
     },
     "metadata": {
      "needs_background": "light"
     },
     "output_type": "display_data"
    }
   ],
   "source": [
    "plt.plot(valid_loss5[5:], label='validation loss', color='orange')\n",
    "plt.plot(losses5[5:], label='train loss', color='green')\n",
    "plt.xlabel('epoch', size = 15)\n",
    "plt.ylabel('loss', size = 15)\n",
    "plt.title('')\n",
    "plt.legend()\n",
    "plt.savefig('../graphs/over_sampeling')"
   ]
  },
  {
   "cell_type": "code",
   "execution_count": 51,
   "metadata": {
    "ExecuteTime": {
     "end_time": "2021-11-30T20:34:46.617319Z",
     "start_time": "2021-11-30T20:34:46.213366Z"
    }
   },
   "outputs": [
    {
     "data": {
      "image/png": "[encoded data removed]",
      "text/plain": [
       "<Figure size 432x288 with 2 Axes>"
      ]
     },
     "metadata": {
      "needs_background": "light"
     },
     "output_type": "display_data"
    }
   ],
   "source": [
    "mat = [[0.86, 0.90,0.88],\n",
    "        [0.69, 0.58, 0.63]]\n",
    "\n",
    "sns.heatmap(mat, annot=True)\n",
    "plt.xticks([0.5,1.5,2.5],['precision', 'recall', 'f1-score'])\n",
    "plt.title('over sampeling', size=15)\n",
    "plt.savefig('../graphs/cla_rep_over_sampeling')"
   ]
  },
  {
   "cell_type": "markdown",
   "metadata": {},
   "source": [
    "## weighted loss"
   ]
  },
  {
   "cell_type": "code",
   "execution_count": 31,
   "metadata": {
    "ExecuteTime": {
     "end_time": "2021-12-03T11:09:03.691209Z",
     "start_time": "2021-12-03T11:09:03.673406Z"
    }
   },
   "outputs": [],
   "source": [
    "learning_rate = 0.1\n",
    "epoch=100\n",
    "batch_size=200"
   ]
  },
  {
   "cell_type": "code",
   "execution_count": 85,
   "metadata": {
    "ExecuteTime": {
     "end_time": "2021-11-30T21:31:14.969156Z",
     "start_time": "2021-11-30T20:44:08.760579Z"
    }
   },
   "outputs": [
    {
     "name": "stdout",
     "output_type": "stream",
     "text": [
      "iteration 0: loss value is: 42.999705002401065\n",
      "iteration 1: loss value is: 3.3110151877281555\n",
      "iteration 2: loss value is: 2.6809482094045\n",
      "iteration 3: loss value is: 4.35929587078761\n",
      "=====change learning rate=========\n",
      "iteration 4: loss value is: 0.996490299523206\n",
      "iteration 5: loss value is: 1.0409285507326405\n",
      "=====change learning rate=========\n",
      "iteration 6: loss value is: 0.810626019982058\n",
      "iteration 7: loss value is: 0.8117193391299933\n",
      "=====change learning rate=========\n",
      "iteration 8: loss value is: 0.751557970034824\n",
      "iteration 9: loss value is: 0.7457766537968828\n",
      "iteration 10: loss value is: 0.7455080912272084\n",
      "iteration 11: loss value is: 0.7470325690043783\n",
      "=====change learning rate=========\n",
      "iteration 12: loss value is: 0.7385735099426955\n",
      "iteration 13: loss value is: 0.7351924405763105\n",
      "iteration 14: loss value is: 0.733862614315498\n",
      "iteration 15: loss value is: 0.7333679874767277\n",
      "iteration 16: loss value is: 0.7332645752373572\n",
      "iteration 17: loss value is: 0.7333982778596707\n",
      "=====change learning rate=========\n",
      "iteration 18: loss value is: 0.7329028064736423\n",
      "iteration 19: loss value is: 0.7325015725358959\n",
      "iteration 20: loss value is: 0.7321870343577747\n",
      "iteration 21: loss value is: 0.7319468844305638\n",
      "iteration 22: loss value is: 0.7317662644625893\n",
      "iteration 23: loss value is: 0.7316305515090573\n",
      "iteration 24: loss value is: 0.7315271642406129\n",
      "iteration 25: loss value is: 0.731446186476347\n",
      "iteration 26: loss value is: 0.7313802108150571\n",
      "iteration 27: loss value is: 0.7313238907553968\n",
      "iteration 28: loss value is: 0.731273462407309\n",
      "iteration 29: loss value is: 0.731226319953488\n",
      "iteration 30: loss value is: 0.7311806674019988\n",
      "iteration 31: loss value is: 0.7311352511488068\n",
      "iteration 32: loss value is: 0.7310891673924499\n",
      "iteration 33: loss value is: 0.7310417331945788\n",
      "iteration 34: loss value is: 0.7309924090550225\n",
      "iteration 35: loss value is: 0.7309407602927919\n",
      "iteration 36: loss value is: 0.7308864434034636\n",
      "iteration 37: loss value is: 0.7308292042183151\n",
      "iteration 38: loss value is: 0.7307688782033176\n",
      "iteration 39: loss value is: 0.7307053879536587\n",
      "iteration 40: loss value is: 0.7306387366989765\n",
      "iteration 41: loss value is: 0.730568998617841\n",
      "iteration 42: loss value is: 0.7304963073245332\n",
      "iteration 43: loss value is: 0.730420843705215\n",
      "iteration 44: loss value is: 0.7303428238675221\n",
      "iteration 45: loss value is: 0.7302624876345114\n",
      "iteration 46: loss value is: 0.7301800878721229\n",
      "iteration 47: loss value is: 0.7300958809444298\n",
      "iteration 48: loss value is: 0.7300101186207913\n",
      "iteration 49: loss value is: 0.7299230417114644\n",
      "iteration 50: loss value is: 0.729834875551477\n",
      "iteration 51: loss value is: 0.7297458272297151\n",
      "iteration 52: loss value is: 0.7296560842603569\n",
      "iteration 53: loss value is: 0.7295658142985005\n",
      "iteration 54: loss value is: 0.7294751655307222\n",
      "iteration 55: loss value is: 0.7293842674735441\n",
      "iteration 56: loss value is: 0.7292932320174412\n",
      "iteration 57: loss value is: 0.7292021546236935\n",
      "iteration 58: loss value is: 0.7291111156208379\n",
      "iteration 59: loss value is: 0.7290201815719344\n",
      "iteration 60: loss value is: 0.7289294066964742\n",
      "iteration 61: loss value is: 0.7288388343285492\n",
      "iteration 62: loss value is: 0.7287484983782646\n",
      "iteration 63: loss value is: 0.7286584247485745\n",
      "iteration 64: loss value is: 0.7285686326594883\n",
      "iteration 65: loss value is: 0.728479135843834\n",
      "iteration 66: loss value is: 0.728389943596503\n",
      "iteration 67: loss value is: 0.7283010616782383\n",
      "iteration 68: loss value is: 0.7282124930838597\n",
      "iteration 69: loss value is: 0.7281242386842243\n",
      "iteration 70: loss value is: 0.7280362977515659\n",
      "iteration 71: loss value is: 0.7279486683799097\n",
      "iteration 72: loss value is: 0.727861347814144\n",
      "iteration 73: loss value is: 0.72777433270306\n",
      "iteration 74: loss value is: 0.7276876192917725\n",
      "iteration 75: loss value is: 0.7276012035654098\n",
      "iteration 76: loss value is: 0.7275150813538485\n",
      "iteration 77: loss value is: 0.7274292484074002\n",
      "iteration 78: loss value is: 0.7273437004517658\n",
      "iteration 79: loss value is: 0.7272584332277136\n",
      "iteration 80: loss value is: 0.7271734425191078\n",
      "iteration 81: loss value is: 0.7270887241718293\n",
      "iteration 82: loss value is: 0.727004274105806\n",
      "iteration 83: loss value is: 0.7269200883226221\n",
      "iteration 84: loss value is: 0.7268361629113139\n",
      "iteration 85: loss value is: 0.7267524940532926\n",
      "iteration 86: loss value is: 0.726669078024846\n",
      "iteration 87: loss value is: 0.726585911195996\n",
      "iteration 88: loss value is: 0.7265029900269093\n",
      "iteration 89: loss value is: 0.7264203110640522\n",
      "iteration 90: loss value is: 0.7263378709368317\n",
      "iteration 91: loss value is: 0.7262556663537642\n",
      "iteration 92: loss value is: 0.7261736940981457\n",
      "iteration 93: loss value is: 0.72609195102462\n",
      "iteration 94: loss value is: 0.7260104340573987\n",
      "iteration 95: loss value is: 0.7259291401895344\n",
      "iteration 96: loss value is: 0.7258480664822005\n",
      "iteration 97: loss value is: 0.7257672100631534\n",
      "iteration 98: loss value is: 0.7256865681242183\n",
      "iteration 99: loss value is: 0.7256061379182452\n",
      "              precision    recall  f1-score   support\n",
      "\n",
      "         0.0       0.94      0.72      0.81     10967\n",
      "         1.0       0.53      0.87      0.66      4033\n",
      "\n",
      "    accuracy                           0.76     15000\n",
      "   macro avg       0.73      0.79      0.74     15000\n",
      "weighted avg       0.83      0.76      0.77     15000\n",
      "\n"
     ]
    },
    {
     "data": {
      "image/png": "[encoded data removed]",
      "text/plain": [
       "<Figure size 432x288 with 2 Axes>"
      ]
     },
     "metadata": {
      "needs_background": "light"
     },
     "output_type": "display_data"
    },
    {
     "data": {
      "text/plain": [
       "array([[1.],\n",
       "       [1.],\n",
       "       [1.],\n",
       "       ...,\n",
       "       [1.],\n",
       "       [0.],\n",
       "       [0.]])"
      ]
     },
     "execution_count": 85,
     "metadata": {},
     "output_type": "execute_result"
    }
   ],
   "source": [
    "config = tf.ConfigProto(device_count={\"CPU\": 8},inter_op_parallelism_threads=4,intra_op_parallelism_threads=4)\n",
    "sess = tf.Session(config=config)\n",
    "features = x_train.shape[1]\n",
    "x_placeholder = tf.placeholder(tf.float64, [None, features])\n",
    "y_train_variable = tf.placeholder(tf.float64, [None, 1])\n",
    "\n",
    "W = tf.Variable(tf.random.uniform([features, 100],dtype=tf.float64))\n",
    "b = tf.Variable(tf.random.uniform([100],dtype=tf.float64))\n",
    "y = tf.add(tf.matmul(x_placeholder, W), b)\n",
    "\n",
    "W1 = tf.Variable(tf.random.uniform([100, 60],dtype=tf.float64))\n",
    "b1 = tf.Variable(tf.random.uniform([60],dtype=tf.float64))\n",
    "y1 = tf.add(tf.matmul(y, W1), b1)\n",
    "\n",
    "W2 = tf.Variable(tf.random.uniform([60,20],dtype=tf.float64))\n",
    "b2 = tf.Variable(tf.random.uniform([20],dtype=tf.float64))\n",
    "y2 = tf.add(tf.matmul(y1, W2), b2)\n",
    "\n",
    "W3 = tf.Variable(tf.random.uniform([20,1],dtype=tf.float64))\n",
    "b3 = tf.Variable(tf.random.uniform([1],dtype=tf.float64))\n",
    "y_final = tf.add(tf.matmul(y2, W3), b3)\n",
    "\n",
    "losses6,test_loss6,valid_loss6 = train(sess,y_final,y_train_variable,x_placeholder, dynamic_rate=True, weighted_loss=True)\n",
    "predict(sess,x_test,x_placeholder,y_final)"
   ]
  },
  {
   "cell_type": "code",
   "execution_count": 86,
   "metadata": {
    "ExecuteTime": {
     "end_time": "2021-11-30T21:31:15.811841Z",
     "start_time": "2021-11-30T21:31:14.975139Z"
    }
   },
   "outputs": [
    {
     "data": {
      "image/png": "[encoded data removed]",
      "text/plain": [
       "<Figure size 432x288 with 1 Axes>"
      ]
     },
     "metadata": {
      "needs_background": "light"
     },
     "output_type": "display_data"
    }
   ],
   "source": [
    "plt.plot(valid_loss6, label='validation loss', color='orange')\n",
    "plt.plot(losses6, label='train loss', color='green')\n",
    "plt.xlabel('epoch', size = 15)\n",
    "plt.ylabel('loss', size = 15)\n",
    "plt.title('')\n",
    "plt.legend()\n",
    "plt.savefig('../graphs/weighted_loss')"
   ]
  },
  {
   "cell_type": "code",
   "execution_count": 7,
   "metadata": {
    "ExecuteTime": {
     "end_time": "2021-12-01T09:41:34.748464Z",
     "start_time": "2021-12-01T09:41:34.552414Z"
    }
   },
   "outputs": [
    {
     "data": {
      "image/png": "[encoded data removed]",
      "text/plain": [
       "<Figure size 432x288 with 2 Axes>"
      ]
     },
     "metadata": {
      "needs_background": "light"
     },
     "output_type": "display_data"
    }
   ],
   "source": [
    "mat = [[0.94, 0.72,0.81],\n",
    "        [0.53, 0.87, 0.66]]\n",
    "\n",
    "sns.heatmap(mat, annot=True)\n",
    "plt.xticks([0.5,1.5,2.5],['precision', 'recall', 'f1-score'])\n",
    "plt.title('weighted loss', size=15)\n",
    "plt.savefig('../graphs/cla_rep_weighed_loss')"
   ]
  },
  {
   "cell_type": "code",
   "execution_count": null,
   "metadata": {},
   "outputs": [],
   "source": []
  },
  {
   "cell_type": "code",
   "execution_count": null,
   "metadata": {},
   "outputs": [],
   "source": []
  },
  {
   "cell_type": "markdown",
   "metadata": {},
   "source": [
    "## finale train"
   ]
  },
  {
   "cell_type": "code",
   "execution_count": 36,
   "metadata": {
    "ExecuteTime": {
     "end_time": "2021-12-03T11:14:07.087520Z",
     "start_time": "2021-12-03T11:14:06.244736Z"
    }
   },
   "outputs": [],
   "source": [
    "x_train = np.concatenate((x_train,x_validation),axis=0) \n",
    "y_train = np.concatenate((y_train, y_validation), axis=0)"
   ]
  },
  {
   "cell_type": "code",
   "execution_count": 37,
   "metadata": {
    "ExecuteTime": {
     "end_time": "2021-12-03T11:14:08.190054Z",
     "start_time": "2021-12-03T11:14:08.174481Z"
    }
   },
   "outputs": [],
   "source": [
    "learning_rate = 0.1\n",
    "epoch=100\n",
    "batch_size=200"
   ]
  },
  {
   "cell_type": "code",
   "execution_count": 40,
   "metadata": {
    "ExecuteTime": {
     "end_time": "2021-12-03T12:26:49.397712Z",
     "start_time": "2021-12-03T11:38:42.094460Z"
    }
   },
   "outputs": [
    {
     "name": "stdout",
     "output_type": "stream",
     "text": [
      "iteration 0: loss value is: 38.33782191524188\n",
      "iteration 1: loss value is: 2.9448597411106427\n",
      "iteration 2: loss value is: 1.818516833555268\n",
      "iteration 3: loss value is: 2.7794412278169784\n",
      "=====change learning rate=========\n",
      "iteration 4: loss value is: 0.9915223874376412\n",
      "iteration 5: loss value is: 1.0037600143222698\n",
      "=====change learning rate=========\n",
      "iteration 6: loss value is: 0.8168075874098741\n",
      "iteration 7: loss value is: 0.8203675705406952\n",
      "=====change learning rate=========\n",
      "iteration 8: loss value is: 0.7526875029890557\n",
      "iteration 9: loss value is: 0.7495827282399184\n",
      "iteration 10: loss value is: 0.7514125458875803\n",
      "=====change learning rate=========\n",
      "iteration 11: loss value is: 0.7454057861396441\n",
      "iteration 12: loss value is: 0.7430286128139285\n",
      "iteration 13: loss value is: 0.7420171174694008\n",
      "iteration 14: loss value is: 0.7416228897438012\n",
      "iteration 15: loss value is: 0.7415613568207835\n",
      "iteration 16: loss value is: 0.7417189272930367\n",
      "=====change learning rate=========\n",
      "iteration 17: loss value is: 0.7412405451145005\n",
      "iteration 18: loss value is: 0.7408869520862821\n",
      "iteration 19: loss value is: 0.7406274770672933\n",
      "iteration 20: loss value is: 0.7404354248345583\n",
      "iteration 21: loss value is: 0.7402916640928139\n",
      "iteration 22: loss value is: 0.7401824683298664\n",
      "iteration 23: loss value is: 0.7400975128933842\n",
      "iteration 24: loss value is: 0.7400289549746759\n",
      "iteration 25: loss value is: 0.7399709229496781\n",
      "iteration 26: loss value is: 0.7399190451768074\n",
      "iteration 27: loss value is: 0.7398700500971913\n",
      "iteration 28: loss value is: 0.7398215029572007\n",
      "iteration 29: loss value is: 0.7397716531896775\n",
      "iteration 30: loss value is: 0.739719322938041\n",
      "iteration 31: loss value is: 0.7396637910651662\n",
      "iteration 32: loss value is: 0.7396046715436507\n",
      "iteration 33: loss value is: 0.7395418067007301\n",
      "iteration 34: loss value is: 0.7394751897551913\n",
      "iteration 35: loss value is: 0.7394049168471348\n",
      "iteration 36: loss value is: 0.7393311600302068\n",
      "iteration 37: loss value is: 0.7392541509955053\n",
      "iteration 38: loss value is: 0.7391741678017417\n",
      "iteration 39: loss value is: 0.7390915209941518\n",
      "iteration 40: loss value is: 0.7390065390511711\n",
      "iteration 41: loss value is: 0.7389195546884328\n",
      "iteration 42: loss value is: 0.7388308932677792\n",
      "iteration 43: loss value is: 0.7387408636081402\n",
      "iteration 44: loss value is: 0.738649750954683\n",
      "iteration 45: loss value is: 0.7385578119373223\n",
      "iteration 46: loss value is: 0.7384652715678836\n",
      "iteration 47: loss value is: 0.7383723222847101\n",
      "iteration 48: loss value is: 0.7382791247987146\n",
      "iteration 49: loss value is: 0.7381858102698803\n",
      "iteration 50: loss value is: 0.7380924832919448\n",
      "iteration 51: loss value is: 0.7379992252648421\n",
      "iteration 52: loss value is: 0.7379060978713048\n",
      "iteration 53: loss value is: 0.7378131464672547\n",
      "iteration 54: loss value is: 0.7377204032442589\n",
      "iteration 55: loss value is: 0.7376278900657302\n",
      "iteration 56: loss value is: 0.7375356209051915\n",
      "iteration 57: loss value is: 0.7374436038492351\n",
      "iteration 58: loss value is: 0.7373518426797862\n",
      "iteration 59: loss value is: 0.7372603380904604\n",
      "iteration 60: loss value is: 0.7371690886060873\n",
      "iteration 61: loss value is: 0.7370780912689947\n",
      "iteration 62: loss value is: 0.7369873421442166\n",
      "iteration 63: loss value is: 0.7368968366860252\n",
      "iteration 64: loss value is: 0.7368065699996659\n",
      "iteration 65: loss value is: 0.7367165370244709\n",
      "iteration 66: loss value is: 0.7366267326583348\n",
      "iteration 67: loss value is: 0.7365371518395349\n",
      "iteration 68: loss value is: 0.7364477895984501\n",
      "iteration 69: loss value is: 0.7363586410886107\n",
      "iteration 70: loss value is: 0.7362697016039146\n",
      "iteration 71: loss value is: 0.7361809665878348\n",
      "iteration 72: loss value is: 0.7360924316400715\n",
      "iteration 73: loss value is: 0.7360040925182002\n",
      "iteration 74: loss value is: 0.735915945127151\n",
      "iteration 75: loss value is: 0.7358279855095837\n",
      "iteration 76: loss value is: 0.7357402098431741\n",
      "iteration 77: loss value is: 0.7356526144379721\n",
      "iteration 78: loss value is: 0.7355651957312216\n",
      "iteration 79: loss value is: 0.7354779502805188\n",
      "iteration 80: loss value is: 0.7353908747567992\n",
      "iteration 81: loss value is: 0.7353039659397922\n",
      "iteration 82: loss value is: 0.7352172207160756\n",
      "iteration 83: loss value is: 0.7351306360775955\n",
      "iteration 84: loss value is: 0.7350442091164989\n",
      "iteration 85: loss value is: 0.7349579370167966\n",
      "iteration 86: loss value is: 0.7348718170476621\n",
      "iteration 87: loss value is: 0.7347858465579056\n",
      "iteration 88: loss value is: 0.7347000229722177\n",
      "iteration 89: loss value is: 0.734614343790779\n",
      "iteration 90: loss value is: 0.7345288065890588\n",
      "iteration 91: loss value is: 0.7344434090146897\n",
      "iteration 92: loss value is: 0.7343581487833463\n",
      "iteration 93: loss value is: 0.7342730236760644\n",
      "iteration 94: loss value is: 0.7341880315375441\n",
      "iteration 95: loss value is: 0.7341031702729058\n",
      "iteration 96: loss value is: 0.7340184378437069\n",
      "iteration 97: loss value is: 0.7339338322654594\n",
      "iteration 98: loss value is: 0.7338493516061357\n",
      "iteration 99: loss value is: 0.7337649939847168\n",
      "              precision    recall  f1-score   support\n",
      "\n",
      "         0.0       0.93      0.72      0.81     10967\n",
      "         1.0       0.53      0.86      0.66      4033\n",
      "\n",
      "    accuracy                           0.76     15000\n",
      "   macro avg       0.73      0.79      0.73     15000\n",
      "weighted avg       0.83      0.76      0.77     15000\n",
      "\n"
     ]
    },
    {
     "data": {
      "image/png": "[encoded data removed]",
      "text/plain": [
       "<Figure size 432x288 with 2 Axes>"
      ]
     },
     "metadata": {
      "needs_background": "light"
     },
     "output_type": "display_data"
    },
    {
     "data": {
      "text/plain": [
       "array([[1.],\n",
       "       [0.],\n",
       "       [0.],\n",
       "       ...,\n",
       "       [0.],\n",
       "       [0.],\n",
       "       [0.]])"
      ]
     },
     "execution_count": 40,
     "metadata": {},
     "output_type": "execute_result"
    }
   ],
   "source": [
    "config = tf.ConfigProto(device_count={\"CPU\": 8},inter_op_parallelism_threads=4,intra_op_parallelism_threads=4)\n",
    "sess = tf.Session(config=config)\n",
    "features = x_train.shape[1]\n",
    "x_placeholder = tf.placeholder(tf.float64, [None, features])\n",
    "y_train_variable = tf.placeholder(tf.float64, [None, 1])\n",
    "\n",
    "W = tf.Variable(tf.random.uniform([features, 100],dtype=tf.float64))\n",
    "b = tf.Variable(tf.random.uniform([100],dtype=tf.float64))\n",
    "y = tf.add(tf.matmul(x_placeholder, W), b)\n",
    "\n",
    "W1 = tf.Variable(tf.random.uniform([100, 60],dtype=tf.float64))\n",
    "b1 = tf.Variable(tf.random.uniform([60],dtype=tf.float64))\n",
    "y1 = tf.add(tf.matmul(y, W1), b1)\n",
    "\n",
    "W2 = tf.Variable(tf.random.uniform([60,20],dtype=tf.float64))\n",
    "b2 = tf.Variable(tf.random.uniform([20],dtype=tf.float64))\n",
    "y2 = tf.add(tf.matmul(y1, W2), b2)\n",
    "\n",
    "W3 = tf.Variable(tf.random.uniform([20,1],dtype=tf.float64))\n",
    "b3 = tf.Variable(tf.random.uniform([1],dtype=tf.float64))\n",
    "y_final = tf.add(tf.matmul(y2, W3), b3)\n",
    "\n",
    "losses7,test_loss7,valid_loss7 = train(sess,y_final,y_train_variable,x_placeholder, dynamic_rate=True, weighted_loss=True)\n",
    "predict(sess,x_test,x_placeholder,y_final)"
   ]
  },
  {
   "cell_type": "code",
   "execution_count": 44,
   "metadata": {
    "ExecuteTime": {
     "end_time": "2021-12-03T12:28:20.484575Z",
     "start_time": "2021-12-03T12:28:19.968920Z"
    }
   },
   "outputs": [
    {
     "data": {
      "image/png": "[encoded data removed]",
      "text/plain": [
       "<Figure size 432x288 with 2 Axes>"
      ]
     },
     "metadata": {
      "needs_background": "light"
     },
     "output_type": "display_data"
    }
   ],
   "source": [
    "mat = [[0.93, 0.72,0.81],\n",
    "        [0.53, 0.86, 0.66]]\n",
    "\n",
    "sns.heatmap(mat, annot=True)\n",
    "plt.xticks([0.5,1.5,2.5],['precision', 'recall', 'f1-score'])\n",
    "plt.title('', size=15)\n",
    "plt.savefig('../Reports/graphs/cla_report_finale_mlp')"
   ]
  },
  {
   "cell_type": "code",
   "execution_count": null,
   "metadata": {},
   "outputs": [],
   "source": []
  },
  {
   "cell_type": "markdown",
   "metadata": {},
   "source": [
    "# sklearn mlp"
   ]
  },
  {
   "cell_type": "code",
   "execution_count": 39,
   "metadata": {
    "ExecuteTime": {
     "end_time": "2021-11-30T09:55:05.100076Z",
     "start_time": "2021-11-30T09:55:05.083667Z"
    }
   },
   "outputs": [
    {
     "data": {
      "text/plain": [
       "(70000, 3274)"
      ]
     },
     "execution_count": 39,
     "metadata": {},
     "output_type": "execute_result"
    }
   ],
   "source": [
    "# x_train,y_train.values,x_test,y_test.values,x_validation, y_validation.values\n",
    "x_train.shape"
   ]
  },
  {
   "cell_type": "code",
   "execution_count": 40,
   "metadata": {
    "ExecuteTime": {
     "end_time": "2021-11-30T09:55:06.307198Z",
     "start_time": "2021-11-30T09:55:06.273011Z"
    }
   },
   "outputs": [],
   "source": [
    "from sklearn.neural_network import MLPClassifier\n",
    "from sklearn.metrics import confusion_matrix"
   ]
  },
  {
   "cell_type": "code",
   "execution_count": 24,
   "metadata": {
    "ExecuteTime": {
     "end_time": "2021-11-28T11:12:45.019907Z",
     "start_time": "2021-11-28T11:12:45.006744Z"
    }
   },
   "outputs": [],
   "source": [
    "def mlp_pipeline(clf):\n",
    "    clf.fit(x_train, y_train.values)\n",
    "    predictions = clf.predict(x_validation)\n",
    "    print(classification_report(y_validation.values, predictions))\n",
    "    cc = confusion_matrix(y_validation, predictions, labels=[0, 1])\n",
    "    sns.heatmap(cc, annot=True, fmt=\"g\", cmap='Blues')\n",
    "    plt.xlabel(\"Predicted label\")\n",
    "    plt.title(\"Confusion Matrix\")\n",
    "    plt.ylabel(\"True label\")\n",
    "    plt.show()"
   ]
  },
  {
   "cell_type": "code",
   "execution_count": 31,
   "metadata": {
    "ExecuteTime": {
     "end_time": "2021-11-28T10:57:23.080873Z",
     "start_time": "2021-11-28T10:57:23.055669Z"
    }
   },
   "outputs": [],
   "source": [
    "clf1 = MLPClassifier(random_state=1,learning_rate_init=0.01,batch_size=200,activation=\"relu\",\n",
    "                    hidden_layer_sizes=(1000,500,100),solver='adam',max_iter=100,verbose=True)"
   ]
  },
  {
   "cell_type": "code",
   "execution_count": 30,
   "metadata": {
    "ExecuteTime": {
     "end_time": "2021-11-28T10:54:11.486715Z",
     "start_time": "2021-11-28T10:37:45.507178Z"
    }
   },
   "outputs": [
    {
     "name": "stdout",
     "output_type": "stream",
     "text": [
      "Iteration 1, loss = 0.49186077\n",
      "Iteration 2, loss = 0.33885007\n",
      "Iteration 3, loss = 0.28019483\n",
      "Iteration 4, loss = 0.25849795\n",
      "Iteration 5, loss = 0.26839807\n",
      "Iteration 6, loss = 0.27504068\n",
      "Iteration 7, loss = 0.30506439\n",
      "Iteration 8, loss = 0.30173568\n",
      "Iteration 9, loss = 0.31940272\n",
      "Iteration 10, loss = 0.31854720\n",
      "Iteration 11, loss = 0.38491808\n",
      "Iteration 12, loss = 0.33769531\n",
      "Iteration 13, loss = 0.33362320\n",
      "Iteration 14, loss = 0.31822858\n",
      "Iteration 15, loss = 0.51952984\n",
      "Training loss did not improve more than tol=0.000100 for 10 consecutive epochs. Stopping.\n",
      "              precision    recall  f1-score   support\n",
      "\n",
      "         0.0       0.74      1.00      0.85     11002\n",
      "         1.0       0.93      0.05      0.10      3998\n",
      "\n",
      "    accuracy                           0.75     15000\n",
      "   macro avg       0.84      0.53      0.48     15000\n",
      "weighted avg       0.79      0.75      0.65     15000\n",
      "\n"
     ]
    },
    {
     "data": {
      "image/png": "[encoded data removed]",
      "text/plain": [
       "<Figure size 432x288 with 2 Axes>"
      ]
     },
     "metadata": {
      "needs_background": "light"
     },
     "output_type": "display_data"
    }
   ],
   "source": [
    "mlp_pipeline(clf1)"
   ]
  },
  {
   "cell_type": "code",
   "execution_count": 34,
   "metadata": {
    "ExecuteTime": {
     "end_time": "2021-11-28T12:37:30.937250Z",
     "start_time": "2021-11-28T12:37:30.934025Z"
    }
   },
   "outputs": [],
   "source": [
    "losses = [0.49186077,0.33885007,0.28019483,0.25849795,0.26839807,0.27504068,0.30506439,0.30173568,0.31940272,0.31854720,0.38491808,0.33769531,0.33362320,0.31822858,0.51952984]"
   ]
  },
  {
   "cell_type": "code",
   "execution_count": 36,
   "metadata": {
    "ExecuteTime": {
     "end_time": "2021-11-28T12:38:14.654865Z",
     "start_time": "2021-11-28T12:38:14.539873Z"
    }
   },
   "outputs": [
    {
     "data": {
      "text/plain": [
       "[<matplotlib.lines.Line2D at 0x21ac989ef40>]"
      ]
     },
     "execution_count": 36,
     "metadata": {},
     "output_type": "execute_result"
    },
    {
     "data": {
      "image/png": "[encoded data removed]",
      "text/plain": [
       "<Figure size 432x288 with 1 Axes>"
      ]
     },
     "metadata": {
      "needs_background": "light"
     },
     "output_type": "display_data"
    }
   ],
   "source": [
    "plt.xlabel(\"epoch\", fontsize=18)\n",
    "plt.ylabel(\"loss value\",fontsize=18)\n",
    "plt.title(\"Loss Function\", fontsize = 25)\n",
    "plt.plot(losses)"
   ]
  },
  {
   "cell_type": "code",
   "execution_count": 26,
   "metadata": {
    "ExecuteTime": {
     "end_time": "2021-11-28T11:13:38.756579Z",
     "start_time": "2021-11-28T11:13:38.753590Z"
    }
   },
   "outputs": [],
   "source": [
    "clf4 = MLPClassifier(random_state=1,learning_rate_init=0.01,batch_size=200,activation=\"relu\",\n",
    "                    hidden_layer_sizes=(500,100),solver='adam',max_iter=100,verbose=True,learning_rate=\"adaptive\")"
   ]
  },
  {
   "cell_type": "code",
   "execution_count": 27,
   "metadata": {
    "ExecuteTime": {
     "end_time": "2021-11-28T11:28:45.025386Z",
     "start_time": "2021-11-28T11:13:49.372631Z"
    }
   },
   "outputs": [
    {
     "name": "stdout",
     "output_type": "stream",
     "text": [
      "Iteration 1, loss = 0.45095640\n",
      "Iteration 2, loss = 0.32264742\n",
      "Iteration 3, loss = 0.28246963\n",
      "Iteration 4, loss = 0.25420961\n",
      "Iteration 5, loss = 0.22714410\n",
      "Iteration 6, loss = 0.21668556\n",
      "Iteration 7, loss = 0.20236626\n",
      "Iteration 8, loss = 0.19336735\n",
      "Iteration 9, loss = 0.25130103\n",
      "Iteration 10, loss = 0.26460682\n",
      "Iteration 11, loss = 0.24749870\n",
      "Iteration 12, loss = 0.21447996\n",
      "Iteration 13, loss = 0.18785226\n",
      "Iteration 14, loss = 0.17101251\n",
      "Iteration 15, loss = 0.16755544\n",
      "Iteration 16, loss = 0.16009359\n",
      "Iteration 17, loss = 0.15640802\n",
      "Iteration 18, loss = 0.15560491\n",
      "Iteration 19, loss = 0.19960598\n",
      "Iteration 20, loss = 0.21710439\n",
      "Iteration 21, loss = 0.21891133\n",
      "Iteration 22, loss = 0.23245732\n",
      "Iteration 23, loss = 0.22602136\n",
      "Iteration 24, loss = 0.22045110\n",
      "Iteration 25, loss = 0.21191584\n",
      "Iteration 26, loss = 0.21565911\n",
      "Iteration 27, loss = 0.20165730\n",
      "Iteration 28, loss = 0.19929792\n",
      "Iteration 29, loss = 0.20204708\n",
      "Training loss did not improve more than tol=0.000100 for 10 consecutive epochs. Stopping.\n",
      "              precision    recall  f1-score   support\n",
      "\n",
      "         0.0       0.88      0.94      0.91     11002\n",
      "         1.0       0.80      0.65      0.72      3998\n",
      "\n",
      "    accuracy                           0.86     15000\n",
      "   macro avg       0.84      0.80      0.82     15000\n",
      "weighted avg       0.86      0.86      0.86     15000\n",
      "\n"
     ]
    },
    {
     "data": {
      "image/png": "[encoded data removed]",
      "text/plain": [
       "<Figure size 432x288 with 2 Axes>"
      ]
     },
     "metadata": {
      "needs_background": "light"
     },
     "output_type": "display_data"
    }
   ],
   "source": [
    "mlp_pipeline(clf4)"
   ]
  },
  {
   "cell_type": "code",
   "execution_count": 29,
   "metadata": {
    "ExecuteTime": {
     "end_time": "2021-11-28T11:37:42.647265Z",
     "start_time": "2021-11-28T11:37:36.889514Z"
    }
   },
   "outputs": [],
   "source": [
    "# oversample implementation\n",
    "from imblearn.over_sampling import SMOTE\n",
    "\n",
    "from imblearn import under_sampling, over_sampling\n",
    "from imblearn.over_sampling import RandomOverSampler \n",
    "oversample = RandomOverSampler(random_state=42,sampling_strategy=0.9)\n",
    "x_train, y_train = oversample.fit_resample(x_train, y_train)"
   ]
  },
  {
   "cell_type": "code",
   "execution_count": 31,
   "metadata": {
    "ExecuteTime": {
     "end_time": "2021-11-28T12:05:34.467989Z",
     "start_time": "2021-11-28T11:39:02.586031Z"
    }
   },
   "outputs": [
    {
     "name": "stdout",
     "output_type": "stream",
     "text": [
      "Iteration 1, loss = 0.45326188\n",
      "Iteration 2, loss = 0.31300272\n",
      "Iteration 3, loss = 0.25596418\n",
      "Iteration 4, loss = 0.23238772\n",
      "Iteration 5, loss = 0.21124959\n",
      "Iteration 6, loss = 0.20251263\n",
      "Iteration 7, loss = 0.20501424\n",
      "Iteration 8, loss = 0.18075419\n",
      "Iteration 9, loss = 0.17299856\n",
      "Iteration 10, loss = 0.19146705\n",
      "Iteration 11, loss = 0.26030485\n",
      "Iteration 12, loss = 0.20467961\n",
      "Iteration 13, loss = 0.18405184\n",
      "Iteration 14, loss = 0.16926886\n",
      "Iteration 15, loss = 0.16930555\n",
      "Iteration 16, loss = 0.16689334\n",
      "Iteration 17, loss = 0.16862678\n",
      "Iteration 18, loss = 0.16211799\n",
      "Iteration 19, loss = 0.21781083\n",
      "Iteration 20, loss = 0.15842945\n",
      "Iteration 21, loss = 0.14819519\n",
      "Iteration 22, loss = 0.14282927\n",
      "Iteration 23, loss = 0.13915942\n",
      "Iteration 24, loss = 0.14382271\n",
      "Iteration 25, loss = 0.13579911\n",
      "Iteration 26, loss = 0.13237113\n",
      "Iteration 27, loss = 0.17389022\n",
      "Iteration 28, loss = 0.22270478\n",
      "Iteration 29, loss = 0.24749279\n",
      "Iteration 30, loss = 0.22262463\n",
      "Iteration 31, loss = 0.18442084\n",
      "Iteration 32, loss = 0.16616887\n",
      "Iteration 33, loss = 0.15817996\n",
      "Iteration 34, loss = 0.15194009\n",
      "Iteration 35, loss = 0.14625856\n",
      "Iteration 36, loss = 0.13994415\n",
      "Iteration 37, loss = 0.14281336\n",
      "Training loss did not improve more than tol=0.000100 for 10 consecutive epochs. Stopping.\n",
      "              precision    recall  f1-score   support\n",
      "\n",
      "         0.0       0.91      0.89      0.90     11002\n",
      "         1.0       0.72      0.77      0.74      3998\n",
      "\n",
      "    accuracy                           0.86     15000\n",
      "   macro avg       0.82      0.83      0.82     15000\n",
      "weighted avg       0.86      0.86      0.86     15000\n",
      "\n"
     ]
    },
    {
     "data": {
      "image/png": "[encoded data removed]",
      "text/plain": [
       "<Figure size 432x288 with 2 Axes>"
      ]
     },
     "metadata": {
      "needs_background": "light"
     },
     "output_type": "display_data"
    }
   ],
   "source": [
    "mlp_pipeline(clf4)"
   ]
  },
  {
   "cell_type": "code",
   "execution_count": 35,
   "metadata": {
    "ExecuteTime": {
     "end_time": "2021-11-28T12:37:46.373612Z",
     "start_time": "2021-11-28T12:37:46.250607Z"
    }
   },
   "outputs": [
    {
     "data": {
      "text/plain": [
       "[<matplotlib.lines.Line2D at 0x21a99bef6d0>]"
      ]
     },
     "execution_count": 35,
     "metadata": {},
     "output_type": "execute_result"
    },
    {
     "data": {
      "image/png": "[encoded data removed]",
      "text/plain": [
       "<Figure size 432x288 with 1 Axes>"
      ]
     },
     "metadata": {
      "needs_background": "light"
     },
     "output_type": "display_data"
    }
   ],
   "source": [
    "plt.xlabel(\"epoch\", fontsize=18)\n",
    "plt.ylabel(\"loss value\",fontsize=18)\n",
    "plt.title(\"Loss Function\", fontsize = 25)\n",
    "plt.plot(clf4.loss_curve_)"
   ]
  },
  {
   "cell_type": "code",
   "execution_count": null,
   "metadata": {},
   "outputs": [],
   "source": []
  },
  {
   "cell_type": "code",
   "execution_count": 37,
   "metadata": {
    "ExecuteTime": {
     "end_time": "2021-11-28T12:47:59.965840Z",
     "start_time": "2021-11-28T12:47:59.944841Z"
    }
   },
   "outputs": [],
   "source": [
    "clf2 = MLPClassifier(random_state=1,learning_rate_init=0.01,batch_size=200,activation=\"relu\",\n",
    "                    hidden_layer_sizes=(1000,500,100,50),solver='adam',max_iter=10000,verbose=True)"
   ]
  },
  {
   "cell_type": "code",
   "execution_count": 38,
   "metadata": {
    "ExecuteTime": {
     "end_time": "2021-11-28T13:21:30.082980Z",
     "start_time": "2021-11-28T12:48:14.369724Z"
    }
   },
   "outputs": [
    {
     "name": "stdout",
     "output_type": "stream",
     "text": [
      "Iteration 1, loss = 0.48971795\n",
      "Iteration 2, loss = 0.30826715\n",
      "Iteration 3, loss = 0.24823736\n",
      "Iteration 4, loss = 0.20594403\n",
      "Iteration 5, loss = 0.19883064\n",
      "Iteration 6, loss = 0.18704543\n",
      "Iteration 7, loss = 0.19016211\n",
      "Iteration 8, loss = 0.17450848\n",
      "Iteration 9, loss = 0.16860291\n",
      "Iteration 10, loss = 0.18233587\n",
      "Iteration 11, loss = 0.19114677\n",
      "Iteration 12, loss = 0.17953748\n",
      "Iteration 13, loss = 0.17655120\n",
      "Iteration 14, loss = 0.19815418\n",
      "Iteration 15, loss = 0.22945104\n",
      "Iteration 16, loss = 0.26846874\n",
      "Iteration 17, loss = 0.29312804\n",
      "Iteration 18, loss = 0.22359564\n",
      "Iteration 19, loss = 0.19047879\n",
      "Iteration 20, loss = 0.18133550\n",
      "Training loss did not improve more than tol=0.000100 for 10 consecutive epochs. Stopping.\n",
      "              precision    recall  f1-score   support\n",
      "\n",
      "         0.0       0.91      0.91      0.91     11002\n",
      "         1.0       0.75      0.76      0.76      3998\n",
      "\n",
      "    accuracy                           0.87     15000\n",
      "   macro avg       0.83      0.83      0.83     15000\n",
      "weighted avg       0.87      0.87      0.87     15000\n",
      "\n"
     ]
    },
    {
     "data": {
      "image/png": "[encoded data removed]",
      "text/plain": [
       "<Figure size 432x288 with 2 Axes>"
      ]
     },
     "metadata": {
      "needs_background": "light"
     },
     "output_type": "display_data"
    }
   ],
   "source": [
    "mlp_pipeline(clf2)"
   ]
  },
  {
   "cell_type": "code",
   "execution_count": 39,
   "metadata": {
    "ExecuteTime": {
     "end_time": "2021-11-28T13:21:30.368981Z",
     "start_time": "2021-11-28T13:21:30.237980Z"
    }
   },
   "outputs": [
    {
     "data": {
      "text/plain": [
       "[<matplotlib.lines.Line2D at 0x21aca958490>]"
      ]
     },
     "execution_count": 39,
     "metadata": {},
     "output_type": "execute_result"
    },
    {
     "data": {
      "image/png": "[encoded data removed]",
      "text/plain": [
       "<Figure size 432x288 with 1 Axes>"
      ]
     },
     "metadata": {
      "needs_background": "light"
     },
     "output_type": "display_data"
    }
   ],
   "source": [
    "plt.xlabel(\"epoch\", fontsize=18)\n",
    "plt.ylabel(\"loss value\",fontsize=18)\n",
    "plt.title(\"Loss Function\", fontsize = 25)\n",
    "plt.plot(clf2.loss_curve_)"
   ]
  },
  {
   "cell_type": "code",
   "execution_count": null,
   "metadata": {},
   "outputs": [],
   "source": [
    "clf3 = MLPClassifier(random_state=1,learning_rate_init=0.01,batch_size=200,activation=\"relu\",\n",
    "                    hidden_layer_sizes=(1000,500,100),solver='sgd',max_iter=10000,verbose=True)"
   ]
  }
 ],
 "metadata": {
  "kernelspec": {
   "display_name": "Python 3",
   "language": "python",
   "name": "python3"
  },
  "language_info": {
   "codemirror_mode": {
    "name": "ipython",
    "version": 3
   },
   "file_extension": ".py",
   "mimetype": "text/x-python",
   "name": "python",
   "nbconvert_exporter": "python",
   "pygments_lexer": "ipython3",
   "version": "3.7.7"
  },
  "toc": {
   "base_numbering": 1,
   "nav_menu": {},
   "number_sections": true,
   "sideBar": true,
   "skip_h1_title": false,
   "title_cell": "Table of Contents",
   "title_sidebar": "Contents",
   "toc_cell": false,
   "toc_position": {},
   "toc_section_display": true,
   "toc_window_display": false
  },
  "varInspector": {
   "cols": {
    "lenName": 16,
    "lenType": 16,
    "lenVar": 40
   },
   "kernels_config": {
    "python": {
     "delete_cmd_postfix": "",
     "delete_cmd_prefix": "del ",
     "library": "var_list.py",
     "varRefreshCmd": "print(var_dic_list())"
    },
    "r": {
     "delete_cmd_postfix": ") ",
     "delete_cmd_prefix": "rm(",
     "library": "var_list.r",
     "varRefreshCmd": "cat(var_dic_list()) "
    }
   },
   "types_to_exclude": [
    "module",
    "function",
    "builtin_function_or_method",
    "instance",
    "_Feature"
   ],
   "window_display": false
  }
 },
 "nbformat": 4,
 "nbformat_minor": 4
}
