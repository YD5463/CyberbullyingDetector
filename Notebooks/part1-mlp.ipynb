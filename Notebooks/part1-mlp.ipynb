{
 "cells": [
  {
   "cell_type": "markdown",
   "metadata": {},
   "source": [
    "# Cyber Bullying Detector"
   ]
  },
  {
   "cell_type": "code",
   "execution_count": 3,
   "metadata": {
    "ExecuteTime": {
     "end_time": "2021-12-01T12:34:18.803407Z",
     "start_time": "2021-12-01T12:34:12.995598Z"
    }
   },
   "outputs": [
    {
     "name": "stdout",
     "output_type": "stream",
     "text": [
      "WARNING:tensorflow:From C:\\Users\\nir son\\AppData\\Local\\Continuum\\anaconda3\\lib\\site-packages\\tensorflow\\python\\compat\\v2_compat.py:111: disable_resource_variables (from tensorflow.python.ops.variable_scope) is deprecated and will be removed in a future version.\n",
      "Instructions for updating:\n",
      "non-resource variables are not supported in the long term\n"
     ]
    }
   ],
   "source": [
    "from typing import List\n",
    "import nltk\n",
    "import os\n",
    "import numpy as np\n",
    "import pandas as pd\n",
    "import string\n",
    "from nltk.corpus import stopwords\n",
    "from enchant.checker import SpellChecker\n",
    "# from nltk.stem import WordNetLemmatizer\n",
    "import swifter\n",
    "import tensorflow.compat.v1 as tf\n",
    "import math\n",
    "from collections import Counter\n",
    "import re\n",
    "tf.disable_v2_behavior()"
   ]
  },
  {
   "cell_type": "code",
   "execution_count": null,
   "metadata": {},
   "outputs": [],
   "source": []
  },
  {
   "cell_type": "code",
   "execution_count": 12,
   "metadata": {
    "ExecuteTime": {
     "end_time": "2021-12-01T12:45:26.426852Z",
     "start_time": "2021-12-01T12:45:26.389951Z"
    }
   },
   "outputs": [],
   "source": [
    "def train_test_split(X, y, test_size, random_state):\n",
    "    # x_train, y_train, x_test, y_test\n",
    "    np.random.seed(random_state)\n",
    "    num_rows = X.shape[0]\n",
    "    mask_train = np.zeros(num_rows, dtype=bool)\n",
    "    mask_train[np.random.choice(num_rows, int(num_rows * test_size), replace=False)] = True\n",
    "    return X[~mask_train], X[mask_train], y[~mask_train], y[mask_train]\n",
    "\n",
    "\n",
    "x_train, x_test, y_train, y_test = train_test_split(X.values, y.values, test_size=0.3, random_state=1)\n",
    "x_test, x_validation, y_test, y_validation = train_test_split(x_test, y_test, test_size=0.5, random_state=1)\n",
    "\n",
    "\n",
    "\n",
    "def classification_report(y_true: np.ndarray, y_pred: np.ndarray) -> np.ndarray:\n",
    "    TP = y_pred[y_pred[y_true == 0] == 0].size\n",
    "    TN = y_pred[y_pred[y_true == 1] == 1].size\n",
    "    FP = y_pred[y_pred[y_true == 0] == 1].size\n",
    "    FN = y_pred[y_pred[y_true == 1] == 0].size\n",
    "    precision_0 = TP/(TP+FP)\n",
    "    precision_1 = TN / (TN+FN)\n",
    "    recall_0 = TP / (TP+FN)\n",
    "    recall_1 = TN / (TN + FP)\n",
    "    f_score_0 = 2*precision_0*recall_0/(precision_0+recall_0)\n",
    "    f_score_1 = 2 * precision_1 * recall_1 / (precision_1 + recall_1)\n",
    "    print(\"\\tprecision\\trecall\\tf1-score\")\n",
    "    print(f\"0\\t  {precision_0}\\t {recall_0}\\t {f_score_0}\\n1\\t  {precision_1}\\t {recall_1}\\t {f_score_1}\")\n",
    "    print(f\"accuracy\\t\\t\\t{(TP+TN)/(TP+FP+TN+FN)}\")\n",
    "    return np.array([[TP,FN],[FP,TN]])\n"
   ]
  },
  {
   "cell_type": "code",
   "execution_count": 3,
   "metadata": {
    "ExecuteTime": {
     "end_time": "2021-12-01T09:29:43.703668Z",
     "start_time": "2021-12-01T09:29:43.689755Z"
    }
   },
   "outputs": [],
   "source": [
    "def get_words_count(text:str) -> (pd.Series,int):\n",
    "    text = re.findall(r\"(?u)\\b\\w\\w+\\b\",text)\n",
    "    words_count = pd.Series(Counter(text))\n",
    "    words_count = words_count.drop(labels=set(words_count.keys()).difference(set(stopwords.words('english'))))\n",
    "    return words_count,len(text)\n",
    "    \n",
    "class CountVectorizer:\n",
    "    def __init__(self,X:pd.Series,min_df=0.0001):\n",
    "        self.words_count,text_len = get_words_count(\" \".join(X.ravel()))\n",
    "        self.words_count = self.words_count[self.words_count > min_df*text_len]\n",
    "\n",
    "    def transform(self,X:pd.Series):\n",
    "        def helper(row_text):\n",
    "            res = get_words_count(row_text)[0]\n",
    "            return res.drop(set(res.keys()).difference(self.words_count.keys()))\n",
    "        return X.swifter.apply(helper).fillna(0)"
   ]
  },
  {
   "cell_type": "markdown",
   "metadata": {},
   "source": [
    "## Logitic regression"
   ]
  },
  {
   "cell_type": "code",
   "execution_count": 4,
   "metadata": {
    "ExecuteTime": {
     "end_time": "2021-12-01T09:29:43.749792Z",
     "start_time": "2021-12-01T09:29:43.735637Z"
    }
   },
   "outputs": [],
   "source": [
    "def save_loss(data: list, filename: str):\n",
    "    with open(filename, 'w') as f:\n",
    "        for item in data:\n",
    "            f.write(\"%s\\n\" % item)\n",
    "eps = 0.2 #1e-2"
   ]
  },
  {
   "cell_type": "code",
   "execution_count": 5,
   "metadata": {
    "ExecuteTime": {
     "end_time": "2021-12-01T09:29:43.797224Z",
     "start_time": "2021-12-01T09:29:43.783159Z"
    }
   },
   "outputs": [],
   "source": [
    "def build_logisticRegression(features:int):\n",
    "    x = tf.placeholder(tf.float64, [None, features])\n",
    "    y_train_variable = tf.placeholder(tf.float64, [None, 1])\n",
    "    W = tf.Variable(tf.random.uniform([features, 1],dtype=tf.float64))\n",
    "    b = tf.Variable(tf.random.uniform([1],dtype=tf.float64))\n",
    "    return tf.add(tf.matmul(x, W), b)"
   ]
  },
  {
   "cell_type": "code",
   "execution_count": 6,
   "metadata": {
    "ExecuteTime": {
     "end_time": "2021-12-01T09:29:43.843745Z",
     "start_time": "2021-12-01T09:29:43.830462Z"
    }
   },
   "outputs": [],
   "source": [
    "def predict(sess,X_test,x_placeholder,y_final,thr=0.5):\n",
    "    predictions = sess.run(tf.nn.sigmoid(sess.run(y_final, feed_dict={x_placeholder: X_test})))\n",
    "    predictions[predictions >= thr] = 1\n",
    "    predictions[predictions < thr] = 0\n",
    "    print(classification_report(y_test, predictions))\n",
    "    cc = confusion_matrix(y_test, predictions, labels=[0, 1])\n",
    "    sns.heatmap(cc, annot=True, fmt=\"g\", cmap='Blues')\n",
    "    plt.xlabel(\"Predicted label\")\n",
    "    plt.title(\"Confusion Matrix\")\n",
    "    plt.ylabel(\"True label\")\n",
    "    plt.show()\n",
    "    return predictions"
   ]
  },
  {
   "cell_type": "code",
   "execution_count": 7,
   "metadata": {
    "ExecuteTime": {
     "end_time": "2021-12-01T09:29:43.890991Z",
     "start_time": "2021-12-01T09:29:43.876760Z"
    }
   },
   "outputs": [],
   "source": [
    "def train(sess,final_y,y_train_variable,x_placeholder,adaptive=True,learning_rate=0.1,epoch=30,batch_size=200,model_name=\"MLP\"):\n",
    "    # assume x_train,y_train,x_test,y_test,x_validation, y_validation are allready declared\n",
    "    losses = []\n",
    "    test_loss = []\n",
    "    valid_loss = []\n",
    "    learning_rate_tensor = tf.placeholder(tf.float64, shape=[])  # tensor for implement dynamic learning rate \n",
    "    lr = learning_rate\n",
    "    w1_weight = (y_train == 1).sum()\n",
    "    w0_weight = (y_train == 0).sum()\n",
    "    loss = tf.reduce_mean(tf.nn.weighted_cross_entropy_with_logits(labels=y_train_variable, \n",
    "            logits= tf.cast(final_y, tf.float64), pos_weight=tf.constant((w1_weight+w0_weight)/w1_weight, tf.float64)))\n",
    "    update = tf.train.AdamOptimizer(learning_rate_tensor).minimize(loss) \n",
    "    sess.run(tf.global_variables_initializer())\n",
    "    rows_num = x_train.shape[0]\n",
    "    for i in range(epoch):\n",
    "        for counter_step in range(rows_num//batch_size):\n",
    "            X_batch = x_train[counter_step * batch_size:min((counter_step + 1) * batch_size, rows_num)]\n",
    "            Y_batch = y_train[counter_step * batch_size:min((counter_step + 1) * batch_size, rows_num)]\n",
    "            sess.run(update, feed_dict={x_placeholder: X_batch, y_train_variable: Y_batch,learning_rate_tensor:lr})\n",
    "        loss_value = sess.run(loss, feed_dict={x_placeholder: x_train, y_train_variable: y_train,learning_rate_tensor:lr})\n",
    "        loss_value_test = sess.run(loss, feed_dict={x_placeholder:x_test, y_train_variable: y_test,learning_rate_tensor:lr})\n",
    "        loss_value_validation = sess.run(loss, feed_dict={x_placeholder:x_validation, y_train_variable: y_validation,learning_rate_tensor:lr})\n",
    "        print(f\"Iteration {i+1}, loss = {loss_value}\")\n",
    "        losses.append(loss_value)\n",
    "        test_loss.append(loss_value_test)\n",
    "        valid_loss.append(loss_value_validation)\n",
    "        if adaptive and losses[i] > losses[i-1]:  # check if the loss divergence\n",
    "            print(\"=====change learning rate=========\")\n",
    "            lr = lr/10\n",
    "    save_loss(losses, filename=f\"{model_name}_train_error.txt\")\n",
    "    save_loss(test_loss, filename=f\"{model_name}_test_error.txt\")\n",
    "    save_loss(valid_loss, filename=f\"{model_name}_validation_error.txt\")\n",
    "    return losses,test_loss,valid_loss"
   ]
  },
  {
   "cell_type": "code",
   "execution_count": null,
   "metadata": {},
   "outputs": [],
   "source": []
  },
  {
   "cell_type": "markdown",
   "metadata": {},
   "source": [
    "## Preprocess"
   ]
  },
  {
   "cell_type": "code",
   "execution_count": 19,
   "metadata": {
    "ExecuteTime": {
     "end_time": "2021-12-01T09:35:55.943902Z",
     "start_time": "2021-12-01T09:35:54.498911Z"
    }
   },
   "outputs": [
    {
     "data": {
      "application/vnd.jupyter.widget-view+json": {
       "model_id": "3cd9b738254f49f1b17555aa08248e52",
       "version_major": 2,
       "version_minor": 0
      },
      "text/plain": [
       "Pandas Apply:   0%|          | 0/500 [00:00<?, ?it/s]"
      ]
     },
     "metadata": {},
     "output_type": "display_data"
    },
    {
     "data": {
      "application/vnd.jupyter.widget-view+json": {
       "model_id": "a597bec629b8459abfc935114a391838",
       "version_major": 2,
       "version_minor": 0
      },
      "text/plain": [
       "Pandas Apply:   0%|          | 0/350 [00:00<?, ?it/s]"
      ]
     },
     "metadata": {},
     "output_type": "display_data"
    },
    {
     "name": "stderr",
     "output_type": "stream",
     "text": [
      "<ipython-input-3-3df07d3a2bb5>:3: DeprecationWarning: The default dtype for empty Series will be 'object' instead of 'float64' in a future version. Specify a dtype explicitly to silence this warning.\n",
      "  words_count = pd.Series(Counter(text))\n"
     ]
    },
    {
     "data": {
      "application/vnd.jupyter.widget-view+json": {
       "model_id": "999928b6800f42bcba5128444fd46e6f",
       "version_major": 2,
       "version_minor": 0
      },
      "text/plain": [
       "Pandas Apply:   0%|          | 0/150 [00:00<?, ?it/s]"
      ]
     },
     "metadata": {},
     "output_type": "display_data"
    },
    {
     "data": {
      "text/html": [
       "<div>\n",
       "<style scoped>\n",
       "    .dataframe tbody tr th:only-of-type {\n",
       "        vertical-align: middle;\n",
       "    }\n",
       "\n",
       "    .dataframe tbody tr th {\n",
       "        vertical-align: top;\n",
       "    }\n",
       "\n",
       "    .dataframe thead th {\n",
       "        text-align: right;\n",
       "    }\n",
       "</style>\n",
       "<table border=\"1\" class=\"dataframe\">\n",
       "  <thead>\n",
       "    <tr style=\"text-align: right;\">\n",
       "      <th></th>\n",
       "      <th>all</th>\n",
       "      <th>are</th>\n",
       "      <th>so</th>\n",
       "      <th>you</th>\n",
       "      <th>re</th>\n",
       "      <th>the</th>\n",
       "      <th>of</th>\n",
       "      <th>them</th>\n",
       "      <th>to</th>\n",
       "      <th>more</th>\n",
       "      <th>...</th>\n",
       "      <th>here</th>\n",
       "      <th>isn</th>\n",
       "      <th>wouldn</th>\n",
       "      <th>over</th>\n",
       "      <th>nor</th>\n",
       "      <th>couldn</th>\n",
       "      <th>both</th>\n",
       "      <th>she</th>\n",
       "      <th>between</th>\n",
       "      <th>wasn</th>\n",
       "    </tr>\n",
       "  </thead>\n",
       "  <tbody>\n",
       "    <tr>\n",
       "      <th>0</th>\n",
       "      <td>1.913416</td>\n",
       "      <td>0.685053</td>\n",
       "      <td>3.682635</td>\n",
       "      <td>0.497512</td>\n",
       "      <td>2.411646</td>\n",
       "      <td>-0.232034</td>\n",
       "      <td>0.129936</td>\n",
       "      <td>2.725696</td>\n",
       "      <td>-0.057719</td>\n",
       "      <td>2.614304</td>\n",
       "      <td>...</td>\n",
       "      <td>-0.230051</td>\n",
       "      <td>-0.197962</td>\n",
       "      <td>-0.107367</td>\n",
       "      <td>-0.162227</td>\n",
       "      <td>-0.071796</td>\n",
       "      <td>-0.075701</td>\n",
       "      <td>-0.131879</td>\n",
       "      <td>-0.131879</td>\n",
       "      <td>-0.120214</td>\n",
       "      <td>-0.075701</td>\n",
       "    </tr>\n",
       "    <tr>\n",
       "      <th>1</th>\n",
       "      <td>-0.326369</td>\n",
       "      <td>-0.375870</td>\n",
       "      <td>-0.389789</td>\n",
       "      <td>-0.509015</td>\n",
       "      <td>-0.276494</td>\n",
       "      <td>-0.515992</td>\n",
       "      <td>-0.529159</td>\n",
       "      <td>-0.237017</td>\n",
       "      <td>-0.618876</td>\n",
       "      <td>-0.272152</td>\n",
       "      <td>...</td>\n",
       "      <td>-0.230051</td>\n",
       "      <td>-0.197962</td>\n",
       "      <td>-0.107367</td>\n",
       "      <td>-0.162227</td>\n",
       "      <td>-0.071796</td>\n",
       "      <td>-0.075701</td>\n",
       "      <td>-0.131879</td>\n",
       "      <td>-0.131879</td>\n",
       "      <td>-0.120214</td>\n",
       "      <td>-0.075701</td>\n",
       "    </tr>\n",
       "    <tr>\n",
       "      <th>2</th>\n",
       "      <td>-0.326369</td>\n",
       "      <td>-0.375870</td>\n",
       "      <td>-0.389789</td>\n",
       "      <td>-0.509015</td>\n",
       "      <td>-0.276494</td>\n",
       "      <td>-0.232034</td>\n",
       "      <td>-0.529159</td>\n",
       "      <td>-0.237017</td>\n",
       "      <td>-0.618876</td>\n",
       "      <td>-0.272152</td>\n",
       "      <td>...</td>\n",
       "      <td>-0.230051</td>\n",
       "      <td>-0.197962</td>\n",
       "      <td>-0.107367</td>\n",
       "      <td>-0.162227</td>\n",
       "      <td>-0.071796</td>\n",
       "      <td>-0.075701</td>\n",
       "      <td>-0.131879</td>\n",
       "      <td>-0.131879</td>\n",
       "      <td>-0.120214</td>\n",
       "      <td>-0.075701</td>\n",
       "    </tr>\n",
       "    <tr>\n",
       "      <th>3</th>\n",
       "      <td>-0.326369</td>\n",
       "      <td>0.685053</td>\n",
       "      <td>-0.389789</td>\n",
       "      <td>-0.509015</td>\n",
       "      <td>-0.276494</td>\n",
       "      <td>0.335882</td>\n",
       "      <td>2.766313</td>\n",
       "      <td>-0.237017</td>\n",
       "      <td>2.186910</td>\n",
       "      <td>-0.272152</td>\n",
       "      <td>...</td>\n",
       "      <td>-0.230051</td>\n",
       "      <td>-0.197962</td>\n",
       "      <td>-0.107367</td>\n",
       "      <td>-0.162227</td>\n",
       "      <td>-0.071796</td>\n",
       "      <td>-0.075701</td>\n",
       "      <td>-0.131879</td>\n",
       "      <td>-0.131879</td>\n",
       "      <td>-0.120214</td>\n",
       "      <td>-0.075701</td>\n",
       "    </tr>\n",
       "    <tr>\n",
       "      <th>4</th>\n",
       "      <td>1.913416</td>\n",
       "      <td>-0.375870</td>\n",
       "      <td>1.646423</td>\n",
       "      <td>0.497512</td>\n",
       "      <td>-0.276494</td>\n",
       "      <td>-0.232034</td>\n",
       "      <td>0.129936</td>\n",
       "      <td>-0.237017</td>\n",
       "      <td>1.625753</td>\n",
       "      <td>2.614304</td>\n",
       "      <td>...</td>\n",
       "      <td>-0.230051</td>\n",
       "      <td>-0.197962</td>\n",
       "      <td>-0.107367</td>\n",
       "      <td>-0.162227</td>\n",
       "      <td>-0.071796</td>\n",
       "      <td>-0.075701</td>\n",
       "      <td>-0.131879</td>\n",
       "      <td>-0.131879</td>\n",
       "      <td>-0.120214</td>\n",
       "      <td>-0.075701</td>\n",
       "    </tr>\n",
       "    <tr>\n",
       "      <th>...</th>\n",
       "      <td>...</td>\n",
       "      <td>...</td>\n",
       "      <td>...</td>\n",
       "      <td>...</td>\n",
       "      <td>...</td>\n",
       "      <td>...</td>\n",
       "      <td>...</td>\n",
       "      <td>...</td>\n",
       "      <td>...</td>\n",
       "      <td>...</td>\n",
       "      <td>...</td>\n",
       "      <td>...</td>\n",
       "      <td>...</td>\n",
       "      <td>...</td>\n",
       "      <td>...</td>\n",
       "      <td>...</td>\n",
       "      <td>...</td>\n",
       "      <td>...</td>\n",
       "      <td>...</td>\n",
       "      <td>...</td>\n",
       "      <td>...</td>\n",
       "    </tr>\n",
       "    <tr>\n",
       "      <th>345</th>\n",
       "      <td>-0.326369</td>\n",
       "      <td>0.685053</td>\n",
       "      <td>-0.389789</td>\n",
       "      <td>-0.509015</td>\n",
       "      <td>-0.276494</td>\n",
       "      <td>-0.515992</td>\n",
       "      <td>-0.529159</td>\n",
       "      <td>-0.237017</td>\n",
       "      <td>-0.057719</td>\n",
       "      <td>-0.272152</td>\n",
       "      <td>...</td>\n",
       "      <td>-0.230051</td>\n",
       "      <td>-0.197962</td>\n",
       "      <td>-0.107367</td>\n",
       "      <td>-0.162227</td>\n",
       "      <td>-0.071796</td>\n",
       "      <td>-0.075701</td>\n",
       "      <td>-0.131879</td>\n",
       "      <td>-0.131879</td>\n",
       "      <td>-0.120214</td>\n",
       "      <td>-0.075701</td>\n",
       "    </tr>\n",
       "    <tr>\n",
       "      <th>346</th>\n",
       "      <td>-0.326369</td>\n",
       "      <td>-0.375870</td>\n",
       "      <td>-0.389789</td>\n",
       "      <td>-0.509015</td>\n",
       "      <td>-0.276494</td>\n",
       "      <td>-0.515992</td>\n",
       "      <td>-0.529159</td>\n",
       "      <td>-0.237017</td>\n",
       "      <td>-0.618876</td>\n",
       "      <td>-0.272152</td>\n",
       "      <td>...</td>\n",
       "      <td>-0.230051</td>\n",
       "      <td>-0.197962</td>\n",
       "      <td>-0.107367</td>\n",
       "      <td>-0.162227</td>\n",
       "      <td>-0.071796</td>\n",
       "      <td>-0.075701</td>\n",
       "      <td>-0.131879</td>\n",
       "      <td>-0.131879</td>\n",
       "      <td>-0.120214</td>\n",
       "      <td>-0.075701</td>\n",
       "    </tr>\n",
       "    <tr>\n",
       "      <th>347</th>\n",
       "      <td>-0.326369</td>\n",
       "      <td>-0.375870</td>\n",
       "      <td>-0.389789</td>\n",
       "      <td>-0.509015</td>\n",
       "      <td>-0.276494</td>\n",
       "      <td>-0.515992</td>\n",
       "      <td>-0.529159</td>\n",
       "      <td>-0.237017</td>\n",
       "      <td>-0.618876</td>\n",
       "      <td>-0.272152</td>\n",
       "      <td>...</td>\n",
       "      <td>-0.230051</td>\n",
       "      <td>4.421155</td>\n",
       "      <td>-0.107367</td>\n",
       "      <td>-0.162227</td>\n",
       "      <td>-0.071796</td>\n",
       "      <td>-0.075701</td>\n",
       "      <td>-0.131879</td>\n",
       "      <td>-0.131879</td>\n",
       "      <td>-0.120214</td>\n",
       "      <td>-0.075701</td>\n",
       "    </tr>\n",
       "    <tr>\n",
       "      <th>348</th>\n",
       "      <td>-0.326369</td>\n",
       "      <td>-0.375870</td>\n",
       "      <td>-0.389789</td>\n",
       "      <td>-0.509015</td>\n",
       "      <td>-0.276494</td>\n",
       "      <td>-0.515992</td>\n",
       "      <td>-0.529159</td>\n",
       "      <td>-0.237017</td>\n",
       "      <td>-0.618876</td>\n",
       "      <td>-0.272152</td>\n",
       "      <td>...</td>\n",
       "      <td>-0.230051</td>\n",
       "      <td>-0.197962</td>\n",
       "      <td>-0.107367</td>\n",
       "      <td>-0.162227</td>\n",
       "      <td>-0.071796</td>\n",
       "      <td>-0.075701</td>\n",
       "      <td>-0.131879</td>\n",
       "      <td>-0.131879</td>\n",
       "      <td>-0.120214</td>\n",
       "      <td>-0.075701</td>\n",
       "    </tr>\n",
       "    <tr>\n",
       "      <th>349</th>\n",
       "      <td>-0.326369</td>\n",
       "      <td>-0.375870</td>\n",
       "      <td>-0.389789</td>\n",
       "      <td>-0.005752</td>\n",
       "      <td>-0.276494</td>\n",
       "      <td>-0.515992</td>\n",
       "      <td>-0.529159</td>\n",
       "      <td>-0.237017</td>\n",
       "      <td>-0.057719</td>\n",
       "      <td>-0.272152</td>\n",
       "      <td>...</td>\n",
       "      <td>-0.230051</td>\n",
       "      <td>-0.197962</td>\n",
       "      <td>-0.107367</td>\n",
       "      <td>-0.162227</td>\n",
       "      <td>-0.071796</td>\n",
       "      <td>-0.075701</td>\n",
       "      <td>-0.131879</td>\n",
       "      <td>-0.131879</td>\n",
       "      <td>-0.120214</td>\n",
       "      <td>-0.075701</td>\n",
       "    </tr>\n",
       "  </tbody>\n",
       "</table>\n",
       "<p>350 rows × 124 columns</p>\n",
       "</div>"
      ],
      "text/plain": [
       "          all       are        so       you        re       the        of  \\\n",
       "0    1.913416  0.685053  3.682635  0.497512  2.411646 -0.232034  0.129936   \n",
       "1   -0.326369 -0.375870 -0.389789 -0.509015 -0.276494 -0.515992 -0.529159   \n",
       "2   -0.326369 -0.375870 -0.389789 -0.509015 -0.276494 -0.232034 -0.529159   \n",
       "3   -0.326369  0.685053 -0.389789 -0.509015 -0.276494  0.335882  2.766313   \n",
       "4    1.913416 -0.375870  1.646423  0.497512 -0.276494 -0.232034  0.129936   \n",
       "..        ...       ...       ...       ...       ...       ...       ...   \n",
       "345 -0.326369  0.685053 -0.389789 -0.509015 -0.276494 -0.515992 -0.529159   \n",
       "346 -0.326369 -0.375870 -0.389789 -0.509015 -0.276494 -0.515992 -0.529159   \n",
       "347 -0.326369 -0.375870 -0.389789 -0.509015 -0.276494 -0.515992 -0.529159   \n",
       "348 -0.326369 -0.375870 -0.389789 -0.509015 -0.276494 -0.515992 -0.529159   \n",
       "349 -0.326369 -0.375870 -0.389789 -0.005752 -0.276494 -0.515992 -0.529159   \n",
       "\n",
       "         them        to      more  ...      here       isn    wouldn  \\\n",
       "0    2.725696 -0.057719  2.614304  ... -0.230051 -0.197962 -0.107367   \n",
       "1   -0.237017 -0.618876 -0.272152  ... -0.230051 -0.197962 -0.107367   \n",
       "2   -0.237017 -0.618876 -0.272152  ... -0.230051 -0.197962 -0.107367   \n",
       "3   -0.237017  2.186910 -0.272152  ... -0.230051 -0.197962 -0.107367   \n",
       "4   -0.237017  1.625753  2.614304  ... -0.230051 -0.197962 -0.107367   \n",
       "..        ...       ...       ...  ...       ...       ...       ...   \n",
       "345 -0.237017 -0.057719 -0.272152  ... -0.230051 -0.197962 -0.107367   \n",
       "346 -0.237017 -0.618876 -0.272152  ... -0.230051 -0.197962 -0.107367   \n",
       "347 -0.237017 -0.618876 -0.272152  ... -0.230051  4.421155 -0.107367   \n",
       "348 -0.237017 -0.618876 -0.272152  ... -0.230051 -0.197962 -0.107367   \n",
       "349 -0.237017 -0.057719 -0.272152  ... -0.230051 -0.197962 -0.107367   \n",
       "\n",
       "         over       nor    couldn      both       she   between      wasn  \n",
       "0   -0.162227 -0.071796 -0.075701 -0.131879 -0.131879 -0.120214 -0.075701  \n",
       "1   -0.162227 -0.071796 -0.075701 -0.131879 -0.131879 -0.120214 -0.075701  \n",
       "2   -0.162227 -0.071796 -0.075701 -0.131879 -0.131879 -0.120214 -0.075701  \n",
       "3   -0.162227 -0.071796 -0.075701 -0.131879 -0.131879 -0.120214 -0.075701  \n",
       "4   -0.162227 -0.071796 -0.075701 -0.131879 -0.131879 -0.120214 -0.075701  \n",
       "..        ...       ...       ...       ...       ...       ...       ...  \n",
       "345 -0.162227 -0.071796 -0.075701 -0.131879 -0.131879 -0.120214 -0.075701  \n",
       "346 -0.162227 -0.071796 -0.075701 -0.131879 -0.131879 -0.120214 -0.075701  \n",
       "347 -0.162227 -0.071796 -0.075701 -0.131879 -0.131879 -0.120214 -0.075701  \n",
       "348 -0.162227 -0.071796 -0.075701 -0.131879 -0.131879 -0.120214 -0.075701  \n",
       "349 -0.162227 -0.071796 -0.075701 -0.131879 -0.131879 -0.120214 -0.075701  \n",
       "\n",
       "[350 rows x 124 columns]"
      ]
     },
     "execution_count": 19,
     "metadata": {},
     "output_type": "execute_result"
    }
   ],
   "source": [
    "\n",
    "df= pd.read_csv(\"../Data/ver1.csv\", index_col=False)\n",
    "df = df.dropna()\n",
    "df.drop([\"Unnamed: 0\", \"index\"],axis=1, inplace = True)\n",
    "X = df[\"Text\"] .swifter.apply(lambda text : re.sub(r'\\d+', '', text).lower())\n",
    "y= df[\"oh_label\"]\n",
    "x_train, x_test, y_train, y_test = train_test_split(X.values, y.values, test_size=0.3, random_state=1)\n",
    "\n",
    "vectorizer = CountVectorizer(pd.Series(x_train))\n",
    "x_train = vectorizer.transform(pd.Series(x_train))\n",
    "x_test = vectorizer.transform(pd.Series(x_test))\n",
    "x_validation = vectorizer.transform(pd.Series(x_validation))\n",
    "\n",
    "mean,std = x_train.mean(),x_train.std()\n",
    "x_train = x_train.apply(lambda row : (row - mean)/std, axis=1)\n",
    "x_test = x_test.apply(lambda row : (row - mean)/std, axis=1)\n",
    "x_train"
   ]
  },
  {
   "cell_type": "code",
   "execution_count": 16,
   "metadata": {
    "ExecuteTime": {
     "end_time": "2021-12-01T09:34:20.952373Z",
     "start_time": "2021-12-01T09:34:20.847378Z"
    }
   },
   "outputs": [
    {
     "data": {
      "text/html": [
       "<div>\n",
       "<style scoped>\n",
       "    .dataframe tbody tr th:only-of-type {\n",
       "        vertical-align: middle;\n",
       "    }\n",
       "\n",
       "    .dataframe tbody tr th {\n",
       "        vertical-align: top;\n",
       "    }\n",
       "\n",
       "    .dataframe thead th {\n",
       "        text-align: right;\n",
       "    }\n",
       "</style>\n",
       "<table border=\"1\" class=\"dataframe\">\n",
       "  <thead>\n",
       "    <tr style=\"text-align: right;\">\n",
       "      <th></th>\n",
       "      <th>all</th>\n",
       "      <th>are</th>\n",
       "      <th>so</th>\n",
       "      <th>you</th>\n",
       "      <th>re</th>\n",
       "      <th>the</th>\n",
       "      <th>of</th>\n",
       "      <th>them</th>\n",
       "      <th>to</th>\n",
       "      <th>more</th>\n",
       "      <th>...</th>\n",
       "      <th>here</th>\n",
       "      <th>isn</th>\n",
       "      <th>wouldn</th>\n",
       "      <th>over</th>\n",
       "      <th>nor</th>\n",
       "      <th>couldn</th>\n",
       "      <th>both</th>\n",
       "      <th>she</th>\n",
       "      <th>between</th>\n",
       "      <th>wasn</th>\n",
       "    </tr>\n",
       "  </thead>\n",
       "  <tbody>\n",
       "    <tr>\n",
       "      <th>0</th>\n",
       "      <td>1.913416</td>\n",
       "      <td>0.685053</td>\n",
       "      <td>3.682635</td>\n",
       "      <td>0.497512</td>\n",
       "      <td>2.411646</td>\n",
       "      <td>-0.232034</td>\n",
       "      <td>0.129936</td>\n",
       "      <td>2.725696</td>\n",
       "      <td>-0.057719</td>\n",
       "      <td>2.614304</td>\n",
       "      <td>...</td>\n",
       "      <td>-0.230051</td>\n",
       "      <td>-0.197962</td>\n",
       "      <td>-0.107367</td>\n",
       "      <td>-0.162227</td>\n",
       "      <td>-0.071796</td>\n",
       "      <td>-0.075701</td>\n",
       "      <td>-0.131879</td>\n",
       "      <td>-0.131879</td>\n",
       "      <td>-0.120214</td>\n",
       "      <td>-0.075701</td>\n",
       "    </tr>\n",
       "    <tr>\n",
       "      <th>1</th>\n",
       "      <td>-0.326369</td>\n",
       "      <td>-0.375870</td>\n",
       "      <td>-0.389789</td>\n",
       "      <td>-0.509015</td>\n",
       "      <td>-0.276494</td>\n",
       "      <td>-0.515992</td>\n",
       "      <td>-0.529159</td>\n",
       "      <td>-0.237017</td>\n",
       "      <td>-0.618876</td>\n",
       "      <td>-0.272152</td>\n",
       "      <td>...</td>\n",
       "      <td>-0.230051</td>\n",
       "      <td>-0.197962</td>\n",
       "      <td>-0.107367</td>\n",
       "      <td>-0.162227</td>\n",
       "      <td>-0.071796</td>\n",
       "      <td>-0.075701</td>\n",
       "      <td>-0.131879</td>\n",
       "      <td>-0.131879</td>\n",
       "      <td>-0.120214</td>\n",
       "      <td>-0.075701</td>\n",
       "    </tr>\n",
       "    <tr>\n",
       "      <th>2</th>\n",
       "      <td>-0.326369</td>\n",
       "      <td>-0.375870</td>\n",
       "      <td>-0.389789</td>\n",
       "      <td>-0.509015</td>\n",
       "      <td>-0.276494</td>\n",
       "      <td>-0.232034</td>\n",
       "      <td>-0.529159</td>\n",
       "      <td>-0.237017</td>\n",
       "      <td>-0.618876</td>\n",
       "      <td>-0.272152</td>\n",
       "      <td>...</td>\n",
       "      <td>-0.230051</td>\n",
       "      <td>-0.197962</td>\n",
       "      <td>-0.107367</td>\n",
       "      <td>-0.162227</td>\n",
       "      <td>-0.071796</td>\n",
       "      <td>-0.075701</td>\n",
       "      <td>-0.131879</td>\n",
       "      <td>-0.131879</td>\n",
       "      <td>-0.120214</td>\n",
       "      <td>-0.075701</td>\n",
       "    </tr>\n",
       "    <tr>\n",
       "      <th>3</th>\n",
       "      <td>-0.326369</td>\n",
       "      <td>0.685053</td>\n",
       "      <td>-0.389789</td>\n",
       "      <td>-0.509015</td>\n",
       "      <td>-0.276494</td>\n",
       "      <td>0.335882</td>\n",
       "      <td>2.766313</td>\n",
       "      <td>-0.237017</td>\n",
       "      <td>2.186910</td>\n",
       "      <td>-0.272152</td>\n",
       "      <td>...</td>\n",
       "      <td>-0.230051</td>\n",
       "      <td>-0.197962</td>\n",
       "      <td>-0.107367</td>\n",
       "      <td>-0.162227</td>\n",
       "      <td>-0.071796</td>\n",
       "      <td>-0.075701</td>\n",
       "      <td>-0.131879</td>\n",
       "      <td>-0.131879</td>\n",
       "      <td>-0.120214</td>\n",
       "      <td>-0.075701</td>\n",
       "    </tr>\n",
       "    <tr>\n",
       "      <th>4</th>\n",
       "      <td>1.913416</td>\n",
       "      <td>-0.375870</td>\n",
       "      <td>1.646423</td>\n",
       "      <td>0.497512</td>\n",
       "      <td>-0.276494</td>\n",
       "      <td>-0.232034</td>\n",
       "      <td>0.129936</td>\n",
       "      <td>-0.237017</td>\n",
       "      <td>1.625753</td>\n",
       "      <td>2.614304</td>\n",
       "      <td>...</td>\n",
       "      <td>-0.230051</td>\n",
       "      <td>-0.197962</td>\n",
       "      <td>-0.107367</td>\n",
       "      <td>-0.162227</td>\n",
       "      <td>-0.071796</td>\n",
       "      <td>-0.075701</td>\n",
       "      <td>-0.131879</td>\n",
       "      <td>-0.131879</td>\n",
       "      <td>-0.120214</td>\n",
       "      <td>-0.075701</td>\n",
       "    </tr>\n",
       "    <tr>\n",
       "      <th>...</th>\n",
       "      <td>...</td>\n",
       "      <td>...</td>\n",
       "      <td>...</td>\n",
       "      <td>...</td>\n",
       "      <td>...</td>\n",
       "      <td>...</td>\n",
       "      <td>...</td>\n",
       "      <td>...</td>\n",
       "      <td>...</td>\n",
       "      <td>...</td>\n",
       "      <td>...</td>\n",
       "      <td>...</td>\n",
       "      <td>...</td>\n",
       "      <td>...</td>\n",
       "      <td>...</td>\n",
       "      <td>...</td>\n",
       "      <td>...</td>\n",
       "      <td>...</td>\n",
       "      <td>...</td>\n",
       "      <td>...</td>\n",
       "      <td>...</td>\n",
       "    </tr>\n",
       "    <tr>\n",
       "      <th>345</th>\n",
       "      <td>-0.326369</td>\n",
       "      <td>0.685053</td>\n",
       "      <td>-0.389789</td>\n",
       "      <td>-0.509015</td>\n",
       "      <td>-0.276494</td>\n",
       "      <td>-0.515992</td>\n",
       "      <td>-0.529159</td>\n",
       "      <td>-0.237017</td>\n",
       "      <td>-0.057719</td>\n",
       "      <td>-0.272152</td>\n",
       "      <td>...</td>\n",
       "      <td>-0.230051</td>\n",
       "      <td>-0.197962</td>\n",
       "      <td>-0.107367</td>\n",
       "      <td>-0.162227</td>\n",
       "      <td>-0.071796</td>\n",
       "      <td>-0.075701</td>\n",
       "      <td>-0.131879</td>\n",
       "      <td>-0.131879</td>\n",
       "      <td>-0.120214</td>\n",
       "      <td>-0.075701</td>\n",
       "    </tr>\n",
       "    <tr>\n",
       "      <th>346</th>\n",
       "      <td>-0.326369</td>\n",
       "      <td>-0.375870</td>\n",
       "      <td>-0.389789</td>\n",
       "      <td>-0.509015</td>\n",
       "      <td>-0.276494</td>\n",
       "      <td>-0.515992</td>\n",
       "      <td>-0.529159</td>\n",
       "      <td>-0.237017</td>\n",
       "      <td>-0.618876</td>\n",
       "      <td>-0.272152</td>\n",
       "      <td>...</td>\n",
       "      <td>-0.230051</td>\n",
       "      <td>-0.197962</td>\n",
       "      <td>-0.107367</td>\n",
       "      <td>-0.162227</td>\n",
       "      <td>-0.071796</td>\n",
       "      <td>-0.075701</td>\n",
       "      <td>-0.131879</td>\n",
       "      <td>-0.131879</td>\n",
       "      <td>-0.120214</td>\n",
       "      <td>-0.075701</td>\n",
       "    </tr>\n",
       "    <tr>\n",
       "      <th>347</th>\n",
       "      <td>-0.326369</td>\n",
       "      <td>-0.375870</td>\n",
       "      <td>-0.389789</td>\n",
       "      <td>-0.509015</td>\n",
       "      <td>-0.276494</td>\n",
       "      <td>-0.515992</td>\n",
       "      <td>-0.529159</td>\n",
       "      <td>-0.237017</td>\n",
       "      <td>-0.618876</td>\n",
       "      <td>-0.272152</td>\n",
       "      <td>...</td>\n",
       "      <td>-0.230051</td>\n",
       "      <td>4.421155</td>\n",
       "      <td>-0.107367</td>\n",
       "      <td>-0.162227</td>\n",
       "      <td>-0.071796</td>\n",
       "      <td>-0.075701</td>\n",
       "      <td>-0.131879</td>\n",
       "      <td>-0.131879</td>\n",
       "      <td>-0.120214</td>\n",
       "      <td>-0.075701</td>\n",
       "    </tr>\n",
       "    <tr>\n",
       "      <th>348</th>\n",
       "      <td>-0.326369</td>\n",
       "      <td>-0.375870</td>\n",
       "      <td>-0.389789</td>\n",
       "      <td>-0.509015</td>\n",
       "      <td>-0.276494</td>\n",
       "      <td>-0.515992</td>\n",
       "      <td>-0.529159</td>\n",
       "      <td>-0.237017</td>\n",
       "      <td>-0.618876</td>\n",
       "      <td>-0.272152</td>\n",
       "      <td>...</td>\n",
       "      <td>-0.230051</td>\n",
       "      <td>-0.197962</td>\n",
       "      <td>-0.107367</td>\n",
       "      <td>-0.162227</td>\n",
       "      <td>-0.071796</td>\n",
       "      <td>-0.075701</td>\n",
       "      <td>-0.131879</td>\n",
       "      <td>-0.131879</td>\n",
       "      <td>-0.120214</td>\n",
       "      <td>-0.075701</td>\n",
       "    </tr>\n",
       "    <tr>\n",
       "      <th>349</th>\n",
       "      <td>-0.326369</td>\n",
       "      <td>-0.375870</td>\n",
       "      <td>-0.389789</td>\n",
       "      <td>-0.005752</td>\n",
       "      <td>-0.276494</td>\n",
       "      <td>-0.515992</td>\n",
       "      <td>-0.529159</td>\n",
       "      <td>-0.237017</td>\n",
       "      <td>-0.057719</td>\n",
       "      <td>-0.272152</td>\n",
       "      <td>...</td>\n",
       "      <td>-0.230051</td>\n",
       "      <td>-0.197962</td>\n",
       "      <td>-0.107367</td>\n",
       "      <td>-0.162227</td>\n",
       "      <td>-0.071796</td>\n",
       "      <td>-0.075701</td>\n",
       "      <td>-0.131879</td>\n",
       "      <td>-0.131879</td>\n",
       "      <td>-0.120214</td>\n",
       "      <td>-0.075701</td>\n",
       "    </tr>\n",
       "  </tbody>\n",
       "</table>\n",
       "<p>350 rows × 124 columns</p>\n",
       "</div>"
      ],
      "text/plain": [
       "          all       are        so       you        re       the        of  \\\n",
       "0    1.913416  0.685053  3.682635  0.497512  2.411646 -0.232034  0.129936   \n",
       "1   -0.326369 -0.375870 -0.389789 -0.509015 -0.276494 -0.515992 -0.529159   \n",
       "2   -0.326369 -0.375870 -0.389789 -0.509015 -0.276494 -0.232034 -0.529159   \n",
       "3   -0.326369  0.685053 -0.389789 -0.509015 -0.276494  0.335882  2.766313   \n",
       "4    1.913416 -0.375870  1.646423  0.497512 -0.276494 -0.232034  0.129936   \n",
       "..        ...       ...       ...       ...       ...       ...       ...   \n",
       "345 -0.326369  0.685053 -0.389789 -0.509015 -0.276494 -0.515992 -0.529159   \n",
       "346 -0.326369 -0.375870 -0.389789 -0.509015 -0.276494 -0.515992 -0.529159   \n",
       "347 -0.326369 -0.375870 -0.389789 -0.509015 -0.276494 -0.515992 -0.529159   \n",
       "348 -0.326369 -0.375870 -0.389789 -0.509015 -0.276494 -0.515992 -0.529159   \n",
       "349 -0.326369 -0.375870 -0.389789 -0.005752 -0.276494 -0.515992 -0.529159   \n",
       "\n",
       "         them        to      more  ...      here       isn    wouldn  \\\n",
       "0    2.725696 -0.057719  2.614304  ... -0.230051 -0.197962 -0.107367   \n",
       "1   -0.237017 -0.618876 -0.272152  ... -0.230051 -0.197962 -0.107367   \n",
       "2   -0.237017 -0.618876 -0.272152  ... -0.230051 -0.197962 -0.107367   \n",
       "3   -0.237017  2.186910 -0.272152  ... -0.230051 -0.197962 -0.107367   \n",
       "4   -0.237017  1.625753  2.614304  ... -0.230051 -0.197962 -0.107367   \n",
       "..        ...       ...       ...  ...       ...       ...       ...   \n",
       "345 -0.237017 -0.057719 -0.272152  ... -0.230051 -0.197962 -0.107367   \n",
       "346 -0.237017 -0.618876 -0.272152  ... -0.230051 -0.197962 -0.107367   \n",
       "347 -0.237017 -0.618876 -0.272152  ... -0.230051  4.421155 -0.107367   \n",
       "348 -0.237017 -0.618876 -0.272152  ... -0.230051 -0.197962 -0.107367   \n",
       "349 -0.237017 -0.057719 -0.272152  ... -0.230051 -0.197962 -0.107367   \n",
       "\n",
       "         over       nor    couldn      both       she   between      wasn  \n",
       "0   -0.162227 -0.071796 -0.075701 -0.131879 -0.131879 -0.120214 -0.075701  \n",
       "1   -0.162227 -0.071796 -0.075701 -0.131879 -0.131879 -0.120214 -0.075701  \n",
       "2   -0.162227 -0.071796 -0.075701 -0.131879 -0.131879 -0.120214 -0.075701  \n",
       "3   -0.162227 -0.071796 -0.075701 -0.131879 -0.131879 -0.120214 -0.075701  \n",
       "4   -0.162227 -0.071796 -0.075701 -0.131879 -0.131879 -0.120214 -0.075701  \n",
       "..        ...       ...       ...       ...       ...       ...       ...  \n",
       "345 -0.162227 -0.071796 -0.075701 -0.131879 -0.131879 -0.120214 -0.075701  \n",
       "346 -0.162227 -0.071796 -0.075701 -0.131879 -0.131879 -0.120214 -0.075701  \n",
       "347 -0.162227 -0.071796 -0.075701 -0.131879 -0.131879 -0.120214 -0.075701  \n",
       "348 -0.162227 -0.071796 -0.075701 -0.131879 -0.131879 -0.120214 -0.075701  \n",
       "349 -0.162227 -0.071796 -0.075701 -0.131879 -0.131879 -0.120214 -0.075701  \n",
       "\n",
       "[350 rows x 124 columns]"
      ]
     },
     "execution_count": 16,
     "metadata": {},
     "output_type": "execute_result"
    }
   ],
   "source": []
  },
  {
   "cell_type": "code",
   "execution_count": 7,
   "metadata": {
    "ExecuteTime": {
     "end_time": "2021-12-01T06:52:17.280761Z",
     "start_time": "2021-12-01T06:52:17.202763Z"
    }
   },
   "outputs": [
    {
     "data": {
      "image/png": "[encoded data removed]",
      "text/plain": [
       "<Figure size 432x288 with 1 Axes>"
      ]
     },
     "metadata": {},
     "output_type": "display_data"
    }
   ],
   "source": [
    "import matplotlib.pyplot as plt\n",
    "import seaborn as sns\n",
    "fig1, ax1 = plt.subplots()\n",
    "ax1.pie(y_train.value_counts(), explode = [0,0.1], labels=[\"not bulling\", \"bulling\"], autopct='%1.1f%%',\n",
    "        shadow=True, startangle=90)\n",
    "ax1.axis('equal')\n",
    "plt.title(\"Data distribution\")\n",
    "plt.show()"
   ]
  },
  {
   "cell_type": "code",
   "execution_count": 10,
   "metadata": {
    "ExecuteTime": {
     "end_time": "2021-12-01T06:52:21.735395Z",
     "start_time": "2021-12-01T06:52:21.010399Z"
    }
   },
   "outputs": [],
   "source": [
    "X_test_counts = count_vect.transform(x_test)\n",
    "x_test = pd.DataFrame(X_test_counts.toarray(), columns=count_vect.get_feature_names())"
   ]
  },
  {
   "cell_type": "code",
   "execution_count": 11,
   "metadata": {
    "ExecuteTime": {
     "end_time": "2021-12-01T06:52:22.589398Z",
     "start_time": "2021-12-01T06:52:21.913397Z"
    }
   },
   "outputs": [],
   "source": [
    "X_validation_counts = count_vect.transform(x_validation)\n",
    "x_validation = pd.DataFrame(X_validation_counts.toarray(), columns=count_vect.get_feature_names())"
   ]
  },
  {
   "cell_type": "code",
   "execution_count": 19,
   "metadata": {
    "ExecuteTime": {
     "end_time": "2021-12-01T06:52:30.430068Z",
     "start_time": "2021-12-01T06:52:30.416071Z"
    }
   },
   "outputs": [],
   "source": [
    "# oversample implementation\n",
    "# from imblearn.over_sampling import SMOTE\n",
    "\n",
    "# from imblearn import under_sampling, over_sampling\n",
    "# from imblearn.over_sampling import RandomOverSampler \n",
    "# oversample = RandomOverSampler(random_state=42,sampling_strategy=0.9)\n",
    "# x_train, y_train = oversample.fit_resample(x_train, y_train)"
   ]
  },
  {
   "cell_type": "code",
   "execution_count": 60,
   "metadata": {
    "ExecuteTime": {
     "end_time": "2021-11-29T17:16:13.659122Z",
     "start_time": "2021-11-29T17:16:13.085186Z"
    }
   },
   "outputs": [],
   "source": []
  },
  {
   "cell_type": "code",
   "execution_count": 62,
   "metadata": {
    "ExecuteTime": {
     "end_time": "2021-11-29T17:17:21.423755Z",
     "start_time": "2021-11-29T17:16:22.507192Z"
    }
   },
   "outputs": [
    {
     "name": "stdout",
     "output_type": "stream",
     "text": [
      "iteration 0: loss value is: 14.16044174511345\n",
      "iteration 1: loss value is: 9.839322507527895\n",
      "iteration 2: loss value is: 6.588793422275144\n",
      "iteration 3: loss value is: 4.104783509228417\n",
      "iteration 4: loss value is: 2.056861569397093\n",
      "iteration 5: loss value is: 1.5864518894831\n",
      "iteration 6: loss value is: 1.3755819299230996\n",
      "iteration 7: loss value is: 1.2223847858112258\n",
      "iteration 8: loss value is: 1.09863626713004\n",
      "iteration 9: loss value is: 0.9963307045043086\n",
      "iteration 10: loss value is: 0.9171610120633494\n",
      "iteration 11: loss value is: 0.8515141882932133\n",
      "iteration 12: loss value is: 0.8046980379556854\n",
      "iteration 13: loss value is: 0.7699294559922631\n",
      "iteration 14: loss value is: 0.7441556796564157\n",
      "iteration 15: loss value is: 0.7248158189823127\n",
      "iteration 16: loss value is: 0.7072831797921149\n",
      "iteration 17: loss value is: 0.701319663411078\n",
      "iteration 18: loss value is: 0.6879560767328968\n",
      "iteration 19: loss value is: 0.6856731591157471\n",
      "iteration 20: loss value is: 0.6817593166151092\n",
      "iteration 21: loss value is: 0.6829014952591116\n",
      "iteration 22: loss value is: 0.6739741363016617\n",
      "iteration 23: loss value is: 0.6767463728127955\n",
      "iteration 24: loss value is: 0.678961492725572\n",
      "iteration 25: loss value is: 0.6760224648887458\n",
      "iteration 26: loss value is: 0.6719782928862419\n",
      "iteration 27: loss value is: 0.6767715957335332\n",
      "iteration 28: loss value is: 0.6697205586211933\n",
      "iteration 29: loss value is: 0.6749801432527838\n",
      "iteration 30: loss value is: 0.6683952577158732\n",
      "iteration 31: loss value is: 0.6701731293671833\n",
      "iteration 32: loss value is: 0.6681287854475275\n",
      "iteration 33: loss value is: 0.666367214971651\n",
      "iteration 34: loss value is: 0.66567286710224\n",
      "iteration 35: loss value is: 0.6659623283473554\n",
      "iteration 36: loss value is: 0.6616816946684609\n",
      "iteration 37: loss value is: 0.6630034421733751\n",
      "iteration 38: loss value is: 0.6587038793867136\n",
      "iteration 39: loss value is: 0.6613401982813707\n",
      "iteration 40: loss value is: 0.6557928120176217\n",
      "iteration 41: loss value is: 0.6572830587714285\n",
      "iteration 42: loss value is: 0.6551719291103362\n",
      "iteration 43: loss value is: 0.6549219829392703\n",
      "iteration 44: loss value is: 0.6506358041705324\n",
      "iteration 45: loss value is: 0.6526201561849038\n",
      "iteration 46: loss value is: 0.6507642879553454\n",
      "iteration 47: loss value is: 0.6513703754665073\n",
      "iteration 48: loss value is: 0.6486490399154949\n",
      "iteration 49: loss value is: 0.6476438656934872\n",
      "iteration 50: loss value is: 0.6469437317832833\n",
      "iteration 51: loss value is: 0.6469365466532341\n",
      "iteration 52: loss value is: 0.6449964699684698\n",
      "iteration 53: loss value is: 0.6435585091290136\n",
      "iteration 54: loss value is: 0.6419260517211302\n",
      "iteration 55: loss value is: 0.6448603661524774\n",
      "iteration 56: loss value is: 0.6401592170669946\n",
      "iteration 57: loss value is: 0.6388257739601522\n",
      "iteration 58: loss value is: 0.640457843366455\n",
      "iteration 59: loss value is: 0.639396254901158\n",
      "iteration 60: loss value is: 0.636875600549115\n",
      "iteration 61: loss value is: 0.639009154462027\n",
      "iteration 62: loss value is: 0.635837502416532\n",
      "iteration 63: loss value is: 0.633656933639714\n",
      "iteration 64: loss value is: 0.6342915992091688\n",
      "iteration 65: loss value is: 0.6354234414451431\n",
      "iteration 66: loss value is: 0.6315350381990431\n",
      "iteration 67: loss value is: 0.6314598061308268\n",
      "iteration 68: loss value is: 0.631971804997653\n",
      "iteration 69: loss value is: 0.6316500913711425\n",
      "iteration 70: loss value is: 0.6304480648243039\n",
      "iteration 71: loss value is: 0.6275404059921089\n",
      "iteration 72: loss value is: 0.625159387505871\n",
      "iteration 73: loss value is: 0.6274461165060656\n",
      "iteration 74: loss value is: 0.6275797526231464\n",
      "iteration 75: loss value is: 0.6244948842640767\n",
      "iteration 76: loss value is: 0.6263736355750448\n",
      "iteration 77: loss value is: 0.6236992280225025\n",
      "iteration 78: loss value is: 0.6227515902228555\n",
      "iteration 79: loss value is: 0.6218088328610523\n",
      "              precision    recall  f1-score   support\n",
      "\n",
      "         0.0       0.92      0.85      0.88     10967\n",
      "         1.0       0.65      0.79      0.71      4033\n",
      "\n",
      "    accuracy                           0.83     15000\n",
      "   macro avg       0.78      0.82      0.80     15000\n",
      "weighted avg       0.84      0.83      0.84     15000\n",
      "\n"
     ]
    }
   ],
   "source": [
    "import seaborn as sns\n",
    "logistic = LogisticRegression(fx_train,fy_train, x_validation, y_validation.values,epoch=80,learning_rate=0.01,batch_size=100)\n",
    "predictions = logistic.predict(x_test)\n",
    "print(classification_report(y_test, predictions))"
   ]
  },
  {
   "cell_type": "code",
   "execution_count": 66,
   "metadata": {
    "ExecuteTime": {
     "end_time": "2021-11-29T17:17:47.151843Z",
     "start_time": "2021-11-29T17:17:47.005058Z"
    }
   },
   "outputs": [
    {
     "data": {
      "text/plain": [
       "0.8308"
      ]
     },
     "execution_count": 66,
     "metadata": {},
     "output_type": "execute_result"
    },
    {
     "data": {
      "image/png": "[encoded data removed]",
      "text/plain": [
       "<Figure size 432x288 with 2 Axes>"
      ]
     },
     "metadata": {
      "needs_background": "light"
     },
     "output_type": "display_data"
    }
   ],
   "source": [
    "clf_report = classification_report(y_test, predictions, output_dict=True)\n",
    "sns.heatmap(pd.DataFrame(clf_report).iloc[:-1, :-3].T, annot=True)\n",
    "clf_report[\"accuracy\"]"
   ]
  },
  {
   "cell_type": "code",
   "execution_count": 67,
   "metadata": {
    "ExecuteTime": {
     "end_time": "2021-11-29T17:17:48.911315Z",
     "start_time": "2021-11-29T17:17:48.790130Z"
    }
   },
   "outputs": [
    {
     "data": {
      "text/plain": [
       "Text(33.0, 0.5, 'True label')"
      ]
     },
     "execution_count": 67,
     "metadata": {},
     "output_type": "execute_result"
    },
    {
     "data": {
      "image/png": "[encoded data removed]",
      "text/plain": [
       "<Figure size 432x288 with 2 Axes>"
      ]
     },
     "metadata": {
      "needs_background": "light"
     },
     "output_type": "display_data"
    }
   ],
   "source": [
    "cc = confusion_matrix(y_validation, predictions, labels=[0, 1])\n",
    "sns.heatmap(cc, annot=True, fmt=\"g\", cmap='Blues')\n",
    "plt.xlabel(\"Predicted label\")\n",
    "plt.title(\"Confusion Matrix\")\n",
    "plt.ylabel(\"True label\")"
   ]
  },
  {
   "cell_type": "code",
   "execution_count": 57,
   "metadata": {
    "ExecuteTime": {
     "end_time": "2021-11-29T17:11:15.379501Z",
     "start_time": "2021-11-29T17:11:15.197029Z"
    }
   },
   "outputs": [
    {
     "data": {
      "image/png": "[encoded data removed]",
      "text/plain": [
       "<Figure size 1332x756 with 1 Axes>"
      ]
     },
     "metadata": {
      "needs_background": "light"
     },
     "output_type": "display_data"
    }
   ],
   "source": [
    "import matplotlib.pyplot as plt \n",
    "fig = plt.figure()\n",
    "fig.set_size_inches(18.5, 10.5)\n",
    "data_train = np.loadtxt(\"train_error.txt\")\n",
    "data_validation = np.loadtxt(\"validation_error.txt\")\n",
    "plt.plot(data_train,color='g',label='train_error')\n",
    "plt.plot(data_validation,color='k',label='validation_error')\n",
    "plt.xlabel(\"epoch\", fontsize=18)\n",
    "plt.ylabel(\"loss value\",fontsize=18)\n",
    "plt.title(\"Loss Function\", fontsize = 25)\n",
    "plt.legend()\n",
    "plt.show()"
   ]
  },
  {
   "cell_type": "code",
   "execution_count": 23,
   "metadata": {
    "ExecuteTime": {
     "end_time": "2021-12-01T06:55:55.044879Z",
     "start_time": "2021-12-01T06:55:55.026883Z"
    }
   },
   "outputs": [],
   "source": [
    "from sklearn.metrics import confusion_matrix\n",
    "import matplotlib.pyplot as plt \n"
   ]
  },
  {
   "cell_type": "code",
   "execution_count": 24,
   "metadata": {
    "ExecuteTime": {
     "end_time": "2021-12-01T06:55:55.468120Z",
     "start_time": "2021-12-01T06:55:55.462119Z"
    }
   },
   "outputs": [],
   "source": [
    "y_test = y_test.values\n",
    "y_test = y_test.reshape((y_test.size,1))\n",
    "y_train = y_train.values\n",
    "y_train = y_train.reshape((y_train.size,1))\n",
    "y_validation = y_validation.values\n",
    "y_validation = y_validation.reshape((y_validation.size,1))"
   ]
  },
  {
   "cell_type": "code",
   "execution_count": 35,
   "metadata": {
    "ExecuteTime": {
     "end_time": "2021-12-01T08:50:02.315663Z",
     "start_time": "2021-12-01T07:26:39.498237Z"
    }
   },
   "outputs": [
    {
     "name": "stdout",
     "output_type": "stream",
     "text": [
      "Iteration 1, loss = 78927.65600946955\n",
      "Iteration 2, loss = 9090.351707360893\n",
      "Iteration 3, loss = 413.18401416546374\n",
      "Iteration 4, loss = 1324.9566723264384\n",
      "=====change learning rate=========\n",
      "Iteration 5, loss = 141.03168853091051\n",
      "Iteration 6, loss = 140.2832337372657\n",
      "Iteration 7, loss = 107.49269362436242\n",
      "Iteration 8, loss = 87.54414595279812\n",
      "Iteration 9, loss = 96.05166198949598\n",
      "=====change learning rate=========\n",
      "Iteration 10, loss = 64.9329584946496\n",
      "Iteration 11, loss = 63.08637360705539\n",
      "Iteration 12, loss = 64.52088167174203\n",
      "=====change learning rate=========\n",
      "Iteration 13, loss = 61.62791884413005\n",
      "Iteration 14, loss = 62.61501770983998\n",
      "=====change learning rate=========\n",
      "Iteration 15, loss = 58.77921454815267\n",
      "Iteration 16, loss = 58.76740504624874\n",
      "Iteration 17, loss = 58.78733089865452\n",
      "=====change learning rate=========\n",
      "Iteration 18, loss = 58.68235712593717\n",
      "Iteration 19, loss = 58.67077792727931\n",
      "Iteration 20, loss = 58.66113038173951\n",
      "Iteration 21, loss = 58.64428211912297\n",
      "Iteration 22, loss = 58.63276027186845\n",
      "Iteration 23, loss = 58.625119099755985\n",
      "Iteration 24, loss = 58.61015175459147\n",
      "Iteration 25, loss = 58.59025076322833\n",
      "Iteration 26, loss = 58.57021755073108\n",
      "Iteration 27, loss = 58.54923760013962\n",
      "Iteration 28, loss = 58.52770698816215\n",
      "Iteration 29, loss = 58.50583465239437\n",
      "Iteration 30, loss = 58.49564737510646\n",
      "Iteration 31, loss = 58.49138710684692\n",
      "Iteration 32, loss = 58.5067916565917\n",
      "=====change learning rate=========\n",
      "Iteration 33, loss = 58.39699516311574\n",
      "Iteration 34, loss = 58.38632252705257\n",
      "Iteration 35, loss = 58.37835692951223\n",
      "Iteration 36, loss = 58.370800614981235\n",
      "Iteration 37, loss = 58.36341272216634\n",
      "Iteration 38, loss = 58.35589813176694\n",
      "Iteration 39, loss = 58.34817217155831\n",
      "Iteration 40, loss = 58.34007072220952\n",
      "Iteration 41, loss = 58.33150424732295\n",
      "Iteration 42, loss = 58.322380392641236\n",
      "Iteration 43, loss = 58.312665464433174\n",
      "Iteration 44, loss = 58.30222130974502\n",
      "Iteration 45, loss = 58.29085288795505\n",
      "Iteration 46, loss = 58.278564132413386\n",
      "Iteration 47, loss = 58.265219749367716\n",
      "Iteration 48, loss = 58.25070839288336\n",
      "Iteration 49, loss = 58.23496891941547\n",
      "Iteration 50, loss = 58.21795401837952\n",
      "Iteration 51, loss = 58.19962771849639\n",
      "Iteration 52, loss = 58.17997196650009\n",
      "Iteration 53, loss = 58.1589920279203\n",
      "Iteration 54, loss = 58.13670426613618\n",
      "Iteration 55, loss = 58.113117611911235\n",
      "Iteration 56, loss = 58.088262895760344\n",
      "Iteration 57, loss = 58.0621954853151\n",
      "Iteration 58, loss = 58.03498234205947\n",
      "Iteration 59, loss = 58.00670320077137\n",
      "Iteration 60, loss = 57.97744844361971\n",
      "Iteration 61, loss = 57.947314103814584\n",
      "Iteration 62, loss = 57.91639802270199\n",
      "Iteration 63, loss = 57.88479701509493\n",
      "Iteration 64, loss = 57.852604637718706\n",
      "Iteration 65, loss = 57.81990958148709\n",
      "Iteration 66, loss = 57.78679489424453\n",
      "Iteration 67, loss = 57.75333845260648\n",
      "Iteration 68, loss = 57.71961552345545\n",
      "Iteration 69, loss = 57.685703684955875\n",
      "Iteration 70, loss = 57.65167005724044\n",
      "Iteration 71, loss = 57.61756761193351\n",
      "Iteration 72, loss = 57.58337444813091\n",
      "Iteration 73, loss = 57.54909058131042\n",
      "Iteration 74, loss = 57.514751614616806\n",
      "Iteration 75, loss = 57.48039737272226\n",
      "Iteration 76, loss = 57.4460593688265\n",
      "Iteration 77, loss = 57.41174886420743\n",
      "Iteration 78, loss = 57.3774524300672\n",
      "Iteration 79, loss = 57.34314827826077\n",
      "Iteration 80, loss = 57.308844017627024\n",
      "Iteration 81, loss = 57.27457878191016\n",
      "Iteration 82, loss = 57.240376045774816\n",
      "Iteration 83, loss = 57.20623656772981\n",
      "Iteration 84, loss = 57.17215456943754\n",
      "Iteration 85, loss = 57.13812497968431\n",
      "Iteration 86, loss = 57.104144743147216\n",
      "Iteration 87, loss = 57.070213060011596\n",
      "Iteration 88, loss = 57.036332078518654\n",
      "Iteration 89, loss = 57.00250716588805\n",
      "Iteration 90, loss = 56.968742735867615\n",
      "Iteration 91, loss = 56.935036419484945\n",
      "Iteration 92, loss = 56.90138252488066\n",
      "Iteration 93, loss = 56.86777762196118\n",
      "Iteration 94, loss = 56.83422095389832\n",
      "Iteration 95, loss = 56.80071328769186\n",
      "Iteration 96, loss = 56.76725608553879\n",
      "Iteration 97, loss = 56.73385072209939\n",
      "Iteration 98, loss = 56.70049763700687\n",
      "Iteration 99, loss = 56.6671960055851\n",
      "Iteration 100, loss = 56.63394423599238\n",
      "              precision    recall  f1-score   support\n",
      "\n",
      "         0.0       0.88      0.82      0.85     10967\n",
      "         1.0       0.59      0.70      0.64      4033\n",
      "\n",
      "    accuracy                           0.79     15000\n",
      "   macro avg       0.74      0.76      0.75     15000\n",
      "weighted avg       0.80      0.79      0.80     15000\n",
      "\n"
     ]
    },
    {
     "data": {
      "image/png": "[encoded data removed]",
      "text/plain": [
       "<Figure size 432x288 with 2 Axes>"
      ]
     },
     "metadata": {
      "needs_background": "light"
     },
     "output_type": "display_data"
    },
    {
     "data": {
      "text/plain": [
       "array([[0.],\n",
       "       [1.],\n",
       "       [0.],\n",
       "       ...,\n",
       "       [0.],\n",
       "       [0.],\n",
       "       [0.]])"
      ]
     },
     "execution_count": 35,
     "metadata": {},
     "output_type": "execute_result"
    }
   ],
   "source": [
    "\n",
    "config = tf.ConfigProto(device_count={\"CPU\": 8},inter_op_parallelism_threads=4,intra_op_parallelism_threads=4)\n",
    "sess = tf.Session(config=config)\n",
    "features = x_train.shape[1]\n",
    "x_placeholder = tf.placeholder(tf.float64, [None, features])\n",
    "y_train_variable = tf.placeholder(tf.float64, [None, 1])\n",
    "\n",
    "#1000,500,100,50\n",
    "W = tf.Variable(tf.random.uniform([features, 1000],dtype=tf.float64))\n",
    "b = tf.Variable(tf.random.uniform([1000],dtype=tf.float64))\n",
    "y = tf.add(tf.matmul(x_placeholder, W), b)\n",
    "\n",
    "W1 = tf.Variable(tf.random.uniform([1000, 500],dtype=tf.float64))\n",
    "b1 = tf.Variable(tf.random.uniform([500],dtype=tf.float64))\n",
    "y1 = tf.add(tf.matmul(y, W1), b1)\n",
    "\n",
    "W2 = tf.Variable(tf.random.uniform([500,100],dtype=tf.float64))\n",
    "b2 = tf.Variable(tf.random.uniform([100],dtype=tf.float64))\n",
    "y2 = tf.add(tf.matmul(y1, W2), b2)\n",
    "\n",
    "W3 = tf.Variable(tf.random.uniform([100,50],dtype=tf.float64))\n",
    "b3 = tf.Variable(tf.random.uniform([50],dtype=tf.float64))\n",
    "y3 = tf.add(tf.matmul(y2, W3), b3)\n",
    "\n",
    "W4 = tf.Variable(tf.random.uniform([50,1],dtype=tf.float64))\n",
    "b4 = tf.Variable(tf.random.uniform([1],dtype=tf.float64))\n",
    "y_final = tf.add(tf.matmul(y3, W4), b4)\n",
    "\n",
    "\n",
    "train(sess,y_final,y_train_variable,x_placeholder,epoch=100)\n",
    "predict(sess,x_test,x_placeholder,y_final)"
   ]
  },
  {
   "cell_type": "code",
   "execution_count": 23,
   "metadata": {
    "ExecuteTime": {
     "end_time": "2021-11-28T11:12:43.655936Z",
     "start_time": "2021-11-28T11:12:43.642936Z"
    }
   },
   "outputs": [],
   "source": [
    "from sklearn.neural_network import MLPClassifier\n",
    "from sklearn.metrics import confusion_matrix"
   ]
  },
  {
   "cell_type": "code",
   "execution_count": 24,
   "metadata": {
    "ExecuteTime": {
     "end_time": "2021-11-28T11:12:45.019907Z",
     "start_time": "2021-11-28T11:12:45.006744Z"
    }
   },
   "outputs": [],
   "source": [
    "def mlp_pipeline(clf):\n",
    "    clf.fit(x_train, y_train.values)\n",
    "    predictions = clf.predict(x_validation)\n",
    "    print(classification_report(y_validation.values, predictions))\n",
    "    cc = confusion_matrix(y_validation, predictions, labels=[0, 1])\n",
    "    sns.heatmap(cc, annot=True, fmt=\"g\", cmap='Blues')\n",
    "    plt.xlabel(\"Predicted label\")\n",
    "    plt.title(\"Confusion Matrix\")\n",
    "    plt.ylabel(\"True label\")\n",
    "    plt.show()"
   ]
  },
  {
   "cell_type": "code",
   "execution_count": 31,
   "metadata": {
    "ExecuteTime": {
     "end_time": "2021-11-28T10:57:23.080873Z",
     "start_time": "2021-11-28T10:57:23.055669Z"
    }
   },
   "outputs": [],
   "source": [
    "clf1 = MLPClassifier(random_state=1,learning_rate_init=0.01,batch_size=200,activation=\"relu\",\n",
    "                    hidden_layer_sizes=(1000,500,100),solver='adam',max_iter=100,verbose=True)"
   ]
  },
  {
   "cell_type": "code",
   "execution_count": 30,
   "metadata": {
    "ExecuteTime": {
     "end_time": "2021-11-28T10:54:11.486715Z",
     "start_time": "2021-11-28T10:37:45.507178Z"
    }
   },
   "outputs": [
    {
     "name": "stdout",
     "output_type": "stream",
     "text": [
      "Iteration 1, loss = 0.49186077\n",
      "Iteration 2, loss = 0.33885007\n",
      "Iteration 3, loss = 0.28019483\n",
      "Iteration 4, loss = 0.25849795\n",
      "Iteration 5, loss = 0.26839807\n",
      "Iteration 6, loss = 0.27504068\n",
      "Iteration 7, loss = 0.30506439\n",
      "Iteration 8, loss = 0.30173568\n",
      "Iteration 9, loss = 0.31940272\n",
      "Iteration 10, loss = 0.31854720\n",
      "Iteration 11, loss = 0.38491808\n",
      "Iteration 12, loss = 0.33769531\n",
      "Iteration 13, loss = 0.33362320\n",
      "Iteration 14, loss = 0.31822858\n",
      "Iteration 15, loss = 0.51952984\n",
      "Training loss did not improve more than tol=0.000100 for 10 consecutive epochs. Stopping.\n",
      "              precision    recall  f1-score   support\n",
      "\n",
      "         0.0       0.74      1.00      0.85     11002\n",
      "         1.0       0.93      0.05      0.10      3998\n",
      "\n",
      "    accuracy                           0.75     15000\n",
      "   macro avg       0.84      0.53      0.48     15000\n",
      "weighted avg       0.79      0.75      0.65     15000\n",
      "\n"
     ]
    },
    {
     "data": {
      "image/png": "[encoded data removed]",
      "text/plain": [
       "<Figure size 432x288 with 2 Axes>"
      ]
     },
     "metadata": {
      "needs_background": "light"
     },
     "output_type": "display_data"
    }
   ],
   "source": [
    "mlp_pipeline(clf1)"
   ]
  },
  {
   "cell_type": "code",
   "execution_count": 34,
   "metadata": {
    "ExecuteTime": {
     "end_time": "2021-11-28T12:37:30.937250Z",
     "start_time": "2021-11-28T12:37:30.934025Z"
    }
   },
   "outputs": [],
   "source": [
    "losses = [0.49186077,0.33885007,0.28019483,0.25849795,0.26839807,0.27504068,0.30506439,0.30173568,0.31940272,0.31854720,0.38491808,0.33769531,0.33362320,0.31822858,0.51952984]"
   ]
  },
  {
   "cell_type": "code",
   "execution_count": 36,
   "metadata": {
    "ExecuteTime": {
     "end_time": "2021-11-28T12:38:14.654865Z",
     "start_time": "2021-11-28T12:38:14.539873Z"
    }
   },
   "outputs": [
    {
     "data": {
      "text/plain": [
       "[<matplotlib.lines.Line2D at 0x21ac989ef40>]"
      ]
     },
     "execution_count": 36,
     "metadata": {},
     "output_type": "execute_result"
    },
    {
     "data": {
      "image/png": "[encoded data removed]",
      "text/plain": [
       "<Figure size 432x288 with 1 Axes>"
      ]
     },
     "metadata": {
      "needs_background": "light"
     },
     "output_type": "display_data"
    }
   ],
   "source": [
    "plt.xlabel(\"epoch\", fontsize=18)\n",
    "plt.ylabel(\"loss value\",fontsize=18)\n",
    "plt.title(\"Loss Function\", fontsize = 25)\n",
    "plt.plot(losses)"
   ]
  },
  {
   "cell_type": "code",
   "execution_count": 26,
   "metadata": {
    "ExecuteTime": {
     "end_time": "2021-11-28T11:13:38.756579Z",
     "start_time": "2021-11-28T11:13:38.753590Z"
    }
   },
   "outputs": [],
   "source": [
    "clf4 = MLPClassifier(random_state=1,learning_rate_init=0.01,batch_size=200,activation=\"relu\",\n",
    "                    hidden_layer_sizes=(500,100),solver='adam',max_iter=100,verbose=True,learning_rate=\"adaptive\")"
   ]
  },
  {
   "cell_type": "code",
   "execution_count": 27,
   "metadata": {
    "ExecuteTime": {
     "end_time": "2021-11-28T11:28:45.025386Z",
     "start_time": "2021-11-28T11:13:49.372631Z"
    }
   },
   "outputs": [
    {
     "name": "stdout",
     "output_type": "stream",
     "text": [
      "Iteration 1, loss = 0.45095640\n",
      "Iteration 2, loss = 0.32264742\n",
      "Iteration 3, loss = 0.28246963\n",
      "Iteration 4, loss = 0.25420961\n",
      "Iteration 5, loss = 0.22714410\n",
      "Iteration 6, loss = 0.21668556\n",
      "Iteration 7, loss = 0.20236626\n",
      "Iteration 8, loss = 0.19336735\n",
      "Iteration 9, loss = 0.25130103\n",
      "Iteration 10, loss = 0.26460682\n",
      "Iteration 11, loss = 0.24749870\n",
      "Iteration 12, loss = 0.21447996\n",
      "Iteration 13, loss = 0.18785226\n",
      "Iteration 14, loss = 0.17101251\n",
      "Iteration 15, loss = 0.16755544\n",
      "Iteration 16, loss = 0.16009359\n",
      "Iteration 17, loss = 0.15640802\n",
      "Iteration 18, loss = 0.15560491\n",
      "Iteration 19, loss = 0.19960598\n",
      "Iteration 20, loss = 0.21710439\n",
      "Iteration 21, loss = 0.21891133\n",
      "Iteration 22, loss = 0.23245732\n",
      "Iteration 23, loss = 0.22602136\n",
      "Iteration 24, loss = 0.22045110\n",
      "Iteration 25, loss = 0.21191584\n",
      "Iteration 26, loss = 0.21565911\n",
      "Iteration 27, loss = 0.20165730\n",
      "Iteration 28, loss = 0.19929792\n",
      "Iteration 29, loss = 0.20204708\n",
      "Training loss did not improve more than tol=0.000100 for 10 consecutive epochs. Stopping.\n",
      "              precision    recall  f1-score   support\n",
      "\n",
      "         0.0       0.88      0.94      0.91     11002\n",
      "         1.0       0.80      0.65      0.72      3998\n",
      "\n",
      "    accuracy                           0.86     15000\n",
      "   macro avg       0.84      0.80      0.82     15000\n",
      "weighted avg       0.86      0.86      0.86     15000\n",
      "\n"
     ]
    },
    {
     "data": {
      "image/png": "[encoded data removed]",
      "text/plain": [
       "<Figure size 432x288 with 2 Axes>"
      ]
     },
     "metadata": {
      "needs_background": "light"
     },
     "output_type": "display_data"
    }
   ],
   "source": [
    "mlp_pipeline(clf4)"
   ]
  },
  {
   "cell_type": "code",
   "execution_count": 29,
   "metadata": {
    "ExecuteTime": {
     "end_time": "2021-11-28T11:37:42.647265Z",
     "start_time": "2021-11-28T11:37:36.889514Z"
    }
   },
   "outputs": [],
   "source": [
    "# oversample implementation\n",
    "from imblearn.over_sampling import SMOTE\n",
    "\n",
    "from imblearn import under_sampling, over_sampling\n",
    "from imblearn.over_sampling import RandomOverSampler \n",
    "oversample = RandomOverSampler(random_state=42,sampling_strategy=0.9)\n",
    "x_train, y_train = oversample.fit_resample(x_train, y_train)"
   ]
  },
  {
   "cell_type": "code",
   "execution_count": 31,
   "metadata": {
    "ExecuteTime": {
     "end_time": "2021-11-28T12:05:34.467989Z",
     "start_time": "2021-11-28T11:39:02.586031Z"
    }
   },
   "outputs": [
    {
     "name": "stdout",
     "output_type": "stream",
     "text": [
      "Iteration 1, loss = 0.45326188\n",
      "Iteration 2, loss = 0.31300272\n",
      "Iteration 3, loss = 0.25596418\n",
      "Iteration 4, loss = 0.23238772\n",
      "Iteration 5, loss = 0.21124959\n",
      "Iteration 6, loss = 0.20251263\n",
      "Iteration 7, loss = 0.20501424\n",
      "Iteration 8, loss = 0.18075419\n",
      "Iteration 9, loss = 0.17299856\n",
      "Iteration 10, loss = 0.19146705\n",
      "Iteration 11, loss = 0.26030485\n",
      "Iteration 12, loss = 0.20467961\n",
      "Iteration 13, loss = 0.18405184\n",
      "Iteration 14, loss = 0.16926886\n",
      "Iteration 15, loss = 0.16930555\n",
      "Iteration 16, loss = 0.16689334\n",
      "Iteration 17, loss = 0.16862678\n",
      "Iteration 18, loss = 0.16211799\n",
      "Iteration 19, loss = 0.21781083\n",
      "Iteration 20, loss = 0.15842945\n",
      "Iteration 21, loss = 0.14819519\n",
      "Iteration 22, loss = 0.14282927\n",
      "Iteration 23, loss = 0.13915942\n",
      "Iteration 24, loss = 0.14382271\n",
      "Iteration 25, loss = 0.13579911\n",
      "Iteration 26, loss = 0.13237113\n",
      "Iteration 27, loss = 0.17389022\n",
      "Iteration 28, loss = 0.22270478\n",
      "Iteration 29, loss = 0.24749279\n",
      "Iteration 30, loss = 0.22262463\n",
      "Iteration 31, loss = 0.18442084\n",
      "Iteration 32, loss = 0.16616887\n",
      "Iteration 33, loss = 0.15817996\n",
      "Iteration 34, loss = 0.15194009\n",
      "Iteration 35, loss = 0.14625856\n",
      "Iteration 36, loss = 0.13994415\n",
      "Iteration 37, loss = 0.14281336\n",
      "Training loss did not improve more than tol=0.000100 for 10 consecutive epochs. Stopping.\n",
      "              precision    recall  f1-score   support\n",
      "\n",
      "         0.0       0.91      0.89      0.90     11002\n",
      "         1.0       0.72      0.77      0.74      3998\n",
      "\n",
      "    accuracy                           0.86     15000\n",
      "   macro avg       0.82      0.83      0.82     15000\n",
      "weighted avg       0.86      0.86      0.86     15000\n",
      "\n"
     ]
    },
    {
     "data": {
      "image/png": "[encoded data removed]",
      "text/plain": [
       "<Figure size 432x288 with 2 Axes>"
      ]
     },
     "metadata": {
      "needs_background": "light"
     },
     "output_type": "display_data"
    }
   ],
   "source": [
    "mlp_pipeline(clf4)"
   ]
  },
  {
   "cell_type": "code",
   "execution_count": 35,
   "metadata": {
    "ExecuteTime": {
     "end_time": "2021-11-28T12:37:46.373612Z",
     "start_time": "2021-11-28T12:37:46.250607Z"
    }
   },
   "outputs": [
    {
     "data": {
      "text/plain": [
       "[<matplotlib.lines.Line2D at 0x21a99bef6d0>]"
      ]
     },
     "execution_count": 35,
     "metadata": {},
     "output_type": "execute_result"
    },
    {
     "data": {
      "image/png": "[encoded data removed]",
      "text/plain": [
       "<Figure size 432x288 with 1 Axes>"
      ]
     },
     "metadata": {
      "needs_background": "light"
     },
     "output_type": "display_data"
    }
   ],
   "source": [
    "plt.xlabel(\"epoch\", fontsize=18)\n",
    "plt.ylabel(\"loss value\",fontsize=18)\n",
    "plt.title(\"Loss Function\", fontsize = 25)\n",
    "plt.plot(clf4.loss_curve_)"
   ]
  },
  {
   "cell_type": "code",
   "execution_count": null,
   "metadata": {},
   "outputs": [],
   "source": []
  },
  {
   "cell_type": "code",
   "execution_count": 37,
   "metadata": {
    "ExecuteTime": {
     "end_time": "2021-11-28T12:47:59.965840Z",
     "start_time": "2021-11-28T12:47:59.944841Z"
    }
   },
   "outputs": [],
   "source": [
    "clf2 = MLPClassifier(random_state=1,learning_rate_init=0.01,batch_size=200,activation=\"relu\",\n",
    "                    hidden_layer_sizes=(1000,500,100,50),solver='adam',max_iter=10000,verbose=True)"
   ]
  },
  {
   "cell_type": "code",
   "execution_count": 38,
   "metadata": {
    "ExecuteTime": {
     "end_time": "2021-11-28T13:21:30.082980Z",
     "start_time": "2021-11-28T12:48:14.369724Z"
    }
   },
   "outputs": [
    {
     "name": "stdout",
     "output_type": "stream",
     "text": [
      "Iteration 1, loss = 0.48971795\n",
      "Iteration 2, loss = 0.30826715\n",
      "Iteration 3, loss = 0.24823736\n",
      "Iteration 4, loss = 0.20594403\n",
      "Iteration 5, loss = 0.19883064\n",
      "Iteration 6, loss = 0.18704543\n",
      "Iteration 7, loss = 0.19016211\n",
      "Iteration 8, loss = 0.17450848\n",
      "Iteration 9, loss = 0.16860291\n",
      "Iteration 10, loss = 0.18233587\n",
      "Iteration 11, loss = 0.19114677\n",
      "Iteration 12, loss = 0.17953748\n",
      "Iteration 13, loss = 0.17655120\n",
      "Iteration 14, loss = 0.19815418\n",
      "Iteration 15, loss = 0.22945104\n",
      "Iteration 16, loss = 0.26846874\n",
      "Iteration 17, loss = 0.29312804\n",
      "Iteration 18, loss = 0.22359564\n",
      "Iteration 19, loss = 0.19047879\n",
      "Iteration 20, loss = 0.18133550\n",
      "Training loss did not improve more than tol=0.000100 for 10 consecutive epochs. Stopping.\n",
      "              precision    recall  f1-score   support\n",
      "\n",
      "         0.0       0.91      0.91      0.91     11002\n",
      "         1.0       0.75      0.76      0.76      3998\n",
      "\n",
      "    accuracy                           0.87     15000\n",
      "   macro avg       0.83      0.83      0.83     15000\n",
      "weighted avg       0.87      0.87      0.87     15000\n",
      "\n"
     ]
    },
    {
     "data": {
      "image/png": "[encoded data removed]",
      "text/plain": [
       "<Figure size 432x288 with 2 Axes>"
      ]
     },
     "metadata": {
      "needs_background": "light"
     },
     "output_type": "display_data"
    }
   ],
   "source": [
    "mlp_pipeline(clf2)"
   ]
  },
  {
   "cell_type": "code",
   "execution_count": 39,
   "metadata": {
    "ExecuteTime": {
     "end_time": "2021-11-28T13:21:30.368981Z",
     "start_time": "2021-11-28T13:21:30.237980Z"
    }
   },
   "outputs": [
    {
     "data": {
      "text/plain": [
       "[<matplotlib.lines.Line2D at 0x21aca958490>]"
      ]
     },
     "execution_count": 39,
     "metadata": {},
     "output_type": "execute_result"
    },
    {
     "data": {
      "image/png": "[encoded data removed]",
      "text/plain": [
       "<Figure size 432x288 with 1 Axes>"
      ]
     },
     "metadata": {
      "needs_background": "light"
     },
     "output_type": "display_data"
    }
   ],
   "source": [
    "plt.xlabel(\"epoch\", fontsize=18)\n",
    "plt.ylabel(\"loss value\",fontsize=18)\n",
    "plt.title(\"Loss Function\", fontsize = 25)\n",
    "plt.plot(clf2.loss_curve_)"
   ]
  },
  {
   "cell_type": "code",
   "execution_count": null,
   "metadata": {},
   "outputs": [],
   "source": [
    "clf3 = MLPClassifier(random_state=1,learning_rate_init=0.01,batch_size=200,activation=\"relu\",\n",
    "                    hidden_layer_sizes=(1000,500,100),solver='sgd',max_iter=10000,verbose=True)"
   ]
  }
 ],
 "metadata": {
  "kernelspec": {
   "display_name": "Python 3",
   "language": "python",
   "name": "python3"
  },
  "language_info": {
   "codemirror_mode": {
    "name": "ipython",
    "version": 3
   },
   "file_extension": ".py",
   "mimetype": "text/x-python",
   "name": "python",
   "nbconvert_exporter": "python",
   "pygments_lexer": "ipython3",
   "version": "3.8.8"
  },
  "toc": {
   "base_numbering": 1,
   "nav_menu": {},
   "number_sections": true,
   "sideBar": true,
   "skip_h1_title": false,
   "title_cell": "Table of Contents",
   "title_sidebar": "Contents",
   "toc_cell": false,
   "toc_position": {},
   "toc_section_display": true,
   "toc_window_display": false
  },
  "varInspector": {
   "cols": {
    "lenName": 16,
    "lenType": 16,
    "lenVar": 40
   },
   "kernels_config": {
    "python": {
     "delete_cmd_postfix": "",
     "delete_cmd_prefix": "del ",
     "library": "var_list.py",
     "varRefreshCmd": "print(var_dic_list())"
    },
    "r": {
     "delete_cmd_postfix": ") ",
     "delete_cmd_prefix": "rm(",
     "library": "var_list.r",
     "varRefreshCmd": "cat(var_dic_list()) "
    }
   },
   "types_to_exclude": [
    "module",
    "function",
    "builtin_function_or_method",
    "instance",
    "_Feature"
   ],
   "window_display": false
  }
 },
 "nbformat": 4,
 "nbformat_minor": 4
}
