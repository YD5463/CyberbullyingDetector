{
 "cells": [
  {
   "cell_type": "code",
   "execution_count": 1,
   "id": "3d5a71f1",
   "metadata": {
    "ExecuteTime": {
     "end_time": "2021-12-31T11:47:53.377247Z",
     "start_time": "2021-12-31T11:47:39.000999Z"
    }
   },
   "outputs": [],
   "source": [
    "import pandas as pd\n",
    "import numpy as np\n",
    "import matplotlib.pyplot as plt\n",
    "from tensorflow.keras.layers import Dense,LSTM\n",
    "from tensorflow.keras import layers\n",
    "from tensorflow.keras.models import Model\n",
    "import tensorflow as tf\n",
    "from tensorflow.keras.models import Sequential\n",
    "import swifter\n",
    "import nltk"
   ]
  },
  {
   "cell_type": "code",
   "execution_count": 2,
   "id": "9b38b86b",
   "metadata": {
    "ExecuteTime": {
     "end_time": "2021-12-31T11:47:53.441249Z",
     "start_time": "2021-12-31T11:47:53.429254Z"
    }
   },
   "outputs": [],
   "source": [
    "NUM_WORKERS = 8\n",
    "TEST_SIZE = 0.2\n",
    "LABEL_COLUMN_NAME = \"oh_label\"\n",
    "TEXT_COLUMN_NAME = \"Text\"\n",
    "DATASET_PATH = \"../Data/ver1.csv\""
   ]
  },
  {
   "cell_type": "code",
   "execution_count": 3,
   "id": "64eefc40",
   "metadata": {
    "ExecuteTime": {
     "end_time": "2021-12-31T11:47:54.828923Z",
     "start_time": "2021-12-31T11:47:53.478249Z"
    }
   },
   "outputs": [],
   "source": [
    "df= pd.read_csv(DATASET_PATH, index_col=False)\n",
    "df = df.dropna()\n",
    "df.drop([\"Unnamed: 0\", \"index\"],axis=1, inplace = True)"
   ]
  },
  {
   "cell_type": "code",
   "execution_count": 4,
   "id": "ae6699cc",
   "metadata": {
    "ExecuteTime": {
     "end_time": "2021-12-31T11:47:54.920924Z",
     "start_time": "2021-12-31T11:47:54.909922Z"
    }
   },
   "outputs": [],
   "source": [
    "y = pd.Categorical(df[LABEL_COLUMN_NAME]).codes\n",
    "X = df[TEXT_COLUMN_NAME]"
   ]
  },
  {
   "cell_type": "code",
   "execution_count": 5,
   "id": "319fbad2",
   "metadata": {
    "ExecuteTime": {
     "end_time": "2021-12-31T11:48:51.571576Z",
     "start_time": "2021-12-31T11:48:38.058984Z"
    }
   },
   "outputs": [
    {
     "name": "stdout",
     "output_type": "stream",
     "text": [
      "2021-12-31 13:48:41,743 loading file C:\\Users\\yosef\\.flair\\models\\sentiment-en-mix-distillbert_4.pt\n"
     ]
    }
   ],
   "source": [
    "import flair\n",
    "flair_sentiment = flair.models.TextClassifier.load('en-sentiment')"
   ]
  },
  {
   "cell_type": "code",
   "execution_count": 14,
   "id": "df0a75c6",
   "metadata": {
    "ExecuteTime": {
     "end_time": "2021-12-31T13:42:21.709111Z",
     "start_time": "2021-12-31T13:42:07.928577Z"
    }
   },
   "outputs": [
    {
     "data": {
      "application/vnd.jupyter.widget-view+json": {
       "model_id": "74fe973a03674cf3b3019a0304113e58",
       "version_major": 2,
       "version_minor": 0
      },
      "text/plain": [
       "Pandas Apply:   0%|          | 0/100 [00:00<?, ?it/s]"
      ]
     },
     "metadata": {},
     "output_type": "display_data"
    },
    {
     "data": {
      "text/plain": [
       "0     0.996872\n",
       "1     0.970882\n",
       "2     0.999994\n",
       "3     0.997631\n",
       "4     0.999477\n",
       "        ...   \n",
       "95    0.999943\n",
       "96    0.995348\n",
       "97    0.999686\n",
       "98    0.999545\n",
       "99    0.996615\n",
       "Name: Text, Length: 100, dtype: float64"
      ]
     },
     "execution_count": 14,
     "metadata": {},
     "output_type": "execute_result"
    }
   ],
   "source": [
    "def get_sentiment_score(text):\n",
    "    s = flair.data.Sentence(text,use_tokenizer=True)\n",
    "    flair_sentiment.predict(s)\n",
    "    if len(s.labels) == 0:\n",
    "        return 0.5\n",
    "    return s.labels[0].score\n",
    "a = X[:100].swifter.apply(get_sentiment_score)"
   ]
  },
  {
   "cell_type": "code",
   "execution_count": 21,
   "id": "30d08da6",
   "metadata": {
    "ExecuteTime": {
     "end_time": "2021-12-31T20:24:11.354137Z",
     "start_time": "2021-12-31T20:24:11.340154Z"
    }
   },
   "outputs": [
    {
     "data": {
      "text/plain": [
       "1"
      ]
     },
     "execution_count": 21,
     "metadata": {},
     "output_type": "execute_result"
    }
   ],
   "source": [
    "y[a.argmax()]"
   ]
  },
  {
   "cell_type": "code",
   "execution_count": null,
   "id": "b0814e9d",
   "metadata": {},
   "outputs": [],
   "source": [
    "from sklearn.model_selection import train_test_split\n",
    "X_train,X_test,y_train,y_test = train_test_split(X.values,y,test_size=0.2,random_state=42)\n",
    "X_train.shape,X_test.shape,y_train.shape,y_test.shape"
   ]
  },
  {
   "cell_type": "code",
   "execution_count": null,
   "id": "b5a332e2",
   "metadata": {},
   "outputs": [],
   "source": [
    "model = Sequential()\n",
    "model.add(Dense(60, activation=\"relu\"))\n",
    "model.add(Dense(30, activation=\"relu\"))\n",
    "model.add(Dense(10, activation=\"relu\"))\n",
    "model.add(Dense(4, activation=\"softmax\"))\n",
    "model.compile(loss=tf.keras.losses.CategoricalCrossentropy(from_logits=False), optimizer='adam',metrics=[\"accuracy\"])\n",
    "model.summary()"
   ]
  },
  {
   "cell_type": "code",
   "execution_count": null,
   "id": "d061236e",
   "metadata": {},
   "outputs": [],
   "source": [
    "weights = 1 - pd.Series(y).value_counts()/y.size\n",
    "weights = weights.to_dict()\n",
    "weights"
   ]
  },
  {
   "cell_type": "code",
   "execution_count": null,
   "id": "d289f391",
   "metadata": {},
   "outputs": [],
   "source": [
    "import tensorflow_addons as tfa\n",
    "callback = tf.keras.callbacks.EarlyStopping(monitor='val_loss', patience=30)\n",
    "time_stopping_callback = tfa.callbacks.TimeStopping(seconds=60*60*8, verbose=1) \n",
    "history = model.fit(X_train,y_train,batch_size=200,epochs=1000,\n",
    "                    validation_split=0.1,class_weight=weights,\n",
    "                    use_multiprocessing=True,workers=8,callbacks=[callback,time_stopping_callback])"
   ]
  }
 ],
 "metadata": {
  "kernelspec": {
   "display_name": "Python 3",
   "language": "python",
   "name": "python3"
  },
  "language_info": {
   "codemirror_mode": {
    "name": "ipython",
    "version": 3
   },
   "file_extension": ".py",
   "mimetype": "text/x-python",
   "name": "python",
   "nbconvert_exporter": "python",
   "pygments_lexer": "ipython3",
   "version": "3.8.8"
  },
  "toc": {
   "base_numbering": 1,
   "nav_menu": {},
   "number_sections": true,
   "sideBar": true,
   "skip_h1_title": false,
   "title_cell": "Table of Contents",
   "title_sidebar": "Contents",
   "toc_cell": false,
   "toc_position": {},
   "toc_section_display": true,
   "toc_window_display": false
  },
  "varInspector": {
   "cols": {
    "lenName": 16,
    "lenType": 16,
    "lenVar": 40
   },
   "kernels_config": {
    "python": {
     "delete_cmd_postfix": "",
     "delete_cmd_prefix": "del ",
     "library": "var_list.py",
     "varRefreshCmd": "print(var_dic_list())"
    },
    "r": {
     "delete_cmd_postfix": ") ",
     "delete_cmd_prefix": "rm(",
     "library": "var_list.r",
     "varRefreshCmd": "cat(var_dic_list()) "
    }
   },
   "types_to_exclude": [
    "module",
    "function",
    "builtin_function_or_method",
    "instance",
    "_Feature"
   ],
   "window_display": false
  }
 },
 "nbformat": 4,
 "nbformat_minor": 5
}
