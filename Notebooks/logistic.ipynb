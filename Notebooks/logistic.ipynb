{
 "cells": [
  {
   "cell_type": "code",
   "execution_count": 132,
   "metadata": {
    "ExecuteTime": {
     "end_time": "2021-11-27T18:46:26.029902Z",
     "start_time": "2021-11-27T18:46:26.021922Z"
    }
   },
   "outputs": [],
   "source": [
    "from typing import List\n",
    "import nltk\n",
    "import os\n",
    "import numpy as np\n",
    "import pandas as pd\n",
    "import string\n",
    "from sklearn.feature_extraction.text import CountVectorizer\n",
    "from nltk.corpus import stopwords\n",
    "from enchant.checker import SpellChecker\n",
    "# from nltk.stem import WordNetLemmatizer\n",
    "import swifter\n",
    "import tensorflow.compat.v1 as tf\n",
    "tf.disable_v2_behavior()"
   ]
  },
  {
   "cell_type": "markdown",
   "metadata": {},
   "source": [
    "## Non dynamic learning rate "
   ]
  },
  {
   "cell_type": "code",
   "execution_count": 209,
   "metadata": {
    "ExecuteTime": {
     "end_time": "2021-11-27T20:19:46.010961Z",
     "start_time": "2021-11-27T20:19:45.979002Z"
    },
    "scrolled": true
   },
   "outputs": [],
   "source": [
    "import tensorflow.compat.v1 as tf\n",
    "import numpy as np\n",
    "from typing import List\n",
    "import math\n",
    "\n",
    "tf.disable_v2_behavior()\n",
    "eps = 0.2 #1e-2\n",
    "\n",
    "def save_loss(data: list, filename: str):\n",
    "    with open(filename, 'w') as f:\n",
    "        for item in data:\n",
    "            f.write(\"%s\\n\" % item)\n",
    "\n",
    "\n",
    "class LogisticRegression:\n",
    "    def __init__(self, X_train: np.ndarray, y_train: np.ndarray,x_test: np.ndarray,y_test:np.ndarray,x_validation:np.ndarray, y_validation: np.ndarray, epoch=1000, learning_rate=0.0001, batch_size=200):\n",
    "        \"\"\"\n",
    "        weighted logistic regression using cross entropy loss function\n",
    "        :param num_iter:\n",
    "        :param batch_size: -1 means all\n",
    "        \"\"\"\n",
    "        self.losses = []\n",
    "        self.test_loss = []\n",
    "        self.valid_loss = []\n",
    "        self.sess = tf.Session()\n",
    "        features = X_train.shape[1]\n",
    "        self.x = tf.placeholder(tf.float64, [None, features])\n",
    "        y_train_variable = tf.placeholder(tf.float64, [None, 1])\n",
    "        W = tf.Variable(tf.random.uniform([features, 1],dtype=tf.float64))\n",
    "        b = tf.Variable(tf.random.uniform([1],dtype=tf.float64))\n",
    "        self.y = tf.add(tf.matmul(self.x, W), b)\n",
    "        w1_weight = (y_train == 1).sum()    # for imbalance data\n",
    "        w0_weight = (y_train == 0).sum()\n",
    "        # pos_weight multiple the 1 label => targets * -log(sigmoid(logits)) * pos_weight \n",
    "        loss = tf.reduce_mean(tf.nn.sigmoid_cross_entropy_with_logits(labels= y_train_variable, \n",
    "            logits= tf.cast(self.y, tf.float64))) #, pos_weight=tf.constant((w1_weight+w0_weight)/w1_weight, tf.float64)))\n",
    "        update = tf.train.GradientDescentOptimizer(learning_rate).minimize(loss) \n",
    "        self.sess.run(tf.global_variables_initializer())\n",
    "        rows_num = X_train.shape[0]\n",
    "        for i in range(0, epoch):\n",
    "            for counter_step in range(0, rows_num//batch_size):\n",
    "                X_batch = X_train[counter_step * batch_size:min((counter_step + 1) * batch_size, rows_num)]\n",
    "                Y_batch = y_train[counter_step * batch_size:min((counter_step + 1) * batch_size, rows_num)]\n",
    "                Y_batch = Y_batch.reshape((Y_batch.size, 1))\n",
    "                self.sess.run(update, feed_dict={self.x: X_batch, y_train_variable: Y_batch})\n",
    "            loss_value = self.sess.run(loss, feed_dict={self.x: X_batch, y_train_variable: Y_batch})\n",
    "            loss_value_test = self.sess.run(loss, feed_dict={self.x:x_test, y_train_variable: y_test.reshape(y_test.size,1)})\n",
    "            loss_value_validation = self.sess.run(loss, feed_dict={self.x:x_validation, y_train_variable: y_validation.reshape(y_validation.size,1)})\n",
    "            print(f\"iteration {i}: loss value is: {loss_value}\")\n",
    "            self.losses.append(loss_value)\n",
    "            self.test_loss.append(loss_value_test)\n",
    "            self.valid_loss.append(loss_value_validation)\n",
    "        save_loss(self.losses, filename=\"train_error.txt\")\n",
    "        save_loss(self.test_loss, filename=\"test_error.txt\")\n",
    "        save_loss(self.valid_loss, filename=\"validation_error.txt\")\n",
    "\n",
    "    def predict(self, X_test, thr=0.4):\n",
    "        predictions = self.sess.run(self.y, feed_dict={self.x: X_test})\n",
    "        predictions[predictions >= thr] = 1\n",
    "        predictions[predictions < thr] = 0\n",
    "        return predictions\n"
   ]
  },
  {
   "cell_type": "markdown",
   "metadata": {},
   "source": [
    "## dynamic learning rate"
   ]
  },
  {
   "cell_type": "code",
   "execution_count": 183,
   "metadata": {
    "ExecuteTime": {
     "end_time": "2021-11-27T20:02:58.781741Z",
     "start_time": "2021-11-27T20:02:58.754730Z"
    }
   },
   "outputs": [],
   "source": [
    "# import tensorflow.compat.v1 as tf\n",
    "# import numpy as np\n",
    "# from typing import List\n",
    "# import math\n",
    "\n",
    "# tf.disable_v2_behavior()\n",
    "# eps = 0.2 #1e-2\n",
    "\n",
    "# def save_loss(data: list, filename: str):\n",
    "#     with open(filename, 'w') as f:\n",
    "#         for item in data:\n",
    "#             f.write(\"%s\\n\" % item)\n",
    "\n",
    "\n",
    "# class LogisticRegression:\n",
    "#     def __init__(self, X_train: np.ndarray, y_train: np.ndarray,x_test: np.ndarray,y_test:np.ndarray,x_validation:np.ndarray, y_validation: np.ndarray, epoch=1000, learning_rate=0.0001, batch_size=200):\n",
    "#         \"\"\"\n",
    "#         weighted logistic regression using cross entropy loss function\n",
    "#         :param num_iter:\n",
    "#         :param batch_size: -1 means all\n",
    "#         \"\"\"\n",
    "#         self.losses = []\n",
    "#         self.test_loss = []\n",
    "#         self.valid_loss = []\n",
    "#         self.sess = tf.Session()\n",
    "#         lr = learning_rate\n",
    "#         learning_rate_tensor = tf.placeholder(tf.float64, shape=[])  # tensor for implement dynamic learning rate \n",
    "#         features = X_train.shape[1]\n",
    "#         self.x = tf.placeholder(tf.float64, [None, features])\n",
    "#         y_train_variable = tf.placeholder(tf.float64, [None, 1])\n",
    "#         W = tf.Variable(tf.random.uniform([features, 1],dtype=tf.float64))\n",
    "#         b = tf.Variable(tf.random.uniform([1],dtype=tf.float64))\n",
    "#         self.y = tf.add(tf.matmul(self.x, W), b)\n",
    "#         w1_weight = (y_train == 1).sum()    # for imbalance data\n",
    "#         w0_weight = (y_train == 0).sum()\n",
    "#         # pos_weight multiple the 1 label => targets * -log(sigmoid(logits)) * pos_weight \n",
    "#         loss = tf.reduce_mean(tf.nn.weighted_cross_entropy_with_logits(labels= y_train_variable, logits= tf.cast(self.y, tf.float64), \n",
    "#                                                             pos_weight=tf.constant((w1_weight+w0_weight)/w1_weight, tf.float64)))\n",
    "# #         loss = tf.reduce_mean(tf.nn.sigmoid_cross_entropy_with_logits(labels= y_train_variable, logits= tf.cast(self.y, tf.float64))) #,pos_weight=tf.constant((w1_weight+w0_weight)/w1_weight, tf.float64)))\n",
    "#         update = tf.train.GradientDescentOptimizer(learning_rate = learning_rate_tensor).minimize(loss) \n",
    "# #         update = tf.train.GradientDescentOptimizer(learning_rate).minimize(loss) \n",
    "#         self.sess.run(tf.global_variables_initializer())\n",
    "#         rows_num = X_train.shape[0]\n",
    "#         for i in range(0, epoch):\n",
    "#             for counter_step in range(0, rows_num//batch_size):\n",
    "#                 X_batch = X_train[counter_step * batch_size:min((counter_step + 1) * batch_size, rows_num)]\n",
    "#                 Y_batch = y_train[counter_step * batch_size:min((counter_step + 1) * batch_size, rows_num)]\n",
    "#                 Y_batch = Y_batch.reshape((Y_batch.size, 1))\n",
    "#                 self.sess.run(update, feed_dict={self.x: X_batch, y_train_variable: Y_batch, learning_rate_tensor:lr})\n",
    "#             loss_value = self.sess.run(loss, feed_dict={self.x: X_batch, y_train_variable: Y_batch})\n",
    "#             loss_value_test = self.sess.run(loss, feed_dict={self.x:x_test, y_train_variable: y_test.reshape(y_test.size,1)})\n",
    "#             loss_value_validation = self.sess.run(loss, feed_dict={self.x:x_validation, y_train_variable: y_validation.reshape(y_validation.size,1)})\n",
    "#             print(f\"iteration {i}: loss value is: {loss_value}\")\n",
    "#             self.losses.append(loss_value)\n",
    "#             self.test_loss.append(loss_value_test)\n",
    "#             self.valid_loss.append(loss_value_validation)\n",
    "#             if  self.losses[i] > self.losses[i-1]:  # check if the loss divergence\n",
    "#                 print(\"=====change learning rate=========\")\n",
    "#                 lr = lr/10\n",
    "#         save_loss(self.losses, filename=\"train_error.txt\")\n",
    "#         save_loss(self.test_loss, filename=\"test_error.txt\")\n",
    "#         save_loss(self.valid_loss, filename=\"validation_error.txt\")\n",
    "\n",
    "#     def predict(self, X_test, thr=0.5):\n",
    "#         predictions = self.sess.run(self.y, feed_dict={self.x: X_test})\n",
    "#         predictions[predictions >= thr] = 1\n",
    "#         predictions[predictions < thr] = 0\n",
    "#         return predictions"
   ]
  },
  {
   "cell_type": "code",
   "execution_count": null,
   "metadata": {},
   "outputs": [],
   "source": []
  },
  {
   "cell_type": "markdown",
   "metadata": {},
   "source": [
    "# read and split the data "
   ]
  },
  {
   "cell_type": "code",
   "execution_count": 135,
   "metadata": {
    "ExecuteTime": {
     "end_time": "2021-11-27T18:46:28.122737Z",
     "start_time": "2021-11-27T18:46:27.760204Z"
    }
   },
   "outputs": [],
   "source": [
    "from sklearn.utils import shuffle\n",
    "df= pd.read_csv(\"../Data/ver1.csv\", index_col=False)\n",
    "df = df.dropna()\n",
    "df = shuffle(df)\n",
    "df.drop([\"Unnamed: 0\", \"index\"],axis=1, inplace = True)\n",
    "X = df[\"Text\"]\n",
    "y= df[\"oh_label\"]"
   ]
  },
  {
   "cell_type": "code",
   "execution_count": 136,
   "metadata": {
    "ExecuteTime": {
     "end_time": "2021-11-27T18:46:28.185924Z",
     "start_time": "2021-11-27T18:46:28.123735Z"
    }
   },
   "outputs": [
    {
     "data": {
      "image/png": "[encoded data removed]",
      "text/plain": [
       "<Figure size 432x288 with 1 Axes>"
      ]
     },
     "metadata": {},
     "output_type": "display_data"
    }
   ],
   "source": [
    "import matplotlib.pyplot as plt\n",
    "import seaborn as sns\n",
    "fig1, ax1 = plt.subplots()\n",
    "ax1.pie(y.value_counts(), explode=(0, 0.1), labels=[\"ok\",\"bullying\"], autopct='%1.1f%%',\n",
    "        shadow=True, startangle=90)\n",
    "ax1.axis('equal') \n",
    "plt.show()"
   ]
  },
  {
   "cell_type": "code",
   "execution_count": 184,
   "metadata": {
    "ExecuteTime": {
     "end_time": "2021-11-27T20:03:17.213123Z",
     "start_time": "2021-11-27T20:03:16.935865Z"
    }
   },
   "outputs": [],
   "source": [
    "from sklearn.metrics import classification_report\n",
    "from sklearn.model_selection import train_test_split\n",
    "x_train, x_test, y_train, y_test = train_test_split(X, y, test_size=0.3, random_state=1,stratify = y)\n",
    "x_test, x_validation, y_test, y_validation = train_test_split(x_test, y_test, test_size=0.5, random_state=1)"
   ]
  },
  {
   "cell_type": "code",
   "execution_count": 185,
   "metadata": {
    "ExecuteTime": {
     "end_time": "2021-11-27T20:03:17.452484Z",
     "start_time": "2021-11-27T20:03:17.397643Z"
    }
   },
   "outputs": [
    {
     "data": {
      "image/png": "[encoded data removed]",
      "text/plain": [
       "<Figure size 432x288 with 1 Axes>"
      ]
     },
     "metadata": {},
     "output_type": "display_data"
    }
   ],
   "source": [
    "import matplotlib.pyplot as plt\n",
    "import seaborn as sns\n",
    "fig1, ax1 = plt.subplots()\n",
    "ax1.pie(y_train.value_counts(), explode = [0,0.1], labels=[\"not bulling\", \"bulling\"], autopct='%1.1f%%',\n",
    "        shadow=True, startangle=90)\n",
    "ax1.axis('equal')\n",
    "plt.title(\"Data distribution\")\n",
    "plt.show()"
   ]
  },
  {
   "cell_type": "code",
   "execution_count": 186,
   "metadata": {
    "ExecuteTime": {
     "end_time": "2021-11-27T20:03:17.548227Z",
     "start_time": "2021-11-27T20:03:17.538259Z"
    }
   },
   "outputs": [
    {
     "data": {
      "text/plain": [
       "(3.7353853049942103, 1.3655792104221005)"
      ]
     },
     "execution_count": 186,
     "metadata": {},
     "output_type": "execute_result"
    }
   ],
   "source": [
    "label_0_weight = y.size / (y == 0).sum()\n",
    "label_1_weight = y.size / (y == 1).sum()\n",
    "label_1_weight,label_0_weight"
   ]
  },
  {
   "cell_type": "code",
   "execution_count": 187,
   "metadata": {
    "ExecuteTime": {
     "end_time": "2021-11-27T20:03:20.850916Z",
     "start_time": "2021-11-27T20:03:17.652947Z"
    }
   },
   "outputs": [],
   "source": [
    "from sklearn.feature_extraction.text import CountVectorizer\n",
    "import re\n",
    "\n",
    "def preprocess_text(text):\n",
    "    text = text.lower()\n",
    "    text = re.sub(r'\\d+', '', text)\n",
    "    return text\n",
    "\n",
    "count_vect = CountVectorizer(min_df=0.001, lowercase=True,stop_words='english',preprocessor=preprocess_text) #max_features=1000\n",
    "X_train_counts = count_vect.fit_transform(x_train)\n",
    "x_train = pd.DataFrame(X_train_counts.toarray(), columns=count_vect.get_feature_names())"
   ]
  },
  {
   "cell_type": "code",
   "execution_count": 188,
   "metadata": {
    "ExecuteTime": {
     "end_time": "2021-11-27T20:03:21.548867Z",
     "start_time": "2021-11-27T20:03:20.853252Z"
    }
   },
   "outputs": [],
   "source": [
    "X_test_counts = count_vect.transform(x_test)\n",
    "x_test = pd.DataFrame(X_test_counts.toarray(), columns=count_vect.get_feature_names())"
   ]
  },
  {
   "cell_type": "code",
   "execution_count": 189,
   "metadata": {
    "ExecuteTime": {
     "end_time": "2021-11-27T20:03:22.230409Z",
     "start_time": "2021-11-27T20:03:21.550864Z"
    }
   },
   "outputs": [],
   "source": [
    "X_validation_counts = count_vect.transform(x_validation)\n",
    "x_validation = pd.DataFrame(X_validation_counts.toarray(), columns=count_vect.get_feature_names())"
   ]
  },
  {
   "cell_type": "code",
   "execution_count": 190,
   "metadata": {
    "ExecuteTime": {
     "end_time": "2021-11-27T20:03:22.246235Z",
     "start_time": "2021-11-27T20:03:22.231656Z"
    }
   },
   "outputs": [],
   "source": [
    "# from sklearn.utils import shuffle\n",
    "# X_1 = pd.read_csv(\"../Data/log_1.csv\", index_col=0)\n",
    "# X_1 = shuffle(X_1)\n",
    "# X_1 = X_1.loc[(X_1.sum(axis=1) != 0),:]\n",
    "# X_1 = X_1.loc[(X_1.sum(axis=1) != 1),:]\n",
    "# X_1 = X_1.loc[:,(X_1.sum(axis=0) != 0)]\n",
    "# y = X_1[\"oh_label\"]"
   ]
  },
  {
   "cell_type": "code",
   "execution_count": 191,
   "metadata": {
    "ExecuteTime": {
     "end_time": "2021-11-27T20:03:27.668736Z",
     "start_time": "2021-11-27T20:03:22.247233Z"
    }
   },
   "outputs": [],
   "source": [
    "from sklearn.preprocessing import StandardScaler\n",
    "scaler_train = StandardScaler()\n",
    "scaler_train.fit(x_train)\n",
    "x_train = scaler_train.transform(x_train)\n",
    "x_test = scaler_train.transform(x_test)\n",
    "x_validation = scaler_train.transform(x_validation)"
   ]
  },
  {
   "cell_type": "code",
   "execution_count": 192,
   "metadata": {
    "ExecuteTime": {
     "end_time": "2021-11-27T20:03:27.683696Z",
     "start_time": "2021-11-27T20:03:27.672723Z"
    }
   },
   "outputs": [],
   "source": [
    "# import matplotlib.pyplot as plt\n",
    "# import seaborn as sns\n",
    "# fig1, ax1 = plt.subplots()\n",
    "# ax1.pie([70, 15, 15], explode = [0,0.1,0.1], labels=[\"train\",\"test\",\"validation\"], autopct='%1.1f%%',\n",
    "#         shadow=True, startangle=90)\n",
    "# ax1.axis('equal') \n",
    "# plt.show()"
   ]
  },
  {
   "cell_type": "code",
   "execution_count": 193,
   "metadata": {
    "ExecuteTime": {
     "end_time": "2021-11-27T20:03:27.699652Z",
     "start_time": "2021-11-27T20:03:27.686690Z"
    }
   },
   "outputs": [],
   "source": [
    "# X_1.drop(\"oh_label\",axis=1, inplace = True)\n",
    "# X = X_1"
   ]
  },
  {
   "cell_type": "code",
   "execution_count": 194,
   "metadata": {
    "ExecuteTime": {
     "end_time": "2021-11-27T20:03:27.715611Z",
     "start_time": "2021-11-27T20:03:27.701645Z"
    }
   },
   "outputs": [
    {
     "data": {
      "text/plain": [
       "(17.356806347632034, 1.3655872024970737)"
      ]
     },
     "execution_count": 194,
     "metadata": {},
     "output_type": "execute_result"
    }
   ],
   "source": [
    "label_0_weight = y_train.size / (y_train == 0).sum()\n",
    "label_1_weight = y_train.size / (y_test == 1).sum()\n",
    "label_1_weight,label_0_weight"
   ]
  },
  {
   "cell_type": "code",
   "execution_count": 195,
   "metadata": {
    "ExecuteTime": {
     "end_time": "2021-11-27T20:03:27.778724Z",
     "start_time": "2021-11-27T20:03:27.717605Z"
    }
   },
   "outputs": [
    {
     "data": {
      "image/png": "[encoded data removed]",
      "text/plain": [
       "<Figure size 432x288 with 1 Axes>"
      ]
     },
     "metadata": {},
     "output_type": "display_data"
    }
   ],
   "source": [
    "import matplotlib.pyplot as plt\n",
    "import seaborn as sns\n",
    "fig1, ax1 = plt.subplots()\n",
    "ax1.pie(y_train.value_counts(), explode = [0,0.1], labels=[\"not bulling\", \"bulling\"], autopct='%1.1f%%',\n",
    "        shadow=True, startangle=90)\n",
    "ax1.axis('equal')\n",
    "plt.title(\"Data distribution\")\n",
    "plt.show()"
   ]
  },
  {
   "cell_type": "code",
   "execution_count": 196,
   "metadata": {
    "ExecuteTime": {
     "end_time": "2021-11-27T20:03:27.794604Z",
     "start_time": "2021-11-27T20:03:27.779644Z"
    }
   },
   "outputs": [
    {
     "name": "stdout",
     "output_type": "stream",
     "text": [
      "Counter({0.0: 51260, 1.0: 18740})\n"
     ]
    }
   ],
   "source": [
    "# from sklearn.linear_model import SGDClassifier\n",
    "# logmodel = SGDClassifier(max_iter=80,loss='log', class_weight= \"balanced\", random_state=42)\n",
    "# logmodel.fit(x_train,y_train)\n",
    "# predictions = logmodel.predict(x_test)\n",
    "# print(classification_report(y_test,predictions,zero_division=0))\n",
    "from collections import Counter\n",
    "print(Counter(y_train))"
   ]
  },
  {
   "cell_type": "code",
   "execution_count": 197,
   "metadata": {
    "ExecuteTime": {
     "end_time": "2021-11-27T20:03:27.810591Z",
     "start_time": "2021-11-27T20:03:27.797607Z"
    }
   },
   "outputs": [],
   "source": [
    "# oversample implementation\n",
    "# from imblearn.over_sampling import SMOTE\n",
    "\n",
    "# from imblearn import under_sampling, over_sampling\n",
    "# from imblearn.over_sampling import RandomOverSampler \n",
    "# oversample = RandomOverSampler(random_state=42,sampling_strategy=0.9)\n",
    "# x_train, y_train = oversample.fit_resample(x_train, y_train)"
   ]
  },
  {
   "cell_type": "code",
   "execution_count": 198,
   "metadata": {
    "ExecuteTime": {
     "end_time": "2021-11-27T20:03:28.712809Z",
     "start_time": "2021-11-27T20:03:28.698850Z"
    }
   },
   "outputs": [
    {
     "data": {
      "text/plain": [
       "(17.356806347632034, 1.3655872024970737)"
      ]
     },
     "execution_count": 198,
     "metadata": {},
     "output_type": "execute_result"
    }
   ],
   "source": [
    "label_0_weight = y_train.size / (y_train == 0).sum()\n",
    "label_1_weight = y_train.size / (y_test == 1).sum()\n",
    "label_1_weight,label_0_weight"
   ]
  },
  {
   "cell_type": "code",
   "execution_count": 199,
   "metadata": {
    "ExecuteTime": {
     "end_time": "2021-11-27T20:03:30.638854Z",
     "start_time": "2021-11-27T20:03:30.577883Z"
    }
   },
   "outputs": [
    {
     "data": {
      "image/png": "[encoded data removed]",
      "text/plain": [
       "<Figure size 432x288 with 1 Axes>"
      ]
     },
     "metadata": {},
     "output_type": "display_data"
    }
   ],
   "source": [
    "import matplotlib.pyplot as plt\n",
    "import seaborn as sns\n",
    "fig1, ax1 = plt.subplots()\n",
    "ax1.pie(y_train.value_counts(), explode = [0,0.1], labels=[\"not bulling\", \"bulling\"], autopct='%1.1f%%',\n",
    "        shadow=True, startangle=90)\n",
    "ax1.axis('equal')\n",
    "plt.title(\"Data distribution\")\n",
    "plt.show()"
   ]
  },
  {
   "cell_type": "code",
   "execution_count": 200,
   "metadata": {
    "ExecuteTime": {
     "end_time": "2021-11-27T20:03:31.680512Z",
     "start_time": "2021-11-27T20:03:31.657604Z"
    }
   },
   "outputs": [
    {
     "name": "stdout",
     "output_type": "stream",
     "text": [
      "Counter({0.0: 51260, 1.0: 18740})\n"
     ]
    }
   ],
   "source": [
    "from collections import Counter\n",
    "print(Counter(y_train))"
   ]
  },
  {
   "cell_type": "code",
   "execution_count": 210,
   "metadata": {
    "ExecuteTime": {
     "end_time": "2021-11-27T20:21:55.622050Z",
     "start_time": "2021-11-27T20:20:18.675103Z"
    }
   },
   "outputs": [
    {
     "name": "stdout",
     "output_type": "stream",
     "text": [
      "iteration 0: loss value is: 1.8592386153886098\n",
      "iteration 1: loss value is: 1.3688990952620355\n",
      "iteration 2: loss value is: 1.0335733987222702\n",
      "iteration 3: loss value is: 0.6691833620912003\n",
      "iteration 4: loss value is: 0.5459389942488951\n",
      "iteration 5: loss value is: 0.46893537320540696\n",
      "iteration 6: loss value is: 0.4138771078205348\n",
      "iteration 7: loss value is: 0.3754891868352466\n",
      "iteration 8: loss value is: 0.3440714486808138\n",
      "iteration 9: loss value is: 0.3215845827891004\n",
      "iteration 10: loss value is: 0.30017162942568176\n",
      "iteration 11: loss value is: 0.2868345365528745\n",
      "iteration 12: loss value is: 0.2778934934359013\n",
      "iteration 13: loss value is: 0.2703518383980846\n",
      "iteration 14: loss value is: 0.2645392557544761\n",
      "iteration 15: loss value is: 0.26094810556633696\n",
      "iteration 16: loss value is: 0.256274929808723\n",
      "iteration 17: loss value is: 0.2524037155491876\n",
      "iteration 18: loss value is: 0.25031021072992277\n",
      "iteration 19: loss value is: 0.2474309319804278\n",
      "iteration 20: loss value is: 0.24559359673123002\n",
      "iteration 21: loss value is: 0.24387806707056062\n",
      "iteration 22: loss value is: 0.2444727401684353\n",
      "iteration 23: loss value is: 0.24216168887188622\n",
      "iteration 24: loss value is: 0.24301533857076202\n",
      "iteration 25: loss value is: 0.2426760281737807\n",
      "iteration 26: loss value is: 0.2428586684824235\n",
      "iteration 27: loss value is: 0.24189376338338092\n",
      "iteration 28: loss value is: 0.2437724413310594\n",
      "iteration 29: loss value is: 0.2422510778841515\n",
      "iteration 30: loss value is: 0.24359362371656984\n",
      "iteration 31: loss value is: 0.2438821277767017\n",
      "iteration 32: loss value is: 0.24440569550661137\n",
      "iteration 33: loss value is: 0.24374207162083578\n",
      "iteration 34: loss value is: 0.24581892755405338\n",
      "iteration 35: loss value is: 0.24412753714520796\n",
      "iteration 36: loss value is: 0.2451316881814801\n",
      "iteration 37: loss value is: 0.245620918625508\n",
      "iteration 38: loss value is: 0.24547247355763382\n",
      "iteration 39: loss value is: 0.24576993262675792\n",
      "iteration 40: loss value is: 0.24562835788793985\n",
      "iteration 41: loss value is: 0.2440770542466462\n",
      "iteration 42: loss value is: 0.2462078501604346\n",
      "iteration 43: loss value is: 0.24469071313873172\n",
      "iteration 44: loss value is: 0.24466740429347156\n",
      "iteration 45: loss value is: 0.24569721551759854\n",
      "iteration 46: loss value is: 0.24510879769720403\n",
      "iteration 47: loss value is: 0.24368387433103805\n",
      "iteration 48: loss value is: 0.24579328596167713\n",
      "iteration 49: loss value is: 0.24442425877706178\n",
      "iteration 50: loss value is: 0.24436336019126442\n",
      "iteration 51: loss value is: 0.24555513068120519\n",
      "iteration 52: loss value is: 0.24447727634265104\n",
      "iteration 53: loss value is: 0.24422318149872196\n",
      "iteration 54: loss value is: 0.24449117297749118\n",
      "iteration 55: loss value is: 0.2434956815443714\n",
      "iteration 56: loss value is: 0.24448675394557828\n",
      "iteration 57: loss value is: 0.24359121853617252\n",
      "iteration 58: loss value is: 0.24345021441321038\n",
      "iteration 59: loss value is: 0.2441883697473714\n",
      "iteration 60: loss value is: 0.2435195534437301\n",
      "iteration 61: loss value is: 0.2425405362721028\n",
      "iteration 62: loss value is: 0.24412175067497854\n",
      "iteration 63: loss value is: 0.2435886700041737\n",
      "iteration 64: loss value is: 0.24266144762119388\n",
      "iteration 65: loss value is: 0.24409208622179684\n",
      "iteration 66: loss value is: 0.24300413940807175\n",
      "iteration 67: loss value is: 0.24362298963384524\n",
      "iteration 68: loss value is: 0.24235848008612712\n",
      "iteration 69: loss value is: 0.2423762939932437\n",
      "iteration 70: loss value is: 0.24327931072679987\n",
      "iteration 71: loss value is: 0.24222948681133122\n",
      "iteration 72: loss value is: 0.24188972256028243\n",
      "iteration 73: loss value is: 0.24339280112012746\n",
      "iteration 74: loss value is: 0.2415734326623742\n",
      "iteration 75: loss value is: 0.2423377255859218\n",
      "iteration 76: loss value is: 0.24251343910942985\n",
      "iteration 77: loss value is: 0.24214741104992618\n",
      "iteration 78: loss value is: 0.24186245646004514\n",
      "iteration 79: loss value is: 0.24306515885447727\n",
      "              precision    recall  f1-score   support\n",
      "\n",
      "         0.0       0.85      0.96      0.90     11002\n",
      "         1.0       0.82      0.54      0.65      3998\n",
      "\n",
      "    accuracy                           0.85     15000\n",
      "   macro avg       0.84      0.75      0.78     15000\n",
      "weighted avg       0.84      0.85      0.83     15000\n",
      "\n"
     ]
    }
   ],
   "source": [
    "import seaborn as sns\n",
    "logistic = LogisticRegression(x_train,y_train.values,x_test,y_test.values,x_validation, y_validation.values,epoch=80,learning_rate=0.01,batch_size=50)\n",
    "predictions = logistic.predict(x_validation)\n",
    "print(classification_report(y_validation, predictions))"
   ]
  },
  {
   "cell_type": "code",
   "execution_count": 211,
   "metadata": {
    "ExecuteTime": {
     "end_time": "2021-11-27T20:21:55.779604Z",
     "start_time": "2021-11-27T20:21:55.623016Z"
    }
   },
   "outputs": [
    {
     "data": {
      "text/plain": [
       "0.8454666666666667"
      ]
     },
     "execution_count": 211,
     "metadata": {},
     "output_type": "execute_result"
    },
    {
     "data": {
      "image/png": "[encoded data removed]",
      "text/plain": [
       "<Figure size 432x288 with 2 Axes>"
      ]
     },
     "metadata": {
      "needs_background": "light"
     },
     "output_type": "display_data"
    }
   ],
   "source": [
    "clf_report = classification_report(y_validation, predictions, output_dict=True)\n",
    "sns.heatmap(pd.DataFrame(clf_report).iloc[:-1, :-3].T, annot=True)\n",
    "clf_report[\"accuracy\"]"
   ]
  },
  {
   "cell_type": "code",
   "execution_count": 212,
   "metadata": {
    "ExecuteTime": {
     "end_time": "2021-11-27T20:21:55.907142Z",
     "start_time": "2021-11-27T20:21:55.781633Z"
    }
   },
   "outputs": [
    {
     "data": {
      "text/plain": [
       "Text(33.0, 0.5, 'True label')"
      ]
     },
     "execution_count": 212,
     "metadata": {},
     "output_type": "execute_result"
    },
    {
     "data": {
      "image/png": "[encoded data removed]",
      "text/plain": [
       "<Figure size 432x288 with 2 Axes>"
      ]
     },
     "metadata": {
      "needs_background": "light"
     },
     "output_type": "display_data"
    }
   ],
   "source": [
    "from sklearn.metrics import confusion_matrix\n",
    "cc = confusion_matrix(y_validation, predictions, labels=[0, 1])\n",
    "sns.heatmap(cc, annot=True, fmt=\"g\", cmap='Blues')\n",
    "plt.xlabel(\"Predicted label\")\n",
    "plt.title(\"Confusion Matrix\")\n",
    "plt.ylabel(\"True label\")"
   ]
  },
  {
   "cell_type": "code",
   "execution_count": 213,
   "metadata": {
    "ExecuteTime": {
     "end_time": "2021-11-27T20:21:56.078753Z",
     "start_time": "2021-11-27T20:21:55.909142Z"
    }
   },
   "outputs": [
    {
     "data": {
      "image/png": "[encoded data removed]",
      "text/plain": [
       "<Figure size 1332x756 with 1 Axes>"
      ]
     },
     "metadata": {
      "needs_background": "light"
     },
     "output_type": "display_data"
    }
   ],
   "source": [
    "import matplotlib.pyplot as plt \n",
    "fig = plt.figure()\n",
    "fig.set_size_inches(18.5, 10.5)\n",
    "data_train = np.loadtxt(\"train_error.txt\")\n",
    "data_test = np.loadtxt(\"test_error.txt\")\n",
    "data_validation = np.loadtxt(\"validation_error.txt\")\n",
    "plt.plot(data_train,color='g',label='train_error')\n",
    "plt.plot(data_test,color='r',label='test_error')\n",
    "plt.plot(data_validation,color='k',label='validation_error')\n",
    "plt.xlabel(\"epoch\", fontsize=18)\n",
    "plt.ylabel(\"loss value\",fontsize=18)\n",
    "plt.title(\"Loss Function\", fontsize = 25)\n",
    "plt.legend()\n",
    "plt.show()"
   ]
  },
  {
   "cell_type": "code",
   "execution_count": null,
   "metadata": {
    "ExecuteTime": {
     "end_time": "2021-11-25T22:39:25.141976Z",
     "start_time": "2021-11-25T22:39:24.775876Z"
    }
   },
   "outputs": [],
   "source": []
  },
  {
   "cell_type": "code",
   "execution_count": null,
   "metadata": {},
   "outputs": [],
   "source": []
  }
 ],
 "metadata": {
  "kernelspec": {
   "display_name": "Python 3",
   "language": "python",
   "name": "python3"
  },
  "language_info": {
   "codemirror_mode": {
    "name": "ipython",
    "version": 3
   },
   "file_extension": ".py",
   "mimetype": "text/x-python",
   "name": "python",
   "nbconvert_exporter": "python",
   "pygments_lexer": "ipython3",
   "version": "3.8.3"
  },
  "toc": {
   "base_numbering": 1,
   "nav_menu": {},
   "number_sections": true,
   "sideBar": true,
   "skip_h1_title": false,
   "title_cell": "Table of Contents",
   "title_sidebar": "Contents",
   "toc_cell": false,
   "toc_position": {},
   "toc_section_display": true,
   "toc_window_display": false
  }
 },
 "nbformat": 4,
 "nbformat_minor": 4
}
