{
 "cells": [
  {
   "cell_type": "code",
   "execution_count": 1,
   "metadata": {
    "ExecuteTime": {
     "end_time": "2021-11-28T11:11:58.710141Z",
     "start_time": "2021-11-28T11:11:54.788572Z"
    }
   },
   "outputs": [
    {
     "name": "stdout",
     "output_type": "stream",
     "text": [
      "WARNING:tensorflow:From C:\\Users\\yosef\\AppData\\Roaming\\Python\\Python38\\site-packages\\tensorflow\\python\\compat\\v2_compat.py:101: disable_resource_variables (from tensorflow.python.ops.variable_scope) is deprecated and will be removed in a future version.\n",
      "Instructions for updating:\n",
      "non-resource variables are not supported in the long term\n"
     ]
    }
   ],
   "source": [
    "from typing import List\n",
    "import nltk\n",
    "import os\n",
    "import numpy as np\n",
    "import pandas as pd\n",
    "import string\n",
    "from sklearn.feature_extraction.text import CountVectorizer\n",
    "from nltk.corpus import stopwords\n",
    "from enchant.checker import SpellChecker\n",
    "# from nltk.stem import WordNetLemmatizer\n",
    "import swifter\n",
    "import tensorflow.compat.v1 as tf\n",
    "tf.disable_v2_behavior()"
   ]
  },
  {
   "cell_type": "markdown",
   "metadata": {},
   "source": [
    "## Non dynamic learning rate "
   ]
  },
  {
   "cell_type": "code",
   "execution_count": 2,
   "metadata": {
    "ExecuteTime": {
     "end_time": "2021-11-28T11:11:58.756631Z",
     "start_time": "2021-11-28T11:11:58.743124Z"
    },
    "scrolled": true
   },
   "outputs": [],
   "source": [
    "import tensorflow.compat.v1 as tf\n",
    "import numpy as np\n",
    "from typing import List\n",
    "import math\n",
    "\n",
    "tf.disable_v2_behavior()\n",
    "eps = 0.2 #1e-2\n",
    "\n",
    "def save_loss(data: list, filename: str):\n",
    "    with open(filename, 'w') as f:\n",
    "        for item in data:\n",
    "            f.write(\"%s\\n\" % item)\n",
    "\n",
    "\n",
    "class LogisticRegression:\n",
    "    def __init__(self, X_train: np.ndarray, y_train: np.ndarray,x_test: np.ndarray,y_test:np.ndarray,x_validation:np.ndarray, y_validation: np.ndarray, epoch=1000, learning_rate=0.0001, batch_size=200):\n",
    "        \"\"\"\n",
    "        weighted logistic regression using cross entropy loss function\n",
    "        :param num_iter:\n",
    "        :param batch_size: -1 means all\n",
    "        \"\"\"\n",
    "        self.losses = []\n",
    "        self.test_loss = []\n",
    "        self.valid_loss = []\n",
    "        self.sess = tf.Session()\n",
    "        features = X_train.shape[1]\n",
    "        self.x = tf.placeholder(tf.float64, [None, features])\n",
    "        y_train_variable = tf.placeholder(tf.float64, [None, 1])\n",
    "        W = tf.Variable(tf.random.uniform([features, 1],dtype=tf.float64))\n",
    "        b = tf.Variable(tf.random.uniform([1],dtype=tf.float64))\n",
    "        self.y = tf.add(tf.matmul(self.x, W), b)\n",
    "        w1_weight = (y_train == 1).sum()    # for imbalance data\n",
    "        w0_weight = (y_train == 0).sum()\n",
    "        # pos_weight multiple the 1 label => targets * -log(sigmoid(logits)) * pos_weight \n",
    "        loss = tf.reduce_mean(tf.nn.sigmoid_cross_entropy_with_logits(labels= y_train_variable, \n",
    "            logits= tf.cast(self.y, tf.float64))) #, pos_weight=tf.constant((w1_weight+w0_weight)/w1_weight, tf.float64)))\n",
    "        update = tf.train.GradientDescentOptimizer(learning_rate).minimize(loss) \n",
    "        self.sess.run(tf.global_variables_initializer())\n",
    "        rows_num = X_train.shape[0]\n",
    "        for i in range(0, epoch):\n",
    "            for counter_step in range(0, rows_num//batch_size):\n",
    "                X_batch = X_train[counter_step * batch_size:min((counter_step + 1) * batch_size, rows_num)]\n",
    "                Y_batch = y_train[counter_step * batch_size:min((counter_step + 1) * batch_size, rows_num)]\n",
    "                Y_batch = Y_batch.reshape((Y_batch.size, 1))\n",
    "                self.sess.run(update, feed_dict={self.x: X_batch, y_train_variable: Y_batch})\n",
    "            loss_value = self.sess.run(loss, feed_dict={self.x: X_batch, y_train_variable: Y_batch})\n",
    "            loss_value_test = self.sess.run(loss, feed_dict={self.x:x_test, y_train_variable: y_test.reshape(y_test.size,1)})\n",
    "            loss_value_validation = self.sess.run(loss, feed_dict={self.x:x_validation, y_train_variable: y_validation.reshape(y_validation.size,1)})\n",
    "            print(f\"iteration {i}: loss value is: {loss_value}\")\n",
    "            self.losses.append(loss_value)\n",
    "            self.test_loss.append(loss_value_test)\n",
    "            self.valid_loss.append(loss_value_validation)\n",
    "        save_loss(self.losses, filename=\"train_error.txt\")\n",
    "        save_loss(self.test_loss, filename=\"test_error.txt\")\n",
    "        save_loss(self.valid_loss, filename=\"validation_error.txt\")\n",
    "\n",
    "    def predict(self, X_test, thr=0.4):\n",
    "        predictions = self.sess.run(self.y, feed_dict={self.x: X_test})\n",
    "        predictions[predictions >= thr] = 1\n",
    "        predictions[predictions < thr] = 0\n",
    "        return predictions\n"
   ]
  },
  {
   "cell_type": "markdown",
   "metadata": {},
   "source": [
    "## dynamic learning rate"
   ]
  },
  {
   "cell_type": "code",
   "execution_count": 3,
   "metadata": {
    "ExecuteTime": {
     "end_time": "2021-11-28T11:11:58.802975Z",
     "start_time": "2021-11-28T11:11:58.788438Z"
    }
   },
   "outputs": [],
   "source": [
    "# import tensorflow.compat.v1 as tf\n",
    "# import numpy as np\n",
    "# from typing import List\n",
    "# import math\n",
    "\n",
    "# tf.disable_v2_behavior()\n",
    "# eps = 0.2 #1e-2\n",
    "\n",
    "# def save_loss(data: list, filename: str):\n",
    "#     with open(filename, 'w') as f:\n",
    "#         for item in data:\n",
    "#             f.write(\"%s\\n\" % item)\n",
    "\n",
    "\n",
    "# class LogisticRegression:\n",
    "#     def __init__(self, X_train: np.ndarray, y_train: np.ndarray,x_test: np.ndarray,y_test:np.ndarray,x_validation:np.ndarray, y_validation: np.ndarray, epoch=1000, learning_rate=0.0001, batch_size=200):\n",
    "#         \"\"\"\n",
    "#         weighted logistic regression using cross entropy loss function\n",
    "#         :param num_iter:\n",
    "#         :param batch_size: -1 means all\n",
    "#         \"\"\"\n",
    "#         self.losses = []\n",
    "#         self.test_loss = []\n",
    "#         self.valid_loss = []\n",
    "#         self.sess = tf.Session()\n",
    "#         lr = learning_rate\n",
    "#         learning_rate_tensor = tf.placeholder(tf.float64, shape=[])  # tensor for implement dynamic learning rate \n",
    "#         features = X_train.shape[1]\n",
    "#         self.x = tf.placeholder(tf.float64, [None, features])\n",
    "#         y_train_variable = tf.placeholder(tf.float64, [None, 1])\n",
    "#         W = tf.Variable(tf.random.uniform([features, 1],dtype=tf.float64))\n",
    "#         b = tf.Variable(tf.random.uniform([1],dtype=tf.float64))\n",
    "#         self.y = tf.add(tf.matmul(self.x, W), b)\n",
    "#         w1_weight = (y_train == 1).sum()    # for imbalance data\n",
    "#         w0_weight = (y_train == 0).sum()\n",
    "#         # pos_weight multiple the 1 label => targets * -log(sigmoid(logits)) * pos_weight \n",
    "#         loss = tf.reduce_mean(tf.nn.weighted_cross_entropy_with_logits(labels= y_train_variable, logits= tf.cast(self.y, tf.float64), \n",
    "#                                                             pos_weight=tf.constant((w1_weight+w0_weight)/w1_weight, tf.float64)))\n",
    "# #         loss = tf.reduce_mean(tf.nn.sigmoid_cross_entropy_with_logits(labels= y_train_variable, logits= tf.cast(self.y, tf.float64))) #,pos_weight=tf.constant((w1_weight+w0_weight)/w1_weight, tf.float64)))\n",
    "#         update = tf.train.GradientDescentOptimizer(learning_rate = learning_rate_tensor).minimize(loss) \n",
    "# #         update = tf.train.GradientDescentOptimizer(learning_rate).minimize(loss) \n",
    "#         self.sess.run(tf.global_variables_initializer())\n",
    "#         rows_num = X_train.shape[0]\n",
    "#         for i in range(0, epoch):\n",
    "#             for counter_step in range(0, rows_num//batch_size):\n",
    "#                 X_batch = X_train[counter_step * batch_size:min((counter_step + 1) * batch_size, rows_num)]\n",
    "#                 Y_batch = y_train[counter_step * batch_size:min((counter_step + 1) * batch_size, rows_num)]\n",
    "#                 Y_batch = Y_batch.reshape((Y_batch.size, 1))\n",
    "#                 self.sess.run(update, feed_dict={self.x: X_batch, y_train_variable: Y_batch, learning_rate_tensor:lr})\n",
    "#             loss_value = self.sess.run(loss, feed_dict={self.x: X_batch, y_train_variable: Y_batch})\n",
    "#             loss_value_test = self.sess.run(loss, feed_dict={self.x:x_test, y_train_variable: y_test.reshape(y_test.size,1)})\n",
    "#             loss_value_validation = self.sess.run(loss, feed_dict={self.x:x_validation, y_train_variable: y_validation.reshape(y_validation.size,1)})\n",
    "#             print(f\"iteration {i}: loss value is: {loss_value}\")\n",
    "#             self.losses.append(loss_value)\n",
    "#             self.test_loss.append(loss_value_test)\n",
    "#             self.valid_loss.append(loss_value_validation)\n",
    "#             if  self.losses[i] > self.losses[i-1]:  # check if the loss divergence\n",
    "#                 print(\"=====change learning rate=========\")\n",
    "#                 lr = lr/10\n",
    "#         save_loss(self.losses, filename=\"train_error.txt\")\n",
    "#         save_loss(self.test_loss, filename=\"test_error.txt\")\n",
    "#         save_loss(self.valid_loss, filename=\"validation_error.txt\")\n",
    "\n",
    "#     def predict(self, X_test, thr=0.5):\n",
    "#         predictions = self.sess.run(self.y, feed_dict={self.x: X_test})\n",
    "#         predictions[predictions >= thr] = 1\n",
    "#         predictions[predictions < thr] = 0\n",
    "#         return predictions"
   ]
  },
  {
   "cell_type": "code",
   "execution_count": null,
   "metadata": {},
   "outputs": [],
   "source": []
  },
  {
   "cell_type": "markdown",
   "metadata": {},
   "source": [
    "# read and split the data "
   ]
  },
  {
   "cell_type": "code",
   "execution_count": 4,
   "metadata": {
    "ExecuteTime": {
     "end_time": "2021-11-28T11:11:59.348466Z",
     "start_time": "2021-11-28T11:11:58.835414Z"
    }
   },
   "outputs": [],
   "source": [
    "from sklearn.utils import shuffle\n",
    "df= pd.read_csv(\"../Data/ver1.csv\", index_col=False)\n",
    "df = df.dropna()\n",
    "df = shuffle(df)\n",
    "df.drop([\"Unnamed: 0\", \"index\"],axis=1, inplace = True)\n",
    "X = df[\"Text\"]\n",
    "y= df[\"oh_label\"]"
   ]
  },
  {
   "cell_type": "code",
   "execution_count": 5,
   "metadata": {
    "ExecuteTime": {
     "end_time": "2021-11-28T11:12:01.812235Z",
     "start_time": "2021-11-28T11:12:01.492449Z"
    }
   },
   "outputs": [
    {
     "data": {
      "image/png": "[encoded data removed]",
      "text/plain": [
       "<Figure size 432x288 with 1 Axes>"
      ]
     },
     "metadata": {},
     "output_type": "display_data"
    }
   ],
   "source": [
    "import matplotlib.pyplot as plt\n",
    "import seaborn as sns\n",
    "fig1, ax1 = plt.subplots()\n",
    "ax1.pie(y.value_counts(), explode=(0, 0.1), labels=[\"ok\",\"bullying\"], autopct='%1.1f%%',\n",
    "        shadow=True, startangle=90)\n",
    "ax1.axis('equal') \n",
    "plt.show()"
   ]
  },
  {
   "cell_type": "code",
   "execution_count": 6,
   "metadata": {
    "ExecuteTime": {
     "end_time": "2021-11-28T11:12:02.533382Z",
     "start_time": "2021-11-28T11:12:02.481954Z"
    }
   },
   "outputs": [],
   "source": [
    "from sklearn.metrics import classification_report\n",
    "from sklearn.model_selection import train_test_split\n",
    "x_train, x_test, y_train, y_test = train_test_split(X, y, test_size=0.3, random_state=1,stratify = y)\n",
    "x_test, x_validation, y_test, y_validation = train_test_split(x_test, y_test, test_size=0.5, random_state=1)"
   ]
  },
  {
   "cell_type": "code",
   "execution_count": 7,
   "metadata": {
    "ExecuteTime": {
     "end_time": "2021-11-28T11:12:07.720916Z",
     "start_time": "2021-11-28T11:12:07.642783Z"
    }
   },
   "outputs": [
    {
     "data": {
      "image/png": "[encoded data removed]",
      "text/plain": [
       "<Figure size 432x288 with 1 Axes>"
      ]
     },
     "metadata": {},
     "output_type": "display_data"
    }
   ],
   "source": [
    "import matplotlib.pyplot as plt\n",
    "import seaborn as sns\n",
    "fig1, ax1 = plt.subplots()\n",
    "ax1.pie(y_train.value_counts(), explode = [0,0.1], labels=[\"not bulling\", \"bulling\"], autopct='%1.1f%%',\n",
    "        shadow=True, startangle=90)\n",
    "ax1.axis('equal')\n",
    "plt.title(\"Data distribution\")\n",
    "plt.show()"
   ]
  },
  {
   "cell_type": "code",
   "execution_count": 8,
   "metadata": {
    "ExecuteTime": {
     "end_time": "2021-11-28T11:12:07.925369Z",
     "start_time": "2021-11-28T11:12:07.911789Z"
    }
   },
   "outputs": [
    {
     "data": {
      "text/plain": [
       "(3.7353853049942103, 1.3655792104221005)"
      ]
     },
     "execution_count": 8,
     "metadata": {},
     "output_type": "execute_result"
    }
   ],
   "source": [
    "label_0_weight = y.size / (y == 0).sum()\n",
    "label_1_weight = y.size / (y == 1).sum()\n",
    "label_1_weight,label_0_weight"
   ]
  },
  {
   "cell_type": "code",
   "execution_count": 9,
   "metadata": {
    "ExecuteTime": {
     "end_time": "2021-11-28T11:12:11.315646Z",
     "start_time": "2021-11-28T11:12:08.137671Z"
    }
   },
   "outputs": [],
   "source": [
    "from sklearn.feature_extraction.text import CountVectorizer\n",
    "import re\n",
    "\n",
    "def preprocess_text(text):\n",
    "    text = text.lower()\n",
    "    text = re.sub(r'\\d+', '', text)\n",
    "    return text\n",
    "\n",
    "count_vect = CountVectorizer(min_df=0.001, lowercase=True,stop_words='english',preprocessor=preprocess_text) #max_features=1000\n",
    "X_train_counts = count_vect.fit_transform(x_train)\n",
    "x_train = pd.DataFrame(X_train_counts.toarray(), columns=count_vect.get_feature_names())"
   ]
  },
  {
   "cell_type": "code",
   "execution_count": 10,
   "metadata": {
    "ExecuteTime": {
     "end_time": "2021-11-28T11:12:12.298318Z",
     "start_time": "2021-11-28T11:12:11.650278Z"
    }
   },
   "outputs": [],
   "source": [
    "X_test_counts = count_vect.transform(x_test)\n",
    "x_test = pd.DataFrame(X_test_counts.toarray(), columns=count_vect.get_feature_names())"
   ]
  },
  {
   "cell_type": "code",
   "execution_count": 11,
   "metadata": {
    "ExecuteTime": {
     "end_time": "2021-11-28T11:12:13.203729Z",
     "start_time": "2021-11-28T11:12:12.554322Z"
    }
   },
   "outputs": [],
   "source": [
    "X_validation_counts = count_vect.transform(x_validation)\n",
    "x_validation = pd.DataFrame(X_validation_counts.toarray(), columns=count_vect.get_feature_names())"
   ]
  },
  {
   "cell_type": "code",
   "execution_count": 12,
   "metadata": {
    "ExecuteTime": {
     "end_time": "2021-11-28T11:12:13.647725Z",
     "start_time": "2021-11-28T11:12:13.633732Z"
    }
   },
   "outputs": [],
   "source": [
    "# from sklearn.utils import shuffle\n",
    "# X_1 = pd.read_csv(\"../Data/log_1.csv\", index_col=0)\n",
    "# X_1 = shuffle(X_1)\n",
    "# X_1 = X_1.loc[(X_1.sum(axis=1) != 0),:]\n",
    "# X_1 = X_1.loc[(X_1.sum(axis=1) != 1),:]\n",
    "# X_1 = X_1.loc[:,(X_1.sum(axis=0) != 0)]\n",
    "# y = X_1[\"oh_label\"]"
   ]
  },
  {
   "cell_type": "code",
   "execution_count": 13,
   "metadata": {
    "ExecuteTime": {
     "end_time": "2021-11-28T11:12:20.440952Z",
     "start_time": "2021-11-28T11:12:13.899768Z"
    }
   },
   "outputs": [],
   "source": [
    "from sklearn.preprocessing import StandardScaler\n",
    "scaler_train = StandardScaler()\n",
    "scaler_train.fit(x_train)\n",
    "x_train = scaler_train.transform(x_train)\n",
    "x_test = scaler_train.transform(x_test)\n",
    "x_validation = scaler_train.transform(x_validation)"
   ]
  },
  {
   "cell_type": "code",
   "execution_count": 14,
   "metadata": {
    "ExecuteTime": {
     "end_time": "2021-11-28T11:12:20.518003Z",
     "start_time": "2021-11-28T11:12:20.504925Z"
    }
   },
   "outputs": [],
   "source": [
    "# import matplotlib.pyplot as plt\n",
    "# import seaborn as sns\n",
    "# fig1, ax1 = plt.subplots()\n",
    "# ax1.pie([70, 15, 15], explode = [0,0.1,0.1], labels=[\"train\",\"test\",\"validation\"], autopct='%1.1f%%',\n",
    "#         shadow=True, startangle=90)\n",
    "# ax1.axis('equal') \n",
    "# plt.show()"
   ]
  },
  {
   "cell_type": "code",
   "execution_count": 15,
   "metadata": {
    "ExecuteTime": {
     "end_time": "2021-11-28T11:12:20.597928Z",
     "start_time": "2021-11-28T11:12:20.583928Z"
    }
   },
   "outputs": [],
   "source": [
    "# X_1.drop(\"oh_label\",axis=1, inplace = True)\n",
    "# X = X_1"
   ]
  },
  {
   "cell_type": "code",
   "execution_count": 16,
   "metadata": {
    "ExecuteTime": {
     "end_time": "2021-11-28T11:12:20.677927Z",
     "start_time": "2021-11-28T11:12:20.664926Z"
    }
   },
   "outputs": [
    {
     "data": {
      "text/plain": [
       "(17.356806347632034, 1.3655872024970737)"
      ]
     },
     "execution_count": 16,
     "metadata": {},
     "output_type": "execute_result"
    }
   ],
   "source": [
    "label_0_weight = y_train.size / (y_train == 0).sum()\n",
    "label_1_weight = y_train.size / (y_test == 1).sum()\n",
    "label_1_weight,label_0_weight"
   ]
  },
  {
   "cell_type": "code",
   "execution_count": 17,
   "metadata": {
    "ExecuteTime": {
     "end_time": "2021-11-28T11:12:20.819918Z",
     "start_time": "2021-11-28T11:12:20.741921Z"
    }
   },
   "outputs": [
    {
     "data": {
      "image/png": "[encoded data removed]",
      "text/plain": [
       "<Figure size 432x288 with 1 Axes>"
      ]
     },
     "metadata": {},
     "output_type": "display_data"
    }
   ],
   "source": [
    "import matplotlib.pyplot as plt\n",
    "import seaborn as sns\n",
    "fig1, ax1 = plt.subplots()\n",
    "ax1.pie(y_train.value_counts(), explode = [0,0.1], labels=[\"not bulling\", \"bulling\"], autopct='%1.1f%%',\n",
    "        shadow=True, startangle=90)\n",
    "ax1.axis('equal')\n",
    "plt.title(\"Data distribution\")\n",
    "plt.show()"
   ]
  },
  {
   "cell_type": "code",
   "execution_count": 18,
   "metadata": {
    "ExecuteTime": {
     "end_time": "2021-11-28T11:12:20.899590Z",
     "start_time": "2021-11-28T11:12:20.885595Z"
    }
   },
   "outputs": [
    {
     "name": "stdout",
     "output_type": "stream",
     "text": [
      "Counter({0.0: 51260, 1.0: 18740})\n"
     ]
    }
   ],
   "source": [
    "# from sklearn.linear_model import SGDClassifier\n",
    "# logmodel = SGDClassifier(max_iter=80,loss='log', class_weight= \"balanced\", random_state=42)\n",
    "# logmodel.fit(x_train,y_train)\n",
    "# predictions = logmodel.predict(x_test)\n",
    "# print(classification_report(y_test,predictions,zero_division=0))\n",
    "from collections import Counter\n",
    "print(Counter(y_train))"
   ]
  },
  {
   "cell_type": "code",
   "execution_count": 19,
   "metadata": {
    "ExecuteTime": {
     "end_time": "2021-11-28T11:12:20.977132Z",
     "start_time": "2021-11-28T11:12:20.963594Z"
    }
   },
   "outputs": [],
   "source": [
    "# oversample implementation\n",
    "# from imblearn.over_sampling import SMOTE\n",
    "\n",
    "# from imblearn import under_sampling, over_sampling\n",
    "# from imblearn.over_sampling import RandomOverSampler \n",
    "# oversample = RandomOverSampler(random_state=42,sampling_strategy=0.9)\n",
    "# x_train, y_train = oversample.fit_resample(x_train, y_train)"
   ]
  },
  {
   "cell_type": "code",
   "execution_count": 20,
   "metadata": {
    "ExecuteTime": {
     "end_time": "2021-11-28T10:33:11.434079Z",
     "start_time": "2021-11-28T10:33:11.421081Z"
    }
   },
   "outputs": [
    {
     "data": {
      "text/plain": [
       "(17.356806347632034, 1.3655872024970737)"
      ]
     },
     "execution_count": 20,
     "metadata": {},
     "output_type": "execute_result"
    }
   ],
   "source": [
    "label_0_weight = y_train.size / (y_train == 0).sum()\n",
    "label_1_weight = y_train.size / (y_test == 1).sum()\n",
    "label_1_weight,label_0_weight"
   ]
  },
  {
   "cell_type": "code",
   "execution_count": 20,
   "metadata": {
    "ExecuteTime": {
     "end_time": "2021-11-28T11:12:35.192485Z",
     "start_time": "2021-11-28T11:12:35.122455Z"
    }
   },
   "outputs": [
    {
     "data": {
      "image/png": "[encoded data removed]",
      "text/plain": [
       "<Figure size 432x288 with 1 Axes>"
      ]
     },
     "metadata": {},
     "output_type": "display_data"
    }
   ],
   "source": [
    "import matplotlib.pyplot as plt\n",
    "import seaborn as sns\n",
    "fig1, ax1 = plt.subplots()\n",
    "ax1.pie(y_train.value_counts(), explode = [0,0.1], labels=[\"not bulling\", \"bulling\"], autopct='%1.1f%%',\n",
    "        shadow=True, startangle=90)\n",
    "ax1.axis('equal')\n",
    "plt.title(\"Data distribution\")\n",
    "plt.show()"
   ]
  },
  {
   "cell_type": "code",
   "execution_count": 22,
   "metadata": {
    "ExecuteTime": {
     "end_time": "2021-11-28T10:18:09.157186Z",
     "start_time": "2021-11-28T10:18:09.131342Z"
    }
   },
   "outputs": [
    {
     "name": "stdout",
     "output_type": "stream",
     "text": [
      "Counter({0.0: 51260, 1.0: 18740})\n"
     ]
    }
   ],
   "source": [
    "from collections import Counter\n",
    "print(Counter(y_train))"
   ]
  },
  {
   "cell_type": "code",
   "execution_count": 210,
   "metadata": {
    "ExecuteTime": {
     "end_time": "2021-11-27T20:21:55.622050Z",
     "start_time": "2021-11-27T20:20:18.675103Z"
    }
   },
   "outputs": [
    {
     "name": "stdout",
     "output_type": "stream",
     "text": [
      "iteration 0: loss value is: 1.8592386153886098\n",
      "iteration 1: loss value is: 1.3688990952620355\n",
      "iteration 2: loss value is: 1.0335733987222702\n",
      "iteration 3: loss value is: 0.6691833620912003\n",
      "iteration 4: loss value is: 0.5459389942488951\n",
      "iteration 5: loss value is: 0.46893537320540696\n",
      "iteration 6: loss value is: 0.4138771078205348\n",
      "iteration 7: loss value is: 0.3754891868352466\n",
      "iteration 8: loss value is: 0.3440714486808138\n",
      "iteration 9: loss value is: 0.3215845827891004\n",
      "iteration 10: loss value is: 0.30017162942568176\n",
      "iteration 11: loss value is: 0.2868345365528745\n",
      "iteration 12: loss value is: 0.2778934934359013\n",
      "iteration 13: loss value is: 0.2703518383980846\n",
      "iteration 14: loss value is: 0.2645392557544761\n",
      "iteration 15: loss value is: 0.26094810556633696\n",
      "iteration 16: loss value is: 0.256274929808723\n",
      "iteration 17: loss value is: 0.2524037155491876\n",
      "iteration 18: loss value is: 0.25031021072992277\n",
      "iteration 19: loss value is: 0.2474309319804278\n",
      "iteration 20: loss value is: 0.24559359673123002\n",
      "iteration 21: loss value is: 0.24387806707056062\n",
      "iteration 22: loss value is: 0.2444727401684353\n",
      "iteration 23: loss value is: 0.24216168887188622\n",
      "iteration 24: loss value is: 0.24301533857076202\n",
      "iteration 25: loss value is: 0.2426760281737807\n",
      "iteration 26: loss value is: 0.2428586684824235\n",
      "iteration 27: loss value is: 0.24189376338338092\n",
      "iteration 28: loss value is: 0.2437724413310594\n",
      "iteration 29: loss value is: 0.2422510778841515\n",
      "iteration 30: loss value is: 0.24359362371656984\n",
      "iteration 31: loss value is: 0.2438821277767017\n",
      "iteration 32: loss value is: 0.24440569550661137\n",
      "iteration 33: loss value is: 0.24374207162083578\n",
      "iteration 34: loss value is: 0.24581892755405338\n",
      "iteration 35: loss value is: 0.24412753714520796\n",
      "iteration 36: loss value is: 0.2451316881814801\n",
      "iteration 37: loss value is: 0.245620918625508\n",
      "iteration 38: loss value is: 0.24547247355763382\n",
      "iteration 39: loss value is: 0.24576993262675792\n",
      "iteration 40: loss value is: 0.24562835788793985\n",
      "iteration 41: loss value is: 0.2440770542466462\n",
      "iteration 42: loss value is: 0.2462078501604346\n",
      "iteration 43: loss value is: 0.24469071313873172\n",
      "iteration 44: loss value is: 0.24466740429347156\n",
      "iteration 45: loss value is: 0.24569721551759854\n",
      "iteration 46: loss value is: 0.24510879769720403\n",
      "iteration 47: loss value is: 0.24368387433103805\n",
      "iteration 48: loss value is: 0.24579328596167713\n",
      "iteration 49: loss value is: 0.24442425877706178\n",
      "iteration 50: loss value is: 0.24436336019126442\n",
      "iteration 51: loss value is: 0.24555513068120519\n",
      "iteration 52: loss value is: 0.24447727634265104\n",
      "iteration 53: loss value is: 0.24422318149872196\n",
      "iteration 54: loss value is: 0.24449117297749118\n",
      "iteration 55: loss value is: 0.2434956815443714\n",
      "iteration 56: loss value is: 0.24448675394557828\n",
      "iteration 57: loss value is: 0.24359121853617252\n",
      "iteration 58: loss value is: 0.24345021441321038\n",
      "iteration 59: loss value is: 0.2441883697473714\n",
      "iteration 60: loss value is: 0.2435195534437301\n",
      "iteration 61: loss value is: 0.2425405362721028\n",
      "iteration 62: loss value is: 0.24412175067497854\n",
      "iteration 63: loss value is: 0.2435886700041737\n",
      "iteration 64: loss value is: 0.24266144762119388\n",
      "iteration 65: loss value is: 0.24409208622179684\n",
      "iteration 66: loss value is: 0.24300413940807175\n",
      "iteration 67: loss value is: 0.24362298963384524\n",
      "iteration 68: loss value is: 0.24235848008612712\n",
      "iteration 69: loss value is: 0.2423762939932437\n",
      "iteration 70: loss value is: 0.24327931072679987\n",
      "iteration 71: loss value is: 0.24222948681133122\n",
      "iteration 72: loss value is: 0.24188972256028243\n",
      "iteration 73: loss value is: 0.24339280112012746\n",
      "iteration 74: loss value is: 0.2415734326623742\n",
      "iteration 75: loss value is: 0.2423377255859218\n",
      "iteration 76: loss value is: 0.24251343910942985\n",
      "iteration 77: loss value is: 0.24214741104992618\n",
      "iteration 78: loss value is: 0.24186245646004514\n",
      "iteration 79: loss value is: 0.24306515885447727\n",
      "              precision    recall  f1-score   support\n",
      "\n",
      "         0.0       0.85      0.96      0.90     11002\n",
      "         1.0       0.82      0.54      0.65      3998\n",
      "\n",
      "    accuracy                           0.85     15000\n",
      "   macro avg       0.84      0.75      0.78     15000\n",
      "weighted avg       0.84      0.85      0.83     15000\n",
      "\n"
     ]
    }
   ],
   "source": [
    "import seaborn as sns\n",
    "logistic = LogisticRegression(x_train,y_train.values,x_test,y_test.values,x_validation, y_validation.values,epoch=80,learning_rate=0.01,batch_size=50)\n",
    "predictions = logistic.predict(x_validation)\n",
    "print(classification_report(y_validation, predictions))"
   ]
  },
  {
   "cell_type": "code",
   "execution_count": 211,
   "metadata": {
    "ExecuteTime": {
     "end_time": "2021-11-27T20:21:55.779604Z",
     "start_time": "2021-11-27T20:21:55.623016Z"
    }
   },
   "outputs": [
    {
     "data": {
      "text/plain": [
       "0.8454666666666667"
      ]
     },
     "execution_count": 211,
     "metadata": {},
     "output_type": "execute_result"
    },
    {
     "data": {
      "image/png": "[encoded data removed]",
      "text/plain": [
       "<Figure size 432x288 with 2 Axes>"
      ]
     },
     "metadata": {
      "needs_background": "light"
     },
     "output_type": "display_data"
    }
   ],
   "source": [
    "clf_report = classification_report(y_validation, predictions, output_dict=True)\n",
    "sns.heatmap(pd.DataFrame(clf_report).iloc[:-1, :-3].T, annot=True)\n",
    "clf_report[\"accuracy\"]"
   ]
  },
  {
   "cell_type": "code",
   "execution_count": 212,
   "metadata": {
    "ExecuteTime": {
     "end_time": "2021-11-27T20:21:55.907142Z",
     "start_time": "2021-11-27T20:21:55.781633Z"
    }
   },
   "outputs": [
    {
     "data": {
      "text/plain": [
       "Text(33.0, 0.5, 'True label')"
      ]
     },
     "execution_count": 212,
     "metadata": {},
     "output_type": "execute_result"
    },
    {
     "data": {
      "image/png": "[encoded data removed]",
      "text/plain": [
       "<Figure size 432x288 with 2 Axes>"
      ]
     },
     "metadata": {
      "needs_background": "light"
     },
     "output_type": "display_data"
    }
   ],
   "source": [
    "from sklearn.metrics import confusion_matrix\n",
    "cc = confusion_matrix(y_validation, predictions, labels=[0, 1])\n",
    "sns.heatmap(cc, annot=True, fmt=\"g\", cmap='Blues')\n",
    "plt.xlabel(\"Predicted label\")\n",
    "plt.title(\"Confusion Matrix\")\n",
    "plt.ylabel(\"True label\")"
   ]
  },
  {
   "cell_type": "code",
   "execution_count": 213,
   "metadata": {
    "ExecuteTime": {
     "end_time": "2021-11-27T20:21:56.078753Z",
     "start_time": "2021-11-27T20:21:55.909142Z"
    }
   },
   "outputs": [
    {
     "data": {
      "image/png": "[encoded data removed]",
      "text/plain": [
       "<Figure size 1332x756 with 1 Axes>"
      ]
     },
     "metadata": {
      "needs_background": "light"
     },
     "output_type": "display_data"
    }
   ],
   "source": [
    "import matplotlib.pyplot as plt \n",
    "fig = plt.figure()\n",
    "fig.set_size_inches(18.5, 10.5)\n",
    "data_train = np.loadtxt(\"train_error.txt\")\n",
    "data_test = np.loadtxt(\"test_error.txt\")\n",
    "data_validation = np.loadtxt(\"validation_error.txt\")\n",
    "plt.plot(data_train,color='g',label='train_error')\n",
    "plt.plot(data_test,color='r',label='test_error')\n",
    "plt.plot(data_validation,color='k',label='validation_error')\n",
    "plt.xlabel(\"epoch\", fontsize=18)\n",
    "plt.ylabel(\"loss value\",fontsize=18)\n",
    "plt.title(\"Loss Function\", fontsize = 25)\n",
    "plt.legend()\n",
    "plt.show()"
   ]
  },
  {
   "cell_type": "code",
   "execution_count": null,
   "metadata": {
    "ExecuteTime": {
     "end_time": "2021-11-25T22:39:25.141976Z",
     "start_time": "2021-11-25T22:39:24.775876Z"
    }
   },
   "outputs": [],
   "source": []
  },
  {
   "cell_type": "code",
   "execution_count": 21,
   "metadata": {
    "ExecuteTime": {
     "end_time": "2021-11-28T11:12:41.116168Z",
     "start_time": "2021-11-28T11:12:41.093050Z"
    }
   },
   "outputs": [],
   "source": [
    "class MLP:\n",
    "    \"\"\"\n",
    "    multi level perceptron implementation using tensorflow version 1\n",
    "    \"\"\"\n",
    "        \n",
    "    def __init__(self, x_train: np.ndarray, y_train, layers_sizes=(100,), learning_rate=0.1, epoch=50, batch_size=100):\n",
    "        \"\"\"\n",
    "        Feed Foreword Neural network using Batch gradient decent optimizer\n",
    "        :param layers_sizes: len of this list need to be greater than 1\n",
    "        :param num_iter:\n",
    "        :param print_step: print loss value every print_step echos\n",
    "        \"\"\"\n",
    "        x_train, x_test, y_train, y_test = train_test_split(x_train, y_train, test_size=0.1, random_state=1)\n",
    "        print(x_train.shape,x_test.shape,y_test.shape)\n",
    "        self.sess = tf.Session(config=tf.ConfigProto(intra_op_parallelism_threads=4))\n",
    "        self.losses = []\n",
    "        self.test_loss = []\n",
    "        lr = learning_rate\n",
    "        learning_rate_tensor = tf.placeholder(tf.float64, shape=[])  # tensor for implement dynamic learning rate \n",
    "        rows_num, features = x_train.shape[0], x_train.shape[1]\n",
    "        self.x = tf.placeholder(tf.float64, [None, features])\n",
    "        y_train_variable = tf.placeholder(tf.float64, [None, 1])\n",
    "        layers_sizes = [features] + list(layers_sizes) + [1]\n",
    "        W, b = [], []\n",
    "        for i, layer_size in enumerate(layers_sizes[1:]):\n",
    "            W.append(tf.Variable(tf.random.uniform([layers_sizes[i], layer_size],dtype=tf.float64)))\n",
    "            b.append(tf.Variable(tf.random.uniform([layer_size],dtype=tf.float64)))\n",
    "        # ff\n",
    "        prev_output = tf.nn.relu(tf.matmul(self.x, W[0]) + b[0])\n",
    "        for layer_w, layer_b in zip(W[1:-1], b[1:-1]):\n",
    "            print(prev_output)\n",
    "            prev_output = tf.nn.relu(tf.add(tf.matmul(prev_output, layer_w), layer_b))\n",
    "        print(prev_output)\n",
    "        self.y = tf.add(tf.matmul(prev_output, W[-1]), b[-1])\n",
    "        print(self.y)\n",
    "        w1_weight = (y_train == 1).sum()    # for imbalance data\n",
    "        w0_weight = (y_train == 0).sum()\n",
    "        # pos_weight multiple the 1 label => targets * -log(sigmoid(logits)) * pos_weight \n",
    "        loss = tf.reduce_mean(tf.nn.weighted_cross_entropy_with_logits(labels=y_train_variable, logits= tf.cast(self.y, tf.float64),pos_weight=tf.constant((w1_weight+w0_weight)/w1_weight, tf.float64)))\n",
    "        update = tf.train.GradientDescentOptimizer(learning_rate = learning_rate_tensor).minimize(loss) \n",
    "        self.sess.run(tf.global_variables_initializer())\n",
    "        rows_num = x_train.shape[0]\n",
    "        for i in range(0, epoch * (rows_num//batch_size)):\n",
    "            counter_step = i % (rows_num // batch_size)\n",
    "            X_batch = x_train[counter_step * batch_size:min((counter_step + 1) * batch_size, rows_num)]\n",
    "            Y_batch = y_train[counter_step * batch_size:min((counter_step + 1) * batch_size, rows_num)]\n",
    "            Y_batch = Y_batch.reshape((Y_batch.size, 1))\n",
    "            self.sess.run(update, feed_dict={self.x: X_batch, y_train_variable: Y_batch,learning_rate_tensor:lr})\n",
    "            loss_value = self.sess.run(loss, feed_dict={self.x: X_batch, y_train_variable: Y_batch,learning_rate_tensor:lr})\n",
    "            loss_value_test = self.sess.run(loss, feed_dict={self.x:x_test, y_train_variable: y_test.reshape(y_test.size,1),learning_rate_tensor:lr})\n",
    "            if i % (rows_num//batch_size) == 0:\n",
    "                index = i//(rows_num//batch_size) \n",
    "                print(f\"The learning rate is: {lr}\")\n",
    "                print(f\"iteration {index}: loss value is: {loss_value}\")\n",
    "                self.losses.append(loss_value)\n",
    "                self.test_loss.append(loss_value_test)\n",
    "                if  self.losses[index] > self.losses[index-1]:  # check if the loss divergence\n",
    "                    print(\"=====change learning rate=========\")\n",
    "                    lr = lr/10\n",
    "        save_loss(self.losses, filename=\"MLP_train_error.txt\")\n",
    "        save_loss(self.test_loss, filename=\"MLP_test_error.txt\")\n",
    "\n",
    "    def predict(self, X_test, thr=0.5):\n",
    "        predictions = self.sess.run(tf.nn.sigmoid(self.sess.run(self.y, feed_dict={self.x: X_test})))\n",
    "        predictions[predictions >= thr] = 1\n",
    "        predictions[predictions < thr] = 0\n",
    "        return predictions\n",
    "\n"
   ]
  },
  {
   "cell_type": "code",
   "execution_count": 22,
   "metadata": {
    "ExecuteTime": {
     "end_time": "2021-11-28T11:12:42.315171Z",
     "start_time": "2021-11-28T11:12:42.307133Z"
    }
   },
   "outputs": [
    {
     "data": {
      "text/plain": [
       "(70000, 3284)"
      ]
     },
     "execution_count": 22,
     "metadata": {},
     "output_type": "execute_result"
    }
   ],
   "source": [
    "# x_train,y_train.values,x_test,y_test.values,x_validation, y_validation.values\n",
    "x_train.shape"
   ]
  },
  {
   "cell_type": "code",
   "execution_count": 23,
   "metadata": {
    "ExecuteTime": {
     "end_time": "2021-11-28T11:12:43.655936Z",
     "start_time": "2021-11-28T11:12:43.642936Z"
    }
   },
   "outputs": [],
   "source": [
    "from sklearn.neural_network import MLPClassifier\n",
    "from sklearn.metrics import confusion_matrix"
   ]
  },
  {
   "cell_type": "code",
   "execution_count": 24,
   "metadata": {
    "ExecuteTime": {
     "end_time": "2021-11-28T11:12:45.019907Z",
     "start_time": "2021-11-28T11:12:45.006744Z"
    }
   },
   "outputs": [],
   "source": [
    "def mlp_pipeline(clf):\n",
    "    clf.fit(x_train, y_train.values)\n",
    "    predictions = clf.predict(x_validation)\n",
    "    print(classification_report(y_validation.values, predictions))\n",
    "    cc = confusion_matrix(y_validation, predictions, labels=[0, 1])\n",
    "    sns.heatmap(cc, annot=True, fmt=\"g\", cmap='Blues')\n",
    "    plt.xlabel(\"Predicted label\")\n",
    "    plt.title(\"Confusion Matrix\")\n",
    "    plt.ylabel(\"True label\")\n",
    "    plt.show()"
   ]
  },
  {
   "cell_type": "code",
   "execution_count": 31,
   "metadata": {
    "ExecuteTime": {
     "end_time": "2021-11-28T10:57:23.080873Z",
     "start_time": "2021-11-28T10:57:23.055669Z"
    }
   },
   "outputs": [],
   "source": [
    "clf1 = MLPClassifier(random_state=1,learning_rate_init=0.01,batch_size=200,activation=\"relu\",\n",
    "                    hidden_layer_sizes=(1000,500,100),solver='adam',max_iter=100,verbose=True)"
   ]
  },
  {
   "cell_type": "code",
   "execution_count": 30,
   "metadata": {
    "ExecuteTime": {
     "end_time": "2021-11-28T10:54:11.486715Z",
     "start_time": "2021-11-28T10:37:45.507178Z"
    }
   },
   "outputs": [
    {
     "name": "stdout",
     "output_type": "stream",
     "text": [
      "Iteration 1, loss = 0.49186077\n",
      "Iteration 2, loss = 0.33885007\n",
      "Iteration 3, loss = 0.28019483\n",
      "Iteration 4, loss = 0.25849795\n",
      "Iteration 5, loss = 0.26839807\n",
      "Iteration 6, loss = 0.27504068\n",
      "Iteration 7, loss = 0.30506439\n",
      "Iteration 8, loss = 0.30173568\n",
      "Iteration 9, loss = 0.31940272\n",
      "Iteration 10, loss = 0.31854720\n",
      "Iteration 11, loss = 0.38491808\n",
      "Iteration 12, loss = 0.33769531\n",
      "Iteration 13, loss = 0.33362320\n",
      "Iteration 14, loss = 0.31822858\n",
      "Iteration 15, loss = 0.51952984\n",
      "Training loss did not improve more than tol=0.000100 for 10 consecutive epochs. Stopping.\n",
      "              precision    recall  f1-score   support\n",
      "\n",
      "         0.0       0.74      1.00      0.85     11002\n",
      "         1.0       0.93      0.05      0.10      3998\n",
      "\n",
      "    accuracy                           0.75     15000\n",
      "   macro avg       0.84      0.53      0.48     15000\n",
      "weighted avg       0.79      0.75      0.65     15000\n",
      "\n"
     ]
    },
    {
     "data": {
      "image/png": "[encoded data removed]",
      "text/plain": [
       "<Figure size 432x288 with 2 Axes>"
      ]
     },
     "metadata": {
      "needs_background": "light"
     },
     "output_type": "display_data"
    }
   ],
   "source": [
    "mlp_pipeline(clf1)"
   ]
  },
  {
   "cell_type": "code",
   "execution_count": 34,
   "metadata": {
    "ExecuteTime": {
     "end_time": "2021-11-28T12:37:30.937250Z",
     "start_time": "2021-11-28T12:37:30.934025Z"
    }
   },
   "outputs": [],
   "source": [
    "losses = [0.49186077,0.33885007,0.28019483,0.25849795,0.26839807,0.27504068,0.30506439,0.30173568,0.31940272,0.31854720,0.38491808,0.33769531,0.33362320,0.31822858,0.51952984]"
   ]
  },
  {
   "cell_type": "code",
   "execution_count": 36,
   "metadata": {
    "ExecuteTime": {
     "end_time": "2021-11-28T12:38:14.654865Z",
     "start_time": "2021-11-28T12:38:14.539873Z"
    }
   },
   "outputs": [
    {
     "data": {
      "text/plain": [
       "[<matplotlib.lines.Line2D at 0x21ac989ef40>]"
      ]
     },
     "execution_count": 36,
     "metadata": {},
     "output_type": "execute_result"
    },
    {
     "data": {
      "image/png": "[encoded data removed]",
      "text/plain": [
       "<Figure size 432x288 with 1 Axes>"
      ]
     },
     "metadata": {
      "needs_background": "light"
     },
     "output_type": "display_data"
    }
   ],
   "source": [
    "plt.xlabel(\"epoch\", fontsize=18)\n",
    "plt.ylabel(\"loss value\",fontsize=18)\n",
    "plt.title(\"Loss Function\", fontsize = 25)\n",
    "plt.plot(losses)"
   ]
  },
  {
   "cell_type": "code",
   "execution_count": 26,
   "metadata": {
    "ExecuteTime": {
     "end_time": "2021-11-28T11:13:38.756579Z",
     "start_time": "2021-11-28T11:13:38.753590Z"
    }
   },
   "outputs": [],
   "source": [
    "clf4 = MLPClassifier(random_state=1,learning_rate_init=0.01,batch_size=200,activation=\"relu\",\n",
    "                    hidden_layer_sizes=(500,100),solver='adam',max_iter=100,verbose=True,learning_rate=\"adaptive\")"
   ]
  },
  {
   "cell_type": "code",
   "execution_count": 27,
   "metadata": {
    "ExecuteTime": {
     "end_time": "2021-11-28T11:28:45.025386Z",
     "start_time": "2021-11-28T11:13:49.372631Z"
    }
   },
   "outputs": [
    {
     "name": "stdout",
     "output_type": "stream",
     "text": [
      "Iteration 1, loss = 0.45095640\n",
      "Iteration 2, loss = 0.32264742\n",
      "Iteration 3, loss = 0.28246963\n",
      "Iteration 4, loss = 0.25420961\n",
      "Iteration 5, loss = 0.22714410\n",
      "Iteration 6, loss = 0.21668556\n",
      "Iteration 7, loss = 0.20236626\n",
      "Iteration 8, loss = 0.19336735\n",
      "Iteration 9, loss = 0.25130103\n",
      "Iteration 10, loss = 0.26460682\n",
      "Iteration 11, loss = 0.24749870\n",
      "Iteration 12, loss = 0.21447996\n",
      "Iteration 13, loss = 0.18785226\n",
      "Iteration 14, loss = 0.17101251\n",
      "Iteration 15, loss = 0.16755544\n",
      "Iteration 16, loss = 0.16009359\n",
      "Iteration 17, loss = 0.15640802\n",
      "Iteration 18, loss = 0.15560491\n",
      "Iteration 19, loss = 0.19960598\n",
      "Iteration 20, loss = 0.21710439\n",
      "Iteration 21, loss = 0.21891133\n",
      "Iteration 22, loss = 0.23245732\n",
      "Iteration 23, loss = 0.22602136\n",
      "Iteration 24, loss = 0.22045110\n",
      "Iteration 25, loss = 0.21191584\n",
      "Iteration 26, loss = 0.21565911\n",
      "Iteration 27, loss = 0.20165730\n",
      "Iteration 28, loss = 0.19929792\n",
      "Iteration 29, loss = 0.20204708\n",
      "Training loss did not improve more than tol=0.000100 for 10 consecutive epochs. Stopping.\n",
      "              precision    recall  f1-score   support\n",
      "\n",
      "         0.0       0.88      0.94      0.91     11002\n",
      "         1.0       0.80      0.65      0.72      3998\n",
      "\n",
      "    accuracy                           0.86     15000\n",
      "   macro avg       0.84      0.80      0.82     15000\n",
      "weighted avg       0.86      0.86      0.86     15000\n",
      "\n"
     ]
    },
    {
     "data": {
      "image/png": "[encoded data removed]",
      "text/plain": [
       "<Figure size 432x288 with 2 Axes>"
      ]
     },
     "metadata": {
      "needs_background": "light"
     },
     "output_type": "display_data"
    }
   ],
   "source": [
    "mlp_pipeline(clf4)"
   ]
  },
  {
   "cell_type": "code",
   "execution_count": 29,
   "metadata": {
    "ExecuteTime": {
     "end_time": "2021-11-28T11:37:42.647265Z",
     "start_time": "2021-11-28T11:37:36.889514Z"
    }
   },
   "outputs": [],
   "source": [
    "# oversample implementation\n",
    "from imblearn.over_sampling import SMOTE\n",
    "\n",
    "from imblearn import under_sampling, over_sampling\n",
    "from imblearn.over_sampling import RandomOverSampler \n",
    "oversample = RandomOverSampler(random_state=42,sampling_strategy=0.9)\n",
    "x_train, y_train = oversample.fit_resample(x_train, y_train)"
   ]
  },
  {
   "cell_type": "code",
   "execution_count": 31,
   "metadata": {
    "ExecuteTime": {
     "end_time": "2021-11-28T12:05:34.467989Z",
     "start_time": "2021-11-28T11:39:02.586031Z"
    }
   },
   "outputs": [
    {
     "name": "stdout",
     "output_type": "stream",
     "text": [
      "Iteration 1, loss = 0.45326188\n",
      "Iteration 2, loss = 0.31300272\n",
      "Iteration 3, loss = 0.25596418\n",
      "Iteration 4, loss = 0.23238772\n",
      "Iteration 5, loss = 0.21124959\n",
      "Iteration 6, loss = 0.20251263\n",
      "Iteration 7, loss = 0.20501424\n",
      "Iteration 8, loss = 0.18075419\n",
      "Iteration 9, loss = 0.17299856\n",
      "Iteration 10, loss = 0.19146705\n",
      "Iteration 11, loss = 0.26030485\n",
      "Iteration 12, loss = 0.20467961\n",
      "Iteration 13, loss = 0.18405184\n",
      "Iteration 14, loss = 0.16926886\n",
      "Iteration 15, loss = 0.16930555\n",
      "Iteration 16, loss = 0.16689334\n",
      "Iteration 17, loss = 0.16862678\n",
      "Iteration 18, loss = 0.16211799\n",
      "Iteration 19, loss = 0.21781083\n",
      "Iteration 20, loss = 0.15842945\n",
      "Iteration 21, loss = 0.14819519\n",
      "Iteration 22, loss = 0.14282927\n",
      "Iteration 23, loss = 0.13915942\n",
      "Iteration 24, loss = 0.14382271\n",
      "Iteration 25, loss = 0.13579911\n",
      "Iteration 26, loss = 0.13237113\n",
      "Iteration 27, loss = 0.17389022\n",
      "Iteration 28, loss = 0.22270478\n",
      "Iteration 29, loss = 0.24749279\n",
      "Iteration 30, loss = 0.22262463\n",
      "Iteration 31, loss = 0.18442084\n",
      "Iteration 32, loss = 0.16616887\n",
      "Iteration 33, loss = 0.15817996\n",
      "Iteration 34, loss = 0.15194009\n",
      "Iteration 35, loss = 0.14625856\n",
      "Iteration 36, loss = 0.13994415\n",
      "Iteration 37, loss = 0.14281336\n",
      "Training loss did not improve more than tol=0.000100 for 10 consecutive epochs. Stopping.\n",
      "              precision    recall  f1-score   support\n",
      "\n",
      "         0.0       0.91      0.89      0.90     11002\n",
      "         1.0       0.72      0.77      0.74      3998\n",
      "\n",
      "    accuracy                           0.86     15000\n",
      "   macro avg       0.82      0.83      0.82     15000\n",
      "weighted avg       0.86      0.86      0.86     15000\n",
      "\n"
     ]
    },
    {
     "data": {
      "image/png": "[encoded data removed]",
      "text/plain": [
       "<Figure size 432x288 with 2 Axes>"
      ]
     },
     "metadata": {
      "needs_background": "light"
     },
     "output_type": "display_data"
    }
   ],
   "source": [
    "mlp_pipeline(clf4)"
   ]
  },
  {
   "cell_type": "code",
   "execution_count": 35,
   "metadata": {
    "ExecuteTime": {
     "end_time": "2021-11-28T12:37:46.373612Z",
     "start_time": "2021-11-28T12:37:46.250607Z"
    }
   },
   "outputs": [
    {
     "data": {
      "text/plain": [
       "[<matplotlib.lines.Line2D at 0x21a99bef6d0>]"
      ]
     },
     "execution_count": 35,
     "metadata": {},
     "output_type": "execute_result"
    },
    {
     "data": {
      "image/png": "[encoded data removed]",
      "text/plain": [
       "<Figure size 432x288 with 1 Axes>"
      ]
     },
     "metadata": {
      "needs_background": "light"
     },
     "output_type": "display_data"
    }
   ],
   "source": [
    "plt.xlabel(\"epoch\", fontsize=18)\n",
    "plt.ylabel(\"loss value\",fontsize=18)\n",
    "plt.title(\"Loss Function\", fontsize = 25)\n",
    "plt.plot(clf4.loss_curve_)"
   ]
  },
  {
   "cell_type": "code",
   "execution_count": null,
   "metadata": {},
   "outputs": [],
   "source": []
  },
  {
   "cell_type": "code",
   "execution_count": 37,
   "metadata": {
    "ExecuteTime": {
     "end_time": "2021-11-28T12:47:59.965840Z",
     "start_time": "2021-11-28T12:47:59.944841Z"
    }
   },
   "outputs": [],
   "source": [
    "clf2 = MLPClassifier(random_state=1,learning_rate_init=0.01,batch_size=200,activation=\"relu\",\n",
    "                    hidden_layer_sizes=(1000,500,100,50),solver='adam',max_iter=10000,verbose=True)"
   ]
  },
  {
   "cell_type": "code",
   "execution_count": 38,
   "metadata": {
    "ExecuteTime": {
     "end_time": "2021-11-28T13:21:30.082980Z",
     "start_time": "2021-11-28T12:48:14.369724Z"
    }
   },
   "outputs": [
    {
     "name": "stdout",
     "output_type": "stream",
     "text": [
      "Iteration 1, loss = 0.48971795\n",
      "Iteration 2, loss = 0.30826715\n",
      "Iteration 3, loss = 0.24823736\n",
      "Iteration 4, loss = 0.20594403\n",
      "Iteration 5, loss = 0.19883064\n",
      "Iteration 6, loss = 0.18704543\n",
      "Iteration 7, loss = 0.19016211\n",
      "Iteration 8, loss = 0.17450848\n",
      "Iteration 9, loss = 0.16860291\n",
      "Iteration 10, loss = 0.18233587\n",
      "Iteration 11, loss = 0.19114677\n",
      "Iteration 12, loss = 0.17953748\n",
      "Iteration 13, loss = 0.17655120\n",
      "Iteration 14, loss = 0.19815418\n",
      "Iteration 15, loss = 0.22945104\n",
      "Iteration 16, loss = 0.26846874\n",
      "Iteration 17, loss = 0.29312804\n",
      "Iteration 18, loss = 0.22359564\n",
      "Iteration 19, loss = 0.19047879\n",
      "Iteration 20, loss = 0.18133550\n",
      "Training loss did not improve more than tol=0.000100 for 10 consecutive epochs. Stopping.\n",
      "              precision    recall  f1-score   support\n",
      "\n",
      "         0.0       0.91      0.91      0.91     11002\n",
      "         1.0       0.75      0.76      0.76      3998\n",
      "\n",
      "    accuracy                           0.87     15000\n",
      "   macro avg       0.83      0.83      0.83     15000\n",
      "weighted avg       0.87      0.87      0.87     15000\n",
      "\n"
     ]
    },
    {
     "data": {
      "image/png": "[encoded data removed]",
      "text/plain": [
       "<Figure size 432x288 with 2 Axes>"
      ]
     },
     "metadata": {
      "needs_background": "light"
     },
     "output_type": "display_data"
    }
   ],
   "source": [
    "mlp_pipeline(clf2)"
   ]
  },
  {
   "cell_type": "code",
   "execution_count": 39,
   "metadata": {
    "ExecuteTime": {
     "end_time": "2021-11-28T13:21:30.368981Z",
     "start_time": "2021-11-28T13:21:30.237980Z"
    }
   },
   "outputs": [
    {
     "data": {
      "text/plain": [
       "[<matplotlib.lines.Line2D at 0x21aca958490>]"
      ]
     },
     "execution_count": 39,
     "metadata": {},
     "output_type": "execute_result"
    },
    {
     "data": {
      "image/png": "[encoded data removed]",
      "text/plain": [
       "<Figure size 432x288 with 1 Axes>"
      ]
     },
     "metadata": {
      "needs_background": "light"
     },
     "output_type": "display_data"
    }
   ],
   "source": [
    "plt.xlabel(\"epoch\", fontsize=18)\n",
    "plt.ylabel(\"loss value\",fontsize=18)\n",
    "plt.title(\"Loss Function\", fontsize = 25)\n",
    "plt.plot(clf2.loss_curve_)"
   ]
  },
  {
   "cell_type": "code",
   "execution_count": null,
   "metadata": {},
   "outputs": [],
   "source": [
    "clf3 = MLPClassifier(random_state=1,learning_rate_init=0.01,batch_size=200,activation=\"relu\",\n",
    "                    hidden_layer_sizes=(1000,500,100),solver='sgd',max_iter=10000,verbose=True)"
   ]
  }
 ],
 "metadata": {
  "kernelspec": {
   "display_name": "Python 3",
   "language": "python",
   "name": "python3"
  },
  "language_info": {
   "codemirror_mode": {
    "name": "ipython",
    "version": 3
   },
   "file_extension": ".py",
   "mimetype": "text/x-python",
   "name": "python",
   "nbconvert_exporter": "python",
   "pygments_lexer": "ipython3",
   "version": "3.8.8"
  },
  "toc": {
   "base_numbering": 1,
   "nav_menu": {},
   "number_sections": true,
   "sideBar": true,
   "skip_h1_title": false,
   "title_cell": "Table of Contents",
   "title_sidebar": "Contents",
   "toc_cell": false,
   "toc_position": {},
   "toc_section_display": true,
   "toc_window_display": false
  },
  "varInspector": {
   "cols": {
    "lenName": 16,
    "lenType": 16,
    "lenVar": 40
   },
   "kernels_config": {
    "python": {
     "delete_cmd_postfix": "",
     "delete_cmd_prefix": "del ",
     "library": "var_list.py",
     "varRefreshCmd": "print(var_dic_list())"
    },
    "r": {
     "delete_cmd_postfix": ") ",
     "delete_cmd_prefix": "rm(",
     "library": "var_list.r",
     "varRefreshCmd": "cat(var_dic_list()) "
    }
   },
   "types_to_exclude": [
    "module",
    "function",
    "builtin_function_or_method",
    "instance",
    "_Feature"
   ],
   "window_display": false
  }
 },
 "nbformat": 4,
 "nbformat_minor": 4
}
