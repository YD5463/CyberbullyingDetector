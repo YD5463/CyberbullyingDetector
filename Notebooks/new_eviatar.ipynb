{
 "cells": [
  {
   "cell_type": "code",
   "execution_count": 9,
   "metadata": {
    "ExecuteTime": {
     "end_time": "2021-12-30T15:02:08.367636Z",
     "start_time": "2021-12-30T15:02:08.156768Z"
    }
   },
   "outputs": [],
   "source": [
    "from __future__ import division, print_function\n",
    "from gensim import models\n",
    "from keras.callbacks import ModelCheckpoint\n",
    "from keras.layers import Dense, Dropout, Reshape, Flatten, concatenate, Input, Embedding\n",
    "from keras.layers.recurrent import LSTM\n",
    "from keras.models import Sequential\n",
    "from keras.preprocessing.text import Tokenizer\n",
    "from keras.preprocessing.sequence import pad_sequences\n",
    "from keras.models import Model\n",
    "from sklearn.model_selection import train_test_split\n",
    "import numpy as np\n",
    "import pandas as pd\n",
    "import os\n",
    "import collections\n",
    "import re\n",
    "import string"
   ]
  },
  {
   "cell_type": "code",
   "execution_count": 10,
   "metadata": {
    "ExecuteTime": {
     "end_time": "2021-12-30T15:02:08.765150Z",
     "start_time": "2021-12-30T15:02:08.368669Z"
    }
   },
   "outputs": [],
   "source": [
    "data = pd.read_csv('../Data/ver1.csv', index_col=0)\n",
    "data.drop([\"index\"], inplace = True, axis=1)"
   ]
  },
  {
   "cell_type": "code",
   "execution_count": 11,
   "metadata": {
    "ExecuteTime": {
     "end_time": "2021-12-30T15:02:08.796101Z",
     "start_time": "2021-12-30T15:02:08.767147Z"
    }
   },
   "outputs": [
    {
     "data": {
      "text/html": [
       "<div>\n",
       "<style scoped>\n",
       "    .dataframe tbody tr th:only-of-type {\n",
       "        vertical-align: middle;\n",
       "    }\n",
       "\n",
       "    .dataframe tbody tr th {\n",
       "        vertical-align: top;\n",
       "    }\n",
       "\n",
       "    .dataframe thead th {\n",
       "        text-align: right;\n",
       "    }\n",
       "</style>\n",
       "<table border=\"1\" class=\"dataframe\">\n",
       "  <thead>\n",
       "    <tr style=\"text-align: right;\">\n",
       "      <th></th>\n",
       "      <th>Text</th>\n",
       "      <th>oh_label</th>\n",
       "    </tr>\n",
       "  </thead>\n",
       "  <tbody>\n",
       "    <tr>\n",
       "      <th>0</th>\n",
       "      <td>Im 12 and i can understand it perfectly. You s...</td>\n",
       "      <td>1.0</td>\n",
       "    </tr>\n",
       "    <tr>\n",
       "      <th>1</th>\n",
       "      <td>#mkr Boy, @FourinHandyou sure know how to dish...</td>\n",
       "      <td>0.0</td>\n",
       "    </tr>\n",
       "    <tr>\n",
       "      <th>2</th>\n",
       "      <td>Fuck you all. This site is full of stuck up ...</td>\n",
       "      <td>1.0</td>\n",
       "    </tr>\n",
       "    <tr>\n",
       "      <th>3</th>\n",
       "      <td>`   ::I don't disagree with your point, except...</td>\n",
       "      <td>0.0</td>\n",
       "    </tr>\n",
       "    <tr>\n",
       "      <th>4</th>\n",
       "      <td>do i look like i give a fuck, u are all sad ...</td>\n",
       "      <td>1.0</td>\n",
       "    </tr>\n",
       "    <tr>\n",
       "      <th>...</th>\n",
       "      <td>...</td>\n",
       "      <td>...</td>\n",
       "    </tr>\n",
       "    <tr>\n",
       "      <th>99995</th>\n",
       "      <td>`  == d15b8 - just you leave it alone ==  ``co...</td>\n",
       "      <td>0.0</td>\n",
       "    </tr>\n",
       "    <tr>\n",
       "      <th>99996</th>\n",
       "      <td>:Thanks for the feedback, and I'm very glad t...</td>\n",
       "      <td>0.0</td>\n",
       "    </tr>\n",
       "    <tr>\n",
       "      <th>99997</th>\n",
       "      <td>==Fast and Furious 7== Please do your resear...</td>\n",
       "      <td>0.0</td>\n",
       "    </tr>\n",
       "    <tr>\n",
       "      <th>99998</th>\n",
       "      <td>@KWiebs31 ABLOO BLOO BLOO</td>\n",
       "      <td>0.0</td>\n",
       "    </tr>\n",
       "    <tr>\n",
       "      <th>99999</th>\n",
       "      <td>`  Clearly you know very little about these ba...</td>\n",
       "      <td>0.0</td>\n",
       "    </tr>\n",
       "  </tbody>\n",
       "</table>\n",
       "<p>100000 rows × 2 columns</p>\n",
       "</div>"
      ],
      "text/plain": [
       "                                                    Text  oh_label\n",
       "0      Im 12 and i can understand it perfectly. You s...       1.0\n",
       "1      #mkr Boy, @FourinHandyou sure know how to dish...       0.0\n",
       "2        Fuck you all. This site is full of stuck up ...       1.0\n",
       "3      `   ::I don't disagree with your point, except...       0.0\n",
       "4        do i look like i give a fuck, u are all sad ...       1.0\n",
       "...                                                  ...       ...\n",
       "99995  `  == d15b8 - just you leave it alone ==  ``co...       0.0\n",
       "99996   :Thanks for the feedback, and I'm very glad t...       0.0\n",
       "99997    ==Fast and Furious 7== Please do your resear...       0.0\n",
       "99998                          @KWiebs31 ABLOO BLOO BLOO       0.0\n",
       "99999  `  Clearly you know very little about these ba...       0.0\n",
       "\n",
       "[100000 rows x 2 columns]"
      ]
     },
     "execution_count": 11,
     "metadata": {},
     "output_type": "execute_result"
    }
   ],
   "source": [
    "data"
   ]
  },
  {
   "cell_type": "code",
   "execution_count": 12,
   "metadata": {
    "ExecuteTime": {
     "end_time": "2021-12-30T15:02:08.811030Z",
     "start_time": "2021-12-30T15:02:08.798064Z"
    }
   },
   "outputs": [],
   "source": [
    "data.columns = ['Text', 'oh_label']"
   ]
  },
  {
   "cell_type": "code",
   "execution_count": 13,
   "metadata": {
    "ExecuteTime": {
     "end_time": "2021-12-30T15:02:09.499380Z",
     "start_time": "2021-12-30T15:02:08.817050Z"
    }
   },
   "outputs": [],
   "source": [
    "def remove_punct(text):\n",
    "    text_nopunct = ''\n",
    "    text_nopunct = re.sub('['+string.punctuation+']', '', text)\n",
    "    return text_nopunct\n",
    "\n",
    "data['Text_Clean'] = data['Text'].apply(lambda x: remove_punct(x))"
   ]
  },
  {
   "cell_type": "code",
   "execution_count": 14,
   "metadata": {
    "ExecuteTime": {
     "end_time": "2021-12-30T15:02:32.980683Z",
     "start_time": "2021-12-30T15:02:09.500379Z"
    }
   },
   "outputs": [],
   "source": [
    "from nltk import word_tokenize, WordNetLemmatizer\n",
    "tokens = [word_tokenize(sen) for sen in data.Text_Clean]\n",
    "# tokens"
   ]
  },
  {
   "cell_type": "code",
   "execution_count": 15,
   "metadata": {
    "ExecuteTime": {
     "end_time": "2021-12-30T15:02:33.901245Z",
     "start_time": "2021-12-30T15:02:32.981579Z"
    }
   },
   "outputs": [],
   "source": [
    "def lower_token(tokens): \n",
    "    return [w.lower() for w in tokens]    \n",
    "    \n",
    "lower_tokens = [lower_token(token) for token in tokens] "
   ]
  },
  {
   "cell_type": "code",
   "execution_count": 16,
   "metadata": {
    "ExecuteTime": {
     "end_time": "2021-12-30T15:02:33.917145Z",
     "start_time": "2021-12-30T15:02:33.905116Z"
    }
   },
   "outputs": [],
   "source": [
    "from nltk.corpus import stopwords\n",
    "stoplist = stopwords.words('english')"
   ]
  },
  {
   "cell_type": "code",
   "execution_count": 6,
   "metadata": {
    "ExecuteTime": {
     "end_time": "2022-01-02T09:07:09.774287Z",
     "start_time": "2022-01-02T09:07:09.766340Z"
    }
   },
   "outputs": [],
   "source": [
    "filtered_words = [remove_stop_words(sen) for sen in lower_tokens] "
   ]
  },
  {
   "cell_type": "code",
   "execution_count": 7,
   "metadata": {
    "ExecuteTime": {
     "end_time": "2022-01-02T09:07:14.105523Z",
     "start_time": "2022-01-02T09:07:14.099269Z"
    }
   },
   "outputs": [],
   "source": [
    "result = [' '.join(sen) for sen in filtered_words]"
   ]
  },
  {
   "cell_type": "code",
   "execution_count": null,
   "metadata": {
    "ExecuteTime": {
     "end_time": "2021-12-30T15:02:34.030882Z",
     "start_time": "2021-12-30T15:02:09.989Z"
    }
   },
   "outputs": [],
   "source": [
    "data['Text_Final'] = result"
   ]
  },
  {
   "cell_type": "code",
   "execution_count": null,
   "metadata": {
    "ExecuteTime": {
     "end_time": "2021-12-30T15:02:34.031872Z",
     "start_time": "2021-12-30T15:02:10.131Z"
    }
   },
   "outputs": [],
   "source": [
    "data = data[['Text', 'oh_label']]"
   ]
  },
  {
   "cell_type": "code",
   "execution_count": null,
   "metadata": {
    "ExecuteTime": {
     "end_time": "2021-12-30T15:02:34.032854Z",
     "start_time": "2021-12-30T15:02:10.405Z"
    }
   },
   "outputs": [],
   "source": [
    "data"
   ]
  },
  {
   "cell_type": "code",
   "execution_count": null,
   "metadata": {
    "ExecuteTime": {
     "end_time": "2021-12-30T15:02:34.035863Z",
     "start_time": "2021-12-30T15:02:10.774Z"
    }
   },
   "outputs": [],
   "source": [
    "x_neg_weight = data[data[\"oh_label\"]==1].shape\n",
    "x_pos_weight = data[data[\"oh_label\"]==0].shape\n",
    "x_neg_weight[0]/x_pos_weight[0]"
   ]
  },
  {
   "cell_type": "code",
   "execution_count": null,
   "metadata": {
    "ExecuteTime": {
     "end_time": "2021-12-30T15:02:34.037841Z",
     "start_time": "2021-12-30T15:02:11.254Z"
    }
   },
   "outputs": [],
   "source": [
    "import gensim.downloader\n",
    "glove_vectors = gensim.downloader.load('glove-twitter-50')"
   ]
  },
  {
   "cell_type": "code",
   "execution_count": null,
   "metadata": {
    "ExecuteTime": {
     "end_time": "2021-12-30T15:02:34.038973Z",
     "start_time": "2021-12-30T15:02:11.394Z"
    }
   },
   "outputs": [],
   "source": [
    "data[\"Text\"]"
   ]
  },
  {
   "cell_type": "code",
   "execution_count": null,
   "metadata": {
    "ExecuteTime": {
     "end_time": "2021-12-30T15:02:34.040834Z",
     "start_time": "2021-12-30T15:02:12.610Z"
    }
   },
   "outputs": [],
   "source": [
    "weights = {0: (x_neg_weight[0]/(x_pos_weight[0]+x_neg_weight[0])),1: (x_pos_weight[0]/(x_pos_weight[0]+x_neg_weight[0]))}"
   ]
  },
  {
   "cell_type": "code",
   "execution_count": null,
   "metadata": {
    "ExecuteTime": {
     "end_time": "2021-12-30T15:02:34.042828Z",
     "start_time": "2021-12-30T15:02:13.137Z"
    }
   },
   "outputs": [],
   "source": [
    "import swifter\n",
    "import re\n",
    "import nltk\n",
    "import string\n",
    "\n",
    "MAX_NUMBER_OF_WORDS = 50\n",
    "ENCODE_SIZE = 50\n",
    "def remove_punct(text):\n",
    "    text_nopunct = ''\n",
    "    text_nopunct = re.sub('['+string.punctuation+']', '', text)\n",
    "    return text_nopunct\n",
    "\n",
    "def get_vector(word):\n",
    "    try:\n",
    "        return glove_vectors.get_vector(word)\n",
    "    except Exception as e:\n",
    "#         print(e)\n",
    "        pass\n",
    "    return np.zeros((ENCODE_SIZE,))\n",
    "\n",
    "def precoess_row(text):\n",
    "    text = remove_punct(re.sub(r'\\d+', 'number', text))\n",
    "    vec = np.array([get_vector(word.lower()) for word in nltk.word_tokenize(text)])\n",
    "    if vec.shape[0] == 0:\n",
    "        return np.nan\n",
    "    if vec.shape[0] >= MAX_NUMBER_OF_WORDS:\n",
    "        vec = vec[:MAX_NUMBER_OF_WORDS,:]\n",
    "    else:\n",
    "        vec = np.vstack((vec,np.zeros((MAX_NUMBER_OF_WORDS-vec.shape[0],ENCODE_SIZE))))\n",
    "    return vec"
   ]
  },
  {
   "cell_type": "code",
   "execution_count": null,
   "metadata": {
    "ExecuteTime": {
     "end_time": "2021-12-30T15:02:34.043825Z",
     "start_time": "2021-12-30T15:02:13.763Z"
    }
   },
   "outputs": [],
   "source": [
    "data[\"Final\"] = data[\"Text\"].swifter.apply(precoess_row)"
   ]
  },
  {
   "cell_type": "code",
   "execution_count": null,
   "metadata": {
    "ExecuteTime": {
     "end_time": "2021-12-30T15:02:34.044822Z",
     "start_time": "2021-12-30T15:02:14.348Z"
    }
   },
   "outputs": [],
   "source": [
    "df = data[[\"Final\", \"oh_label\"]]\n",
    "df"
   ]
  },
  {
   "cell_type": "code",
   "execution_count": null,
   "metadata": {
    "ExecuteTime": {
     "end_time": "2021-12-30T15:02:34.045821Z",
     "start_time": "2021-12-30T15:02:15.473Z"
    }
   },
   "outputs": [],
   "source": [
    "from sklearn.utils import shuffle\n",
    "df = shuffle(df)"
   ]
  },
  {
   "cell_type": "code",
   "execution_count": 20,
   "metadata": {
    "ExecuteTime": {
     "end_time": "2021-12-30T09:28:54.327940Z",
     "start_time": "2021-12-30T09:28:54.313951Z"
    }
   },
   "outputs": [
    {
     "data": {
      "text/plain": [
       "Int64Index([75328,  7509, 46247, 27080, 58945, 47338, 70231, 63530, 68352,\n",
       "            77903,\n",
       "            ...\n",
       "            31780, 63255, 87529, 18305, 39026, 84820, 80333, 12697, 35475,\n",
       "            97662],\n",
       "           dtype='int64', length=100000)"
      ]
     },
     "execution_count": 20,
     "metadata": {},
     "output_type": "execute_result"
    }
   ],
   "source": [
    "df.index"
   ]
  },
  {
   "cell_type": "code",
   "execution_count": 21,
   "metadata": {
    "ExecuteTime": {
     "end_time": "2021-12-30T09:28:54.359119Z",
     "start_time": "2021-12-30T09:28:54.328867Z"
    }
   },
   "outputs": [],
   "source": [
    "df[\"Final\"] = df[\"Final\"].dropna(axis=0)"
   ]
  },
  {
   "cell_type": "code",
   "execution_count": 22,
   "metadata": {
    "ExecuteTime": {
     "end_time": "2021-12-30T09:28:54.435350Z",
     "start_time": "2021-12-30T09:28:54.361117Z"
    }
   },
   "outputs": [],
   "source": [
    "lst = []\n",
    "ignored = []\n",
    "for a in zip(df.index, df[\"Final\"]):\n",
    "    try:\n",
    "        if a[1].shape == (50,50):\n",
    "            lst.append(a[1])\n",
    "    except:\n",
    "        ignored.append(a[0])"
   ]
  },
  {
   "cell_type": "code",
   "execution_count": 23,
   "metadata": {
    "ExecuteTime": {
     "end_time": "2021-12-30T09:28:54.450429Z",
     "start_time": "2021-12-30T09:28:54.436352Z"
    }
   },
   "outputs": [
    {
     "data": {
      "text/plain": [
       "[50022,\n",
       " 63261,\n",
       " 30918,\n",
       " 40442,\n",
       " 1228,\n",
       " 23680,\n",
       " 5765,\n",
       " 21064,\n",
       " 30578,\n",
       " 46271,\n",
       " 26189,\n",
       " 49114]"
      ]
     },
     "execution_count": 23,
     "metadata": {},
     "output_type": "execute_result"
    }
   ],
   "source": [
    "ignored"
   ]
  },
  {
   "cell_type": "code",
   "execution_count": 24,
   "metadata": {
    "ExecuteTime": {
     "end_time": "2021-12-30T09:28:55.165433Z",
     "start_time": "2021-12-30T09:28:54.451310Z"
    }
   },
   "outputs": [],
   "source": [
    "X = np.stack(lst)#a\n",
    "y = df.drop(ignored)\n",
    "y= y[\"oh_label\"]"
   ]
  },
  {
   "cell_type": "code",
   "execution_count": 25,
   "metadata": {
    "ExecuteTime": {
     "end_time": "2021-12-30T09:28:55.755981Z",
     "start_time": "2021-12-30T09:28:55.166399Z"
    }
   },
   "outputs": [],
   "source": [
    "from sklearn.model_selection import train_test_split\n",
    "x_train,x_test, y_train,y_test = train_test_split(X,y, test_size=0.25, random_state=42)"
   ]
  },
  {
   "cell_type": "code",
   "execution_count": 600,
   "metadata": {
    "ExecuteTime": {
     "end_time": "2021-12-27T16:08:09.311509Z",
     "start_time": "2021-12-27T16:08:09.126602Z"
    }
   },
   "outputs": [
    {
     "name": "stdout",
     "output_type": "stream",
     "text": [
      "Model: \"sequential_47\"\n",
      "_________________________________________________________________\n",
      "Layer (type)                 Output Shape              Param #   \n",
      "=================================================================\n",
      "lstm_44 (LSTM)               (None, 50)                20200     \n",
      "_________________________________________________________________\n",
      "dropout_76 (Dropout)         (None, 50)                0         \n",
      "_________________________________________________________________\n",
      "dense_88 (Dense)             (None, 25)                1275      \n",
      "_________________________________________________________________\n",
      "dropout_77 (Dropout)         (None, 25)                0         \n",
      "_________________________________________________________________\n",
      "dense_89 (Dense)             (None, 1)                 26        \n",
      "=================================================================\n",
      "Total params: 21,501\n",
      "Trainable params: 21,501\n",
      "Non-trainable params: 0\n",
      "_________________________________________________________________\n"
     ]
    }
   ],
   "source": [
    "from tensorflow.keras.models import Sequential,Model\n",
    "from tensorflow.keras.layers import Dense,Dropout\n",
    "from keras.regularizers import l2, l1\n",
    "model = Sequential()\n",
    "model.add(LSTM(50, input_shape=(50, 50), recurrent_regularizer=l2(0.01)))\n",
    "model.add(Dropout(0.2))\n",
    "model.add(Dense(25,activation=\"relu\"))\n",
    "model.add(Dropout(0.2))\n",
    "model.add(Dense(1, activation=\"sigmoid\"))\n",
    "model.compile(loss = \"binary_crossentropy\", optimizer=tf.keras.optimizers.Adam(learning_rate=0.001),metrics = ['accuracy'])\n",
    "model.summary()"
   ]
  },
  {
   "cell_type": "code",
   "execution_count": 573,
   "metadata": {
    "ExecuteTime": {
     "end_time": "2021-12-27T12:25:30.473965Z",
     "start_time": "2021-12-27T12:25:30.453919Z"
    }
   },
   "outputs": [
    {
     "data": {
      "text/plain": [
       "((74970, 50, 50, 1), (74970,))"
      ]
     },
     "execution_count": 573,
     "metadata": {},
     "output_type": "execute_result"
    }
   ],
   "source": [
    "np.expand_dims(x_train,axis=-1).shape,y_train.shape"
   ]
  },
  {
   "cell_type": "code",
   "execution_count": 580,
   "metadata": {
    "ExecuteTime": {
     "end_time": "2021-12-27T14:52:00.900611Z",
     "start_time": "2021-12-27T12:26:57.840856Z"
    }
   },
   "outputs": [
    {
     "name": "stdout",
     "output_type": "stream",
     "text": [
      "Epoch 1/500\n",
      "338/338 [==============================] - 73s 211ms/step - loss: 0.1728 - accuracy: 0.8280 - val_loss: 0.3573 - val_accuracy: 0.8413\n",
      "Epoch 2/500\n",
      "338/338 [==============================] - 72s 212ms/step - loss: 0.1431 - accuracy: 0.8470 - val_loss: 0.3413 - val_accuracy: 0.8421\n",
      "Epoch 3/500\n",
      "338/338 [==============================] - 77s 228ms/step - loss: 0.1370 - accuracy: 0.8564 - val_loss: 0.3165 - val_accuracy: 0.8693\n",
      "Epoch 4/500\n",
      "338/338 [==============================] - 70s 208ms/step - loss: 0.1296 - accuracy: 0.8652 - val_loss: 0.3153 - val_accuracy: 0.8659\n",
      "Epoch 5/500\n",
      "338/338 [==============================] - 72s 212ms/step - loss: 0.1272 - accuracy: 0.8654 - val_loss: 0.3179 - val_accuracy: 0.8711\n",
      "Epoch 6/500\n",
      "338/338 [==============================] - 69s 204ms/step - loss: 0.1238 - accuracy: 0.8701 - val_loss: 0.3377 - val_accuracy: 0.8550\n",
      "Epoch 7/500\n",
      "338/338 [==============================] - 73s 216ms/step - loss: 0.1206 - accuracy: 0.8729 - val_loss: 0.3194 - val_accuracy: 0.8650\n",
      "Epoch 8/500\n",
      "338/338 [==============================] - 74s 220ms/step - loss: 0.1184 - accuracy: 0.8756 - val_loss: 0.3038 - val_accuracy: 0.8730\n",
      "Epoch 9/500\n",
      "338/338 [==============================] - 69s 204ms/step - loss: 0.1161 - accuracy: 0.8774 - val_loss: 0.3144 - val_accuracy: 0.8711\n",
      "Epoch 10/500\n",
      "338/338 [==============================] - 70s 208ms/step - loss: 0.1138 - accuracy: 0.8779 - val_loss: 0.2926 - val_accuracy: 0.8818\n",
      "Epoch 11/500\n",
      "338/338 [==============================] - 75s 223ms/step - loss: 0.1120 - accuracy: 0.8807 - val_loss: 0.2811 - val_accuracy: 0.8852\n",
      "Epoch 12/500\n",
      "338/338 [==============================] - 71s 210ms/step - loss: 0.1092 - accuracy: 0.8836 - val_loss: 0.3140 - val_accuracy: 0.8703\n",
      "Epoch 13/500\n",
      "338/338 [==============================] - 69s 206ms/step - loss: 0.1073 - accuracy: 0.8848 - val_loss: 0.2934 - val_accuracy: 0.8865\n",
      "Epoch 14/500\n",
      "338/338 [==============================] - 74s 219ms/step - loss: 0.1035 - accuracy: 0.8896 - val_loss: 0.2908 - val_accuracy: 0.8805\n",
      "Epoch 15/500\n",
      "338/338 [==============================] - 74s 219ms/step - loss: 0.1000 - accuracy: 0.8935 - val_loss: 0.2921 - val_accuracy: 0.8762\n",
      "Epoch 16/500\n",
      "338/338 [==============================] - 75s 221ms/step - loss: 0.0961 - accuracy: 0.8973 - val_loss: 0.2788 - val_accuracy: 0.8856\n",
      "Epoch 17/500\n",
      "338/338 [==============================] - 71s 210ms/step - loss: 0.0926 - accuracy: 0.8999 - val_loss: 0.2910 - val_accuracy: 0.8790\n",
      "Epoch 18/500\n",
      "338/338 [==============================] - 79s 233ms/step - loss: 0.0901 - accuracy: 0.9035 - val_loss: 0.3061 - val_accuracy: 0.8709\n",
      "Epoch 19/500\n",
      "338/338 [==============================] - 73s 215ms/step - loss: 0.0857 - accuracy: 0.9045 - val_loss: 0.2834 - val_accuracy: 0.8936\n",
      "Epoch 20/500\n",
      "338/338 [==============================] - 73s 216ms/step - loss: 0.0823 - accuracy: 0.9097 - val_loss: 0.3108 - val_accuracy: 0.8756\n",
      "Epoch 21/500\n",
      "338/338 [==============================] - 73s 215ms/step - loss: 0.0790 - accuracy: 0.9136 - val_loss: 0.3400 - val_accuracy: 0.8506\n",
      "Epoch 22/500\n",
      "338/338 [==============================] - 74s 219ms/step - loss: 0.0749 - accuracy: 0.9199 - val_loss: 0.3399 - val_accuracy: 0.8749\n",
      "Epoch 23/500\n",
      "338/338 [==============================] - 74s 219ms/step - loss: 0.0730 - accuracy: 0.9209 - val_loss: 0.3298 - val_accuracy: 0.8860\n",
      "Epoch 24/500\n",
      "338/338 [==============================] - 73s 216ms/step - loss: 0.0690 - accuracy: 0.9249 - val_loss: 0.3333 - val_accuracy: 0.8782\n",
      "Epoch 25/500\n",
      "338/338 [==============================] - 73s 215ms/step - loss: 0.0668 - accuracy: 0.9282 - val_loss: 0.3180 - val_accuracy: 0.8925\n",
      "Epoch 26/500\n",
      "338/338 [==============================] - 73s 215ms/step - loss: 0.0643 - accuracy: 0.9311 - val_loss: 0.3354 - val_accuracy: 0.8856\n",
      "Epoch 27/500\n",
      "338/338 [==============================] - 74s 219ms/step - loss: 0.0607 - accuracy: 0.9346 - val_loss: 0.3569 - val_accuracy: 0.8673\n",
      "Epoch 28/500\n",
      "338/338 [==============================] - 73s 216ms/step - loss: 0.0588 - accuracy: 0.9364 - val_loss: 0.3650 - val_accuracy: 0.8820\n",
      "Epoch 29/500\n",
      "338/338 [==============================] - 75s 222ms/step - loss: 0.0565 - accuracy: 0.9397 - val_loss: 0.3579 - val_accuracy: 0.8888\n",
      "Epoch 30/500\n",
      "338/338 [==============================] - 74s 219ms/step - loss: 0.0536 - accuracy: 0.9423 - val_loss: 0.3937 - val_accuracy: 0.8717\n",
      "Epoch 31/500\n",
      "338/338 [==============================] - 73s 217ms/step - loss: 0.0525 - accuracy: 0.9439 - val_loss: 0.3558 - val_accuracy: 0.8881\n",
      "Epoch 32/500\n",
      "338/338 [==============================] - 76s 226ms/step - loss: 0.0517 - accuracy: 0.9443 - val_loss: 0.3567 - val_accuracy: 0.8760\n",
      "Epoch 33/500\n",
      "338/338 [==============================] - 73s 217ms/step - loss: 0.0490 - accuracy: 0.9485 - val_loss: 0.3949 - val_accuracy: 0.8824\n",
      "Epoch 34/500\n",
      "338/338 [==============================] - 74s 219ms/step - loss: 0.0474 - accuracy: 0.9496 - val_loss: 0.4162 - val_accuracy: 0.8876\n",
      "Epoch 35/500\n",
      "338/338 [==============================] - 73s 216ms/step - loss: 0.0490 - accuracy: 0.9494 - val_loss: 0.3655 - val_accuracy: 0.8832\n",
      "Epoch 36/500\n",
      "338/338 [==============================] - 73s 215ms/step - loss: 0.0462 - accuracy: 0.9513 - val_loss: 0.3542 - val_accuracy: 0.8762\n",
      "Epoch 37/500\n",
      "338/338 [==============================] - 73s 216ms/step - loss: 0.0446 - accuracy: 0.9528 - val_loss: 0.4141 - val_accuracy: 0.8729\n",
      "Epoch 38/500\n",
      "338/338 [==============================] - 73s 216ms/step - loss: 0.0448 - accuracy: 0.9527 - val_loss: 0.3654 - val_accuracy: 0.8793\n",
      "Epoch 39/500\n",
      "338/338 [==============================] - 74s 219ms/step - loss: 0.0432 - accuracy: 0.9539 - val_loss: 0.4133 - val_accuracy: 0.8793\n",
      "Epoch 40/500\n",
      "338/338 [==============================] - 73s 215ms/step - loss: 0.0403 - accuracy: 0.9574 - val_loss: 0.4520 - val_accuracy: 0.8897\n",
      "Epoch 41/500\n",
      "338/338 [==============================] - 74s 220ms/step - loss: 0.0399 - accuracy: 0.9587 - val_loss: 0.4480 - val_accuracy: 0.8862\n",
      "Epoch 42/500\n",
      "338/338 [==============================] - 75s 221ms/step - loss: 0.0386 - accuracy: 0.9601 - val_loss: 0.4391 - val_accuracy: 0.8877\n",
      "Epoch 43/500\n",
      "338/338 [==============================] - 75s 223ms/step - loss: 0.0391 - accuracy: 0.9596 - val_loss: 0.4052 - val_accuracy: 0.8804\n",
      "Epoch 44/500\n",
      "338/338 [==============================] - 75s 221ms/step - loss: 0.0386 - accuracy: 0.9600 - val_loss: 0.4542 - val_accuracy: 0.8865\n",
      "Epoch 45/500\n",
      "338/338 [==============================] - 75s 221ms/step - loss: 0.0368 - accuracy: 0.9614 - val_loss: 0.4828 - val_accuracy: 0.8885\n",
      "Epoch 46/500\n",
      "338/338 [==============================] - 72s 213ms/step - loss: 0.0368 - accuracy: 0.9622 - val_loss: 0.4630 - val_accuracy: 0.8894\n",
      "Epoch 47/500\n",
      "338/338 [==============================] - 75s 221ms/step - loss: 0.0369 - accuracy: 0.9620 - val_loss: 0.3902 - val_accuracy: 0.8906\n",
      "Epoch 48/500\n",
      "338/338 [==============================] - 76s 224ms/step - loss: 0.0347 - accuracy: 0.9642 - val_loss: 0.4950 - val_accuracy: 0.8897\n",
      "Epoch 49/500\n",
      "338/338 [==============================] - 75s 223ms/step - loss: 0.0369 - accuracy: 0.9623 - val_loss: 0.4324 - val_accuracy: 0.8885\n",
      "Epoch 50/500\n",
      "338/338 [==============================] - 85s 250ms/step - loss: 0.0346 - accuracy: 0.9644 - val_loss: 0.4050 - val_accuracy: 0.8929\n",
      "Epoch 51/500\n",
      "338/338 [==============================] - 83s 247ms/step - loss: 0.0335 - accuracy: 0.9665 - val_loss: 0.4688 - val_accuracy: 0.8908\n",
      "Epoch 52/500\n",
      "338/338 [==============================] - 82s 243ms/step - loss: 0.0316 - accuracy: 0.9685 - val_loss: 0.4577 - val_accuracy: 0.8876\n",
      "Epoch 53/500\n",
      "338/338 [==============================] - 82s 243ms/step - loss: 0.0310 - accuracy: 0.9682 - val_loss: 0.5114 - val_accuracy: 0.8952\n",
      "Epoch 54/500\n",
      "338/338 [==============================] - 74s 220ms/step - loss: 0.0318 - accuracy: 0.9680 - val_loss: 0.4759 - val_accuracy: 0.8958\n",
      "Epoch 55/500\n",
      "338/338 [==============================] - 75s 222ms/step - loss: 0.0314 - accuracy: 0.9679 - val_loss: 0.4511 - val_accuracy: 0.8917\n",
      "Epoch 56/500\n",
      "338/338 [==============================] - 71s 209ms/step - loss: 0.0290 - accuracy: 0.9703 - val_loss: 0.5507 - val_accuracy: 0.8994\n"
     ]
    },
    {
     "name": "stdout",
     "output_type": "stream",
     "text": [
      "Epoch 57/500\n",
      "338/338 [==============================] - 69s 205ms/step - loss: 0.0298 - accuracy: 0.9702 - val_loss: 0.4815 - val_accuracy: 0.8938\n",
      "Epoch 58/500\n",
      "338/338 [==============================] - 69s 205ms/step - loss: 0.0309 - accuracy: 0.9686 - val_loss: 0.5219 - val_accuracy: 0.8733\n",
      "Epoch 59/500\n",
      "338/338 [==============================] - 69s 205ms/step - loss: 0.0308 - accuracy: 0.9688 - val_loss: 0.4980 - val_accuracy: 0.8934\n",
      "Epoch 60/500\n",
      "338/338 [==============================] - 69s 204ms/step - loss: 0.0291 - accuracy: 0.9701 - val_loss: 0.4738 - val_accuracy: 0.8913\n",
      "Epoch 61/500\n",
      "338/338 [==============================] - 69s 205ms/step - loss: 0.0281 - accuracy: 0.9716 - val_loss: 0.5235 - val_accuracy: 0.8933\n",
      "Epoch 62/500\n",
      "338/338 [==============================] - 69s 203ms/step - loss: 0.0283 - accuracy: 0.9712 - val_loss: 0.4234 - val_accuracy: 0.8858\n",
      "Epoch 63/500\n",
      "338/338 [==============================] - 69s 205ms/step - loss: 0.0277 - accuracy: 0.9718 - val_loss: 0.4584 - val_accuracy: 0.8888\n",
      "Epoch 64/500\n",
      "338/338 [==============================] - 69s 204ms/step - loss: 0.0270 - accuracy: 0.9728 - val_loss: 0.5426 - val_accuracy: 0.8926\n",
      "Epoch 65/500\n",
      "338/338 [==============================] - 69s 204ms/step - loss: 0.0263 - accuracy: 0.9731 - val_loss: 0.4992 - val_accuracy: 0.8921\n",
      "Epoch 66/500\n",
      "338/338 [==============================] - 69s 204ms/step - loss: 0.0261 - accuracy: 0.9743 - val_loss: 0.5282 - val_accuracy: 0.8933\n",
      "Epoch 67/500\n",
      "338/338 [==============================] - 69s 204ms/step - loss: 0.0248 - accuracy: 0.9754 - val_loss: 0.4620 - val_accuracy: 0.8962\n",
      "Epoch 68/500\n",
      "338/338 [==============================] - 69s 204ms/step - loss: 0.0252 - accuracy: 0.9746 - val_loss: 0.4944 - val_accuracy: 0.8937\n",
      "Epoch 69/500\n",
      "338/338 [==============================] - 69s 203ms/step - loss: 0.0262 - accuracy: 0.9735 - val_loss: 0.5231 - val_accuracy: 0.8894\n",
      "Epoch 70/500\n",
      "338/338 [==============================] - 69s 204ms/step - loss: 0.0251 - accuracy: 0.9746 - val_loss: 0.5223 - val_accuracy: 0.8908\n",
      "Epoch 71/500\n",
      "338/338 [==============================] - 69s 204ms/step - loss: 0.0248 - accuracy: 0.9745 - val_loss: 0.5162 - val_accuracy: 0.8817\n",
      "Epoch 72/500\n",
      "338/338 [==============================] - 69s 204ms/step - loss: 0.0258 - accuracy: 0.9734 - val_loss: 0.5457 - val_accuracy: 0.8914\n",
      "Epoch 73/500\n",
      "338/338 [==============================] - 69s 204ms/step - loss: 0.0242 - accuracy: 0.9748 - val_loss: 0.5081 - val_accuracy: 0.8872\n",
      "Epoch 74/500\n",
      "338/338 [==============================] - 69s 205ms/step - loss: 0.0223 - accuracy: 0.9765 - val_loss: 0.5464 - val_accuracy: 0.8885\n",
      "Epoch 75/500\n",
      "338/338 [==============================] - 69s 204ms/step - loss: 0.0214 - accuracy: 0.9781 - val_loss: 0.6219 - val_accuracy: 0.8909\n",
      "Epoch 76/500\n",
      "338/338 [==============================] - 69s 205ms/step - loss: 0.0227 - accuracy: 0.9767 - val_loss: 0.5718 - val_accuracy: 0.8858\n",
      "Epoch 77/500\n",
      "338/338 [==============================] - 69s 204ms/step - loss: 0.0237 - accuracy: 0.9756 - val_loss: 0.5089 - val_accuracy: 0.8892\n",
      "Epoch 78/500\n",
      "338/338 [==============================] - 69s 205ms/step - loss: 0.0222 - accuracy: 0.9779 - val_loss: 0.5332 - val_accuracy: 0.8888\n",
      "Epoch 79/500\n",
      "338/338 [==============================] - 69s 204ms/step - loss: 0.0236 - accuracy: 0.9759 - val_loss: 0.6179 - val_accuracy: 0.8924\n",
      "Epoch 80/500\n",
      "338/338 [==============================] - 69s 204ms/step - loss: 0.0206 - accuracy: 0.9787 - val_loss: 0.5260 - val_accuracy: 0.8936\n",
      "Epoch 81/500\n",
      "338/338 [==============================] - 69s 203ms/step - loss: 0.0252 - accuracy: 0.9744 - val_loss: 0.5726 - val_accuracy: 0.8868\n",
      "Epoch 82/500\n",
      "338/338 [==============================] - 68s 200ms/step - loss: 0.0223 - accuracy: 0.9774 - val_loss: 0.6288 - val_accuracy: 0.8920\n",
      "Epoch 83/500\n",
      "338/338 [==============================] - 68s 201ms/step - loss: 0.0188 - accuracy: 0.9805 - val_loss: 0.6934 - val_accuracy: 0.8945\n",
      "Epoch 84/500\n",
      "338/338 [==============================] - 73s 217ms/step - loss: 0.0199 - accuracy: 0.9794 - val_loss: 0.5498 - val_accuracy: 0.8929\n",
      "Epoch 85/500\n",
      "338/338 [==============================] - 79s 234ms/step - loss: 0.0187 - accuracy: 0.9808 - val_loss: 0.5904 - val_accuracy: 0.8908\n",
      "Epoch 86/500\n",
      "338/338 [==============================] - 78s 231ms/step - loss: 0.0215 - accuracy: 0.9781 - val_loss: 0.5032 - val_accuracy: 0.8972\n",
      "Epoch 87/500\n",
      "338/338 [==============================] - 71s 209ms/step - loss: 0.0229 - accuracy: 0.9765 - val_loss: 0.6036 - val_accuracy: 0.8972\n",
      "Epoch 88/500\n",
      "338/338 [==============================] - 69s 204ms/step - loss: 0.0219 - accuracy: 0.9781 - val_loss: 0.5576 - val_accuracy: 0.8933\n",
      "Epoch 89/500\n",
      "338/338 [==============================] - 69s 204ms/step - loss: 0.0188 - accuracy: 0.9812 - val_loss: 0.6133 - val_accuracy: 0.8985\n",
      "Epoch 90/500\n",
      "338/338 [==============================] - 72s 212ms/step - loss: 0.0191 - accuracy: 0.9807 - val_loss: 0.5592 - val_accuracy: 0.8937\n",
      "Epoch 91/500\n",
      "338/338 [==============================] - 78s 231ms/step - loss: 0.0184 - accuracy: 0.9814 - val_loss: 0.5575 - val_accuracy: 0.8941\n",
      "Epoch 92/500\n",
      "338/338 [==============================] - 71s 209ms/step - loss: 0.0184 - accuracy: 0.9814 - val_loss: 0.5853 - val_accuracy: 0.8890\n",
      "Epoch 93/500\n",
      "338/338 [==============================] - 73s 216ms/step - loss: 0.0234 - accuracy: 0.9765 - val_loss: 0.5695 - val_accuracy: 0.8949\n",
      "Epoch 94/500\n",
      "338/338 [==============================] - 72s 213ms/step - loss: 0.0188 - accuracy: 0.9807 - val_loss: 0.5370 - val_accuracy: 0.8944\n",
      "Epoch 95/500\n",
      "338/338 [==============================] - 73s 215ms/step - loss: 0.0179 - accuracy: 0.9815 - val_loss: 0.5987 - val_accuracy: 0.8992\n",
      "Epoch 96/500\n",
      "338/338 [==============================] - 72s 213ms/step - loss: 0.0172 - accuracy: 0.9820 - val_loss: 0.6364 - val_accuracy: 0.8948\n",
      "Epoch 97/500\n",
      "338/338 [==============================] - 74s 220ms/step - loss: 0.0167 - accuracy: 0.9831 - val_loss: 0.6071 - val_accuracy: 0.8921\n",
      "Epoch 98/500\n",
      "338/338 [==============================] - 72s 213ms/step - loss: 0.0180 - accuracy: 0.9821 - val_loss: 0.5679 - val_accuracy: 0.8961\n",
      "Epoch 99/500\n",
      "338/338 [==============================] - 77s 227ms/step - loss: 0.0173 - accuracy: 0.9820 - val_loss: 0.5837 - val_accuracy: 0.8965\n",
      "Epoch 100/500\n",
      "338/338 [==============================] - 72s 212ms/step - loss: 0.0197 - accuracy: 0.9795 - val_loss: 0.6129 - val_accuracy: 0.8946\n",
      "Epoch 101/500\n",
      "338/338 [==============================] - 69s 205ms/step - loss: 0.0187 - accuracy: 0.9810 - val_loss: 0.5376 - val_accuracy: 0.8886\n",
      "Epoch 102/500\n",
      "338/338 [==============================] - 69s 204ms/step - loss: 0.0224 - accuracy: 0.9766 - val_loss: 0.5010 - val_accuracy: 0.8840\n",
      "Epoch 103/500\n",
      "338/338 [==============================] - 69s 205ms/step - loss: 0.0177 - accuracy: 0.9814 - val_loss: 0.6332 - val_accuracy: 0.8961\n",
      "Epoch 104/500\n",
      "338/338 [==============================] - 69s 206ms/step - loss: 0.0155 - accuracy: 0.9834 - val_loss: 0.7129 - val_accuracy: 0.8930\n",
      "Epoch 105/500\n",
      "338/338 [==============================] - 69s 204ms/step - loss: 0.0173 - accuracy: 0.9815 - val_loss: 0.5897 - val_accuracy: 0.8846\n",
      "Epoch 106/500\n",
      "338/338 [==============================] - 70s 207ms/step - loss: 0.0155 - accuracy: 0.9834 - val_loss: 0.5912 - val_accuracy: 0.8892\n",
      "Epoch 107/500\n",
      "338/338 [==============================] - 69s 204ms/step - loss: 0.0174 - accuracy: 0.9817 - val_loss: 0.6392 - val_accuracy: 0.8934\n",
      "Epoch 108/500\n",
      "338/338 [==============================] - 69s 205ms/step - loss: 0.0185 - accuracy: 0.9801 - val_loss: 0.6067 - val_accuracy: 0.8917\n",
      "Epoch 109/500\n",
      "338/338 [==============================] - 70s 206ms/step - loss: 0.0194 - accuracy: 0.9805 - val_loss: 0.5301 - val_accuracy: 0.8912\n",
      "Epoch 110/500\n",
      "338/338 [==============================] - 69s 205ms/step - loss: 0.0150 - accuracy: 0.9842 - val_loss: 0.6835 - val_accuracy: 0.8941\n",
      "Epoch 111/500\n",
      "338/338 [==============================] - 69s 204ms/step - loss: 0.0157 - accuracy: 0.9836 - val_loss: 0.6297 - val_accuracy: 0.8940\n",
      "Epoch 112/500\n",
      "338/338 [==============================] - 69s 205ms/step - loss: 0.0150 - accuracy: 0.9836 - val_loss: 0.6613 - val_accuracy: 0.8938\n",
      "Epoch 113/500\n",
      "338/338 [==============================] - 69s 204ms/step - loss: 0.0152 - accuracy: 0.9838 - val_loss: 0.6838 - val_accuracy: 0.8830\n",
      "Epoch 114/500\n",
      "338/338 [==============================] - 69s 203ms/step - loss: 0.0140 - accuracy: 0.9848 - val_loss: 0.7092 - val_accuracy: 0.8906\n",
      "Epoch 115/500\n",
      "338/338 [==============================] - 69s 203ms/step - loss: 0.0146 - accuracy: 0.9846 - val_loss: 0.7191 - val_accuracy: 0.8965\n",
      "Epoch 116/500\n",
      "338/338 [==============================] - 69s 204ms/step - loss: 0.0179 - accuracy: 0.9811 - val_loss: 0.5087 - val_accuracy: 0.8902\n",
      "Epoch 117/500\n",
      "338/338 [==============================] - 69s 205ms/step - loss: 0.0207 - accuracy: 0.9788 - val_loss: 0.6029 - val_accuracy: 0.8941\n",
      "Epoch 118/500\n",
      "338/338 [==============================] - 69s 205ms/step - loss: 0.0156 - accuracy: 0.9837 - val_loss: 0.5966 - val_accuracy: 0.8920\n",
      "Epoch 119/500\n",
      "338/338 [==============================] - 69s 204ms/step - loss: 0.0146 - accuracy: 0.9845 - val_loss: 0.6227 - val_accuracy: 0.8940\n",
      "Epoch 120/500\n",
      "338/338 [==============================] - 69s 204ms/step - loss: 0.0155 - accuracy: 0.9838 - val_loss: 0.6254 - val_accuracy: 0.8969\n",
      "Epoch 121/500\n",
      "338/338 [==============================] - 69s 204ms/step - loss: 0.0166 - accuracy: 0.9827 - val_loss: 0.6914 - val_accuracy: 0.8885\n"
     ]
    }
   ],
   "source": [
    "NUM_WORKERS = 10\n",
    "callback = tf.keras.callbacks.EarlyStopping(monitor='loss', patience=7)\n",
    "history = model.fit(x_train,y_train.values, batch_size =200, epochs = 500,validation_split=0.1,class_weight=weights,\n",
    "                    use_multiprocessing=True,workers=NUM_WORKERS,callbacks=[callback])"
   ]
  },
  {
   "cell_type": "code",
   "execution_count": 583,
   "metadata": {
    "ExecuteTime": {
     "end_time": "2021-12-27T15:14:36.404254Z",
     "start_time": "2021-12-27T15:14:36.126945Z"
    }
   },
   "outputs": [
    {
     "name": "stdout",
     "output_type": "stream",
     "text": [
      "dict_keys(['loss', 'accuracy', 'val_loss', 'val_accuracy'])\n"
     ]
    },
    {
     "data": {
      "image/png": "[encoded data removed]",
      "text/plain": [
       "<Figure size 432x288 with 1 Axes>"
      ]
     },
     "metadata": {
      "needs_background": "light"
     },
     "output_type": "display_data"
    }
   ],
   "source": [
    "import matplotlib.pyplot as plt \n",
    "print(history.history.keys())\n",
    "# summarize history for accuracy\n",
    "plt.plot(history.history['accuracy'])\n",
    "plt.plot(history.history['val_accuracy'])\n",
    "plt.title('model accuracy')\n",
    "plt.ylabel('accuracy')\n",
    "plt.xlabel('epoch')\n",
    "plt.legend(['train', 'test'], loc='upper left')\n",
    "plt.show()"
   ]
  },
  {
   "cell_type": "code",
   "execution_count": 584,
   "metadata": {
    "ExecuteTime": {
     "end_time": "2021-12-27T15:14:42.102794Z",
     "start_time": "2021-12-27T15:14:41.960074Z"
    }
   },
   "outputs": [
    {
     "data": {
      "image/png": "[encoded data removed]",
      "text/plain": [
       "<Figure size 432x288 with 1 Axes>"
      ]
     },
     "metadata": {
      "needs_background": "light"
     },
     "output_type": "display_data"
    }
   ],
   "source": [
    "# summarize history for loss\n",
    "plt.plot(history.history['loss'])\n",
    "plt.plot(history.history['val_loss'])\n",
    "plt.title('model loss')\n",
    "plt.ylabel('loss')\n",
    "plt.xlabel('epoch')\n",
    "plt.legend(['train', 'test'], loc='upper left')\n",
    "plt.show()"
   ]
  },
  {
   "cell_type": "code",
   "execution_count": 589,
   "metadata": {
    "ExecuteTime": {
     "end_time": "2021-12-27T15:38:19.774005Z",
     "start_time": "2021-12-27T15:38:07.527494Z"
    }
   },
   "outputs": [
    {
     "name": "stdout",
     "output_type": "stream",
     "text": [
      "              precision    recall  f1-score   support\n",
      "\n",
      "         0.0       0.94      0.90      0.92     18334\n",
      "         1.0       0.75      0.84      0.80      6657\n",
      "\n",
      "    accuracy                           0.88     24991\n",
      "   macro avg       0.85      0.87      0.86     24991\n",
      "weighted avg       0.89      0.88      0.89     24991\n",
      "\n"
     ]
    }
   ],
   "source": [
    "from sklearn.metrics import classification_report\n",
    "pred = model.predict(x_test)\n",
    "pred[pred < 0.5] = 0\n",
    "pred[pred > 0.5] = 1\n",
    "print(classification_report(y_test,pred))"
   ]
  },
  {
   "cell_type": "code",
   "execution_count": 601,
   "metadata": {
    "ExecuteTime": {
     "end_time": "2021-12-27T16:51:57.268567Z",
     "start_time": "2021-12-27T16:08:14.189682Z"
    }
   },
   "outputs": [
    {
     "name": "stdout",
     "output_type": "stream",
     "text": [
      "Epoch 1/500\n",
      "200/200 [==============================] - 18s 84ms/step - loss: 0.3536 - accuracy: 0.5369 - val_loss: 0.4300 - val_accuracy: 0.8279\n",
      "Epoch 2/500\n",
      "200/200 [==============================] - 19s 93ms/step - loss: 0.1660 - accuracy: 0.8404 - val_loss: 0.4102 - val_accuracy: 0.8311\n",
      "Epoch 3/500\n",
      "200/200 [==============================] - 20s 100ms/step - loss: 0.1514 - accuracy: 0.8540 - val_loss: 0.3365 - val_accuracy: 0.8631\n",
      "Epoch 4/500\n",
      "200/200 [==============================] - 21s 108ms/step - loss: 0.1429 - accuracy: 0.8619 - val_loss: 0.3327 - val_accuracy: 0.8630\n",
      "Epoch 5/500\n",
      "200/200 [==============================] - 20s 101ms/step - loss: 0.1387 - accuracy: 0.8633 - val_loss: 0.3055 - val_accuracy: 0.8748\n",
      "Epoch 6/500\n",
      "200/200 [==============================] - 22s 110ms/step - loss: 0.1357 - accuracy: 0.8648 - val_loss: 0.3496 - val_accuracy: 0.8522\n",
      "Epoch 7/500\n",
      "200/200 [==============================] - 20s 102ms/step - loss: 0.1325 - accuracy: 0.8681 - val_loss: 0.3211 - val_accuracy: 0.8698\n",
      "Epoch 8/500\n",
      "200/200 [==============================] - 21s 105ms/step - loss: 0.1295 - accuracy: 0.8714 - val_loss: 0.3055 - val_accuracy: 0.8749\n",
      "Epoch 9/500\n",
      "200/200 [==============================] - 20s 99ms/step - loss: 0.1280 - accuracy: 0.8716 - val_loss: 0.3385 - val_accuracy: 0.8535\n",
      "Epoch 10/500\n",
      "200/200 [==============================] - 19s 96ms/step - loss: 0.1275 - accuracy: 0.8712 - val_loss: 0.3411 - val_accuracy: 0.8568\n",
      "Epoch 11/500\n",
      "200/200 [==============================] - 21s 107ms/step - loss: 0.1245 - accuracy: 0.8753 - val_loss: 0.3028 - val_accuracy: 0.8764\n",
      "Epoch 12/500\n",
      "200/200 [==============================] - 20s 102ms/step - loss: 0.1227 - accuracy: 0.8776 - val_loss: 0.3449 - val_accuracy: 0.8600\n",
      "Epoch 13/500\n",
      "200/200 [==============================] - 19s 97ms/step - loss: 0.1214 - accuracy: 0.8767 - val_loss: 0.3463 - val_accuracy: 0.8563\n",
      "Epoch 14/500\n",
      "200/200 [==============================] - 22s 112ms/step - loss: 0.1214 - accuracy: 0.8759 - val_loss: 0.3636 - val_accuracy: 0.8449\n",
      "Epoch 15/500\n",
      "200/200 [==============================] - 22s 108ms/step - loss: 0.1191 - accuracy: 0.8777 - val_loss: 0.2951 - val_accuracy: 0.8772\n",
      "Epoch 16/500\n",
      "200/200 [==============================] - 20s 100ms/step - loss: 0.1185 - accuracy: 0.8797 - val_loss: 0.3366 - val_accuracy: 0.8579\n",
      "Epoch 17/500\n",
      "200/200 [==============================] - 20s 99ms/step - loss: 0.1177 - accuracy: 0.8796 - val_loss: 0.3011 - val_accuracy: 0.8729\n",
      "Epoch 18/500\n",
      "200/200 [==============================] - 20s 100ms/step - loss: 0.1161 - accuracy: 0.8794 - val_loss: 0.3100 - val_accuracy: 0.8672\n",
      "Epoch 19/500\n",
      "200/200 [==============================] - 20s 100ms/step - loss: 0.1154 - accuracy: 0.8813 - val_loss: 0.3102 - val_accuracy: 0.8709\n",
      "Epoch 20/500\n",
      "200/200 [==============================] - 20s 100ms/step - loss: 0.1142 - accuracy: 0.8805 - val_loss: 0.3186 - val_accuracy: 0.8657\n",
      "Epoch 21/500\n",
      "200/200 [==============================] - 20s 99ms/step - loss: 0.1138 - accuracy: 0.8818 - val_loss: 0.3214 - val_accuracy: 0.8615\n",
      "Epoch 22/500\n",
      "200/200 [==============================] - 20s 100ms/step - loss: 0.1121 - accuracy: 0.8831 - val_loss: 0.3030 - val_accuracy: 0.8766\n",
      "Epoch 23/500\n",
      "200/200 [==============================] - 20s 100ms/step - loss: 0.1118 - accuracy: 0.8835 - val_loss: 0.2866 - val_accuracy: 0.8852\n",
      "Epoch 24/500\n",
      "200/200 [==============================] - 20s 102ms/step - loss: 0.1117 - accuracy: 0.8835 - val_loss: 0.3104 - val_accuracy: 0.8703\n",
      "Epoch 25/500\n",
      "200/200 [==============================] - 20s 100ms/step - loss: 0.1101 - accuracy: 0.8849 - val_loss: 0.3245 - val_accuracy: 0.8647\n",
      "Epoch 26/500\n",
      "200/200 [==============================] - 20s 100ms/step - loss: 0.1108 - accuracy: 0.8831 - val_loss: 0.3133 - val_accuracy: 0.8679\n",
      "Epoch 27/500\n",
      "200/200 [==============================] - 20s 100ms/step - loss: 0.1080 - accuracy: 0.8876 - val_loss: 0.2949 - val_accuracy: 0.8834\n",
      "Epoch 28/500\n",
      "200/200 [==============================] - 20s 99ms/step - loss: 0.1083 - accuracy: 0.8855 - val_loss: 0.2906 - val_accuracy: 0.8838\n",
      "Epoch 29/500\n",
      "200/200 [==============================] - 20s 100ms/step - loss: 0.1069 - accuracy: 0.8888 - val_loss: 0.2966 - val_accuracy: 0.8810\n",
      "Epoch 30/500\n",
      "200/200 [==============================] - 20s 100ms/step - loss: 0.1069 - accuracy: 0.8875 - val_loss: 0.3000 - val_accuracy: 0.8801\n",
      "Epoch 31/500\n",
      "200/200 [==============================] - 20s 100ms/step - loss: 0.1062 - accuracy: 0.8875 - val_loss: 0.3034 - val_accuracy: 0.8751\n",
      "Epoch 32/500\n",
      "200/200 [==============================] - 20s 100ms/step - loss: 0.1054 - accuracy: 0.8889 - val_loss: 0.3169 - val_accuracy: 0.8678\n",
      "Epoch 33/500\n",
      "200/200 [==============================] - 20s 100ms/step - loss: 0.1050 - accuracy: 0.8903 - val_loss: 0.3187 - val_accuracy: 0.8710\n",
      "Epoch 34/500\n",
      "200/200 [==============================] - 20s 100ms/step - loss: 0.1033 - accuracy: 0.8910 - val_loss: 0.3389 - val_accuracy: 0.8569\n",
      "Epoch 35/500\n",
      "200/200 [==============================] - 20s 101ms/step - loss: 0.1027 - accuracy: 0.8914 - val_loss: 0.3348 - val_accuracy: 0.8629\n",
      "Epoch 36/500\n",
      "200/200 [==============================] - 20s 101ms/step - loss: 0.1029 - accuracy: 0.8903 - val_loss: 0.3027 - val_accuracy: 0.8758\n",
      "Epoch 37/500\n",
      "200/200 [==============================] - 20s 101ms/step - loss: 0.1035 - accuracy: 0.8898 - val_loss: 0.3082 - val_accuracy: 0.8689\n",
      "Epoch 38/500\n",
      "200/200 [==============================] - 20s 99ms/step - loss: 0.1027 - accuracy: 0.8915 - val_loss: 0.3076 - val_accuracy: 0.8749\n",
      "Epoch 39/500\n",
      "200/200 [==============================] - 20s 102ms/step - loss: 0.1026 - accuracy: 0.8909 - val_loss: 0.3112 - val_accuracy: 0.8725\n",
      "Epoch 40/500\n",
      "200/200 [==============================] - 21s 105ms/step - loss: 0.1023 - accuracy: 0.8908 - val_loss: 0.3179 - val_accuracy: 0.8749\n",
      "Epoch 41/500\n",
      "200/200 [==============================] - 21s 104ms/step - loss: 0.1000 - accuracy: 0.8939 - val_loss: 0.3212 - val_accuracy: 0.8593\n",
      "Epoch 42/500\n",
      "200/200 [==============================] - 20s 99ms/step - loss: 0.0995 - accuracy: 0.8955 - val_loss: 0.3288 - val_accuracy: 0.8645\n",
      "Epoch 43/500\n",
      "200/200 [==============================] - 20s 101ms/step - loss: 0.0996 - accuracy: 0.8935 - val_loss: 0.3723 - val_accuracy: 0.8444\n",
      "Epoch 44/500\n",
      "200/200 [==============================] - 20s 99ms/step - loss: 0.0981 - accuracy: 0.8967 - val_loss: 0.3538 - val_accuracy: 0.8499\n",
      "Epoch 45/500\n",
      "200/200 [==============================] - 20s 99ms/step - loss: 0.0990 - accuracy: 0.8946 - val_loss: 0.3059 - val_accuracy: 0.8852\n",
      "Epoch 46/500\n",
      "200/200 [==============================] - 20s 99ms/step - loss: 0.0982 - accuracy: 0.8967 - val_loss: 0.3084 - val_accuracy: 0.8748\n",
      "Epoch 47/500\n",
      "200/200 [==============================] - 20s 100ms/step - loss: 0.0964 - accuracy: 0.8965 - val_loss: 0.3664 - val_accuracy: 0.8467\n",
      "Epoch 48/500\n",
      "200/200 [==============================] - 20s 98ms/step - loss: 0.0980 - accuracy: 0.8952 - val_loss: 0.3275 - val_accuracy: 0.8594\n",
      "Epoch 49/500\n",
      "200/200 [==============================] - 19s 94ms/step - loss: 0.0970 - accuracy: 0.8962 - val_loss: 0.3116 - val_accuracy: 0.8790\n",
      "Epoch 50/500\n",
      "200/200 [==============================] - 19s 94ms/step - loss: 0.0959 - accuracy: 0.8970 - val_loss: 0.3309 - val_accuracy: 0.8669\n",
      "Epoch 51/500\n",
      "200/200 [==============================] - 19s 94ms/step - loss: 0.0974 - accuracy: 0.8956 - val_loss: 0.3618 - val_accuracy: 0.8419\n",
      "Epoch 52/500\n",
      "200/200 [==============================] - 19s 94ms/step - loss: 0.0943 - accuracy: 0.9002 - val_loss: 0.3128 - val_accuracy: 0.8800\n",
      "Epoch 53/500\n",
      "200/200 [==============================] - 19s 94ms/step - loss: 0.0954 - accuracy: 0.8968 - val_loss: 0.3209 - val_accuracy: 0.8658\n",
      "Epoch 54/500\n",
      "200/200 [==============================] - 20s 98ms/step - loss: 0.0937 - accuracy: 0.8997 - val_loss: 0.3129 - val_accuracy: 0.8686\n",
      "Epoch 55/500\n",
      "200/200 [==============================] - 19s 94ms/step - loss: 0.0936 - accuracy: 0.9013 - val_loss: 0.3144 - val_accuracy: 0.8663\n",
      "Epoch 56/500\n",
      "200/200 [==============================] - 19s 94ms/step - loss: 0.0938 - accuracy: 0.8987 - val_loss: 0.3427 - val_accuracy: 0.8547\n",
      "Epoch 57/500\n",
      "200/200 [==============================] - 19s 94ms/step - loss: 0.0930 - accuracy: 0.8996 - val_loss: 0.3268 - val_accuracy: 0.8753\n",
      "Epoch 58/500\n",
      "200/200 [==============================] - 19s 95ms/step - loss: 0.0916 - accuracy: 0.9033 - val_loss: 0.3571 - val_accuracy: 0.8543\n",
      "Epoch 59/500\n",
      "200/200 [==============================] - 19s 94ms/step - loss: 0.0918 - accuracy: 0.9015 - val_loss: 0.3615 - val_accuracy: 0.8501\n",
      "Epoch 60/500\n",
      "200/200 [==============================] - 19s 94ms/step - loss: 0.0932 - accuracy: 0.8998 - val_loss: 0.3016 - val_accuracy: 0.8836\n",
      "Epoch 61/500\n",
      "200/200 [==============================] - 19s 96ms/step - loss: 0.0908 - accuracy: 0.9030 - val_loss: 0.3661 - val_accuracy: 0.8463\n",
      "Epoch 62/500\n",
      "200/200 [==============================] - 20s 98ms/step - loss: 0.0909 - accuracy: 0.9028 - val_loss: 0.3275 - val_accuracy: 0.8699\n",
      "Epoch 63/500\n",
      "200/200 [==============================] - 19s 94ms/step - loss: 0.0905 - accuracy: 0.9035 - val_loss: 0.3497 - val_accuracy: 0.8493\n",
      "Epoch 64/500\n",
      "200/200 [==============================] - 19s 94ms/step - loss: 0.0896 - accuracy: 0.9032 - val_loss: 0.3496 - val_accuracy: 0.8587\n",
      "Epoch 65/500\n",
      "200/200 [==============================] - 19s 94ms/step - loss: 0.0901 - accuracy: 0.9029 - val_loss: 0.3518 - val_accuracy: 0.8767\n",
      "Epoch 66/500\n",
      "200/200 [==============================] - 19s 95ms/step - loss: 0.0889 - accuracy: 0.9055 - val_loss: 0.3319 - val_accuracy: 0.8696\n",
      "Epoch 67/500\n",
      "200/200 [==============================] - 19s 94ms/step - loss: 0.0894 - accuracy: 0.9042 - val_loss: 0.3153 - val_accuracy: 0.8755\n",
      "Epoch 68/500\n",
      "200/200 [==============================] - 19s 94ms/step - loss: 0.0902 - accuracy: 0.9026 - val_loss: 0.3335 - val_accuracy: 0.8668\n",
      "Epoch 69/500\n",
      "200/200 [==============================] - 19s 96ms/step - loss: 0.0879 - accuracy: 0.9073 - val_loss: 0.3220 - val_accuracy: 0.8710\n",
      "Epoch 70/500\n",
      "200/200 [==============================] - 20s 98ms/step - loss: 0.0879 - accuracy: 0.9061 - val_loss: 0.3616 - val_accuracy: 0.8483\n",
      "Epoch 71/500\n",
      "200/200 [==============================] - 19s 96ms/step - loss: 0.0879 - accuracy: 0.9064 - val_loss: 0.3202 - val_accuracy: 0.8764\n",
      "Epoch 72/500\n",
      "200/200 [==============================] - 19s 96ms/step - loss: 0.0868 - accuracy: 0.9079 - val_loss: 0.3365 - val_accuracy: 0.8784\n",
      "Epoch 73/500\n",
      "200/200 [==============================] - 19s 97ms/step - loss: 0.0866 - accuracy: 0.9080 - val_loss: 0.3350 - val_accuracy: 0.8830\n",
      "Epoch 74/500\n",
      "200/200 [==============================] - 24s 122ms/step - loss: 0.0855 - accuracy: 0.9082 - val_loss: 0.3388 - val_accuracy: 0.8699\n",
      "Epoch 75/500\n",
      "200/200 [==============================] - 19s 97ms/step - loss: 0.0870 - accuracy: 0.9079 - val_loss: 0.3406 - val_accuracy: 0.8607\n",
      "Epoch 76/500\n",
      "200/200 [==============================] - 19s 95ms/step - loss: 0.0876 - accuracy: 0.9051 - val_loss: 0.3500 - val_accuracy: 0.8622\n",
      "Epoch 77/500\n",
      "200/200 [==============================] - 19s 94ms/step - loss: 0.0860 - accuracy: 0.9075 - val_loss: 0.3169 - val_accuracy: 0.8834\n",
      "Epoch 78/500\n",
      "200/200 [==============================] - 21s 106ms/step - loss: 0.0856 - accuracy: 0.9102 - val_loss: 0.3215 - val_accuracy: 0.8841\n",
      "Epoch 79/500\n",
      "200/200 [==============================] - 19s 93ms/step - loss: 0.0858 - accuracy: 0.9072 - val_loss: 0.4075 - val_accuracy: 0.8231\n",
      "Epoch 80/500\n",
      "200/200 [==============================] - 19s 93ms/step - loss: 0.0848 - accuracy: 0.9100 - val_loss: 0.3244 - val_accuracy: 0.8819\n",
      "Epoch 81/500\n",
      "200/200 [==============================] - 19s 94ms/step - loss: 0.0839 - accuracy: 0.9100 - val_loss: 0.3702 - val_accuracy: 0.8820\n",
      "Epoch 82/500\n",
      "200/200 [==============================] - 19s 93ms/step - loss: 0.0851 - accuracy: 0.9076 - val_loss: 0.3814 - val_accuracy: 0.8473\n",
      "Epoch 83/500\n",
      "200/200 [==============================] - 19s 93ms/step - loss: 0.0835 - accuracy: 0.9110 - val_loss: 0.3359 - val_accuracy: 0.8741\n",
      "Epoch 84/500\n",
      "200/200 [==============================] - 20s 98ms/step - loss: 0.0831 - accuracy: 0.9112 - val_loss: 0.3706 - val_accuracy: 0.8581\n",
      "Epoch 85/500\n",
      "200/200 [==============================] - 21s 107ms/step - loss: 0.0850 - accuracy: 0.9082 - val_loss: 0.3612 - val_accuracy: 0.8692\n",
      "Epoch 86/500\n",
      "200/200 [==============================] - 22s 112ms/step - loss: 0.0845 - accuracy: 0.9096 - val_loss: 0.3275 - val_accuracy: 0.8775\n",
      "Epoch 87/500\n",
      "200/200 [==============================] - 22s 108ms/step - loss: 0.0822 - accuracy: 0.9126 - val_loss: 0.3720 - val_accuracy: 0.8629\n",
      "Epoch 88/500\n",
      "200/200 [==============================] - 22s 108ms/step - loss: 0.0817 - accuracy: 0.9121 - val_loss: 0.3473 - val_accuracy: 0.8728\n",
      "Epoch 89/500\n",
      "200/200 [==============================] - 22s 108ms/step - loss: 0.0817 - accuracy: 0.9126 - val_loss: 0.3492 - val_accuracy: 0.8619\n",
      "Epoch 90/500\n",
      "200/200 [==============================] - 22s 111ms/step - loss: 0.0831 - accuracy: 0.9107 - val_loss: 0.3566 - val_accuracy: 0.8636\n",
      "Epoch 91/500\n",
      "200/200 [==============================] - 20s 102ms/step - loss: 0.0820 - accuracy: 0.9123 - val_loss: 0.3447 - val_accuracy: 0.8691\n",
      "Epoch 92/500\n",
      "200/200 [==============================] - 19s 95ms/step - loss: 0.0823 - accuracy: 0.9130 - val_loss: 0.3411 - val_accuracy: 0.8593\n",
      "Epoch 93/500\n",
      "200/200 [==============================] - 20s 100ms/step - loss: 0.0803 - accuracy: 0.9157 - val_loss: 0.3487 - val_accuracy: 0.8804\n",
      "Epoch 94/500\n",
      "200/200 [==============================] - 24s 118ms/step - loss: 0.0803 - accuracy: 0.9143 - val_loss: 0.3373 - val_accuracy: 0.8719\n",
      "Epoch 95/500\n",
      "200/200 [==============================] - 21s 107ms/step - loss: 0.0804 - accuracy: 0.9135 - val_loss: 0.3531 - val_accuracy: 0.8678\n",
      "Epoch 96/500\n",
      "200/200 [==============================] - 22s 110ms/step - loss: 0.0816 - accuracy: 0.9127 - val_loss: 0.3618 - val_accuracy: 0.8543\n",
      "Epoch 97/500\n",
      "200/200 [==============================] - 21s 106ms/step - loss: 0.0811 - accuracy: 0.9130 - val_loss: 0.3696 - val_accuracy: 0.8834\n",
      "Epoch 98/500\n",
      "200/200 [==============================] - 22s 111ms/step - loss: 0.0805 - accuracy: 0.9147 - val_loss: 0.3708 - val_accuracy: 0.8631\n",
      "Epoch 99/500\n",
      "200/200 [==============================] - 21s 107ms/step - loss: 0.0794 - accuracy: 0.9157 - val_loss: 0.3577 - val_accuracy: 0.8566\n",
      "Epoch 100/500\n",
      "200/200 [==============================] - 21s 104ms/step - loss: 0.0786 - accuracy: 0.9157 - val_loss: 0.3783 - val_accuracy: 0.8536\n",
      "Epoch 101/500\n",
      "200/200 [==============================] - 25s 127ms/step - loss: 0.0784 - accuracy: 0.9171 - val_loss: 0.3566 - val_accuracy: 0.8751\n",
      "Epoch 102/500\n",
      "200/200 [==============================] - 23s 114ms/step - loss: 0.0783 - accuracy: 0.9168 - val_loss: 0.3830 - val_accuracy: 0.8689\n",
      "Epoch 103/500\n",
      "200/200 [==============================] - 22s 109ms/step - loss: 0.0787 - accuracy: 0.9160 - val_loss: 0.3809 - val_accuracy: 0.8800\n",
      "Epoch 104/500\n",
      "200/200 [==============================] - 20s 102ms/step - loss: 0.0794 - accuracy: 0.9144 - val_loss: 0.3637 - val_accuracy: 0.8731\n",
      "Epoch 105/500\n",
      "200/200 [==============================] - 20s 98ms/step - loss: 0.0783 - accuracy: 0.9161 - val_loss: 0.3405 - val_accuracy: 0.8743\n",
      "Epoch 106/500\n",
      "200/200 [==============================] - 21s 103ms/step - loss: 0.0775 - accuracy: 0.9181 - val_loss: 0.3592 - val_accuracy: 0.8539\n",
      "Epoch 107/500\n",
      "200/200 [==============================] - 21s 103ms/step - loss: 0.0766 - accuracy: 0.9182 - val_loss: 0.3565 - val_accuracy: 0.8765\n",
      "Epoch 108/500\n",
      "200/200 [==============================] - 19s 96ms/step - loss: 0.0771 - accuracy: 0.9191 - val_loss: 0.3933 - val_accuracy: 0.8616\n",
      "Epoch 109/500\n",
      "200/200 [==============================] - 19s 97ms/step - loss: 0.0776 - accuracy: 0.9176 - val_loss: 0.4592 - val_accuracy: 0.8306 loss: 0\n",
      "Epoch 110/500\n",
      "200/200 [==============================] - 20s 98ms/step - loss: 0.0770 - accuracy: 0.9189 - val_loss: 0.3927 - val_accuracy: 0.8563\n",
      "Epoch 111/500\n"
     ]
    },
    {
     "name": "stdout",
     "output_type": "stream",
     "text": [
      "200/200 [==============================] - 21s 104ms/step - loss: 0.0773 - accuracy: 0.9181 - val_loss: 0.3557 - val_accuracy: 0.8815\n",
      "Epoch 112/500\n",
      "200/200 [==============================] - 19s 94ms/step - loss: 0.0755 - accuracy: 0.9209 - val_loss: 0.3662 - val_accuracy: 0.8739\n",
      "Epoch 113/500\n",
      "200/200 [==============================] - 19s 94ms/step - loss: 0.0764 - accuracy: 0.9202 - val_loss: 0.3705 - val_accuracy: 0.8647\n",
      "Epoch 114/500\n",
      "200/200 [==============================] - 19s 94ms/step - loss: 0.0744 - accuracy: 0.9223 - val_loss: 0.3798 - val_accuracy: 0.8762\n",
      "Epoch 115/500\n",
      "200/200 [==============================] - 19s 93ms/step - loss: 0.0753 - accuracy: 0.9213 - val_loss: 0.3551 - val_accuracy: 0.8770\n",
      "Epoch 116/500\n",
      "200/200 [==============================] - 19s 93ms/step - loss: 0.0752 - accuracy: 0.9218 - val_loss: 0.4132 - val_accuracy: 0.8505\n",
      "Epoch 117/500\n",
      "200/200 [==============================] - 19s 93ms/step - loss: 0.0763 - accuracy: 0.9200 - val_loss: 0.3885 - val_accuracy: 0.8721\n",
      "Epoch 118/500\n",
      "200/200 [==============================] - 19s 93ms/step - loss: 0.0752 - accuracy: 0.9214 - val_loss: 0.4007 - val_accuracy: 0.8601\n",
      "Epoch 119/500\n",
      "200/200 [==============================] - 19s 94ms/step - loss: 0.0765 - accuracy: 0.9196 - val_loss: 0.3487 - val_accuracy: 0.8800\n",
      "Epoch 120/500\n",
      "200/200 [==============================] - 19s 93ms/step - loss: 0.0738 - accuracy: 0.9236 - val_loss: 0.3805 - val_accuracy: 0.8610\n",
      "Epoch 121/500\n",
      "200/200 [==============================] - 19s 93ms/step - loss: 0.0743 - accuracy: 0.9218 - val_loss: 0.3933 - val_accuracy: 0.8745\n",
      "Epoch 122/500\n",
      "200/200 [==============================] - 19s 93ms/step - loss: 0.0739 - accuracy: 0.9221 - val_loss: 0.4030 - val_accuracy: 0.8786\n",
      "Epoch 123/500\n",
      "200/200 [==============================] - 19s 93ms/step - loss: 0.0749 - accuracy: 0.9222 - val_loss: 0.3966 - val_accuracy: 0.8827\n",
      "Epoch 124/500\n",
      "200/200 [==============================] - 19s 93ms/step - loss: 0.0738 - accuracy: 0.9240 - val_loss: 0.3968 - val_accuracy: 0.8803\n",
      "Epoch 125/500\n",
      "200/200 [==============================] - 19s 93ms/step - loss: 0.0726 - accuracy: 0.9249 - val_loss: 0.3782 - val_accuracy: 0.8783\n",
      "Epoch 126/500\n",
      "200/200 [==============================] - 19s 94ms/step - loss: 0.0734 - accuracy: 0.9238 - val_loss: 0.3971 - val_accuracy: 0.8749\n",
      "Epoch 127/500\n",
      "200/200 [==============================] - 19s 97ms/step - loss: 0.0753 - accuracy: 0.9213 - val_loss: 0.4029 - val_accuracy: 0.8481\n",
      "Epoch 128/500\n",
      "200/200 [==============================] - 19s 93ms/step - loss: 0.0732 - accuracy: 0.9243 - val_loss: 0.3834 - val_accuracy: 0.8751\n",
      "Epoch 129/500\n",
      "200/200 [==============================] - 19s 93ms/step - loss: 0.0738 - accuracy: 0.9233 - val_loss: 0.3995 - val_accuracy: 0.8768\n",
      "Epoch 130/500\n",
      "200/200 [==============================] - 19s 94ms/step - loss: 0.0740 - accuracy: 0.9235 - val_loss: 0.3558 - val_accuracy: 0.8868\n",
      "Epoch 131/500\n",
      "200/200 [==============================] - 19s 94ms/step - loss: 0.0728 - accuracy: 0.9250 - val_loss: 0.4228 - val_accuracy: 0.8701\n",
      "Epoch 132/500\n",
      "200/200 [==============================] - 19s 93ms/step - loss: 0.0726 - accuracy: 0.9257 - val_loss: 0.3719 - val_accuracy: 0.8627\n"
     ]
    }
   ],
   "source": [
    "NUM_WORKERS = 10\n",
    "callback = tf.keras.callbacks.EarlyStopping(monitor='loss', patience=7)\n",
    "history = model.fit(x_train,y_train.values, batch_size =300, epochs = 500,validation_split=0.2,class_weight=weights,\n",
    "                    use_multiprocessing=True,workers=NUM_WORKERS,callbacks=[callback])"
   ]
  },
  {
   "cell_type": "code",
   "execution_count": 602,
   "metadata": {
    "ExecuteTime": {
     "end_time": "2021-12-27T17:03:19.008930Z",
     "start_time": "2021-12-27T17:03:18.836124Z"
    }
   },
   "outputs": [
    {
     "name": "stdout",
     "output_type": "stream",
     "text": [
      "dict_keys(['loss', 'accuracy', 'val_loss', 'val_accuracy'])\n"
     ]
    },
    {
     "data": {
      "image/png": "[encoded data removed]",
      "text/plain": [
       "<Figure size 432x288 with 1 Axes>"
      ]
     },
     "metadata": {
      "needs_background": "light"
     },
     "output_type": "display_data"
    }
   ],
   "source": [
    "import matplotlib.pyplot as plt \n",
    "print(history.history.keys())\n",
    "# summarize history for accuracy\n",
    "plt.plot(history.history['accuracy'])\n",
    "plt.plot(history.history['val_accuracy'])\n",
    "plt.title('model accuracy')\n",
    "plt.ylabel('accuracy')\n",
    "plt.xlabel('epoch')\n",
    "plt.legend(['train', 'test'], loc='upper left')\n",
    "plt.show()"
   ]
  },
  {
   "cell_type": "code",
   "execution_count": 603,
   "metadata": {
    "ExecuteTime": {
     "end_time": "2021-12-27T17:03:19.854741Z",
     "start_time": "2021-12-27T17:03:19.711126Z"
    }
   },
   "outputs": [
    {
     "data": {
      "image/png": "[encoded data removed]",
      "text/plain": [
       "<Figure size 432x288 with 1 Axes>"
      ]
     },
     "metadata": {
      "needs_background": "light"
     },
     "output_type": "display_data"
    }
   ],
   "source": [
    "# summarize history for loss\n",
    "plt.plot(history.history['loss'])\n",
    "plt.plot(history.history['val_loss'])\n",
    "plt.title('model loss')\n",
    "plt.ylabel('loss')\n",
    "plt.xlabel('epoch')\n",
    "plt.legend(['train', 'test'], loc='upper left')\n",
    "plt.show()"
   ]
  },
  {
   "cell_type": "code",
   "execution_count": 604,
   "metadata": {
    "ExecuteTime": {
     "end_time": "2021-12-27T17:03:30.078692Z",
     "start_time": "2021-12-27T17:03:26.977377Z"
    }
   },
   "outputs": [
    {
     "name": "stdout",
     "output_type": "stream",
     "text": [
      "              precision    recall  f1-score   support\n",
      "\n",
      "         0.0       0.95      0.85      0.90     18334\n",
      "         1.0       0.68      0.89      0.77      6657\n",
      "\n",
      "    accuracy                           0.86     24991\n",
      "   macro avg       0.82      0.87      0.84     24991\n",
      "weighted avg       0.88      0.86      0.87     24991\n",
      "\n"
     ]
    }
   ],
   "source": [
    "from sklearn.metrics import classification_report\n",
    "pred = model.predict(x_test)\n",
    "pred[pred < 0.5] = 0\n",
    "pred[pred > 0.5] = 1\n",
    "print(classification_report(y_test,pred))"
   ]
  },
  {
   "cell_type": "code",
   "execution_count": 4,
   "metadata": {
    "ExecuteTime": {
     "end_time": "2022-01-02T09:06:53.408813Z",
     "start_time": "2022-01-02T09:06:53.391104Z"
    }
   },
   "outputs": [],
   "source": [
    "# from tensorflow.keras.models import Sequential,Model\n",
    "# from tensorflow.keras.layers import Dense,Dropout\n",
    "# import tensorflow as tf\n",
    "# from keras.regularizers import l2, l1\n",
    "# model = Sequential()\n",
    "# model.add(LSTM(10, input_shape=(50, 50), kernel_regularizer=l2(0.01)))\n",
    "# model.add(Dropout(0.2))\n",
    "# model.add(Dense(1, activation=\"sigmoid\",kernel_regularizer=l2(0.01)))\n",
    "# model.add(Dropout(0.2))\n",
    "# model.compile(loss = \"binary_crossentropy\", optimizer=tf.keras.optimizers.Adam(learning_rate=0.001),metrics = ['accuracy'])\n",
    "# model.summary()"
   ]
  },
  {
   "cell_type": "code",
   "execution_count": 5,
   "metadata": {
    "ExecuteTime": {
     "end_time": "2022-01-02T09:06:57.390509Z",
     "start_time": "2022-01-02T09:06:57.373054Z"
    }
   },
   "outputs": [],
   "source": [
    "# NUM_WORKERS = 10\n",
    "# callback = tf.keras.callbacks.EarlyStopping(monitor='loss', patience=3)\n",
    "# history = model.fit(x_train,y_train.values, batch_size =200, epochs = 60,validation_split=0.3,class_weight=weights,\n",
    "#                     use_multiprocessing=True,workers=NUM_WORKERS,callbacks=[callback])"
   ]
  },
  {
   "cell_type": "code",
   "execution_count": 638,
   "metadata": {
    "ExecuteTime": {
     "end_time": "2021-12-28T17:56:30.120243Z",
     "start_time": "2021-12-28T17:56:29.965478Z"
    }
   },
   "outputs": [
    {
     "data": {
      "image/png": "[encoded data removed]",
      "text/plain": [
       "<Figure size 432x288 with 1 Axes>"
      ]
     },
     "metadata": {
      "needs_background": "light"
     },
     "output_type": "display_data"
    }
   ],
   "source": [
    "# summarize history for loss\n",
    "plt.plot(history.history['loss'])\n",
    "plt.plot(history.history['val_loss'])\n",
    "plt.title('model loss')\n",
    "plt.ylabel('loss')\n",
    "plt.xlabel('epoch')\n",
    "plt.legend(['train', 'validation_loss'], loc='upper left')\n",
    "plt.show()"
   ]
  },
  {
   "cell_type": "code",
   "execution_count": 75,
   "metadata": {
    "ExecuteTime": {
     "end_time": "2021-12-29T21:13:56.785328Z",
     "start_time": "2021-12-29T21:13:51.531086Z"
    }
   },
   "outputs": [
    {
     "name": "stdout",
     "output_type": "stream",
     "text": [
      "              precision    recall  f1-score   support\n",
      "\n",
      "         0.0       0.90      0.87      0.89     18315\n",
      "         1.0       0.68      0.74      0.71      6682\n",
      "\n",
      "    accuracy                           0.84     24997\n",
      "   macro avg       0.79      0.81      0.80     24997\n",
      "weighted avg       0.84      0.84      0.84     24997\n",
      "\n"
     ]
    }
   ],
   "source": [
    "from sklearn.metrics import classification_report\n",
    "pred = model.predict(x_test)\n",
    "pred[pred < 0.5] = 0\n",
    "pred[pred > 0.5] = 1\n",
    "print(classification_report(y_test,pred))"
   ]
  },
  {
   "cell_type": "code",
   "execution_count": 69,
   "metadata": {
    "ExecuteTime": {
     "end_time": "2021-12-29T21:03:14.451619Z",
     "start_time": "2021-12-29T21:03:14.288031Z"
    }
   },
   "outputs": [
    {
     "name": "stdout",
     "output_type": "stream",
     "text": [
      "Model: \"sequential_7\"\n",
      "_________________________________________________________________\n",
      "Layer (type)                 Output Shape              Param #   \n",
      "=================================================================\n",
      "lstm_6 (LSTM)                (None, 50, 1)             208       \n",
      "_________________________________________________________________\n",
      "lstm_7 (LSTM)                (None, 1)                 12        \n",
      "=================================================================\n",
      "Total params: 220\n",
      "Trainable params: 220\n",
      "Non-trainable params: 0\n",
      "_________________________________________________________________\n"
     ]
    }
   ],
   "source": [
    "from tensorflow.keras.models import Sequential,Model\n",
    "from tensorflow.keras.layers import Dense,Dropout\n",
    "import tensorflow as tf\n",
    "from keras.regularizers import l2, l1\n",
    "model = Sequential()\n",
    "model.add(LSTM(1, return_sequences=True, input_shape=(50, 50), kernel_regularizer=l2(0.01)))\n",
    "model.add(LSTM(1, input_shape=(50, 50), kernel_regularizer=l2(0.01)))\n",
    "# model.add(Dense(5, activation=\"sigmoid\",kernel_regularizer=l2(0.01)))\n",
    "# model.add(Dropout(0.3))\n",
    "# model.add(Dense(1, activation=\"sigmoid\",kernel_regularizer=l2(0.0001)))\n",
    "# model.add(Dropout(0.3))\n",
    "model.compile(loss = \"binary_crossentropy\", optimizer=tf.keras.optimizers.Adam(learning_rate=0.01),metrics = ['accuracy'])\n",
    "model.summary()"
   ]
  },
  {
   "cell_type": "code",
   "execution_count": 72,
   "metadata": {
    "ExecuteTime": {
     "end_time": "2021-12-29T21:13:07.016812Z",
     "start_time": "2021-12-29T21:08:06.952472Z"
    }
   },
   "outputs": [
    {
     "name": "stdout",
     "output_type": "stream",
     "text": [
      "Epoch 1/60\n",
      "350/350 [==============================] - 20s 57ms/step - loss: 0.2728 - accuracy: 0.5520 - val_loss: 0.6871 - val_accuracy: 0.5549\n",
      "Epoch 2/60\n",
      "350/350 [==============================] - 19s 54ms/step - loss: 0.2372 - accuracy: 0.6893 - val_loss: 0.4350 - val_accuracy: 0.8498\n",
      "Epoch 3/60\n",
      "350/350 [==============================] - 22s 62ms/step - loss: 0.1794 - accuracy: 0.8395 - val_loss: 0.4016 - val_accuracy: 0.8563\n",
      "Epoch 4/60\n",
      "350/350 [==============================] - 19s 55ms/step - loss: 0.1745 - accuracy: 0.8420 - val_loss: 0.4535 - val_accuracy: 0.8302\n",
      "Epoch 5/60\n",
      "350/350 [==============================] - 19s 56ms/step - loss: 0.1684 - accuracy: 0.8484 - val_loss: 0.3647 - val_accuracy: 0.8650\n",
      "Epoch 6/60\n",
      "350/350 [==============================] - 20s 56ms/step - loss: 0.1664 - accuracy: 0.8479 - val_loss: 0.3981 - val_accuracy: 0.8537\n",
      "Epoch 7/60\n",
      "350/350 [==============================] - 19s 54ms/step - loss: 0.1650 - accuracy: 0.8461 - val_loss: 0.3636 - val_accuracy: 0.8651\n",
      "Epoch 8/60\n",
      "350/350 [==============================] - 19s 55ms/step - loss: 0.1640 - accuracy: 0.8435 - val_loss: 0.3789 - val_accuracy: 0.8539\n",
      "Epoch 9/60\n",
      "350/350 [==============================] - 19s 54ms/step - loss: 0.1614 - accuracy: 0.8407 - val_loss: 0.3712 - val_accuracy: 0.8508\n",
      "Epoch 10/60\n",
      "350/350 [==============================] - 20s 56ms/step - loss: 0.1623 - accuracy: 0.8380 - val_loss: 0.4435 - val_accuracy: 0.8116\n",
      "Epoch 11/60\n",
      "350/350 [==============================] - 19s 55ms/step - loss: 0.1608 - accuracy: 0.8383 - val_loss: 0.5387 - val_accuracy: 0.7588\n",
      "Epoch 12/60\n",
      "350/350 [==============================] - 22s 63ms/step - loss: 0.1606 - accuracy: 0.8371 - val_loss: 0.3841 - val_accuracy: 0.8388\n",
      "Epoch 13/60\n",
      "350/350 [==============================] - 19s 55ms/step - loss: 0.1614 - accuracy: 0.8388 - val_loss: 0.3391 - val_accuracy: 0.8648\n",
      "Epoch 14/60\n",
      "350/350 [==============================] - 22s 63ms/step - loss: 0.2751 - accuracy: 0.7014 - val_loss: 0.7538 - val_accuracy: 0.5859\n",
      "Epoch 15/60\n",
      "350/350 [==============================] - 21s 61ms/step - loss: 0.2733 - accuracy: 0.7185 - val_loss: 0.4582 - val_accuracy: 0.8405\n"
     ]
    }
   ],
   "source": [
    "NUM_WORKERS = 10\n",
    "callback = tf.keras.callbacks.EarlyStopping(monitor='loss', patience=3)\n",
    "history = model.fit(x_train,y_train.values, batch_size =150, epochs = 60,validation_split=0.3,class_weight=weights,\n",
    "                    use_multiprocessing=True,workers=NUM_WORKERS,callbacks=[callback])"
   ]
  },
  {
   "cell_type": "code",
   "execution_count": 73,
   "metadata": {
    "ExecuteTime": {
     "end_time": "2021-12-29T21:13:07.312620Z",
     "start_time": "2021-12-29T21:13:07.021762Z"
    }
   },
   "outputs": [
    {
     "data": {
      "image/png": "[encoded data removed]",
      "text/plain": [
       "<Figure size 432x288 with 1 Axes>"
      ]
     },
     "metadata": {
      "needs_background": "light"
     },
     "output_type": "display_data"
    }
   ],
   "source": [
    "# summarize history for loss\n",
    "import matplotlib.pyplot as plt\n",
    "fig, ax = plt.subplots()\n",
    "plt.plot(history.history['loss'])\n",
    "plt.plot(history.history['val_loss'])\n",
    "plt.title('model loss')\n",
    "plt.ylabel('loss')\n",
    "plt.xlabel('epoch')\n",
    "plt.legend(['train', 'validation_loss'], loc='upper left')\n",
    "plt.show()"
   ]
  },
  {
   "cell_type": "code",
   "execution_count": 74,
   "metadata": {
    "ExecuteTime": {
     "end_time": "2021-12-29T21:13:12.670598Z",
     "start_time": "2021-12-29T21:13:07.316536Z"
    }
   },
   "outputs": [
    {
     "name": "stdout",
     "output_type": "stream",
     "text": [
      "              precision    recall  f1-score   support\n",
      "\n",
      "         0.0       0.90      0.87      0.89     18315\n",
      "         1.0       0.68      0.74      0.71      6682\n",
      "\n",
      "    accuracy                           0.84     24997\n",
      "   macro avg       0.79      0.81      0.80     24997\n",
      "weighted avg       0.84      0.84      0.84     24997\n",
      "\n"
     ]
    }
   ],
   "source": [
    "from sklearn.metrics import classification_report\n",
    "pred = model.predict(x_test)\n",
    "pred[pred < 0.5] = 0\n",
    "pred[pred > 0.5] = 1\n",
    "print(classification_report(y_test,pred))"
   ]
  },
  {
   "cell_type": "code",
   "execution_count": 80,
   "metadata": {
    "ExecuteTime": {
     "end_time": "2021-12-29T21:41:50.238047Z",
     "start_time": "2021-12-29T21:41:50.058735Z"
    }
   },
   "outputs": [
    {
     "name": "stdout",
     "output_type": "stream",
     "text": [
      "Model: \"sequential_9\"\n",
      "_________________________________________________________________\n",
      "Layer (type)                 Output Shape              Param #   \n",
      "=================================================================\n",
      "lstm_10 (LSTM)               (None, 50, 1)             208       \n",
      "_________________________________________________________________\n",
      "lstm_11 (LSTM)               (None, 10)                480       \n",
      "_________________________________________________________________\n",
      "dense_8 (Dense)              (None, 1)                 11        \n",
      "_________________________________________________________________\n",
      "dropout_14 (Dropout)         (None, 1)                 0         \n",
      "=================================================================\n",
      "Total params: 699\n",
      "Trainable params: 699\n",
      "Non-trainable params: 0\n",
      "_________________________________________________________________\n"
     ]
    }
   ],
   "source": [
    "from tensorflow.keras.models import Sequential,Model\n",
    "from tensorflow.keras.layers import Dense,Dropout\n",
    "import tensorflow as tf\n",
    "from keras.regularizers import l2, l1\n",
    "model = Sequential()\n",
    "model.add(LSTM(1, return_sequences=True, input_shape=(50, 50), kernel_regularizer=l2(0.01)))\n",
    "model.add(LSTM(10, input_shape=(50, 50), kernel_regularizer=l2(0.01)))\n",
    "model.add(Dense(1, activation=\"sigmoid\",kernel_regularizer=l2(0.01)))\n",
    "model.add(Dropout(0.3))\n",
    "# model.add(Dense(1, activation=\"sigmoid\",kernel_regularizer=l2(0.0001)))\n",
    "# model.add(Dropout(0.3))\n",
    "model.compile(loss = \"binary_crossentropy\", optimizer=tf.keras.optimizers.Adam(learning_rate=0.01),metrics = ['accuracy'])\n",
    "model.summary()"
   ]
  },
  {
   "cell_type": "code",
   "execution_count": 81,
   "metadata": {
    "ExecuteTime": {
     "end_time": "2021-12-29T21:46:56.812790Z",
     "start_time": "2021-12-29T21:41:50.740728Z"
    }
   },
   "outputs": [
    {
     "name": "stdout",
     "output_type": "stream",
     "text": [
      "Epoch 1/60\n",
      "525/525 [==============================] - 33s 57ms/step - loss: 1.1141 - accuracy: 0.6585 - val_loss: 0.6125 - val_accuracy: 0.7314\n",
      "Epoch 2/60\n",
      "525/525 [==============================] - 31s 58ms/step - loss: 1.1082 - accuracy: 0.6128 - val_loss: 0.5944 - val_accuracy: 0.7314\n",
      "Epoch 3/60\n",
      "525/525 [==============================] - 34s 64ms/step - loss: 1.1201 - accuracy: 0.5727 - val_loss: 0.5987 - val_accuracy: 0.7314\n",
      "Epoch 4/60\n",
      "525/525 [==============================] - 29s 56ms/step - loss: 1.0833 - accuracy: 0.5387 - val_loss: 0.5929 - val_accuracy: 0.7314\n",
      "Epoch 5/60\n",
      "525/525 [==============================] - 30s 57ms/step - loss: 1.1024 - accuracy: 0.5904 - val_loss: 0.5994 - val_accuracy: 0.7314\n",
      "Epoch 6/60\n",
      "525/525 [==============================] - 30s 57ms/step - loss: 1.0982 - accuracy: 0.5553 - val_loss: 0.5896 - val_accuracy: 0.7314\n",
      "Epoch 7/60\n",
      "525/525 [==============================] - 30s 57ms/step - loss: 1.0816 - accuracy: 0.5647 - val_loss: 0.6012 - val_accuracy: 0.7314\n",
      "Epoch 8/60\n",
      "525/525 [==============================] - 31s 59ms/step - loss: 1.1046 - accuracy: 0.6244 - val_loss: 0.5957 - val_accuracy: 0.7314\n",
      "Epoch 9/60\n",
      "525/525 [==============================] - 30s 56ms/step - loss: 1.0913 - accuracy: 0.5890 - val_loss: 0.5915 - val_accuracy: 0.7314\n",
      "Epoch 10/60\n",
      "525/525 [==============================] - 29s 56ms/step - loss: 1.1032 - accuracy: 0.6022 - val_loss: 0.5997 - val_accuracy: 0.7314\n"
     ]
    }
   ],
   "source": [
    "NUM_WORKERS = 10\n",
    "callback = tf.keras.callbacks.EarlyStopping(monitor='loss', patience=3)\n",
    "history = model.fit(x_train,y_train.values, batch_size =100, epochs = 60,validation_split=0.3,class_weight=weights,\n",
    "                    use_multiprocessing=True,workers=NUM_WORKERS,callbacks=[callback])"
   ]
  },
  {
   "cell_type": "code",
   "execution_count": 78,
   "metadata": {
    "ExecuteTime": {
     "end_time": "2021-12-29T21:26:40.010861Z",
     "start_time": "2021-12-29T21:26:39.874360Z"
    }
   },
   "outputs": [
    {
     "data": {
      "image/png": "[encoded data removed]",
      "text/plain": [
       "<Figure size 432x288 with 1 Axes>"
      ]
     },
     "metadata": {
      "needs_background": "light"
     },
     "output_type": "display_data"
    }
   ],
   "source": [
    "# summarize history for loss\n",
    "import matplotlib.pyplot as plt\n",
    "fig, ax = plt.subplots()\n",
    "plt.plot(history.history['loss'])\n",
    "plt.plot(history.history['val_loss'])\n",
    "plt.title('model loss')\n",
    "plt.ylabel('loss')\n",
    "plt.xlabel('epoch')\n",
    "plt.legend(['train', 'validation_loss'], loc='upper left')\n",
    "plt.show()"
   ]
  },
  {
   "cell_type": "code",
   "execution_count": 2,
   "metadata": {
    "ExecuteTime": {
     "end_time": "2022-01-02T09:06:31.232730Z",
     "start_time": "2022-01-02T09:06:31.216463Z"
    }
   },
   "outputs": [],
   "source": [
    "from sklearn.metrics import classification_report\n",
    "pred = model.predict(x_test)\n",
    "pred[pred < 0.5] = 0\n",
    "pred[pred > 0.5] = 1\n",
    "print(classification_report(y_test,pred))"
   ]
  },
  {
   "cell_type": "code",
   "execution_count": 1,
   "metadata": {
    "ExecuteTime": {
     "end_time": "2022-01-02T09:06:25.208262Z",
     "start_time": "2022-01-02T09:06:25.188161Z"
    }
   },
   "outputs": [],
   "source": [
    "from tensorflow.keras.models import Sequential,Model\n",
    "from tensorflow.keras.layers import Dense,Dropout\n",
    "import tensorflow as tf\n",
    "from keras.regularizers import l2, l1\n",
    "model = Sequential()\n",
    "model.add(LSTM(1, return_sequences=True, input_shape=(50, 50), kernel_regularizer=l2(0.25)))\n",
    "model.add(LSTM(10, input_shape=(50, 50), kernel_regularizer=l2(0.25)))\n",
    "model.add(Dense(1, activation=\"sigmoid\",kernel_regularizer=l2(0.25)))\n",
    "model.add(Dropout(0.3))\n",
    "# model.add(Dense(1, activation=\"sigmoid\",kernel_regularizer=l2(0.0001)))\n",
    "# model.add(Dropout(0.3))\n",
    "model.compile(loss = \"binary_crossentropy\", optimizer=tf.keras.optimizers.Adam(learning_rate=0.001),metrics = ['accuracy'])\n",
    "model.summary()"
   ]
  },
  {
   "cell_type": "code",
   "execution_count": 3,
   "metadata": {
    "ExecuteTime": {
     "end_time": "2022-01-02T09:06:36.772162Z",
     "start_time": "2022-01-02T09:06:36.757204Z"
    }
   },
   "outputs": [],
   "source": [
    "NUM_WORKERS = 10\n",
    "callback = tf.keras.callbacks.EarlyStopping(monitor='loss', patience=3)\n",
    "history = model.fit(x_train,y_train.values, batch_size =150, epochs = 60,validation_data=(x_test,y_test.values),class_weight=weights,\n",
    "                    use_multiprocessing=True,workers=NUM_WORKERS,callbacks=[callback])"
   ]
  },
  {
   "cell_type": "code",
   "execution_count": null,
   "metadata": {},
   "outputs": [],
   "source": []
  },
  {
   "cell_type": "code",
   "execution_count": null,
   "metadata": {},
   "outputs": [],
   "source": []
  }
 ],
 "metadata": {
  "kernelspec": {
   "display_name": "Python 3",
   "language": "python",
   "name": "python3"
  },
  "language_info": {
   "codemirror_mode": {
    "name": "ipython",
    "version": 3
   },
   "file_extension": ".py",
   "mimetype": "text/x-python",
   "name": "python",
   "nbconvert_exporter": "python",
   "pygments_lexer": "ipython3",
   "version": "3.8.3"
  },
  "toc": {
   "base_numbering": 1,
   "nav_menu": {},
   "number_sections": true,
   "sideBar": true,
   "skip_h1_title": false,
   "title_cell": "Table of Contents",
   "title_sidebar": "Contents",
   "toc_cell": false,
   "toc_position": {},
   "toc_section_display": true,
   "toc_window_display": false
  }
 },
 "nbformat": 4,
 "nbformat_minor": 4
}
